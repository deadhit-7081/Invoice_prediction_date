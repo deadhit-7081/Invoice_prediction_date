{
  "nbformat": 4,
  "nbformat_minor": 0,
  "metadata": {
    "colab": {
      "name": "invoice_prediction_date.ipynb",
      "provenance": [],
      "collapsed_sections": []
    },
    "kernelspec": {
      "name": "python3",
      "display_name": "Python 3"
    },
    "language_info": {
      "name": "python"
    }
  },
  "cells": [
    {
      "cell_type": "markdown",
      "metadata": {
        "id": "GXNMp8tG8EAE"
      },
      "source": [
        "**Invoice prediction date for late payment**"
      ]
    },
    {
      "cell_type": "code",
      "metadata": {
        "id": "Ud754jAH8HzY"
      },
      "source": [
        "import pandas as pd"
      ],
      "execution_count": null,
      "outputs": []
    },
    {
      "cell_type": "markdown",
      "metadata": {
        "id": "AILaHuC5fgGs"
      },
      "source": [
        "**Mounting on the google drive to import csv file**"
      ]
    },
    {
      "cell_type": "code",
      "metadata": {
        "colab": {
          "base_uri": "https://localhost:8080/"
        },
        "id": "73IDe0MK8Mm2",
        "outputId": "090a26cc-c09c-4b0a-b03d-ae01eb0e739a"
      },
      "source": [
        "from google.colab import drive\n",
        "drive.mount(\"/content/gdrive\")"
      ],
      "execution_count": null,
      "outputs": [
        {
          "output_type": "stream",
          "text": [
            "Drive already mounted at /content/gdrive; to attempt to forcibly remount, call drive.mount(\"/content/gdrive\", force_remount=True).\n"
          ],
          "name": "stdout"
        }
      ]
    },
    {
      "cell_type": "markdown",
      "metadata": {
        "id": "QMDXNU8CDmyK"
      },
      "source": [
        "**Reading the CSV file**"
      ]
    },
    {
      "cell_type": "code",
      "metadata": {
        "id": "3K1BmmULBwY5"
      },
      "source": [
        "data = pd.read_csv(\"/content/gdrive/My Drive/H2HBABBA3081.csv\")"
      ],
      "execution_count": null,
      "outputs": []
    },
    {
      "cell_type": "markdown",
      "metadata": {
        "id": "nGlRnyP034ux"
      },
      "source": [
        "#Seeing the dataframe"
      ]
    },
    {
      "cell_type": "code",
      "metadata": {
        "colab": {
          "base_uri": "https://localhost:8080/",
          "height": 326
        },
        "id": "xvH85nHp8QcN",
        "outputId": "10ccd6bc-3709-49df-df60-5860ca434a5f"
      },
      "source": [
        "df = pd.DataFrame(data)\n",
        "df.head()"
      ],
      "execution_count": null,
      "outputs": [
        {
          "output_type": "execute_result",
          "data": {
            "text/html": [
              "<div>\n",
              "<style scoped>\n",
              "    .dataframe tbody tr th:only-of-type {\n",
              "        vertical-align: middle;\n",
              "    }\n",
              "\n",
              "    .dataframe tbody tr th {\n",
              "        vertical-align: top;\n",
              "    }\n",
              "\n",
              "    .dataframe thead th {\n",
              "        text-align: right;\n",
              "    }\n",
              "</style>\n",
              "<table border=\"1\" class=\"dataframe\">\n",
              "  <thead>\n",
              "    <tr style=\"text-align: right;\">\n",
              "      <th></th>\n",
              "      <th>business_code</th>\n",
              "      <th>cust_number</th>\n",
              "      <th>name_customer</th>\n",
              "      <th>clear_date</th>\n",
              "      <th>buisness_year</th>\n",
              "      <th>doc_id</th>\n",
              "      <th>posting_date</th>\n",
              "      <th>document_create_date</th>\n",
              "      <th>document_create_date.1</th>\n",
              "      <th>due_in_date</th>\n",
              "      <th>invoice_currency</th>\n",
              "      <th>document type</th>\n",
              "      <th>posting_id</th>\n",
              "      <th>area_business</th>\n",
              "      <th>total_open_amount</th>\n",
              "      <th>baseline_create_date</th>\n",
              "      <th>cust_payment_terms</th>\n",
              "      <th>invoice_id</th>\n",
              "      <th>isOpen</th>\n",
              "    </tr>\n",
              "  </thead>\n",
              "  <tbody>\n",
              "    <tr>\n",
              "      <th>0</th>\n",
              "      <td>U001</td>\n",
              "      <td>0200762301</td>\n",
              "      <td>C&amp;S WH llc</td>\n",
              "      <td>2019-05-13 00:00:00</td>\n",
              "      <td>2019.0</td>\n",
              "      <td>1.929218e+09</td>\n",
              "      <td>2019-04-26</td>\n",
              "      <td>20190427</td>\n",
              "      <td>20190426</td>\n",
              "      <td>20190511.0</td>\n",
              "      <td>USD</td>\n",
              "      <td>RV</td>\n",
              "      <td>1.0</td>\n",
              "      <td>NaN</td>\n",
              "      <td>42605.95</td>\n",
              "      <td>20190426.0</td>\n",
              "      <td>NAC6</td>\n",
              "      <td>1.929218e+09</td>\n",
              "      <td>0</td>\n",
              "    </tr>\n",
              "    <tr>\n",
              "      <th>1</th>\n",
              "      <td>U001</td>\n",
              "      <td>200803720</td>\n",
              "      <td>DEC</td>\n",
              "      <td>2019-07-24 00:00:00</td>\n",
              "      <td>2019.0</td>\n",
              "      <td>1.929650e+09</td>\n",
              "      <td>2019-07-23</td>\n",
              "      <td>20190723</td>\n",
              "      <td>20190723</td>\n",
              "      <td>20190723.0</td>\n",
              "      <td>USD</td>\n",
              "      <td>RV</td>\n",
              "      <td>1.0</td>\n",
              "      <td>NaN</td>\n",
              "      <td>7306.09</td>\n",
              "      <td>20190716.0</td>\n",
              "      <td>NAM1</td>\n",
              "      <td>1.929650e+09</td>\n",
              "      <td>0</td>\n",
              "    </tr>\n",
              "    <tr>\n",
              "      <th>2</th>\n",
              "      <td>U001</td>\n",
              "      <td>0200759878</td>\n",
              "      <td>SA corp</td>\n",
              "      <td>2020-01-21 00:00:00</td>\n",
              "      <td>2020.0</td>\n",
              "      <td>1.930354e+09</td>\n",
              "      <td>2020-01-04</td>\n",
              "      <td>20200104</td>\n",
              "      <td>20200104</td>\n",
              "      <td>20200119.0</td>\n",
              "      <td>USD</td>\n",
              "      <td>RV</td>\n",
              "      <td>1.0</td>\n",
              "      <td>NaN</td>\n",
              "      <td>34403.75</td>\n",
              "      <td>20200104.0</td>\n",
              "      <td>NAH4</td>\n",
              "      <td>1.930354e+09</td>\n",
              "      <td>0</td>\n",
              "    </tr>\n",
              "    <tr>\n",
              "      <th>3</th>\n",
              "      <td>U001</td>\n",
              "      <td>0200881076</td>\n",
              "      <td>ALBERT trust</td>\n",
              "      <td>2019-06-27 00:00:00</td>\n",
              "      <td>2019.0</td>\n",
              "      <td>1.929480e+09</td>\n",
              "      <td>2019-06-12</td>\n",
              "      <td>20190612</td>\n",
              "      <td>20190612</td>\n",
              "      <td>20190627.0</td>\n",
              "      <td>USD</td>\n",
              "      <td>RV</td>\n",
              "      <td>1.0</td>\n",
              "      <td>NaN</td>\n",
              "      <td>110529.74</td>\n",
              "      <td>20190612.0</td>\n",
              "      <td>NAA8</td>\n",
              "      <td>1.929480e+09</td>\n",
              "      <td>0</td>\n",
              "    </tr>\n",
              "    <tr>\n",
              "      <th>4</th>\n",
              "      <td>U001</td>\n",
              "      <td>0200769623</td>\n",
              "      <td>WAL-MAR associates</td>\n",
              "      <td>2019-10-02 00:00:00</td>\n",
              "      <td>2019.0</td>\n",
              "      <td>1.929908e+09</td>\n",
              "      <td>2019-09-22</td>\n",
              "      <td>20190921</td>\n",
              "      <td>20190922</td>\n",
              "      <td>20191007.0</td>\n",
              "      <td>USD</td>\n",
              "      <td>RV</td>\n",
              "      <td>1.0</td>\n",
              "      <td>NaN</td>\n",
              "      <td>3476.03</td>\n",
              "      <td>20190922.0</td>\n",
              "      <td>NAH4</td>\n",
              "      <td>1.929908e+09</td>\n",
              "      <td>0</td>\n",
              "    </tr>\n",
              "  </tbody>\n",
              "</table>\n",
              "</div>"
            ],
            "text/plain": [
              "  business_code cust_number  ...    invoice_id isOpen\n",
              "0          U001  0200762301  ...  1.929218e+09      0\n",
              "1          U001   200803720  ...  1.929650e+09      0\n",
              "2          U001  0200759878  ...  1.930354e+09      0\n",
              "3          U001  0200881076  ...  1.929480e+09      0\n",
              "4          U001  0200769623  ...  1.929908e+09      0\n",
              "\n",
              "[5 rows x 19 columns]"
            ]
          },
          "metadata": {
            "tags": []
          },
          "execution_count": 8
        }
      ]
    },
    {
      "cell_type": "code",
      "metadata": {
        "colab": {
          "base_uri": "https://localhost:8080/"
        },
        "id": "MwpXjCm88zCf",
        "outputId": "0306f281-5ae1-45e5-c968-8066f6f70f61"
      },
      "source": [
        "df.shape"
      ],
      "execution_count": null,
      "outputs": [
        {
          "output_type": "execute_result",
          "data": {
            "text/plain": [
              "(50000, 19)"
            ]
          },
          "metadata": {
            "tags": []
          },
          "execution_count": 9
        }
      ]
    },
    {
      "cell_type": "markdown",
      "metadata": {
        "id": "p-CFS-HC8-IN"
      },
      "source": [
        "**Dropping any column that contains all null**"
      ]
    },
    {
      "cell_type": "code",
      "metadata": {
        "colab": {
          "base_uri": "https://localhost:8080/"
        },
        "id": "fCSDeGvp86HD",
        "outputId": "155cd036-76e8-403c-c3e5-63929afedb32"
      },
      "source": [
        "df = df.dropna(axis=1,how=\"all\")\n",
        "df.shape"
      ],
      "execution_count": null,
      "outputs": [
        {
          "output_type": "execute_result",
          "data": {
            "text/plain": [
              "(50000, 18)"
            ]
          },
          "metadata": {
            "tags": []
          },
          "execution_count": 10
        }
      ]
    },
    {
      "cell_type": "markdown",
      "metadata": {
        "id": "SbQKA-Rn3HRp"
      },
      "source": [
        "**Getting all the rows that has null in the clear_date**"
      ]
    },
    {
      "cell_type": "markdown",
      "metadata": {
        "id": "stpqElwP4O4N"
      },
      "source": [
        "This dataframe will our main dataframe for which we have to predict, I named it as null_df because it contains clear_data as null"
      ]
    },
    {
      "cell_type": "code",
      "metadata": {
        "colab": {
          "base_uri": "https://localhost:8080/",
          "height": 490
        },
        "id": "OBxvak_L3YHj",
        "outputId": "64bfbfda-d5f7-4d97-a47e-1ec11b77d8dc"
      },
      "source": [
        "null_df = df[df['clear_date'].isnull()]\n",
        "null_df"
      ],
      "execution_count": null,
      "outputs": [
        {
          "output_type": "execute_result",
          "data": {
            "text/html": [
              "<div>\n",
              "<style scoped>\n",
              "    .dataframe tbody tr th:only-of-type {\n",
              "        vertical-align: middle;\n",
              "    }\n",
              "\n",
              "    .dataframe tbody tr th {\n",
              "        vertical-align: top;\n",
              "    }\n",
              "\n",
              "    .dataframe thead th {\n",
              "        text-align: right;\n",
              "    }\n",
              "</style>\n",
              "<table border=\"1\" class=\"dataframe\">\n",
              "  <thead>\n",
              "    <tr style=\"text-align: right;\">\n",
              "      <th></th>\n",
              "      <th>business_code</th>\n",
              "      <th>cust_number</th>\n",
              "      <th>name_customer</th>\n",
              "      <th>clear_date</th>\n",
              "      <th>buisness_year</th>\n",
              "      <th>doc_id</th>\n",
              "      <th>posting_date</th>\n",
              "      <th>document_create_date</th>\n",
              "      <th>document_create_date.1</th>\n",
              "      <th>due_in_date</th>\n",
              "      <th>invoice_currency</th>\n",
              "      <th>document type</th>\n",
              "      <th>posting_id</th>\n",
              "      <th>total_open_amount</th>\n",
              "      <th>baseline_create_date</th>\n",
              "      <th>cust_payment_terms</th>\n",
              "      <th>invoice_id</th>\n",
              "      <th>isOpen</th>\n",
              "    </tr>\n",
              "  </thead>\n",
              "  <tbody>\n",
              "    <tr>\n",
              "      <th>10</th>\n",
              "      <td>U001</td>\n",
              "      <td>0200761734</td>\n",
              "      <td>H E BUT associates</td>\n",
              "      <td>NaN</td>\n",
              "      <td>2020.0</td>\n",
              "      <td>1.930774e+09</td>\n",
              "      <td>2020-04-09</td>\n",
              "      <td>20200410</td>\n",
              "      <td>20200409</td>\n",
              "      <td>20200424.0</td>\n",
              "      <td>USD</td>\n",
              "      <td>RV</td>\n",
              "      <td>1.0</td>\n",
              "      <td>45512.20</td>\n",
              "      <td>20200409.0</td>\n",
              "      <td>NAA8</td>\n",
              "      <td>1.930774e+09</td>\n",
              "      <td>1</td>\n",
              "    </tr>\n",
              "    <tr>\n",
              "      <th>14</th>\n",
              "      <td>U001</td>\n",
              "      <td>0200744019</td>\n",
              "      <td>TARG corp</td>\n",
              "      <td>NaN</td>\n",
              "      <td>2020.0</td>\n",
              "      <td>1.930707e+09</td>\n",
              "      <td>2020-03-28</td>\n",
              "      <td>20200326</td>\n",
              "      <td>20200328</td>\n",
              "      <td>20200412.0</td>\n",
              "      <td>USD</td>\n",
              "      <td>RV</td>\n",
              "      <td>1.0</td>\n",
              "      <td>44995.84</td>\n",
              "      <td>20200328.0</td>\n",
              "      <td>NAA8</td>\n",
              "      <td>1.930707e+09</td>\n",
              "      <td>1</td>\n",
              "    </tr>\n",
              "    <tr>\n",
              "      <th>17</th>\n",
              "      <td>U001</td>\n",
              "      <td>0200769623</td>\n",
              "      <td>WAL-MAR us</td>\n",
              "      <td>NaN</td>\n",
              "      <td>2020.0</td>\n",
              "      <td>1.930717e+09</td>\n",
              "      <td>2020-03-29</td>\n",
              "      <td>20200329</td>\n",
              "      <td>20200329</td>\n",
              "      <td>20200413.0</td>\n",
              "      <td>USD</td>\n",
              "      <td>RV</td>\n",
              "      <td>1.0</td>\n",
              "      <td>5081.63</td>\n",
              "      <td>20200329.0</td>\n",
              "      <td>NAH4</td>\n",
              "      <td>1.930717e+09</td>\n",
              "      <td>1</td>\n",
              "    </tr>\n",
              "    <tr>\n",
              "      <th>18</th>\n",
              "      <td>U001</td>\n",
              "      <td>0200769623</td>\n",
              "      <td>WAL-MAR</td>\n",
              "      <td>NaN</td>\n",
              "      <td>2020.0</td>\n",
              "      <td>1.930727e+09</td>\n",
              "      <td>2020-04-01</td>\n",
              "      <td>20200331</td>\n",
              "      <td>20200401</td>\n",
              "      <td>20200416.0</td>\n",
              "      <td>USD</td>\n",
              "      <td>RV</td>\n",
              "      <td>1.0</td>\n",
              "      <td>12249.55</td>\n",
              "      <td>20200401.0</td>\n",
              "      <td>NAH4</td>\n",
              "      <td>1.930727e+09</td>\n",
              "      <td>1</td>\n",
              "    </tr>\n",
              "    <tr>\n",
              "      <th>20</th>\n",
              "      <td>U001</td>\n",
              "      <td>0200769623</td>\n",
              "      <td>WAL-MAR trust</td>\n",
              "      <td>NaN</td>\n",
              "      <td>2020.0</td>\n",
              "      <td>1.930819e+09</td>\n",
              "      <td>2020-04-25</td>\n",
              "      <td>20200423</td>\n",
              "      <td>20200425</td>\n",
              "      <td>20200510.0</td>\n",
              "      <td>USD</td>\n",
              "      <td>RV</td>\n",
              "      <td>1.0</td>\n",
              "      <td>4486.74</td>\n",
              "      <td>20200425.0</td>\n",
              "      <td>NAH4</td>\n",
              "      <td>1.930819e+09</td>\n",
              "      <td>1</td>\n",
              "    </tr>\n",
              "    <tr>\n",
              "      <th>...</th>\n",
              "      <td>...</td>\n",
              "      <td>...</td>\n",
              "      <td>...</td>\n",
              "      <td>...</td>\n",
              "      <td>...</td>\n",
              "      <td>...</td>\n",
              "      <td>...</td>\n",
              "      <td>...</td>\n",
              "      <td>...</td>\n",
              "      <td>...</td>\n",
              "      <td>...</td>\n",
              "      <td>...</td>\n",
              "      <td>...</td>\n",
              "      <td>...</td>\n",
              "      <td>...</td>\n",
              "      <td>...</td>\n",
              "      <td>...</td>\n",
              "      <td>...</td>\n",
              "    </tr>\n",
              "    <tr>\n",
              "      <th>49982</th>\n",
              "      <td>U001</td>\n",
              "      <td>0200726979</td>\n",
              "      <td>BJ'S  foundation</td>\n",
              "      <td>NaN</td>\n",
              "      <td>2020.0</td>\n",
              "      <td>1.930690e+09</td>\n",
              "      <td>2020-03-23</td>\n",
              "      <td>20200323</td>\n",
              "      <td>20200323</td>\n",
              "      <td>20200407.0</td>\n",
              "      <td>USD</td>\n",
              "      <td>RV</td>\n",
              "      <td>1.0</td>\n",
              "      <td>772.56</td>\n",
              "      <td>20200323.0</td>\n",
              "      <td>NAA8</td>\n",
              "      <td>1.930690e+09</td>\n",
              "      <td>1</td>\n",
              "    </tr>\n",
              "    <tr>\n",
              "      <th>49985</th>\n",
              "      <td>U001</td>\n",
              "      <td>0200726979</td>\n",
              "      <td>BJ'S  co</td>\n",
              "      <td>NaN</td>\n",
              "      <td>2020.0</td>\n",
              "      <td>1.930731e+09</td>\n",
              "      <td>2020-04-02</td>\n",
              "      <td>20200401</td>\n",
              "      <td>20200402</td>\n",
              "      <td>20200417.0</td>\n",
              "      <td>USD</td>\n",
              "      <td>RV</td>\n",
              "      <td>1.0</td>\n",
              "      <td>217.69</td>\n",
              "      <td>20200402.0</td>\n",
              "      <td>NAA8</td>\n",
              "      <td>1.930731e+09</td>\n",
              "      <td>1</td>\n",
              "    </tr>\n",
              "    <tr>\n",
              "      <th>49993</th>\n",
              "      <td>U001</td>\n",
              "      <td>0200769623</td>\n",
              "      <td>WAL-MAR associates</td>\n",
              "      <td>NaN</td>\n",
              "      <td>2020.0</td>\n",
              "      <td>1.930623e+09</td>\n",
              "      <td>2020-03-09</td>\n",
              "      <td>20200309</td>\n",
              "      <td>20200309</td>\n",
              "      <td>20200324.0</td>\n",
              "      <td>USD</td>\n",
              "      <td>RV</td>\n",
              "      <td>1.0</td>\n",
              "      <td>12744.43</td>\n",
              "      <td>20200309.0</td>\n",
              "      <td>NAH4</td>\n",
              "      <td>1.930623e+09</td>\n",
              "      <td>1</td>\n",
              "    </tr>\n",
              "    <tr>\n",
              "      <th>49998</th>\n",
              "      <td>U001</td>\n",
              "      <td>0200794332</td>\n",
              "      <td>COST trust</td>\n",
              "      <td>NaN</td>\n",
              "      <td>2020.0</td>\n",
              "      <td>1.930666e+09</td>\n",
              "      <td>2020-03-19</td>\n",
              "      <td>20200318</td>\n",
              "      <td>20200319</td>\n",
              "      <td>20200403.0</td>\n",
              "      <td>USD</td>\n",
              "      <td>RV</td>\n",
              "      <td>1.0</td>\n",
              "      <td>16297.21</td>\n",
              "      <td>20200319.0</td>\n",
              "      <td>NAAX</td>\n",
              "      <td>1.930666e+09</td>\n",
              "      <td>1</td>\n",
              "    </tr>\n",
              "    <tr>\n",
              "      <th>49999</th>\n",
              "      <td>U001</td>\n",
              "      <td>0200769623</td>\n",
              "      <td>WAL-MAR llc</td>\n",
              "      <td>NaN</td>\n",
              "      <td>2020.0</td>\n",
              "      <td>1.930727e+09</td>\n",
              "      <td>2020-04-01</td>\n",
              "      <td>20200331</td>\n",
              "      <td>20200401</td>\n",
              "      <td>20200416.0</td>\n",
              "      <td>USD</td>\n",
              "      <td>RV</td>\n",
              "      <td>1.0</td>\n",
              "      <td>5601.67</td>\n",
              "      <td>20200401.0</td>\n",
              "      <td>NAH4</td>\n",
              "      <td>1.930727e+09</td>\n",
              "      <td>1</td>\n",
              "    </tr>\n",
              "  </tbody>\n",
              "</table>\n",
              "<p>10000 rows × 18 columns</p>\n",
              "</div>"
            ],
            "text/plain": [
              "      business_code cust_number  ...    invoice_id isOpen\n",
              "10             U001  0200761734  ...  1.930774e+09      1\n",
              "14             U001  0200744019  ...  1.930707e+09      1\n",
              "17             U001  0200769623  ...  1.930717e+09      1\n",
              "18             U001  0200769623  ...  1.930727e+09      1\n",
              "20             U001  0200769623  ...  1.930819e+09      1\n",
              "...             ...         ...  ...           ...    ...\n",
              "49982          U001  0200726979  ...  1.930690e+09      1\n",
              "49985          U001  0200726979  ...  1.930731e+09      1\n",
              "49993          U001  0200769623  ...  1.930623e+09      1\n",
              "49998          U001  0200794332  ...  1.930666e+09      1\n",
              "49999          U001  0200769623  ...  1.930727e+09      1\n",
              "\n",
              "[10000 rows x 18 columns]"
            ]
          },
          "metadata": {
            "tags": []
          },
          "execution_count": 11
        }
      ]
    },
    {
      "cell_type": "markdown",
      "metadata": {
        "id": "g_crC4cf9MEg"
      },
      "source": [
        "**Dropping any row that contains null from the df**"
      ]
    },
    {
      "cell_type": "code",
      "metadata": {
        "colab": {
          "base_uri": "https://localhost:8080/"
        },
        "id": "DnuO_t029Fl7",
        "outputId": "a6acdfcc-8c35-4816-ed9e-2ba23d23329d"
      },
      "source": [
        "df = df.dropna(how=\"any\")\n",
        "df.shape"
      ],
      "execution_count": null,
      "outputs": [
        {
          "output_type": "execute_result",
          "data": {
            "text/plain": [
              "(39993, 18)"
            ]
          },
          "metadata": {
            "tags": []
          },
          "execution_count": 12
        }
      ]
    },
    {
      "cell_type": "markdown",
      "metadata": {
        "id": "JOE0ro6I9Vc9"
      },
      "source": [
        "**Removing the duplicate values from df**"
      ]
    },
    {
      "cell_type": "markdown",
      "metadata": {
        "id": "7T5THWF49cTI"
      },
      "source": [
        "Counting duplicate rows in the dataframe"
      ]
    },
    {
      "cell_type": "code",
      "metadata": {
        "colab": {
          "base_uri": "https://localhost:8080/"
        },
        "id": "6mjXn_mD9SfT",
        "outputId": "05b890ac-ba67-43df-f0c6-f48d2b07ce59"
      },
      "source": [
        "df.duplicated().sum()"
      ],
      "execution_count": null,
      "outputs": [
        {
          "output_type": "execute_result",
          "data": {
            "text/plain": [
              "826"
            ]
          },
          "metadata": {
            "tags": []
          },
          "execution_count": 13
        }
      ]
    },
    {
      "cell_type": "markdown",
      "metadata": {
        "id": "pG5boRZn9lEL"
      },
      "source": [
        "Seeing the duplicate rows in dataframe"
      ]
    },
    {
      "cell_type": "code",
      "metadata": {
        "colab": {
          "base_uri": "https://localhost:8080/",
          "height": 626
        },
        "id": "A-WiYla89jAc",
        "outputId": "38180119-7c87-4218-81cf-73d9bd3eb093"
      },
      "source": [
        "df[df.duplicated()]"
      ],
      "execution_count": null,
      "outputs": [
        {
          "output_type": "execute_result",
          "data": {
            "text/html": [
              "<div>\n",
              "<style scoped>\n",
              "    .dataframe tbody tr th:only-of-type {\n",
              "        vertical-align: middle;\n",
              "    }\n",
              "\n",
              "    .dataframe tbody tr th {\n",
              "        vertical-align: top;\n",
              "    }\n",
              "\n",
              "    .dataframe thead th {\n",
              "        text-align: right;\n",
              "    }\n",
              "</style>\n",
              "<table border=\"1\" class=\"dataframe\">\n",
              "  <thead>\n",
              "    <tr style=\"text-align: right;\">\n",
              "      <th></th>\n",
              "      <th>business_code</th>\n",
              "      <th>cust_number</th>\n",
              "      <th>name_customer</th>\n",
              "      <th>clear_date</th>\n",
              "      <th>buisness_year</th>\n",
              "      <th>doc_id</th>\n",
              "      <th>posting_date</th>\n",
              "      <th>document_create_date</th>\n",
              "      <th>document_create_date.1</th>\n",
              "      <th>due_in_date</th>\n",
              "      <th>invoice_currency</th>\n",
              "      <th>document type</th>\n",
              "      <th>posting_id</th>\n",
              "      <th>total_open_amount</th>\n",
              "      <th>baseline_create_date</th>\n",
              "      <th>cust_payment_terms</th>\n",
              "      <th>invoice_id</th>\n",
              "      <th>isOpen</th>\n",
              "    </tr>\n",
              "  </thead>\n",
              "  <tbody>\n",
              "    <tr>\n",
              "      <th>2132</th>\n",
              "      <td>U001</td>\n",
              "      <td>CCU013</td>\n",
              "      <td>KRAFT F systems</td>\n",
              "      <td>2020-03-27 00:00:00</td>\n",
              "      <td>2020.0</td>\n",
              "      <td>1.930490e+09</td>\n",
              "      <td>2020-02-10</td>\n",
              "      <td>20200206</td>\n",
              "      <td>20200210</td>\n",
              "      <td>20200210.0</td>\n",
              "      <td>USD</td>\n",
              "      <td>RV</td>\n",
              "      <td>1.0</td>\n",
              "      <td>29593.31</td>\n",
              "      <td>20200210.0</td>\n",
              "      <td>NAX2</td>\n",
              "      <td>1.930490e+09</td>\n",
              "      <td>0</td>\n",
              "    </tr>\n",
              "    <tr>\n",
              "      <th>2176</th>\n",
              "      <td>U002</td>\n",
              "      <td>0100036009</td>\n",
              "      <td>JOSE us</td>\n",
              "      <td>2019-05-29 00:00:00</td>\n",
              "      <td>2019.0</td>\n",
              "      <td>1.990567e+09</td>\n",
              "      <td>2019-04-17</td>\n",
              "      <td>20190415</td>\n",
              "      <td>20190417</td>\n",
              "      <td>20190522.0</td>\n",
              "      <td>USD</td>\n",
              "      <td>RV</td>\n",
              "      <td>1.0</td>\n",
              "      <td>13847.20</td>\n",
              "      <td>20190417.0</td>\n",
              "      <td>NAG2</td>\n",
              "      <td>1.990567e+09</td>\n",
              "      <td>0</td>\n",
              "    </tr>\n",
              "    <tr>\n",
              "      <th>3150</th>\n",
              "      <td>U001</td>\n",
              "      <td>200769623</td>\n",
              "      <td>WAL-MAR corp</td>\n",
              "      <td>2019-03-18 00:00:00</td>\n",
              "      <td>2019.0</td>\n",
              "      <td>1.928920e+09</td>\n",
              "      <td>2019-03-07</td>\n",
              "      <td>20190306</td>\n",
              "      <td>20190307</td>\n",
              "      <td>20190322.0</td>\n",
              "      <td>USD</td>\n",
              "      <td>RV</td>\n",
              "      <td>1.0</td>\n",
              "      <td>9663.53</td>\n",
              "      <td>20190307.0</td>\n",
              "      <td>NAH4</td>\n",
              "      <td>1.928920e+09</td>\n",
              "      <td>0</td>\n",
              "    </tr>\n",
              "    <tr>\n",
              "      <th>4144</th>\n",
              "      <td>U001</td>\n",
              "      <td>0200353024</td>\n",
              "      <td>DECA llc</td>\n",
              "      <td>2020-01-27 00:00:00</td>\n",
              "      <td>2020.0</td>\n",
              "      <td>1.930444e+09</td>\n",
              "      <td>2020-01-27</td>\n",
              "      <td>20200127</td>\n",
              "      <td>20200127</td>\n",
              "      <td>20200126.0</td>\n",
              "      <td>USD</td>\n",
              "      <td>RV</td>\n",
              "      <td>1.0</td>\n",
              "      <td>527.88</td>\n",
              "      <td>20200116.0</td>\n",
              "      <td>NAM2</td>\n",
              "      <td>1.930444e+09</td>\n",
              "      <td>0</td>\n",
              "    </tr>\n",
              "    <tr>\n",
              "      <th>4453</th>\n",
              "      <td>CA02</td>\n",
              "      <td>0140104429</td>\n",
              "      <td>COSTCO llc</td>\n",
              "      <td>2019-11-29 00:00:00</td>\n",
              "      <td>2019.0</td>\n",
              "      <td>2.960592e+09</td>\n",
              "      <td>2019-11-10</td>\n",
              "      <td>20191110</td>\n",
              "      <td>20191110</td>\n",
              "      <td>20191122.0</td>\n",
              "      <td>CAD</td>\n",
              "      <td>RV</td>\n",
              "      <td>1.0</td>\n",
              "      <td>24743.63</td>\n",
              "      <td>20191112.0</td>\n",
              "      <td>CA10</td>\n",
              "      <td>2.960592e+09</td>\n",
              "      <td>0</td>\n",
              "    </tr>\n",
              "    <tr>\n",
              "      <th>...</th>\n",
              "      <td>...</td>\n",
              "      <td>...</td>\n",
              "      <td>...</td>\n",
              "      <td>...</td>\n",
              "      <td>...</td>\n",
              "      <td>...</td>\n",
              "      <td>...</td>\n",
              "      <td>...</td>\n",
              "      <td>...</td>\n",
              "      <td>...</td>\n",
              "      <td>...</td>\n",
              "      <td>...</td>\n",
              "      <td>...</td>\n",
              "      <td>...</td>\n",
              "      <td>...</td>\n",
              "      <td>...</td>\n",
              "      <td>...</td>\n",
              "      <td>...</td>\n",
              "    </tr>\n",
              "    <tr>\n",
              "      <th>49870</th>\n",
              "      <td>U001</td>\n",
              "      <td>0200759878</td>\n",
              "      <td>SA in</td>\n",
              "      <td>2019-04-30 00:00:00</td>\n",
              "      <td>2019.0</td>\n",
              "      <td>1.929136e+09</td>\n",
              "      <td>2019-04-13</td>\n",
              "      <td>20190412</td>\n",
              "      <td>20190413</td>\n",
              "      <td>20190428.0</td>\n",
              "      <td>USD</td>\n",
              "      <td>RV</td>\n",
              "      <td>1.0</td>\n",
              "      <td>14747.01</td>\n",
              "      <td>20190413.0</td>\n",
              "      <td>NAH4</td>\n",
              "      <td>1.929136e+09</td>\n",
              "      <td>0</td>\n",
              "    </tr>\n",
              "    <tr>\n",
              "      <th>49942</th>\n",
              "      <td>U001</td>\n",
              "      <td>0200704858</td>\n",
              "      <td>WAKE</td>\n",
              "      <td>2019-11-12 00:00:00</td>\n",
              "      <td>2019.0</td>\n",
              "      <td>1.930054e+09</td>\n",
              "      <td>2019-10-26</td>\n",
              "      <td>20191025</td>\n",
              "      <td>20191026</td>\n",
              "      <td>20191110.0</td>\n",
              "      <td>USD</td>\n",
              "      <td>RV</td>\n",
              "      <td>1.0</td>\n",
              "      <td>46433.77</td>\n",
              "      <td>20191026.0</td>\n",
              "      <td>NAA8</td>\n",
              "      <td>1.930054e+09</td>\n",
              "      <td>0</td>\n",
              "    </tr>\n",
              "    <tr>\n",
              "      <th>49950</th>\n",
              "      <td>U001</td>\n",
              "      <td>0100033268</td>\n",
              "      <td>NICHOL</td>\n",
              "      <td>2019-09-17 00:00:00</td>\n",
              "      <td>2019.0</td>\n",
              "      <td>1.929828e+09</td>\n",
              "      <td>2019-09-04</td>\n",
              "      <td>20190904</td>\n",
              "      <td>20190904</td>\n",
              "      <td>20190919.0</td>\n",
              "      <td>USD</td>\n",
              "      <td>RV</td>\n",
              "      <td>1.0</td>\n",
              "      <td>26607.14</td>\n",
              "      <td>20190904.0</td>\n",
              "      <td>NAA8</td>\n",
              "      <td>1.929828e+09</td>\n",
              "      <td>0</td>\n",
              "    </tr>\n",
              "    <tr>\n",
              "      <th>49971</th>\n",
              "      <td>U001</td>\n",
              "      <td>200793568</td>\n",
              "      <td>SUPE trust</td>\n",
              "      <td>2019-03-15 00:00:00</td>\n",
              "      <td>2019.0</td>\n",
              "      <td>1.928870e+09</td>\n",
              "      <td>2019-02-27</td>\n",
              "      <td>20190227</td>\n",
              "      <td>20190227</td>\n",
              "      <td>20190314.0</td>\n",
              "      <td>USD</td>\n",
              "      <td>RV</td>\n",
              "      <td>1.0</td>\n",
              "      <td>10183.10</td>\n",
              "      <td>20190227.0</td>\n",
              "      <td>NAA8</td>\n",
              "      <td>1.928870e+09</td>\n",
              "      <td>0</td>\n",
              "    </tr>\n",
              "    <tr>\n",
              "      <th>49974</th>\n",
              "      <td>U001</td>\n",
              "      <td>0200729942</td>\n",
              "      <td>SA co</td>\n",
              "      <td>2019-06-11 00:00:00</td>\n",
              "      <td>2019.0</td>\n",
              "      <td>1.929379e+09</td>\n",
              "      <td>2019-05-30</td>\n",
              "      <td>20190525</td>\n",
              "      <td>20190530</td>\n",
              "      <td>20190614.0</td>\n",
              "      <td>USD</td>\n",
              "      <td>RV</td>\n",
              "      <td>1.0</td>\n",
              "      <td>9451.64</td>\n",
              "      <td>20190530.0</td>\n",
              "      <td>NAA8</td>\n",
              "      <td>1.929379e+09</td>\n",
              "      <td>0</td>\n",
              "    </tr>\n",
              "  </tbody>\n",
              "</table>\n",
              "<p>826 rows × 18 columns</p>\n",
              "</div>"
            ],
            "text/plain": [
              "      business_code cust_number  ...    invoice_id isOpen\n",
              "2132           U001      CCU013  ...  1.930490e+09      0\n",
              "2176           U002  0100036009  ...  1.990567e+09      0\n",
              "3150           U001   200769623  ...  1.928920e+09      0\n",
              "4144           U001  0200353024  ...  1.930444e+09      0\n",
              "4453           CA02  0140104429  ...  2.960592e+09      0\n",
              "...             ...         ...  ...           ...    ...\n",
              "49870          U001  0200759878  ...  1.929136e+09      0\n",
              "49942          U001  0200704858  ...  1.930054e+09      0\n",
              "49950          U001  0100033268  ...  1.929828e+09      0\n",
              "49971          U001   200793568  ...  1.928870e+09      0\n",
              "49974          U001  0200729942  ...  1.929379e+09      0\n",
              "\n",
              "[826 rows x 18 columns]"
            ]
          },
          "metadata": {
            "tags": []
          },
          "execution_count": 14
        }
      ]
    },
    {
      "cell_type": "markdown",
      "metadata": {
        "id": "flluUcZb94U9"
      },
      "source": [
        "Removing the duplicate rows but keeping its first occurance"
      ]
    },
    {
      "cell_type": "code",
      "metadata": {
        "id": "_A0mSEHm90xs"
      },
      "source": [
        "dfunique = df.drop_duplicates(keep='first').T\n",
        "df = dfunique.transpose()"
      ],
      "execution_count": null,
      "outputs": []
    },
    {
      "cell_type": "code",
      "metadata": {
        "colab": {
          "base_uri": "https://localhost:8080/",
          "height": 626
        },
        "id": "oigzrddR-BR4",
        "outputId": "3cd0bce7-61e7-4db6-8d10-0e70d2f9d3a6"
      },
      "source": [
        "df"
      ],
      "execution_count": null,
      "outputs": [
        {
          "output_type": "execute_result",
          "data": {
            "text/html": [
              "<div>\n",
              "<style scoped>\n",
              "    .dataframe tbody tr th:only-of-type {\n",
              "        vertical-align: middle;\n",
              "    }\n",
              "\n",
              "    .dataframe tbody tr th {\n",
              "        vertical-align: top;\n",
              "    }\n",
              "\n",
              "    .dataframe thead th {\n",
              "        text-align: right;\n",
              "    }\n",
              "</style>\n",
              "<table border=\"1\" class=\"dataframe\">\n",
              "  <thead>\n",
              "    <tr style=\"text-align: right;\">\n",
              "      <th></th>\n",
              "      <th>business_code</th>\n",
              "      <th>cust_number</th>\n",
              "      <th>name_customer</th>\n",
              "      <th>clear_date</th>\n",
              "      <th>buisness_year</th>\n",
              "      <th>doc_id</th>\n",
              "      <th>posting_date</th>\n",
              "      <th>document_create_date</th>\n",
              "      <th>document_create_date.1</th>\n",
              "      <th>due_in_date</th>\n",
              "      <th>invoice_currency</th>\n",
              "      <th>document type</th>\n",
              "      <th>posting_id</th>\n",
              "      <th>total_open_amount</th>\n",
              "      <th>baseline_create_date</th>\n",
              "      <th>cust_payment_terms</th>\n",
              "      <th>invoice_id</th>\n",
              "      <th>isOpen</th>\n",
              "    </tr>\n",
              "  </thead>\n",
              "  <tbody>\n",
              "    <tr>\n",
              "      <th>0</th>\n",
              "      <td>U001</td>\n",
              "      <td>0200762301</td>\n",
              "      <td>C&amp;S WH llc</td>\n",
              "      <td>2019-05-13 00:00:00</td>\n",
              "      <td>2019</td>\n",
              "      <td>1.92922e+09</td>\n",
              "      <td>2019-04-26</td>\n",
              "      <td>20190427</td>\n",
              "      <td>20190426</td>\n",
              "      <td>2.01905e+07</td>\n",
              "      <td>USD</td>\n",
              "      <td>RV</td>\n",
              "      <td>1</td>\n",
              "      <td>42605.9</td>\n",
              "      <td>2.01904e+07</td>\n",
              "      <td>NAC6</td>\n",
              "      <td>1.92922e+09</td>\n",
              "      <td>0</td>\n",
              "    </tr>\n",
              "    <tr>\n",
              "      <th>1</th>\n",
              "      <td>U001</td>\n",
              "      <td>200803720</td>\n",
              "      <td>DEC</td>\n",
              "      <td>2019-07-24 00:00:00</td>\n",
              "      <td>2019</td>\n",
              "      <td>1.92965e+09</td>\n",
              "      <td>2019-07-23</td>\n",
              "      <td>20190723</td>\n",
              "      <td>20190723</td>\n",
              "      <td>2.01907e+07</td>\n",
              "      <td>USD</td>\n",
              "      <td>RV</td>\n",
              "      <td>1</td>\n",
              "      <td>7306.09</td>\n",
              "      <td>2.01907e+07</td>\n",
              "      <td>NAM1</td>\n",
              "      <td>1.92965e+09</td>\n",
              "      <td>0</td>\n",
              "    </tr>\n",
              "    <tr>\n",
              "      <th>2</th>\n",
              "      <td>U001</td>\n",
              "      <td>0200759878</td>\n",
              "      <td>SA corp</td>\n",
              "      <td>2020-01-21 00:00:00</td>\n",
              "      <td>2020</td>\n",
              "      <td>1.93035e+09</td>\n",
              "      <td>2020-01-04</td>\n",
              "      <td>20200104</td>\n",
              "      <td>20200104</td>\n",
              "      <td>2.02001e+07</td>\n",
              "      <td>USD</td>\n",
              "      <td>RV</td>\n",
              "      <td>1</td>\n",
              "      <td>34403.8</td>\n",
              "      <td>2.02001e+07</td>\n",
              "      <td>NAH4</td>\n",
              "      <td>1.93035e+09</td>\n",
              "      <td>0</td>\n",
              "    </tr>\n",
              "    <tr>\n",
              "      <th>3</th>\n",
              "      <td>U001</td>\n",
              "      <td>0200881076</td>\n",
              "      <td>ALBERT trust</td>\n",
              "      <td>2019-06-27 00:00:00</td>\n",
              "      <td>2019</td>\n",
              "      <td>1.92948e+09</td>\n",
              "      <td>2019-06-12</td>\n",
              "      <td>20190612</td>\n",
              "      <td>20190612</td>\n",
              "      <td>2.01906e+07</td>\n",
              "      <td>USD</td>\n",
              "      <td>RV</td>\n",
              "      <td>1</td>\n",
              "      <td>110530</td>\n",
              "      <td>2.01906e+07</td>\n",
              "      <td>NAA8</td>\n",
              "      <td>1.92948e+09</td>\n",
              "      <td>0</td>\n",
              "    </tr>\n",
              "    <tr>\n",
              "      <th>4</th>\n",
              "      <td>U001</td>\n",
              "      <td>0200769623</td>\n",
              "      <td>WAL-MAR associates</td>\n",
              "      <td>2019-10-02 00:00:00</td>\n",
              "      <td>2019</td>\n",
              "      <td>1.92991e+09</td>\n",
              "      <td>2019-09-22</td>\n",
              "      <td>20190921</td>\n",
              "      <td>20190922</td>\n",
              "      <td>2.0191e+07</td>\n",
              "      <td>USD</td>\n",
              "      <td>RV</td>\n",
              "      <td>1</td>\n",
              "      <td>3476.03</td>\n",
              "      <td>2.01909e+07</td>\n",
              "      <td>NAH4</td>\n",
              "      <td>1.92991e+09</td>\n",
              "      <td>0</td>\n",
              "    </tr>\n",
              "    <tr>\n",
              "      <th>...</th>\n",
              "      <td>...</td>\n",
              "      <td>...</td>\n",
              "      <td>...</td>\n",
              "      <td>...</td>\n",
              "      <td>...</td>\n",
              "      <td>...</td>\n",
              "      <td>...</td>\n",
              "      <td>...</td>\n",
              "      <td>...</td>\n",
              "      <td>...</td>\n",
              "      <td>...</td>\n",
              "      <td>...</td>\n",
              "      <td>...</td>\n",
              "      <td>...</td>\n",
              "      <td>...</td>\n",
              "      <td>...</td>\n",
              "      <td>...</td>\n",
              "      <td>...</td>\n",
              "    </tr>\n",
              "    <tr>\n",
              "      <th>49992</th>\n",
              "      <td>U001</td>\n",
              "      <td>0200129450</td>\n",
              "      <td>NU</td>\n",
              "      <td>2020-02-24 00:00:00</td>\n",
              "      <td>2020</td>\n",
              "      <td>1.93042e+09</td>\n",
              "      <td>2020-01-22</td>\n",
              "      <td>20200121</td>\n",
              "      <td>20200122</td>\n",
              "      <td>2.02002e+07</td>\n",
              "      <td>USD</td>\n",
              "      <td>RV</td>\n",
              "      <td>1</td>\n",
              "      <td>69188.5</td>\n",
              "      <td>2.02001e+07</td>\n",
              "      <td>NAD5</td>\n",
              "      <td>1.93042e+09</td>\n",
              "      <td>0</td>\n",
              "    </tr>\n",
              "    <tr>\n",
              "      <th>49994</th>\n",
              "      <td>U001</td>\n",
              "      <td>0200704858</td>\n",
              "      <td>WAKE systems</td>\n",
              "      <td>2019-03-18 00:00:00</td>\n",
              "      <td>2019</td>\n",
              "      <td>1.92891e+09</td>\n",
              "      <td>2019-03-06</td>\n",
              "      <td>20190306</td>\n",
              "      <td>20190306</td>\n",
              "      <td>2.01903e+07</td>\n",
              "      <td>USD</td>\n",
              "      <td>RV</td>\n",
              "      <td>1</td>\n",
              "      <td>136803</td>\n",
              "      <td>2.01903e+07</td>\n",
              "      <td>NAA8</td>\n",
              "      <td>1.92891e+09</td>\n",
              "      <td>0</td>\n",
              "    </tr>\n",
              "    <tr>\n",
              "      <th>49995</th>\n",
              "      <td>U001</td>\n",
              "      <td>0200769623</td>\n",
              "      <td>WAL-MAR co</td>\n",
              "      <td>2019-09-20 00:00:00</td>\n",
              "      <td>2019</td>\n",
              "      <td>1.92985e+09</td>\n",
              "      <td>2019-09-10</td>\n",
              "      <td>20190909</td>\n",
              "      <td>20190910</td>\n",
              "      <td>2.01909e+07</td>\n",
              "      <td>USD</td>\n",
              "      <td>RV</td>\n",
              "      <td>1</td>\n",
              "      <td>33711.8</td>\n",
              "      <td>2.01909e+07</td>\n",
              "      <td>NAH4</td>\n",
              "      <td>1.92985e+09</td>\n",
              "      <td>0</td>\n",
              "    </tr>\n",
              "    <tr>\n",
              "      <th>49996</th>\n",
              "      <td>CA02</td>\n",
              "      <td>0140105785</td>\n",
              "      <td>SHOPPE us</td>\n",
              "      <td>2019-06-07 00:00:00</td>\n",
              "      <td>2019</td>\n",
              "      <td>2.96055e+09</td>\n",
              "      <td>2019-05-16</td>\n",
              "      <td>20190516</td>\n",
              "      <td>20190516</td>\n",
              "      <td>2.01905e+07</td>\n",
              "      <td>CAD</td>\n",
              "      <td>RV</td>\n",
              "      <td>1</td>\n",
              "      <td>50503.3</td>\n",
              "      <td>2.01905e+07</td>\n",
              "      <td>CA10</td>\n",
              "      <td>2.96055e+09</td>\n",
              "      <td>0</td>\n",
              "    </tr>\n",
              "    <tr>\n",
              "      <th>49997</th>\n",
              "      <td>U001</td>\n",
              "      <td>0200303592</td>\n",
              "      <td>RDP F co</td>\n",
              "      <td>2019-06-26 00:00:00</td>\n",
              "      <td>2019</td>\n",
              "      <td>1.92948e+09</td>\n",
              "      <td>2019-06-12</td>\n",
              "      <td>20190612</td>\n",
              "      <td>20190612</td>\n",
              "      <td>2.01906e+07</td>\n",
              "      <td>USD</td>\n",
              "      <td>RV</td>\n",
              "      <td>1</td>\n",
              "      <td>29602.6</td>\n",
              "      <td>2.01906e+07</td>\n",
              "      <td>NAA8</td>\n",
              "      <td>1.92948e+09</td>\n",
              "      <td>0</td>\n",
              "    </tr>\n",
              "  </tbody>\n",
              "</table>\n",
              "<p>39167 rows × 18 columns</p>\n",
              "</div>"
            ],
            "text/plain": [
              "      business_code cust_number  ...   invoice_id isOpen\n",
              "0              U001  0200762301  ...  1.92922e+09      0\n",
              "1              U001   200803720  ...  1.92965e+09      0\n",
              "2              U001  0200759878  ...  1.93035e+09      0\n",
              "3              U001  0200881076  ...  1.92948e+09      0\n",
              "4              U001  0200769623  ...  1.92991e+09      0\n",
              "...             ...         ...  ...          ...    ...\n",
              "49992          U001  0200129450  ...  1.93042e+09      0\n",
              "49994          U001  0200704858  ...  1.92891e+09      0\n",
              "49995          U001  0200769623  ...  1.92985e+09      0\n",
              "49996          CA02  0140105785  ...  2.96055e+09      0\n",
              "49997          U001  0200303592  ...  1.92948e+09      0\n",
              "\n",
              "[39167 rows x 18 columns]"
            ]
          },
          "metadata": {
            "tags": []
          },
          "execution_count": 16
        }
      ]
    },
    {
      "cell_type": "markdown",
      "metadata": {
        "id": "sqUPQocu88Du"
      },
      "source": [
        "**Confirming that their is no null value in the dataframe**"
      ]
    },
    {
      "cell_type": "code",
      "metadata": {
        "colab": {
          "base_uri": "https://localhost:8080/"
        },
        "id": "cjxNrWm-x9Wk",
        "outputId": "36d90bb0-4960-4d79-809a-5aa4f343a72c"
      },
      "source": [
        "df.isnull().sum().sum()"
      ],
      "execution_count": null,
      "outputs": [
        {
          "output_type": "execute_result",
          "data": {
            "text/plain": [
              "0"
            ]
          },
          "metadata": {
            "tags": []
          },
          "execution_count": 17
        }
      ]
    },
    {
      "cell_type": "markdown",
      "metadata": {
        "id": "6zkn-a6v49mL"
      },
      "source": [
        "**Removing the duplicate values from the null_df**"
      ]
    },
    {
      "cell_type": "markdown",
      "metadata": {
        "id": "i9Xq3aLT4sc0"
      },
      "source": [
        "Seeing the duplicated values in out data frame that contains clear_date as null"
      ]
    },
    {
      "cell_type": "code",
      "metadata": {
        "colab": {
          "base_uri": "https://localhost:8080/",
          "height": 541
        },
        "id": "Ntl5qog75EgY",
        "outputId": "651c614b-0501-4a97-ada6-d79238876072"
      },
      "source": [
        "null_df[null_df.duplicated()]"
      ],
      "execution_count": null,
      "outputs": [
        {
          "output_type": "execute_result",
          "data": {
            "text/html": [
              "<div>\n",
              "<style scoped>\n",
              "    .dataframe tbody tr th:only-of-type {\n",
              "        vertical-align: middle;\n",
              "    }\n",
              "\n",
              "    .dataframe tbody tr th {\n",
              "        vertical-align: top;\n",
              "    }\n",
              "\n",
              "    .dataframe thead th {\n",
              "        text-align: right;\n",
              "    }\n",
              "</style>\n",
              "<table border=\"1\" class=\"dataframe\">\n",
              "  <thead>\n",
              "    <tr style=\"text-align: right;\">\n",
              "      <th></th>\n",
              "      <th>business_code</th>\n",
              "      <th>cust_number</th>\n",
              "      <th>name_customer</th>\n",
              "      <th>clear_date</th>\n",
              "      <th>buisness_year</th>\n",
              "      <th>doc_id</th>\n",
              "      <th>posting_date</th>\n",
              "      <th>document_create_date</th>\n",
              "      <th>document_create_date.1</th>\n",
              "      <th>due_in_date</th>\n",
              "      <th>invoice_currency</th>\n",
              "      <th>document type</th>\n",
              "      <th>posting_id</th>\n",
              "      <th>total_open_amount</th>\n",
              "      <th>baseline_create_date</th>\n",
              "      <th>cust_payment_terms</th>\n",
              "      <th>invoice_id</th>\n",
              "      <th>isOpen</th>\n",
              "    </tr>\n",
              "  </thead>\n",
              "  <tbody>\n",
              "    <tr>\n",
              "      <th>1703</th>\n",
              "      <td>U001</td>\n",
              "      <td>0100001196</td>\n",
              "      <td>DOLLAR corporation</td>\n",
              "      <td>NaN</td>\n",
              "      <td>2020.0</td>\n",
              "      <td>1.930800e+09</td>\n",
              "      <td>2020-04-19</td>\n",
              "      <td>20200418</td>\n",
              "      <td>20200419</td>\n",
              "      <td>20200504.0</td>\n",
              "      <td>USD</td>\n",
              "      <td>RV</td>\n",
              "      <td>1.0</td>\n",
              "      <td>70059.55</td>\n",
              "      <td>20200419.0</td>\n",
              "      <td>NAA8</td>\n",
              "      <td>1.930800e+09</td>\n",
              "      <td>1</td>\n",
              "    </tr>\n",
              "    <tr>\n",
              "      <th>2769</th>\n",
              "      <td>U001</td>\n",
              "      <td>0200769623</td>\n",
              "      <td>WAL-MAR associates</td>\n",
              "      <td>NaN</td>\n",
              "      <td>2020.0</td>\n",
              "      <td>1.930707e+09</td>\n",
              "      <td>2020-03-27</td>\n",
              "      <td>20200326</td>\n",
              "      <td>20200327</td>\n",
              "      <td>20200411.0</td>\n",
              "      <td>USD</td>\n",
              "      <td>RV</td>\n",
              "      <td>1.0</td>\n",
              "      <td>12630.06</td>\n",
              "      <td>20200327.0</td>\n",
              "      <td>NAH4</td>\n",
              "      <td>1.930707e+09</td>\n",
              "      <td>1</td>\n",
              "    </tr>\n",
              "    <tr>\n",
              "      <th>3398</th>\n",
              "      <td>U001</td>\n",
              "      <td>0200769623</td>\n",
              "      <td>WAL-MAR foundation</td>\n",
              "      <td>NaN</td>\n",
              "      <td>2020.0</td>\n",
              "      <td>1.930783e+09</td>\n",
              "      <td>2020-04-14</td>\n",
              "      <td>20200414</td>\n",
              "      <td>20200414</td>\n",
              "      <td>20200429.0</td>\n",
              "      <td>USD</td>\n",
              "      <td>RV</td>\n",
              "      <td>1.0</td>\n",
              "      <td>9820.55</td>\n",
              "      <td>20200414.0</td>\n",
              "      <td>NAH4</td>\n",
              "      <td>1.930783e+09</td>\n",
              "      <td>1</td>\n",
              "    </tr>\n",
              "    <tr>\n",
              "      <th>4231</th>\n",
              "      <td>U001</td>\n",
              "      <td>0200466603</td>\n",
              "      <td>SMITH'S us</td>\n",
              "      <td>NaN</td>\n",
              "      <td>2020.0</td>\n",
              "      <td>1.930777e+09</td>\n",
              "      <td>2020-04-12</td>\n",
              "      <td>20200411</td>\n",
              "      <td>20200412</td>\n",
              "      <td>20200427.0</td>\n",
              "      <td>USD</td>\n",
              "      <td>RV</td>\n",
              "      <td>1.0</td>\n",
              "      <td>44486.38</td>\n",
              "      <td>20200412.0</td>\n",
              "      <td>NAA8</td>\n",
              "      <td>1.930777e+09</td>\n",
              "      <td>1</td>\n",
              "    </tr>\n",
              "    <tr>\n",
              "      <th>5599</th>\n",
              "      <td>U001</td>\n",
              "      <td>0200777735</td>\n",
              "      <td>NASH  us</td>\n",
              "      <td>NaN</td>\n",
              "      <td>2020.0</td>\n",
              "      <td>1.930857e+09</td>\n",
              "      <td>2020-05-04</td>\n",
              "      <td>20200504</td>\n",
              "      <td>20200504</td>\n",
              "      <td>20200519.0</td>\n",
              "      <td>USD</td>\n",
              "      <td>RV</td>\n",
              "      <td>1.0</td>\n",
              "      <td>11787.86</td>\n",
              "      <td>20200504.0</td>\n",
              "      <td>NAA8</td>\n",
              "      <td>1.930857e+09</td>\n",
              "      <td>1</td>\n",
              "    </tr>\n",
              "    <tr>\n",
              "      <th>...</th>\n",
              "      <td>...</td>\n",
              "      <td>...</td>\n",
              "      <td>...</td>\n",
              "      <td>...</td>\n",
              "      <td>...</td>\n",
              "      <td>...</td>\n",
              "      <td>...</td>\n",
              "      <td>...</td>\n",
              "      <td>...</td>\n",
              "      <td>...</td>\n",
              "      <td>...</td>\n",
              "      <td>...</td>\n",
              "      <td>...</td>\n",
              "      <td>...</td>\n",
              "      <td>...</td>\n",
              "      <td>...</td>\n",
              "      <td>...</td>\n",
              "      <td>...</td>\n",
              "    </tr>\n",
              "    <tr>\n",
              "      <th>49652</th>\n",
              "      <td>U001</td>\n",
              "      <td>0200759878</td>\n",
              "      <td>SA llc</td>\n",
              "      <td>NaN</td>\n",
              "      <td>2020.0</td>\n",
              "      <td>1.930666e+09</td>\n",
              "      <td>2020-03-19</td>\n",
              "      <td>20200318</td>\n",
              "      <td>20200319</td>\n",
              "      <td>20200403.0</td>\n",
              "      <td>USD</td>\n",
              "      <td>RV</td>\n",
              "      <td>1.0</td>\n",
              "      <td>4061.53</td>\n",
              "      <td>20200319.0</td>\n",
              "      <td>NAH4</td>\n",
              "      <td>1.930666e+09</td>\n",
              "      <td>1</td>\n",
              "    </tr>\n",
              "    <tr>\n",
              "      <th>49770</th>\n",
              "      <td>U001</td>\n",
              "      <td>0200749782</td>\n",
              "      <td>KROG associates</td>\n",
              "      <td>NaN</td>\n",
              "      <td>2020.0</td>\n",
              "      <td>1.930793e+09</td>\n",
              "      <td>2020-04-17</td>\n",
              "      <td>20200416</td>\n",
              "      <td>20200417</td>\n",
              "      <td>20200502.0</td>\n",
              "      <td>USD</td>\n",
              "      <td>RV</td>\n",
              "      <td>1.0</td>\n",
              "      <td>38087.00</td>\n",
              "      <td>20200417.0</td>\n",
              "      <td>NAA8</td>\n",
              "      <td>1.930793e+09</td>\n",
              "      <td>1</td>\n",
              "    </tr>\n",
              "    <tr>\n",
              "      <th>49867</th>\n",
              "      <td>U001</td>\n",
              "      <td>0200769623</td>\n",
              "      <td>WAL-MAR associates</td>\n",
              "      <td>NaN</td>\n",
              "      <td>2020.0</td>\n",
              "      <td>1.930801e+09</td>\n",
              "      <td>2020-04-19</td>\n",
              "      <td>20200418</td>\n",
              "      <td>20200419</td>\n",
              "      <td>20200504.0</td>\n",
              "      <td>USD</td>\n",
              "      <td>RV</td>\n",
              "      <td>1.0</td>\n",
              "      <td>11615.43</td>\n",
              "      <td>20200419.0</td>\n",
              "      <td>NAH4</td>\n",
              "      <td>1.930801e+09</td>\n",
              "      <td>1</td>\n",
              "    </tr>\n",
              "    <tr>\n",
              "      <th>49919</th>\n",
              "      <td>U001</td>\n",
              "      <td>0200756072</td>\n",
              "      <td>REINHA in</td>\n",
              "      <td>NaN</td>\n",
              "      <td>2020.0</td>\n",
              "      <td>1.930753e+09</td>\n",
              "      <td>2020-04-09</td>\n",
              "      <td>20200406</td>\n",
              "      <td>20200409</td>\n",
              "      <td>20200424.0</td>\n",
              "      <td>USD</td>\n",
              "      <td>RV</td>\n",
              "      <td>1.0</td>\n",
              "      <td>9875.78</td>\n",
              "      <td>20200409.0</td>\n",
              "      <td>NAA8</td>\n",
              "      <td>1.930753e+09</td>\n",
              "      <td>1</td>\n",
              "    </tr>\n",
              "    <tr>\n",
              "      <th>49982</th>\n",
              "      <td>U001</td>\n",
              "      <td>0200726979</td>\n",
              "      <td>BJ'S  foundation</td>\n",
              "      <td>NaN</td>\n",
              "      <td>2020.0</td>\n",
              "      <td>1.930690e+09</td>\n",
              "      <td>2020-03-23</td>\n",
              "      <td>20200323</td>\n",
              "      <td>20200323</td>\n",
              "      <td>20200407.0</td>\n",
              "      <td>USD</td>\n",
              "      <td>RV</td>\n",
              "      <td>1.0</td>\n",
              "      <td>772.56</td>\n",
              "      <td>20200323.0</td>\n",
              "      <td>NAA8</td>\n",
              "      <td>1.930690e+09</td>\n",
              "      <td>1</td>\n",
              "    </tr>\n",
              "  </tbody>\n",
              "</table>\n",
              "<p>297 rows × 18 columns</p>\n",
              "</div>"
            ],
            "text/plain": [
              "      business_code cust_number  ...    invoice_id isOpen\n",
              "1703           U001  0100001196  ...  1.930800e+09      1\n",
              "2769           U001  0200769623  ...  1.930707e+09      1\n",
              "3398           U001  0200769623  ...  1.930783e+09      1\n",
              "4231           U001  0200466603  ...  1.930777e+09      1\n",
              "5599           U001  0200777735  ...  1.930857e+09      1\n",
              "...             ...         ...  ...           ...    ...\n",
              "49652          U001  0200759878  ...  1.930666e+09      1\n",
              "49770          U001  0200749782  ...  1.930793e+09      1\n",
              "49867          U001  0200769623  ...  1.930801e+09      1\n",
              "49919          U001  0200756072  ...  1.930753e+09      1\n",
              "49982          U001  0200726979  ...  1.930690e+09      1\n",
              "\n",
              "[297 rows x 18 columns]"
            ]
          },
          "metadata": {
            "tags": []
          },
          "execution_count": 18
        }
      ]
    },
    {
      "cell_type": "markdown",
      "metadata": {
        "id": "M4eOptQq447e"
      },
      "source": [
        "Dropping the duplicated values from the null_df"
      ]
    },
    {
      "cell_type": "code",
      "metadata": {
        "id": "Gkbjp_Ah5QeV"
      },
      "source": [
        "null_dfunique = null_df.drop_duplicates(keep='first').T\n",
        "null_df = null_dfunique.transpose()"
      ],
      "execution_count": null,
      "outputs": []
    },
    {
      "cell_type": "code",
      "metadata": {
        "colab": {
          "base_uri": "https://localhost:8080/",
          "height": 507
        },
        "id": "BKZU66lp5Wj0",
        "outputId": "bd872951-b39d-4ac8-8875-aeb494a95791"
      },
      "source": [
        "null_df"
      ],
      "execution_count": null,
      "outputs": [
        {
          "output_type": "execute_result",
          "data": {
            "text/html": [
              "<div>\n",
              "<style scoped>\n",
              "    .dataframe tbody tr th:only-of-type {\n",
              "        vertical-align: middle;\n",
              "    }\n",
              "\n",
              "    .dataframe tbody tr th {\n",
              "        vertical-align: top;\n",
              "    }\n",
              "\n",
              "    .dataframe thead th {\n",
              "        text-align: right;\n",
              "    }\n",
              "</style>\n",
              "<table border=\"1\" class=\"dataframe\">\n",
              "  <thead>\n",
              "    <tr style=\"text-align: right;\">\n",
              "      <th></th>\n",
              "      <th>business_code</th>\n",
              "      <th>cust_number</th>\n",
              "      <th>name_customer</th>\n",
              "      <th>clear_date</th>\n",
              "      <th>buisness_year</th>\n",
              "      <th>doc_id</th>\n",
              "      <th>posting_date</th>\n",
              "      <th>document_create_date</th>\n",
              "      <th>document_create_date.1</th>\n",
              "      <th>due_in_date</th>\n",
              "      <th>invoice_currency</th>\n",
              "      <th>document type</th>\n",
              "      <th>posting_id</th>\n",
              "      <th>total_open_amount</th>\n",
              "      <th>baseline_create_date</th>\n",
              "      <th>cust_payment_terms</th>\n",
              "      <th>invoice_id</th>\n",
              "      <th>isOpen</th>\n",
              "    </tr>\n",
              "  </thead>\n",
              "  <tbody>\n",
              "    <tr>\n",
              "      <th>10</th>\n",
              "      <td>U001</td>\n",
              "      <td>0200761734</td>\n",
              "      <td>H E BUT associates</td>\n",
              "      <td>NaN</td>\n",
              "      <td>2020</td>\n",
              "      <td>1.93077e+09</td>\n",
              "      <td>2020-04-09</td>\n",
              "      <td>20200410</td>\n",
              "      <td>20200409</td>\n",
              "      <td>2.02004e+07</td>\n",
              "      <td>USD</td>\n",
              "      <td>RV</td>\n",
              "      <td>1</td>\n",
              "      <td>45512.2</td>\n",
              "      <td>2.02004e+07</td>\n",
              "      <td>NAA8</td>\n",
              "      <td>1.93077e+09</td>\n",
              "      <td>1</td>\n",
              "    </tr>\n",
              "    <tr>\n",
              "      <th>14</th>\n",
              "      <td>U001</td>\n",
              "      <td>0200744019</td>\n",
              "      <td>TARG corp</td>\n",
              "      <td>NaN</td>\n",
              "      <td>2020</td>\n",
              "      <td>1.93071e+09</td>\n",
              "      <td>2020-03-28</td>\n",
              "      <td>20200326</td>\n",
              "      <td>20200328</td>\n",
              "      <td>2.02004e+07</td>\n",
              "      <td>USD</td>\n",
              "      <td>RV</td>\n",
              "      <td>1</td>\n",
              "      <td>44995.8</td>\n",
              "      <td>2.02003e+07</td>\n",
              "      <td>NAA8</td>\n",
              "      <td>1.93071e+09</td>\n",
              "      <td>1</td>\n",
              "    </tr>\n",
              "    <tr>\n",
              "      <th>17</th>\n",
              "      <td>U001</td>\n",
              "      <td>0200769623</td>\n",
              "      <td>WAL-MAR us</td>\n",
              "      <td>NaN</td>\n",
              "      <td>2020</td>\n",
              "      <td>1.93072e+09</td>\n",
              "      <td>2020-03-29</td>\n",
              "      <td>20200329</td>\n",
              "      <td>20200329</td>\n",
              "      <td>2.02004e+07</td>\n",
              "      <td>USD</td>\n",
              "      <td>RV</td>\n",
              "      <td>1</td>\n",
              "      <td>5081.63</td>\n",
              "      <td>2.02003e+07</td>\n",
              "      <td>NAH4</td>\n",
              "      <td>1.93072e+09</td>\n",
              "      <td>1</td>\n",
              "    </tr>\n",
              "    <tr>\n",
              "      <th>18</th>\n",
              "      <td>U001</td>\n",
              "      <td>0200769623</td>\n",
              "      <td>WAL-MAR</td>\n",
              "      <td>NaN</td>\n",
              "      <td>2020</td>\n",
              "      <td>1.93073e+09</td>\n",
              "      <td>2020-04-01</td>\n",
              "      <td>20200331</td>\n",
              "      <td>20200401</td>\n",
              "      <td>2.02004e+07</td>\n",
              "      <td>USD</td>\n",
              "      <td>RV</td>\n",
              "      <td>1</td>\n",
              "      <td>12249.5</td>\n",
              "      <td>2.02004e+07</td>\n",
              "      <td>NAH4</td>\n",
              "      <td>1.93073e+09</td>\n",
              "      <td>1</td>\n",
              "    </tr>\n",
              "    <tr>\n",
              "      <th>20</th>\n",
              "      <td>U001</td>\n",
              "      <td>0200769623</td>\n",
              "      <td>WAL-MAR trust</td>\n",
              "      <td>NaN</td>\n",
              "      <td>2020</td>\n",
              "      <td>1.93082e+09</td>\n",
              "      <td>2020-04-25</td>\n",
              "      <td>20200423</td>\n",
              "      <td>20200425</td>\n",
              "      <td>2.02005e+07</td>\n",
              "      <td>USD</td>\n",
              "      <td>RV</td>\n",
              "      <td>1</td>\n",
              "      <td>4486.74</td>\n",
              "      <td>2.02004e+07</td>\n",
              "      <td>NAH4</td>\n",
              "      <td>1.93082e+09</td>\n",
              "      <td>1</td>\n",
              "    </tr>\n",
              "    <tr>\n",
              "      <th>...</th>\n",
              "      <td>...</td>\n",
              "      <td>...</td>\n",
              "      <td>...</td>\n",
              "      <td>...</td>\n",
              "      <td>...</td>\n",
              "      <td>...</td>\n",
              "      <td>...</td>\n",
              "      <td>...</td>\n",
              "      <td>...</td>\n",
              "      <td>...</td>\n",
              "      <td>...</td>\n",
              "      <td>...</td>\n",
              "      <td>...</td>\n",
              "      <td>...</td>\n",
              "      <td>...</td>\n",
              "      <td>...</td>\n",
              "      <td>...</td>\n",
              "      <td>...</td>\n",
              "    </tr>\n",
              "    <tr>\n",
              "      <th>49977</th>\n",
              "      <td>U001</td>\n",
              "      <td>200148860</td>\n",
              "      <td>DOLLA systems</td>\n",
              "      <td>NaN</td>\n",
              "      <td>2020</td>\n",
              "      <td>1.93072e+09</td>\n",
              "      <td>2020-03-28</td>\n",
              "      <td>20200328</td>\n",
              "      <td>20200328</td>\n",
              "      <td>2.02006e+07</td>\n",
              "      <td>USD</td>\n",
              "      <td>RV</td>\n",
              "      <td>1</td>\n",
              "      <td>4557.11</td>\n",
              "      <td>2.02003e+07</td>\n",
              "      <td>NAGD</td>\n",
              "      <td>1.93072e+09</td>\n",
              "      <td>1</td>\n",
              "    </tr>\n",
              "    <tr>\n",
              "      <th>49985</th>\n",
              "      <td>U001</td>\n",
              "      <td>0200726979</td>\n",
              "      <td>BJ'S  co</td>\n",
              "      <td>NaN</td>\n",
              "      <td>2020</td>\n",
              "      <td>1.93073e+09</td>\n",
              "      <td>2020-04-02</td>\n",
              "      <td>20200401</td>\n",
              "      <td>20200402</td>\n",
              "      <td>2.02004e+07</td>\n",
              "      <td>USD</td>\n",
              "      <td>RV</td>\n",
              "      <td>1</td>\n",
              "      <td>217.69</td>\n",
              "      <td>2.02004e+07</td>\n",
              "      <td>NAA8</td>\n",
              "      <td>1.93073e+09</td>\n",
              "      <td>1</td>\n",
              "    </tr>\n",
              "    <tr>\n",
              "      <th>49993</th>\n",
              "      <td>U001</td>\n",
              "      <td>0200769623</td>\n",
              "      <td>WAL-MAR associates</td>\n",
              "      <td>NaN</td>\n",
              "      <td>2020</td>\n",
              "      <td>1.93062e+09</td>\n",
              "      <td>2020-03-09</td>\n",
              "      <td>20200309</td>\n",
              "      <td>20200309</td>\n",
              "      <td>2.02003e+07</td>\n",
              "      <td>USD</td>\n",
              "      <td>RV</td>\n",
              "      <td>1</td>\n",
              "      <td>12744.4</td>\n",
              "      <td>2.02003e+07</td>\n",
              "      <td>NAH4</td>\n",
              "      <td>1.93062e+09</td>\n",
              "      <td>1</td>\n",
              "    </tr>\n",
              "    <tr>\n",
              "      <th>49998</th>\n",
              "      <td>U001</td>\n",
              "      <td>0200794332</td>\n",
              "      <td>COST trust</td>\n",
              "      <td>NaN</td>\n",
              "      <td>2020</td>\n",
              "      <td>1.93067e+09</td>\n",
              "      <td>2020-03-19</td>\n",
              "      <td>20200318</td>\n",
              "      <td>20200319</td>\n",
              "      <td>2.02004e+07</td>\n",
              "      <td>USD</td>\n",
              "      <td>RV</td>\n",
              "      <td>1</td>\n",
              "      <td>16297.2</td>\n",
              "      <td>2.02003e+07</td>\n",
              "      <td>NAAX</td>\n",
              "      <td>1.93067e+09</td>\n",
              "      <td>1</td>\n",
              "    </tr>\n",
              "    <tr>\n",
              "      <th>49999</th>\n",
              "      <td>U001</td>\n",
              "      <td>0200769623</td>\n",
              "      <td>WAL-MAR llc</td>\n",
              "      <td>NaN</td>\n",
              "      <td>2020</td>\n",
              "      <td>1.93073e+09</td>\n",
              "      <td>2020-04-01</td>\n",
              "      <td>20200331</td>\n",
              "      <td>20200401</td>\n",
              "      <td>2.02004e+07</td>\n",
              "      <td>USD</td>\n",
              "      <td>RV</td>\n",
              "      <td>1</td>\n",
              "      <td>5601.67</td>\n",
              "      <td>2.02004e+07</td>\n",
              "      <td>NAH4</td>\n",
              "      <td>1.93073e+09</td>\n",
              "      <td>1</td>\n",
              "    </tr>\n",
              "  </tbody>\n",
              "</table>\n",
              "<p>9703 rows × 18 columns</p>\n",
              "</div>"
            ],
            "text/plain": [
              "      business_code cust_number  ...   invoice_id isOpen\n",
              "10             U001  0200761734  ...  1.93077e+09      1\n",
              "14             U001  0200744019  ...  1.93071e+09      1\n",
              "17             U001  0200769623  ...  1.93072e+09      1\n",
              "18             U001  0200769623  ...  1.93073e+09      1\n",
              "20             U001  0200769623  ...  1.93082e+09      1\n",
              "...             ...         ...  ...          ...    ...\n",
              "49977          U001   200148860  ...  1.93072e+09      1\n",
              "49985          U001  0200726979  ...  1.93073e+09      1\n",
              "49993          U001  0200769623  ...  1.93062e+09      1\n",
              "49998          U001  0200794332  ...  1.93067e+09      1\n",
              "49999          U001  0200769623  ...  1.93073e+09      1\n",
              "\n",
              "[9703 rows x 18 columns]"
            ]
          },
          "metadata": {
            "tags": []
          },
          "execution_count": 20
        }
      ]
    },
    {
      "cell_type": "markdown",
      "metadata": {
        "id": "_VW0fxxi6Dql"
      },
      "source": [
        "**Sorting the df based on the posting_date**"
      ]
    },
    {
      "cell_type": "code",
      "metadata": {
        "colab": {
          "base_uri": "https://localhost:8080/",
          "height": 626
        },
        "id": "_K1yMRLH6PCP",
        "outputId": "04752d76-e310-4db0-ab18-a6fcdf2886f9"
      },
      "source": [
        "df = df.sort_values(by=\"posting_date\")\n",
        "df = df.reset_index(drop=True)\n",
        "df"
      ],
      "execution_count": null,
      "outputs": [
        {
          "output_type": "execute_result",
          "data": {
            "text/html": [
              "<div>\n",
              "<style scoped>\n",
              "    .dataframe tbody tr th:only-of-type {\n",
              "        vertical-align: middle;\n",
              "    }\n",
              "\n",
              "    .dataframe tbody tr th {\n",
              "        vertical-align: top;\n",
              "    }\n",
              "\n",
              "    .dataframe thead th {\n",
              "        text-align: right;\n",
              "    }\n",
              "</style>\n",
              "<table border=\"1\" class=\"dataframe\">\n",
              "  <thead>\n",
              "    <tr style=\"text-align: right;\">\n",
              "      <th></th>\n",
              "      <th>business_code</th>\n",
              "      <th>cust_number</th>\n",
              "      <th>name_customer</th>\n",
              "      <th>clear_date</th>\n",
              "      <th>buisness_year</th>\n",
              "      <th>doc_id</th>\n",
              "      <th>posting_date</th>\n",
              "      <th>document_create_date</th>\n",
              "      <th>document_create_date.1</th>\n",
              "      <th>due_in_date</th>\n",
              "      <th>invoice_currency</th>\n",
              "      <th>document type</th>\n",
              "      <th>posting_id</th>\n",
              "      <th>total_open_amount</th>\n",
              "      <th>baseline_create_date</th>\n",
              "      <th>cust_payment_terms</th>\n",
              "      <th>invoice_id</th>\n",
              "      <th>isOpen</th>\n",
              "    </tr>\n",
              "  </thead>\n",
              "  <tbody>\n",
              "    <tr>\n",
              "      <th>0</th>\n",
              "      <td>U001</td>\n",
              "      <td>0200744019</td>\n",
              "      <td>TARG in</td>\n",
              "      <td>2019-01-11 00:00:00</td>\n",
              "      <td>2019</td>\n",
              "      <td>1.92853e+09</td>\n",
              "      <td>2018-12-30</td>\n",
              "      <td>20181229</td>\n",
              "      <td>20181230</td>\n",
              "      <td>2.01901e+07</td>\n",
              "      <td>USD</td>\n",
              "      <td>RV</td>\n",
              "      <td>1</td>\n",
              "      <td>9787.68</td>\n",
              "      <td>2.01812e+07</td>\n",
              "      <td>NAA8</td>\n",
              "      <td>1.92853e+09</td>\n",
              "      <td>0</td>\n",
              "    </tr>\n",
              "    <tr>\n",
              "      <th>1</th>\n",
              "      <td>U001</td>\n",
              "      <td>0200794332</td>\n",
              "      <td>COST</td>\n",
              "      <td>2019-01-16 00:00:00</td>\n",
              "      <td>2019</td>\n",
              "      <td>1.92853e+09</td>\n",
              "      <td>2018-12-30</td>\n",
              "      <td>20181229</td>\n",
              "      <td>20181230</td>\n",
              "      <td>2.01901e+07</td>\n",
              "      <td>USD</td>\n",
              "      <td>RV</td>\n",
              "      <td>1</td>\n",
              "      <td>37533.6</td>\n",
              "      <td>2.01812e+07</td>\n",
              "      <td>NAAX</td>\n",
              "      <td>1.92853e+09</td>\n",
              "      <td>0</td>\n",
              "    </tr>\n",
              "    <tr>\n",
              "      <th>2</th>\n",
              "      <td>U001</td>\n",
              "      <td>0200707822</td>\n",
              "      <td>PUBLI llc</td>\n",
              "      <td>2019-01-14 00:00:00</td>\n",
              "      <td>2019</td>\n",
              "      <td>1.92854e+09</td>\n",
              "      <td>2018-12-30</td>\n",
              "      <td>20181230</td>\n",
              "      <td>20181230</td>\n",
              "      <td>2.01901e+07</td>\n",
              "      <td>USD</td>\n",
              "      <td>RV</td>\n",
              "      <td>1</td>\n",
              "      <td>108170</td>\n",
              "      <td>2.01812e+07</td>\n",
              "      <td>NAA8</td>\n",
              "      <td>1.92854e+09</td>\n",
              "      <td>0</td>\n",
              "    </tr>\n",
              "    <tr>\n",
              "      <th>3</th>\n",
              "      <td>U001</td>\n",
              "      <td>0200769623</td>\n",
              "      <td>WAL-MAR co</td>\n",
              "      <td>2019-01-09 00:00:00</td>\n",
              "      <td>2019</td>\n",
              "      <td>1.92854e+09</td>\n",
              "      <td>2018-12-30</td>\n",
              "      <td>20181230</td>\n",
              "      <td>20181230</td>\n",
              "      <td>2.01901e+07</td>\n",
              "      <td>USD</td>\n",
              "      <td>RV</td>\n",
              "      <td>1</td>\n",
              "      <td>42932.7</td>\n",
              "      <td>2.01812e+07</td>\n",
              "      <td>NAH4</td>\n",
              "      <td>1.92854e+09</td>\n",
              "      <td>0</td>\n",
              "    </tr>\n",
              "    <tr>\n",
              "      <th>4</th>\n",
              "      <td>U001</td>\n",
              "      <td>0200726979</td>\n",
              "      <td>BJ'S  corporation</td>\n",
              "      <td>2019-01-15 00:00:00</td>\n",
              "      <td>2019</td>\n",
              "      <td>1.92854e+09</td>\n",
              "      <td>2018-12-30</td>\n",
              "      <td>20181229</td>\n",
              "      <td>20181230</td>\n",
              "      <td>2.01901e+07</td>\n",
              "      <td>USD</td>\n",
              "      <td>RV</td>\n",
              "      <td>1</td>\n",
              "      <td>185.1</td>\n",
              "      <td>2.01812e+07</td>\n",
              "      <td>NAA8</td>\n",
              "      <td>1.92854e+09</td>\n",
              "      <td>0</td>\n",
              "    </tr>\n",
              "    <tr>\n",
              "      <th>...</th>\n",
              "      <td>...</td>\n",
              "      <td>...</td>\n",
              "      <td>...</td>\n",
              "      <td>...</td>\n",
              "      <td>...</td>\n",
              "      <td>...</td>\n",
              "      <td>...</td>\n",
              "      <td>...</td>\n",
              "      <td>...</td>\n",
              "      <td>...</td>\n",
              "      <td>...</td>\n",
              "      <td>...</td>\n",
              "      <td>...</td>\n",
              "      <td>...</td>\n",
              "      <td>...</td>\n",
              "      <td>...</td>\n",
              "      <td>...</td>\n",
              "      <td>...</td>\n",
              "    </tr>\n",
              "    <tr>\n",
              "      <th>39162</th>\n",
              "      <td>U001</td>\n",
              "      <td>0200759878</td>\n",
              "      <td>SA us</td>\n",
              "      <td>2020-03-16 00:00:00</td>\n",
              "      <td>2020</td>\n",
              "      <td>1.93056e+09</td>\n",
              "      <td>2020-02-26</td>\n",
              "      <td>20200225</td>\n",
              "      <td>20200226</td>\n",
              "      <td>2.02003e+07</td>\n",
              "      <td>USD</td>\n",
              "      <td>RV</td>\n",
              "      <td>1</td>\n",
              "      <td>29237.8</td>\n",
              "      <td>2.02002e+07</td>\n",
              "      <td>NAH4</td>\n",
              "      <td>1.93056e+09</td>\n",
              "      <td>0</td>\n",
              "    </tr>\n",
              "    <tr>\n",
              "      <th>39163</th>\n",
              "      <td>U001</td>\n",
              "      <td>0100004536</td>\n",
              "      <td>BAS systems</td>\n",
              "      <td>2020-03-12 00:00:00</td>\n",
              "      <td>2020</td>\n",
              "      <td>1.93057e+09</td>\n",
              "      <td>2020-02-27</td>\n",
              "      <td>20200226</td>\n",
              "      <td>20200227</td>\n",
              "      <td>2.02003e+07</td>\n",
              "      <td>USD</td>\n",
              "      <td>RV</td>\n",
              "      <td>1</td>\n",
              "      <td>18509.9</td>\n",
              "      <td>2.02002e+07</td>\n",
              "      <td>NAA8</td>\n",
              "      <td>1.93057e+09</td>\n",
              "      <td>0</td>\n",
              "    </tr>\n",
              "    <tr>\n",
              "      <th>39164</th>\n",
              "      <td>U001</td>\n",
              "      <td>0200721222</td>\n",
              "      <td>GO in</td>\n",
              "      <td>2020-03-13 00:00:00</td>\n",
              "      <td>2020</td>\n",
              "      <td>1.93057e+09</td>\n",
              "      <td>2020-02-27</td>\n",
              "      <td>20200226</td>\n",
              "      <td>20200227</td>\n",
              "      <td>2.02003e+07</td>\n",
              "      <td>USD</td>\n",
              "      <td>RV</td>\n",
              "      <td>1</td>\n",
              "      <td>6990.72</td>\n",
              "      <td>2.02002e+07</td>\n",
              "      <td>NAA8</td>\n",
              "      <td>1.93057e+09</td>\n",
              "      <td>0</td>\n",
              "    </tr>\n",
              "    <tr>\n",
              "      <th>39165</th>\n",
              "      <td>U001</td>\n",
              "      <td>0200794332</td>\n",
              "      <td>COST llc</td>\n",
              "      <td>2020-03-12 00:00:00</td>\n",
              "      <td>2020</td>\n",
              "      <td>1.93058e+09</td>\n",
              "      <td>2020-02-27</td>\n",
              "      <td>20200227</td>\n",
              "      <td>20200227</td>\n",
              "      <td>2.02003e+07</td>\n",
              "      <td>USD</td>\n",
              "      <td>RV</td>\n",
              "      <td>1</td>\n",
              "      <td>77997.5</td>\n",
              "      <td>2.02002e+07</td>\n",
              "      <td>NAAX</td>\n",
              "      <td>1.93058e+09</td>\n",
              "      <td>0</td>\n",
              "    </tr>\n",
              "    <tr>\n",
              "      <th>39166</th>\n",
              "      <td>U001</td>\n",
              "      <td>0200418007</td>\n",
              "      <td>AM us</td>\n",
              "      <td>2020-03-13 00:00:00</td>\n",
              "      <td>2020</td>\n",
              "      <td>1.93055e+09</td>\n",
              "      <td>2020-02-27</td>\n",
              "      <td>20200220</td>\n",
              "      <td>20200227</td>\n",
              "      <td>2.02003e+07</td>\n",
              "      <td>USD</td>\n",
              "      <td>RV</td>\n",
              "      <td>1</td>\n",
              "      <td>4171.53</td>\n",
              "      <td>2.02002e+07</td>\n",
              "      <td>NAA8</td>\n",
              "      <td>1.93055e+09</td>\n",
              "      <td>0</td>\n",
              "    </tr>\n",
              "  </tbody>\n",
              "</table>\n",
              "<p>39167 rows × 18 columns</p>\n",
              "</div>"
            ],
            "text/plain": [
              "      business_code cust_number  ...   invoice_id isOpen\n",
              "0              U001  0200744019  ...  1.92853e+09      0\n",
              "1              U001  0200794332  ...  1.92853e+09      0\n",
              "2              U001  0200707822  ...  1.92854e+09      0\n",
              "3              U001  0200769623  ...  1.92854e+09      0\n",
              "4              U001  0200726979  ...  1.92854e+09      0\n",
              "...             ...         ...  ...          ...    ...\n",
              "39162          U001  0200759878  ...  1.93056e+09      0\n",
              "39163          U001  0100004536  ...  1.93057e+09      0\n",
              "39164          U001  0200721222  ...  1.93057e+09      0\n",
              "39165          U001  0200794332  ...  1.93058e+09      0\n",
              "39166          U001  0200418007  ...  1.93055e+09      0\n",
              "\n",
              "[39167 rows x 18 columns]"
            ]
          },
          "metadata": {
            "tags": []
          },
          "execution_count": 21
        }
      ]
    },
    {
      "cell_type": "markdown",
      "metadata": {
        "id": "xAQbGFonCD4q"
      },
      "source": [
        "#Data Preprocessing"
      ]
    },
    {
      "cell_type": "markdown",
      "metadata": {
        "id": "2phCgN3v_V7S"
      },
      "source": [
        "**Checking datatype for each column**"
      ]
    },
    {
      "cell_type": "code",
      "metadata": {
        "colab": {
          "base_uri": "https://localhost:8080/"
        },
        "id": "q37CD8WC_Q_I",
        "outputId": "554e929b-889e-4a6e-d90a-ecf216b13da5"
      },
      "source": [
        "df.dtypes"
      ],
      "execution_count": null,
      "outputs": [
        {
          "output_type": "execute_result",
          "data": {
            "text/plain": [
              "business_code             object\n",
              "cust_number               object\n",
              "name_customer             object\n",
              "clear_date                object\n",
              "buisness_year             object\n",
              "doc_id                    object\n",
              "posting_date              object\n",
              "document_create_date      object\n",
              "document_create_date.1    object\n",
              "due_in_date               object\n",
              "invoice_currency          object\n",
              "document type             object\n",
              "posting_id                object\n",
              "total_open_amount         object\n",
              "baseline_create_date      object\n",
              "cust_payment_terms        object\n",
              "invoice_id                object\n",
              "isOpen                    object\n",
              "dtype: object"
            ]
          },
          "metadata": {
            "tags": []
          },
          "execution_count": 22
        }
      ]
    },
    {
      "cell_type": "markdown",
      "metadata": {
        "id": "P2k3tCiXZtXr"
      },
      "source": [
        "**Changing the datatype of the total_open_amount to float**"
      ]
    },
    {
      "cell_type": "code",
      "metadata": {
        "id": "zhOTLZ8KZ2UA"
      },
      "source": [
        "df[\"total_open_amount\"] = df[\"total_open_amount\"].astype(float)"
      ],
      "execution_count": null,
      "outputs": []
    },
    {
      "cell_type": "markdown",
      "metadata": {
        "id": "6D3hPtr7Xhd1"
      },
      "source": [
        "**See the correlation between different date columns in the dataframe**"
      ]
    },
    {
      "cell_type": "markdown",
      "metadata": {
        "id": "Go7EkvjbXvFe"
      },
      "source": [
        "Removing the '-' from the posting _date column"
      ]
    },
    {
      "cell_type": "code",
      "metadata": {
        "colab": {
          "base_uri": "https://localhost:8080/",
          "height": 929
        },
        "id": "WdMQhdwuXuUj",
        "outputId": "bc51d01d-a31e-4f4d-e8e2-a8065dfd18a7"
      },
      "source": [
        "df_trial = df[['posting_date','document_create_date','document_create_date.1','baseline_create_date']]\n",
        "df_trial['posting_date'] = df_trial['posting_date'].str.replace('-','')\n",
        "df_trial['posting_date']=df_trial['posting_date'].astype('int64')\n",
        "df_trial['document_create_date']=df_trial['document_create_date'].astype('int64')\n",
        "df_trial['document_create_date.1']=df_trial['document_create_date.1'].astype('int64')\n",
        "df_trial['baseline_create_date']=df_trial['baseline_create_date'].astype('int64')\n",
        "\n",
        "df_trial"
      ],
      "execution_count": null,
      "outputs": [
        {
          "output_type": "stream",
          "text": [
            "/usr/local/lib/python3.7/dist-packages/ipykernel_launcher.py:2: SettingWithCopyWarning: \n",
            "A value is trying to be set on a copy of a slice from a DataFrame.\n",
            "Try using .loc[row_indexer,col_indexer] = value instead\n",
            "\n",
            "See the caveats in the documentation: https://pandas.pydata.org/pandas-docs/stable/user_guide/indexing.html#returning-a-view-versus-a-copy\n",
            "  \n",
            "/usr/local/lib/python3.7/dist-packages/ipykernel_launcher.py:3: SettingWithCopyWarning: \n",
            "A value is trying to be set on a copy of a slice from a DataFrame.\n",
            "Try using .loc[row_indexer,col_indexer] = value instead\n",
            "\n",
            "See the caveats in the documentation: https://pandas.pydata.org/pandas-docs/stable/user_guide/indexing.html#returning-a-view-versus-a-copy\n",
            "  This is separate from the ipykernel package so we can avoid doing imports until\n",
            "/usr/local/lib/python3.7/dist-packages/ipykernel_launcher.py:4: SettingWithCopyWarning: \n",
            "A value is trying to be set on a copy of a slice from a DataFrame.\n",
            "Try using .loc[row_indexer,col_indexer] = value instead\n",
            "\n",
            "See the caveats in the documentation: https://pandas.pydata.org/pandas-docs/stable/user_guide/indexing.html#returning-a-view-versus-a-copy\n",
            "  after removing the cwd from sys.path.\n",
            "/usr/local/lib/python3.7/dist-packages/ipykernel_launcher.py:5: SettingWithCopyWarning: \n",
            "A value is trying to be set on a copy of a slice from a DataFrame.\n",
            "Try using .loc[row_indexer,col_indexer] = value instead\n",
            "\n",
            "See the caveats in the documentation: https://pandas.pydata.org/pandas-docs/stable/user_guide/indexing.html#returning-a-view-versus-a-copy\n",
            "  \"\"\"\n",
            "/usr/local/lib/python3.7/dist-packages/ipykernel_launcher.py:6: SettingWithCopyWarning: \n",
            "A value is trying to be set on a copy of a slice from a DataFrame.\n",
            "Try using .loc[row_indexer,col_indexer] = value instead\n",
            "\n",
            "See the caveats in the documentation: https://pandas.pydata.org/pandas-docs/stable/user_guide/indexing.html#returning-a-view-versus-a-copy\n",
            "  \n"
          ],
          "name": "stderr"
        },
        {
          "output_type": "execute_result",
          "data": {
            "text/html": [
              "<div>\n",
              "<style scoped>\n",
              "    .dataframe tbody tr th:only-of-type {\n",
              "        vertical-align: middle;\n",
              "    }\n",
              "\n",
              "    .dataframe tbody tr th {\n",
              "        vertical-align: top;\n",
              "    }\n",
              "\n",
              "    .dataframe thead th {\n",
              "        text-align: right;\n",
              "    }\n",
              "</style>\n",
              "<table border=\"1\" class=\"dataframe\">\n",
              "  <thead>\n",
              "    <tr style=\"text-align: right;\">\n",
              "      <th></th>\n",
              "      <th>posting_date</th>\n",
              "      <th>document_create_date</th>\n",
              "      <th>document_create_date.1</th>\n",
              "      <th>baseline_create_date</th>\n",
              "    </tr>\n",
              "  </thead>\n",
              "  <tbody>\n",
              "    <tr>\n",
              "      <th>0</th>\n",
              "      <td>20181230</td>\n",
              "      <td>20181229</td>\n",
              "      <td>20181230</td>\n",
              "      <td>20181230</td>\n",
              "    </tr>\n",
              "    <tr>\n",
              "      <th>1</th>\n",
              "      <td>20181230</td>\n",
              "      <td>20181229</td>\n",
              "      <td>20181230</td>\n",
              "      <td>20181230</td>\n",
              "    </tr>\n",
              "    <tr>\n",
              "      <th>2</th>\n",
              "      <td>20181230</td>\n",
              "      <td>20181230</td>\n",
              "      <td>20181230</td>\n",
              "      <td>20181230</td>\n",
              "    </tr>\n",
              "    <tr>\n",
              "      <th>3</th>\n",
              "      <td>20181230</td>\n",
              "      <td>20181230</td>\n",
              "      <td>20181230</td>\n",
              "      <td>20181230</td>\n",
              "    </tr>\n",
              "    <tr>\n",
              "      <th>4</th>\n",
              "      <td>20181230</td>\n",
              "      <td>20181229</td>\n",
              "      <td>20181230</td>\n",
              "      <td>20181230</td>\n",
              "    </tr>\n",
              "    <tr>\n",
              "      <th>...</th>\n",
              "      <td>...</td>\n",
              "      <td>...</td>\n",
              "      <td>...</td>\n",
              "      <td>...</td>\n",
              "    </tr>\n",
              "    <tr>\n",
              "      <th>39162</th>\n",
              "      <td>20200226</td>\n",
              "      <td>20200225</td>\n",
              "      <td>20200226</td>\n",
              "      <td>20200226</td>\n",
              "    </tr>\n",
              "    <tr>\n",
              "      <th>39163</th>\n",
              "      <td>20200227</td>\n",
              "      <td>20200226</td>\n",
              "      <td>20200227</td>\n",
              "      <td>20200227</td>\n",
              "    </tr>\n",
              "    <tr>\n",
              "      <th>39164</th>\n",
              "      <td>20200227</td>\n",
              "      <td>20200226</td>\n",
              "      <td>20200227</td>\n",
              "      <td>20200227</td>\n",
              "    </tr>\n",
              "    <tr>\n",
              "      <th>39165</th>\n",
              "      <td>20200227</td>\n",
              "      <td>20200227</td>\n",
              "      <td>20200227</td>\n",
              "      <td>20200227</td>\n",
              "    </tr>\n",
              "    <tr>\n",
              "      <th>39166</th>\n",
              "      <td>20200227</td>\n",
              "      <td>20200220</td>\n",
              "      <td>20200227</td>\n",
              "      <td>20200227</td>\n",
              "    </tr>\n",
              "  </tbody>\n",
              "</table>\n",
              "<p>39167 rows × 4 columns</p>\n",
              "</div>"
            ],
            "text/plain": [
              "       posting_date  ...  baseline_create_date\n",
              "0          20181230  ...              20181230\n",
              "1          20181230  ...              20181230\n",
              "2          20181230  ...              20181230\n",
              "3          20181230  ...              20181230\n",
              "4          20181230  ...              20181230\n",
              "...             ...  ...                   ...\n",
              "39162      20200226  ...              20200226\n",
              "39163      20200227  ...              20200227\n",
              "39164      20200227  ...              20200227\n",
              "39165      20200227  ...              20200227\n",
              "39166      20200227  ...              20200227\n",
              "\n",
              "[39167 rows x 4 columns]"
            ]
          },
          "metadata": {
            "tags": []
          },
          "execution_count": 24
        }
      ]
    },
    {
      "cell_type": "markdown",
      "metadata": {
        "id": "eHNefaVpZEI9"
      },
      "source": [
        "**Checking the relation between these columns**"
      ]
    },
    {
      "cell_type": "code",
      "metadata": {
        "colab": {
          "base_uri": "https://localhost:8080/",
          "height": 613
        },
        "id": "fufVDxTMZKJh",
        "outputId": "d79f8bf1-4993-4955-fda5-36445f2dffe3"
      },
      "source": [
        "import matplotlib.pyplot as plt\n",
        "import seaborn as sns\n",
        "plt.figure(figsize=(12,10))\n",
        "cor = df_trial.corr()\n",
        "sns.heatmap(cor,annot=True)\n",
        "plt.show()"
      ],
      "execution_count": null,
      "outputs": [
        {
          "output_type": "display_data",
          "data": {
            "image/png": "[encoded data removed]",
            "text/plain": [
              "<Figure size 864x720 with 2 Axes>"
            ]
          },
          "metadata": {
            "tags": [],
            "needs_background": "light"
          }
        }
      ]
    },
    {
      "cell_type": "markdown",
      "metadata": {
        "id": "YRGRBmIEZxxX"
      },
      "source": [
        "**From the above heatmap we can see that these columns are highly correlated so these columns should be remove as they will not add any value to our model**"
      ]
    },
    {
      "cell_type": "markdown",
      "metadata": {
        "id": "IQABLak5_hdP"
      },
      "source": [
        "**As we can see the date are of datatype object so convert it into the datatime formate**"
      ]
    },
    {
      "cell_type": "code",
      "metadata": {
        "colab": {
          "base_uri": "https://localhost:8080/"
        },
        "id": "54bCH1CA_ciC",
        "outputId": "71c93873-4375-4bcc-f78a-43e4bbb42087"
      },
      "source": [
        "df[['clear_date','posting_date']] = df[['clear_date','posting_date']].apply(pd.to_datetime)\n",
        "df['due_in_date'] = pd.to_datetime(df['due_in_date'], format='%Y%m%d')\n",
        "df['baseline_create_date'] = pd.to_datetime(df['baseline_create_date'], format='%Y%m%d')\n",
        "df.dtypes"
      ],
      "execution_count": null,
      "outputs": [
        {
          "output_type": "execute_result",
          "data": {
            "text/plain": [
              "business_code                     object\n",
              "cust_number                       object\n",
              "name_customer                     object\n",
              "clear_date                datetime64[ns]\n",
              "buisness_year                     object\n",
              "doc_id                            object\n",
              "posting_date              datetime64[ns]\n",
              "document_create_date              object\n",
              "document_create_date.1            object\n",
              "due_in_date               datetime64[ns]\n",
              "invoice_currency                  object\n",
              "document type                     object\n",
              "posting_id                        object\n",
              "total_open_amount                float64\n",
              "baseline_create_date      datetime64[ns]\n",
              "cust_payment_terms                object\n",
              "invoice_id                        object\n",
              "isOpen                            object\n",
              "dtype: object"
            ]
          },
          "metadata": {
            "tags": []
          },
          "execution_count": 26
        }
      ]
    },
    {
      "cell_type": "markdown",
      "metadata": {
        "id": "E7oaWs6C-ssy"
      },
      "source": [
        "**Dropping columns which do not help in prediction**"
      ]
    },
    {
      "cell_type": "code",
      "metadata": {
        "colab": {
          "base_uri": "https://localhost:8080/",
          "height": 456
        },
        "id": "GK9lXmDL-jmf",
        "outputId": "930584bc-3c79-43de-9073-3f244f095cef"
      },
      "source": [
        "df = df.drop(['document type','document_create_date.1','buisness_year','doc_id','invoice_id','document_create_date','baseline_create_date'],axis=1)\n",
        "df"
      ],
      "execution_count": null,
      "outputs": [
        {
          "output_type": "execute_result",
          "data": {
            "text/html": [
              "<div>\n",
              "<style scoped>\n",
              "    .dataframe tbody tr th:only-of-type {\n",
              "        vertical-align: middle;\n",
              "    }\n",
              "\n",
              "    .dataframe tbody tr th {\n",
              "        vertical-align: top;\n",
              "    }\n",
              "\n",
              "    .dataframe thead th {\n",
              "        text-align: right;\n",
              "    }\n",
              "</style>\n",
              "<table border=\"1\" class=\"dataframe\">\n",
              "  <thead>\n",
              "    <tr style=\"text-align: right;\">\n",
              "      <th></th>\n",
              "      <th>business_code</th>\n",
              "      <th>cust_number</th>\n",
              "      <th>name_customer</th>\n",
              "      <th>clear_date</th>\n",
              "      <th>posting_date</th>\n",
              "      <th>due_in_date</th>\n",
              "      <th>invoice_currency</th>\n",
              "      <th>posting_id</th>\n",
              "      <th>total_open_amount</th>\n",
              "      <th>cust_payment_terms</th>\n",
              "      <th>isOpen</th>\n",
              "    </tr>\n",
              "  </thead>\n",
              "  <tbody>\n",
              "    <tr>\n",
              "      <th>0</th>\n",
              "      <td>U001</td>\n",
              "      <td>0200744019</td>\n",
              "      <td>TARG in</td>\n",
              "      <td>2019-01-11</td>\n",
              "      <td>2018-12-30</td>\n",
              "      <td>2019-01-14</td>\n",
              "      <td>USD</td>\n",
              "      <td>1</td>\n",
              "      <td>9787.68</td>\n",
              "      <td>NAA8</td>\n",
              "      <td>0</td>\n",
              "    </tr>\n",
              "    <tr>\n",
              "      <th>1</th>\n",
              "      <td>U001</td>\n",
              "      <td>0200794332</td>\n",
              "      <td>COST</td>\n",
              "      <td>2019-01-16</td>\n",
              "      <td>2018-12-30</td>\n",
              "      <td>2019-01-14</td>\n",
              "      <td>USD</td>\n",
              "      <td>1</td>\n",
              "      <td>37533.61</td>\n",
              "      <td>NAAX</td>\n",
              "      <td>0</td>\n",
              "    </tr>\n",
              "    <tr>\n",
              "      <th>2</th>\n",
              "      <td>U001</td>\n",
              "      <td>0200707822</td>\n",
              "      <td>PUBLI llc</td>\n",
              "      <td>2019-01-14</td>\n",
              "      <td>2018-12-30</td>\n",
              "      <td>2019-01-14</td>\n",
              "      <td>USD</td>\n",
              "      <td>1</td>\n",
              "      <td>108170.10</td>\n",
              "      <td>NAA8</td>\n",
              "      <td>0</td>\n",
              "    </tr>\n",
              "    <tr>\n",
              "      <th>3</th>\n",
              "      <td>U001</td>\n",
              "      <td>0200769623</td>\n",
              "      <td>WAL-MAR co</td>\n",
              "      <td>2019-01-09</td>\n",
              "      <td>2018-12-30</td>\n",
              "      <td>2019-01-14</td>\n",
              "      <td>USD</td>\n",
              "      <td>1</td>\n",
              "      <td>42932.73</td>\n",
              "      <td>NAH4</td>\n",
              "      <td>0</td>\n",
              "    </tr>\n",
              "    <tr>\n",
              "      <th>4</th>\n",
              "      <td>U001</td>\n",
              "      <td>0200726979</td>\n",
              "      <td>BJ'S  corporation</td>\n",
              "      <td>2019-01-15</td>\n",
              "      <td>2018-12-30</td>\n",
              "      <td>2019-01-14</td>\n",
              "      <td>USD</td>\n",
              "      <td>1</td>\n",
              "      <td>185.10</td>\n",
              "      <td>NAA8</td>\n",
              "      <td>0</td>\n",
              "    </tr>\n",
              "    <tr>\n",
              "      <th>...</th>\n",
              "      <td>...</td>\n",
              "      <td>...</td>\n",
              "      <td>...</td>\n",
              "      <td>...</td>\n",
              "      <td>...</td>\n",
              "      <td>...</td>\n",
              "      <td>...</td>\n",
              "      <td>...</td>\n",
              "      <td>...</td>\n",
              "      <td>...</td>\n",
              "      <td>...</td>\n",
              "    </tr>\n",
              "    <tr>\n",
              "      <th>39162</th>\n",
              "      <td>U001</td>\n",
              "      <td>0200759878</td>\n",
              "      <td>SA us</td>\n",
              "      <td>2020-03-16</td>\n",
              "      <td>2020-02-26</td>\n",
              "      <td>2020-03-12</td>\n",
              "      <td>USD</td>\n",
              "      <td>1</td>\n",
              "      <td>29237.82</td>\n",
              "      <td>NAH4</td>\n",
              "      <td>0</td>\n",
              "    </tr>\n",
              "    <tr>\n",
              "      <th>39163</th>\n",
              "      <td>U001</td>\n",
              "      <td>0100004536</td>\n",
              "      <td>BAS systems</td>\n",
              "      <td>2020-03-12</td>\n",
              "      <td>2020-02-27</td>\n",
              "      <td>2020-03-13</td>\n",
              "      <td>USD</td>\n",
              "      <td>1</td>\n",
              "      <td>18509.90</td>\n",
              "      <td>NAA8</td>\n",
              "      <td>0</td>\n",
              "    </tr>\n",
              "    <tr>\n",
              "      <th>39164</th>\n",
              "      <td>U001</td>\n",
              "      <td>0200721222</td>\n",
              "      <td>GO in</td>\n",
              "      <td>2020-03-13</td>\n",
              "      <td>2020-02-27</td>\n",
              "      <td>2020-03-13</td>\n",
              "      <td>USD</td>\n",
              "      <td>1</td>\n",
              "      <td>6990.72</td>\n",
              "      <td>NAA8</td>\n",
              "      <td>0</td>\n",
              "    </tr>\n",
              "    <tr>\n",
              "      <th>39165</th>\n",
              "      <td>U001</td>\n",
              "      <td>0200794332</td>\n",
              "      <td>COST llc</td>\n",
              "      <td>2020-03-12</td>\n",
              "      <td>2020-02-27</td>\n",
              "      <td>2020-03-13</td>\n",
              "      <td>USD</td>\n",
              "      <td>1</td>\n",
              "      <td>77997.49</td>\n",
              "      <td>NAAX</td>\n",
              "      <td>0</td>\n",
              "    </tr>\n",
              "    <tr>\n",
              "      <th>39166</th>\n",
              "      <td>U001</td>\n",
              "      <td>0200418007</td>\n",
              "      <td>AM us</td>\n",
              "      <td>2020-03-13</td>\n",
              "      <td>2020-02-27</td>\n",
              "      <td>2020-03-13</td>\n",
              "      <td>USD</td>\n",
              "      <td>1</td>\n",
              "      <td>4171.53</td>\n",
              "      <td>NAA8</td>\n",
              "      <td>0</td>\n",
              "    </tr>\n",
              "  </tbody>\n",
              "</table>\n",
              "<p>39167 rows × 11 columns</p>\n",
              "</div>"
            ],
            "text/plain": [
              "      business_code cust_number  ... cust_payment_terms isOpen\n",
              "0              U001  0200744019  ...               NAA8      0\n",
              "1              U001  0200794332  ...               NAAX      0\n",
              "2              U001  0200707822  ...               NAA8      0\n",
              "3              U001  0200769623  ...               NAH4      0\n",
              "4              U001  0200726979  ...               NAA8      0\n",
              "...             ...         ...  ...                ...    ...\n",
              "39162          U001  0200759878  ...               NAH4      0\n",
              "39163          U001  0100004536  ...               NAA8      0\n",
              "39164          U001  0200721222  ...               NAA8      0\n",
              "39165          U001  0200794332  ...               NAAX      0\n",
              "39166          U001  0200418007  ...               NAA8      0\n",
              "\n",
              "[39167 rows x 11 columns]"
            ]
          },
          "metadata": {
            "tags": []
          },
          "execution_count": 27
        }
      ]
    },
    {
      "cell_type": "markdown",
      "metadata": {
        "id": "t3NGGCdS9dh7"
      },
      "source": [
        "**Adding the column which can tell the number of days taken to clear the payment. This will act as our target column**"
      ]
    },
    {
      "cell_type": "code",
      "metadata": {
        "colab": {
          "base_uri": "https://localhost:8080/",
          "height": 419
        },
        "id": "PJBATZnt9voL",
        "outputId": "2b38c99a-4003-4357-815c-025fa99883c6"
      },
      "source": [
        "df['accday_for_payment'] = (df['clear_date']-df['posting_date']).dt.days\n",
        "df[['due_in_date','posting_date','clear_date','accday_for_payment']]"
      ],
      "execution_count": null,
      "outputs": [
        {
          "output_type": "execute_result",
          "data": {
            "text/html": [
              "<div>\n",
              "<style scoped>\n",
              "    .dataframe tbody tr th:only-of-type {\n",
              "        vertical-align: middle;\n",
              "    }\n",
              "\n",
              "    .dataframe tbody tr th {\n",
              "        vertical-align: top;\n",
              "    }\n",
              "\n",
              "    .dataframe thead th {\n",
              "        text-align: right;\n",
              "    }\n",
              "</style>\n",
              "<table border=\"1\" class=\"dataframe\">\n",
              "  <thead>\n",
              "    <tr style=\"text-align: right;\">\n",
              "      <th></th>\n",
              "      <th>due_in_date</th>\n",
              "      <th>posting_date</th>\n",
              "      <th>clear_date</th>\n",
              "      <th>accday_for_payment</th>\n",
              "    </tr>\n",
              "  </thead>\n",
              "  <tbody>\n",
              "    <tr>\n",
              "      <th>0</th>\n",
              "      <td>2019-01-14</td>\n",
              "      <td>2018-12-30</td>\n",
              "      <td>2019-01-11</td>\n",
              "      <td>12</td>\n",
              "    </tr>\n",
              "    <tr>\n",
              "      <th>1</th>\n",
              "      <td>2019-01-14</td>\n",
              "      <td>2018-12-30</td>\n",
              "      <td>2019-01-16</td>\n",
              "      <td>17</td>\n",
              "    </tr>\n",
              "    <tr>\n",
              "      <th>2</th>\n",
              "      <td>2019-01-14</td>\n",
              "      <td>2018-12-30</td>\n",
              "      <td>2019-01-14</td>\n",
              "      <td>15</td>\n",
              "    </tr>\n",
              "    <tr>\n",
              "      <th>3</th>\n",
              "      <td>2019-01-14</td>\n",
              "      <td>2018-12-30</td>\n",
              "      <td>2019-01-09</td>\n",
              "      <td>10</td>\n",
              "    </tr>\n",
              "    <tr>\n",
              "      <th>4</th>\n",
              "      <td>2019-01-14</td>\n",
              "      <td>2018-12-30</td>\n",
              "      <td>2019-01-15</td>\n",
              "      <td>16</td>\n",
              "    </tr>\n",
              "    <tr>\n",
              "      <th>...</th>\n",
              "      <td>...</td>\n",
              "      <td>...</td>\n",
              "      <td>...</td>\n",
              "      <td>...</td>\n",
              "    </tr>\n",
              "    <tr>\n",
              "      <th>39162</th>\n",
              "      <td>2020-03-12</td>\n",
              "      <td>2020-02-26</td>\n",
              "      <td>2020-03-16</td>\n",
              "      <td>19</td>\n",
              "    </tr>\n",
              "    <tr>\n",
              "      <th>39163</th>\n",
              "      <td>2020-03-13</td>\n",
              "      <td>2020-02-27</td>\n",
              "      <td>2020-03-12</td>\n",
              "      <td>14</td>\n",
              "    </tr>\n",
              "    <tr>\n",
              "      <th>39164</th>\n",
              "      <td>2020-03-13</td>\n",
              "      <td>2020-02-27</td>\n",
              "      <td>2020-03-13</td>\n",
              "      <td>15</td>\n",
              "    </tr>\n",
              "    <tr>\n",
              "      <th>39165</th>\n",
              "      <td>2020-03-13</td>\n",
              "      <td>2020-02-27</td>\n",
              "      <td>2020-03-12</td>\n",
              "      <td>14</td>\n",
              "    </tr>\n",
              "    <tr>\n",
              "      <th>39166</th>\n",
              "      <td>2020-03-13</td>\n",
              "      <td>2020-02-27</td>\n",
              "      <td>2020-03-13</td>\n",
              "      <td>15</td>\n",
              "    </tr>\n",
              "  </tbody>\n",
              "</table>\n",
              "<p>39167 rows × 4 columns</p>\n",
              "</div>"
            ],
            "text/plain": [
              "      due_in_date posting_date clear_date  accday_for_payment\n",
              "0      2019-01-14   2018-12-30 2019-01-11                  12\n",
              "1      2019-01-14   2018-12-30 2019-01-16                  17\n",
              "2      2019-01-14   2018-12-30 2019-01-14                  15\n",
              "3      2019-01-14   2018-12-30 2019-01-09                  10\n",
              "4      2019-01-14   2018-12-30 2019-01-15                  16\n",
              "...           ...          ...        ...                 ...\n",
              "39162  2020-03-12   2020-02-26 2020-03-16                  19\n",
              "39163  2020-03-13   2020-02-27 2020-03-12                  14\n",
              "39164  2020-03-13   2020-02-27 2020-03-13                  15\n",
              "39165  2020-03-13   2020-02-27 2020-03-12                  14\n",
              "39166  2020-03-13   2020-02-27 2020-03-13                  15\n",
              "\n",
              "[39167 rows x 4 columns]"
            ]
          },
          "metadata": {
            "tags": []
          },
          "execution_count": 28
        }
      ]
    },
    {
      "cell_type": "markdown",
      "metadata": {
        "id": "MMIuWrwbRq3k"
      },
      "source": [
        "**Checking any negative value in accday_for_payment column**"
      ]
    },
    {
      "cell_type": "code",
      "metadata": {
        "colab": {
          "base_uri": "https://localhost:8080/"
        },
        "id": "I7HZJNMFR1Ze",
        "outputId": "61a0e0ae-e683-40d7-ba16-b7e326586468"
      },
      "source": [
        "s = df['accday_for_payment']\n",
        "any(s<0)"
      ],
      "execution_count": null,
      "outputs": [
        {
          "output_type": "execute_result",
          "data": {
            "text/plain": [
              "False"
            ]
          },
          "metadata": {
            "tags": []
          },
          "execution_count": 29
        }
      ]
    },
    {
      "cell_type": "markdown",
      "metadata": {
        "id": "pCYtOMSJENXA"
      },
      "source": [
        "Checking how many unique values are their in the business_code,cust_number,name_customer and invoice_currency , this will help in deciding the type of encoder to use"
      ]
    },
    {
      "cell_type": "code",
      "metadata": {
        "colab": {
          "base_uri": "https://localhost:8080/"
        },
        "id": "_zbr5py0EX_M",
        "outputId": "f2b64c17-7b42-486a-a10e-6dc89b2514c3"
      },
      "source": [
        "df['business_code'].nunique()"
      ],
      "execution_count": null,
      "outputs": [
        {
          "output_type": "execute_result",
          "data": {
            "text/plain": [
              "5"
            ]
          },
          "metadata": {
            "tags": []
          },
          "execution_count": 30
        }
      ]
    },
    {
      "cell_type": "code",
      "metadata": {
        "colab": {
          "base_uri": "https://localhost:8080/"
        },
        "id": "geUXcXogD12N",
        "outputId": "255393a8-0341-4216-bbb8-db39fb231a66"
      },
      "source": [
        "df['cust_number'].nunique()"
      ],
      "execution_count": null,
      "outputs": [
        {
          "output_type": "execute_result",
          "data": {
            "text/plain": [
              "1296"
            ]
          },
          "metadata": {
            "tags": []
          },
          "execution_count": 31
        }
      ]
    },
    {
      "cell_type": "code",
      "metadata": {
        "colab": {
          "base_uri": "https://localhost:8080/"
        },
        "id": "tuxdjFfPD6cp",
        "outputId": "86dcfeae-81a9-4d5b-e500-72349016afbe"
      },
      "source": [
        "df['name_customer'].nunique()"
      ],
      "execution_count": null,
      "outputs": [
        {
          "output_type": "execute_result",
          "data": {
            "text/plain": [
              "3832"
            ]
          },
          "metadata": {
            "tags": []
          },
          "execution_count": 32
        }
      ]
    },
    {
      "cell_type": "code",
      "metadata": {
        "colab": {
          "base_uri": "https://localhost:8080/"
        },
        "id": "kF7g405AD9_b",
        "outputId": "67280593-6ccf-4a52-c6ce-d8a7009119e7"
      },
      "source": [
        "df['invoice_currency'].nunique()"
      ],
      "execution_count": null,
      "outputs": [
        {
          "output_type": "execute_result",
          "data": {
            "text/plain": [
              "2"
            ]
          },
          "metadata": {
            "tags": []
          },
          "execution_count": 33
        }
      ]
    },
    {
      "cell_type": "code",
      "metadata": {
        "colab": {
          "base_uri": "https://localhost:8080/"
        },
        "id": "H-OH24vKVNOi",
        "outputId": "33ec6f41-8a6f-4699-f8e4-6c635947be99"
      },
      "source": [
        "df['cust_payment_terms'].nunique()"
      ],
      "execution_count": null,
      "outputs": [
        {
          "output_type": "execute_result",
          "data": {
            "text/plain": [
              "71"
            ]
          },
          "metadata": {
            "tags": []
          },
          "execution_count": 34
        }
      ]
    },
    {
      "cell_type": "markdown",
      "metadata": {
        "id": "dOr5VW9vFb9L"
      },
      "source": [
        "**As their is not much unique value as compared to the length of any particular column so we use labelencoder**"
      ]
    },
    {
      "cell_type": "markdown",
      "metadata": {
        "id": "icp2AME8PAyV"
      },
      "source": [
        "**Encoding the object datatype for df using labelencoder**"
      ]
    },
    {
      "cell_type": "code",
      "metadata": {
        "colab": {
          "base_uri": "https://localhost:8080/",
          "height": 439
        },
        "id": "X5e8BlsRD1Y-",
        "outputId": "d34cb47f-deac-419c-fe23-61f33bd5c493"
      },
      "source": [
        "from sklearn import preprocessing\n",
        "label_encoder = preprocessing.LabelEncoder()\n",
        "df['business_code']= label_encoder.fit_transform(df['business_code'])\n",
        "df['cust_number']= label_encoder.fit_transform(df['cust_number'])\n",
        "df['name_customer']= label_encoder.fit_transform(df['name_customer'])\n",
        "df['invoice_currency']= label_encoder.fit_transform(df['invoice_currency'])\n",
        "df['cust_payment_terms']= label_encoder.fit_transform(df['cust_payment_terms'])\n",
        "\n",
        "df"
      ],
      "execution_count": null,
      "outputs": [
        {
          "output_type": "execute_result",
          "data": {
            "text/html": [
              "<div>\n",
              "<style scoped>\n",
              "    .dataframe tbody tr th:only-of-type {\n",
              "        vertical-align: middle;\n",
              "    }\n",
              "\n",
              "    .dataframe tbody tr th {\n",
              "        vertical-align: top;\n",
              "    }\n",
              "\n",
              "    .dataframe thead th {\n",
              "        text-align: right;\n",
              "    }\n",
              "</style>\n",
              "<table border=\"1\" class=\"dataframe\">\n",
              "  <thead>\n",
              "    <tr style=\"text-align: right;\">\n",
              "      <th></th>\n",
              "      <th>business_code</th>\n",
              "      <th>cust_number</th>\n",
              "      <th>name_customer</th>\n",
              "      <th>clear_date</th>\n",
              "      <th>posting_date</th>\n",
              "      <th>due_in_date</th>\n",
              "      <th>invoice_currency</th>\n",
              "      <th>posting_id</th>\n",
              "      <th>total_open_amount</th>\n",
              "      <th>cust_payment_terms</th>\n",
              "      <th>isOpen</th>\n",
              "      <th>accday_for_payment</th>\n",
              "    </tr>\n",
              "  </thead>\n",
              "  <tbody>\n",
              "    <tr>\n",
              "      <th>0</th>\n",
              "      <td>1</td>\n",
              "      <td>753</td>\n",
              "      <td>3427</td>\n",
              "      <td>2019-01-11</td>\n",
              "      <td>2018-12-30</td>\n",
              "      <td>2019-01-14</td>\n",
              "      <td>1</td>\n",
              "      <td>1</td>\n",
              "      <td>9787.68</td>\n",
              "      <td>21</td>\n",
              "      <td>0</td>\n",
              "      <td>12</td>\n",
              "    </tr>\n",
              "    <tr>\n",
              "      <th>1</th>\n",
              "      <td>1</td>\n",
              "      <td>880</td>\n",
              "      <td>745</td>\n",
              "      <td>2019-01-16</td>\n",
              "      <td>2018-12-30</td>\n",
              "      <td>2019-01-14</td>\n",
              "      <td>1</td>\n",
              "      <td>1</td>\n",
              "      <td>37533.61</td>\n",
              "      <td>23</td>\n",
              "      <td>0</td>\n",
              "      <td>17</td>\n",
              "    </tr>\n",
              "    <tr>\n",
              "      <th>2</th>\n",
              "      <td>1</td>\n",
              "      <td>680</td>\n",
              "      <td>2768</td>\n",
              "      <td>2019-01-14</td>\n",
              "      <td>2018-12-30</td>\n",
              "      <td>2019-01-14</td>\n",
              "      <td>1</td>\n",
              "      <td>1</td>\n",
              "      <td>108170.10</td>\n",
              "      <td>21</td>\n",
              "      <td>0</td>\n",
              "      <td>15</td>\n",
              "    </tr>\n",
              "    <tr>\n",
              "      <th>3</th>\n",
              "      <td>1</td>\n",
              "      <td>809</td>\n",
              "      <td>3703</td>\n",
              "      <td>2019-01-09</td>\n",
              "      <td>2018-12-30</td>\n",
              "      <td>2019-01-14</td>\n",
              "      <td>1</td>\n",
              "      <td>1</td>\n",
              "      <td>42932.73</td>\n",
              "      <td>35</td>\n",
              "      <td>0</td>\n",
              "      <td>10</td>\n",
              "    </tr>\n",
              "    <tr>\n",
              "      <th>4</th>\n",
              "      <td>1</td>\n",
              "      <td>711</td>\n",
              "      <td>380</td>\n",
              "      <td>2019-01-15</td>\n",
              "      <td>2018-12-30</td>\n",
              "      <td>2019-01-14</td>\n",
              "      <td>1</td>\n",
              "      <td>1</td>\n",
              "      <td>185.10</td>\n",
              "      <td>21</td>\n",
              "      <td>0</td>\n",
              "      <td>16</td>\n",
              "    </tr>\n",
              "    <tr>\n",
              "      <th>...</th>\n",
              "      <td>...</td>\n",
              "      <td>...</td>\n",
              "      <td>...</td>\n",
              "      <td>...</td>\n",
              "      <td>...</td>\n",
              "      <td>...</td>\n",
              "      <td>...</td>\n",
              "      <td>...</td>\n",
              "      <td>...</td>\n",
              "      <td>...</td>\n",
              "      <td>...</td>\n",
              "      <td>...</td>\n",
              "    </tr>\n",
              "    <tr>\n",
              "      <th>39162</th>\n",
              "      <td>1</td>\n",
              "      <td>787</td>\n",
              "      <td>2970</td>\n",
              "      <td>2020-03-16</td>\n",
              "      <td>2020-02-26</td>\n",
              "      <td>2020-03-12</td>\n",
              "      <td>1</td>\n",
              "      <td>1</td>\n",
              "      <td>29237.82</td>\n",
              "      <td>35</td>\n",
              "      <td>0</td>\n",
              "      <td>19</td>\n",
              "    </tr>\n",
              "    <tr>\n",
              "      <th>39163</th>\n",
              "      <td>1</td>\n",
              "      <td>18</td>\n",
              "      <td>294</td>\n",
              "      <td>2020-03-12</td>\n",
              "      <td>2020-02-27</td>\n",
              "      <td>2020-03-13</td>\n",
              "      <td>1</td>\n",
              "      <td>1</td>\n",
              "      <td>18509.90</td>\n",
              "      <td>21</td>\n",
              "      <td>0</td>\n",
              "      <td>14</td>\n",
              "    </tr>\n",
              "    <tr>\n",
              "      <th>39164</th>\n",
              "      <td>1</td>\n",
              "      <td>700</td>\n",
              "      <td>1368</td>\n",
              "      <td>2020-03-13</td>\n",
              "      <td>2020-02-27</td>\n",
              "      <td>2020-03-13</td>\n",
              "      <td>1</td>\n",
              "      <td>1</td>\n",
              "      <td>6990.72</td>\n",
              "      <td>21</td>\n",
              "      <td>0</td>\n",
              "      <td>15</td>\n",
              "    </tr>\n",
              "    <tr>\n",
              "      <th>39165</th>\n",
              "      <td>1</td>\n",
              "      <td>880</td>\n",
              "      <td>752</td>\n",
              "      <td>2020-03-12</td>\n",
              "      <td>2020-02-27</td>\n",
              "      <td>2020-03-13</td>\n",
              "      <td>1</td>\n",
              "      <td>1</td>\n",
              "      <td>77997.49</td>\n",
              "      <td>23</td>\n",
              "      <td>0</td>\n",
              "      <td>14</td>\n",
              "    </tr>\n",
              "    <tr>\n",
              "      <th>39166</th>\n",
              "      <td>1</td>\n",
              "      <td>559</td>\n",
              "      <td>130</td>\n",
              "      <td>2020-03-13</td>\n",
              "      <td>2020-02-27</td>\n",
              "      <td>2020-03-13</td>\n",
              "      <td>1</td>\n",
              "      <td>1</td>\n",
              "      <td>4171.53</td>\n",
              "      <td>21</td>\n",
              "      <td>0</td>\n",
              "      <td>15</td>\n",
              "    </tr>\n",
              "  </tbody>\n",
              "</table>\n",
              "<p>39167 rows × 12 columns</p>\n",
              "</div>"
            ],
            "text/plain": [
              "       business_code  cust_number  ...  isOpen accday_for_payment\n",
              "0                  1          753  ...       0                 12\n",
              "1                  1          880  ...       0                 17\n",
              "2                  1          680  ...       0                 15\n",
              "3                  1          809  ...       0                 10\n",
              "4                  1          711  ...       0                 16\n",
              "...              ...          ...  ...     ...                ...\n",
              "39162              1          787  ...       0                 19\n",
              "39163              1           18  ...       0                 14\n",
              "39164              1          700  ...       0                 15\n",
              "39165              1          880  ...       0                 14\n",
              "39166              1          559  ...       0                 15\n",
              "\n",
              "[39167 rows x 12 columns]"
            ]
          },
          "metadata": {
            "tags": []
          },
          "execution_count": 35
        }
      ]
    },
    {
      "cell_type": "markdown",
      "metadata": {
        "id": "cezA9yFU5qIT"
      },
      "source": [
        "Again checking the datatype of all the columns"
      ]
    },
    {
      "cell_type": "code",
      "metadata": {
        "colab": {
          "base_uri": "https://localhost:8080/"
        },
        "id": "sKC9e-_8Eq0F",
        "outputId": "76571e44-c8a2-4c7e-85db-c8ed6226e1de"
      },
      "source": [
        "df.dtypes"
      ],
      "execution_count": null,
      "outputs": [
        {
          "output_type": "execute_result",
          "data": {
            "text/plain": [
              "business_code                  int64\n",
              "cust_number                    int64\n",
              "name_customer                  int64\n",
              "clear_date            datetime64[ns]\n",
              "posting_date          datetime64[ns]\n",
              "due_in_date           datetime64[ns]\n",
              "invoice_currency               int64\n",
              "posting_id                    object\n",
              "total_open_amount            float64\n",
              "cust_payment_terms             int64\n",
              "isOpen                        object\n",
              "accday_for_payment             int64\n",
              "dtype: object"
            ]
          },
          "metadata": {
            "tags": []
          },
          "execution_count": 36
        }
      ]
    },
    {
      "cell_type": "markdown",
      "metadata": {
        "id": "oK95trYYExqS"
      },
      "source": [
        "**Converting posting_id and isOpen to integer from object**"
      ]
    },
    {
      "cell_type": "code",
      "metadata": {
        "colab": {
          "base_uri": "https://localhost:8080/"
        },
        "id": "ANtB7crjE70f",
        "outputId": "f586c12c-be1a-41a4-addd-1fc3e2dfa292"
      },
      "source": [
        "df[\"posting_id\"] = df[\"posting_id\"].astype(int)\n",
        "df[\"isOpen\"] = df[\"isOpen\"].astype(int)\n",
        "\n",
        "df.dtypes"
      ],
      "execution_count": null,
      "outputs": [
        {
          "output_type": "execute_result",
          "data": {
            "text/plain": [
              "business_code                  int64\n",
              "cust_number                    int64\n",
              "name_customer                  int64\n",
              "clear_date            datetime64[ns]\n",
              "posting_date          datetime64[ns]\n",
              "due_in_date           datetime64[ns]\n",
              "invoice_currency               int64\n",
              "posting_id                     int64\n",
              "total_open_amount            float64\n",
              "cust_payment_terms             int64\n",
              "isOpen                         int64\n",
              "accday_for_payment             int64\n",
              "dtype: object"
            ]
          },
          "metadata": {
            "tags": []
          },
          "execution_count": 37
        }
      ]
    },
    {
      "cell_type": "markdown",
      "metadata": {
        "id": "znaoMcs350-v"
      },
      "source": [
        "**Now all the columns are changed to interger or float or datetime**"
      ]
    },
    {
      "cell_type": "markdown",
      "metadata": {
        "id": "s0wz4BfyGnhp"
      },
      "source": [
        "#EDA"
      ]
    },
    {
      "cell_type": "markdown",
      "metadata": {
        "id": "2Y9SkRi6G1u0"
      },
      "source": [
        "**Splitting the dataframe into three parts train,validate and test**"
      ]
    },
    {
      "cell_type": "markdown",
      "metadata": {
        "id": "2vh5sPqMG9s5"
      },
      "source": [
        "Splitting df into train and testinitial"
      ]
    },
    {
      "cell_type": "code",
      "metadata": {
        "colab": {
          "base_uri": "https://localhost:8080/"
        },
        "id": "h7bIXM0WG1BC",
        "outputId": "a27b6a27-5808-4245-d73f-eb4dff2bf4d3"
      },
      "source": [
        "import numpy as np\n",
        "from sklearn.model_selection import train_test_split\n",
        "X_train, X_testinitial = train_test_split(df,test_size=.4)\n",
        "X_train.shape,X_testinitial.shape"
      ],
      "execution_count": null,
      "outputs": [
        {
          "output_type": "execute_result",
          "data": {
            "text/plain": [
              "((23500, 12), (15667, 12))"
            ]
          },
          "metadata": {
            "tags": []
          },
          "execution_count": 38
        }
      ]
    },
    {
      "cell_type": "markdown",
      "metadata": {
        "id": "tX6UrRaqHKXM"
      },
      "source": [
        "Splitting the X_testinitial\n",
        " into validate and test"
      ]
    },
    {
      "cell_type": "code",
      "metadata": {
        "colab": {
          "base_uri": "https://localhost:8080/"
        },
        "id": "2-jt10UIHQNI",
        "outputId": "e3e505a5-c21a-4bb7-998d-7ddac6f72227"
      },
      "source": [
        "X_validate, X_test = train_test_split(X_testinitial,test_size=.5)\n",
        "X_validate.shape,X_test.shape"
      ],
      "execution_count": null,
      "outputs": [
        {
          "output_type": "execute_result",
          "data": {
            "text/plain": [
              "((7833, 12), (7834, 12))"
            ]
          },
          "metadata": {
            "tags": []
          },
          "execution_count": 39
        }
      ]
    },
    {
      "cell_type": "markdown",
      "metadata": {
        "id": "7RypFM9fHx9s"
      },
      "source": [
        "**Seeing how the distribution of target columns looks**"
      ]
    },
    {
      "cell_type": "code",
      "metadata": {
        "colab": {
          "base_uri": "https://localhost:8080/",
          "height": 497
        },
        "id": "xvJV_HvxH5Mu",
        "outputId": "4e04cf5f-a072-4af9-ecc0-90da2a233ee1"
      },
      "source": [
        "import matplotlib.pyplot as plt\n",
        "import seaborn as sns\n",
        "plt.figure(figsize=(20,7))\n",
        "sns.distplot(X_train['accday_for_payment'])\n",
        "plt.show()"
      ],
      "execution_count": null,
      "outputs": [
        {
          "output_type": "stream",
          "text": [
            "/usr/local/lib/python3.7/dist-packages/seaborn/distributions.py:2557: FutureWarning: `distplot` is a deprecated function and will be removed in a future version. Please adapt your code to use either `displot` (a figure-level function with similar flexibility) or `histplot` (an axes-level function for histograms).\n",
            "  warnings.warn(msg, FutureWarning)\n"
          ],
          "name": "stderr"
        },
        {
          "output_type": "display_data",
          "data": {
            "image/png": "[encoded data removed]",
            "text/plain": [
              "<Figure size 1440x504 with 1 Axes>"
            ]
          },
          "metadata": {
            "tags": [],
            "needs_background": "light"
          }
        }
      ]
    },
    {
      "cell_type": "code",
      "metadata": {
        "id": "Znec_0OcICmI"
      },
      "source": [
        "#From above we can see that our target is right skewed\n",
        "#Target data contains outliers\n",
        "#Outlines may affect our model accuracy so we will remove the outliers"
      ],
      "execution_count": null,
      "outputs": []
    },
    {
      "cell_type": "markdown",
      "metadata": {
        "id": "EO3Me-H_OSJk"
      },
      "source": [
        "**Removing outliers from the X_train**"
      ]
    },
    {
      "cell_type": "markdown",
      "metadata": {
        "id": "oEomSVy4Omsc"
      },
      "source": [
        "Checking the outliers using boxplot"
      ]
    },
    {
      "cell_type": "code",
      "metadata": {
        "colab": {
          "base_uri": "https://localhost:8080/",
          "height": 460
        },
        "id": "PY20T3jTObe_",
        "outputId": "d48b7efc-6a56-4602-a9b9-b2c77951901c"
      },
      "source": [
        "plt.rcParams['figure.figsize'] = (17,6)\n",
        "sns.boxplot(X_train['accday_for_payment'],color='brown')"
      ],
      "execution_count": null,
      "outputs": [
        {
          "output_type": "stream",
          "text": [
            "/usr/local/lib/python3.7/dist-packages/seaborn/_decorators.py:43: FutureWarning: Pass the following variable as a keyword arg: x. From version 0.12, the only valid positional argument will be `data`, and passing other arguments without an explicit keyword will result in an error or misinterpretation.\n",
            "  FutureWarning\n"
          ],
          "name": "stderr"
        },
        {
          "output_type": "execute_result",
          "data": {
            "text/plain": [
              "<matplotlib.axes._subplots.AxesSubplot at 0x7fa873c35410>"
            ]
          },
          "metadata": {
            "tags": []
          },
          "execution_count": 42
        },
        {
          "output_type": "display_data",
          "data": {
            "image/png": "[encoded data removed]",
            "text/plain": [
              "<Figure size 1224x432 with 1 Axes>"
            ]
          },
          "metadata": {
            "tags": [],
            "needs_background": "light"
          }
        }
      ]
    },
    {
      "cell_type": "markdown",
      "metadata": {
        "id": "t5DK4yclOv0Z"
      },
      "source": [
        "Removing outliers using IQR"
      ]
    },
    {
      "cell_type": "code",
      "metadata": {
        "colab": {
          "base_uri": "https://localhost:8080/"
        },
        "id": "BXqP63-1OzFT",
        "outputId": "1b9ddb09-f4ff-4390-81e9-7a7e52615ac9"
      },
      "source": [
        "Q1 = X_train['accday_for_payment'].quantile(0.25)\n",
        "Q3 = X_train['accday_for_payment'].quantile(0.75)\n",
        "\n",
        "Q1,Q3"
      ],
      "execution_count": null,
      "outputs": [
        {
          "output_type": "execute_result",
          "data": {
            "text/plain": [
              "(12.0, 17.0)"
            ]
          },
          "metadata": {
            "tags": []
          },
          "execution_count": 43
        }
      ]
    },
    {
      "cell_type": "code",
      "metadata": {
        "colab": {
          "base_uri": "https://localhost:8080/"
        },
        "id": "JMDdxH5jPFKF",
        "outputId": "f08bc0c9-8167-4a17-8800-c095883bcf00"
      },
      "source": [
        "IQR = Q3-Q1\n",
        "IQR"
      ],
      "execution_count": null,
      "outputs": [
        {
          "output_type": "execute_result",
          "data": {
            "text/plain": [
              "5.0"
            ]
          },
          "metadata": {
            "tags": []
          },
          "execution_count": 44
        }
      ]
    },
    {
      "cell_type": "code",
      "metadata": {
        "colab": {
          "base_uri": "https://localhost:8080/"
        },
        "id": "4BxQ3LLXPL9z",
        "outputId": "e17a3171-e9cd-4f13-da88-ddde8ce4643d"
      },
      "source": [
        "lower_limit = Q1-1.5*IQR\n",
        "upper_limit = Q3+1.5*IQR\n",
        "lower_limit,upper_limit"
      ],
      "execution_count": null,
      "outputs": [
        {
          "output_type": "execute_result",
          "data": {
            "text/plain": [
              "(4.5, 24.5)"
            ]
          },
          "metadata": {
            "tags": []
          },
          "execution_count": 45
        }
      ]
    },
    {
      "cell_type": "markdown",
      "metadata": {
        "id": "rqwsoKiKPQjR"
      },
      "source": [
        "Checking the outliers data in the X_train"
      ]
    },
    {
      "cell_type": "code",
      "metadata": {
        "colab": {
          "base_uri": "https://localhost:8080/",
          "height": 439
        },
        "id": "ZlLxZCpXPVci",
        "outputId": "4734acc3-6e28-4eb8-e13f-9aba439637c4"
      },
      "source": [
        "X_train[(X_train['accday_for_payment']<lower_limit)|(X_train['accday_for_payment']>upper_limit)]"
      ],
      "execution_count": null,
      "outputs": [
        {
          "output_type": "execute_result",
          "data": {
            "text/html": [
              "<div>\n",
              "<style scoped>\n",
              "    .dataframe tbody tr th:only-of-type {\n",
              "        vertical-align: middle;\n",
              "    }\n",
              "\n",
              "    .dataframe tbody tr th {\n",
              "        vertical-align: top;\n",
              "    }\n",
              "\n",
              "    .dataframe thead th {\n",
              "        text-align: right;\n",
              "    }\n",
              "</style>\n",
              "<table border=\"1\" class=\"dataframe\">\n",
              "  <thead>\n",
              "    <tr style=\"text-align: right;\">\n",
              "      <th></th>\n",
              "      <th>business_code</th>\n",
              "      <th>cust_number</th>\n",
              "      <th>name_customer</th>\n",
              "      <th>clear_date</th>\n",
              "      <th>posting_date</th>\n",
              "      <th>due_in_date</th>\n",
              "      <th>invoice_currency</th>\n",
              "      <th>posting_id</th>\n",
              "      <th>total_open_amount</th>\n",
              "      <th>cust_payment_terms</th>\n",
              "      <th>isOpen</th>\n",
              "      <th>accday_for_payment</th>\n",
              "    </tr>\n",
              "  </thead>\n",
              "  <tbody>\n",
              "    <tr>\n",
              "      <th>24210</th>\n",
              "      <td>1</td>\n",
              "      <td>796</td>\n",
              "      <td>1514</td>\n",
              "      <td>2019-11-18</td>\n",
              "      <td>2019-09-06</td>\n",
              "      <td>2019-11-20</td>\n",
              "      <td>1</td>\n",
              "      <td>1</td>\n",
              "      <td>17050.31</td>\n",
              "      <td>67</td>\n",
              "      <td>0</td>\n",
              "      <td>73</td>\n",
              "    </tr>\n",
              "    <tr>\n",
              "      <th>24365</th>\n",
              "      <td>1</td>\n",
              "      <td>1295</td>\n",
              "      <td>1927</td>\n",
              "      <td>2019-11-01</td>\n",
              "      <td>2019-09-07</td>\n",
              "      <td>2019-09-07</td>\n",
              "      <td>1</td>\n",
              "      <td>1</td>\n",
              "      <td>23539.02</td>\n",
              "      <td>70</td>\n",
              "      <td>0</td>\n",
              "      <td>55</td>\n",
              "    </tr>\n",
              "    <tr>\n",
              "      <th>1853</th>\n",
              "      <td>1</td>\n",
              "      <td>825</td>\n",
              "      <td>3580</td>\n",
              "      <td>2019-06-06</td>\n",
              "      <td>2019-01-22</td>\n",
              "      <td>2019-02-06</td>\n",
              "      <td>1</td>\n",
              "      <td>1</td>\n",
              "      <td>364.14</td>\n",
              "      <td>21</td>\n",
              "      <td>0</td>\n",
              "      <td>135</td>\n",
              "    </tr>\n",
              "    <tr>\n",
              "      <th>18469</th>\n",
              "      <td>1</td>\n",
              "      <td>676</td>\n",
              "      <td>1002</td>\n",
              "      <td>2019-08-09</td>\n",
              "      <td>2019-07-08</td>\n",
              "      <td>2019-08-09</td>\n",
              "      <td>1</td>\n",
              "      <td>1</td>\n",
              "      <td>74883.04</td>\n",
              "      <td>14</td>\n",
              "      <td>0</td>\n",
              "      <td>32</td>\n",
              "    </tr>\n",
              "    <tr>\n",
              "      <th>36144</th>\n",
              "      <td>1</td>\n",
              "      <td>894</td>\n",
              "      <td>859</td>\n",
              "      <td>2020-01-27</td>\n",
              "      <td>2020-01-24</td>\n",
              "      <td>2020-01-23</td>\n",
              "      <td>1</td>\n",
              "      <td>1</td>\n",
              "      <td>19637.69</td>\n",
              "      <td>36</td>\n",
              "      <td>0</td>\n",
              "      <td>3</td>\n",
              "    </tr>\n",
              "    <tr>\n",
              "      <th>...</th>\n",
              "      <td>...</td>\n",
              "      <td>...</td>\n",
              "      <td>...</td>\n",
              "      <td>...</td>\n",
              "      <td>...</td>\n",
              "      <td>...</td>\n",
              "      <td>...</td>\n",
              "      <td>...</td>\n",
              "      <td>...</td>\n",
              "      <td>...</td>\n",
              "      <td>...</td>\n",
              "      <td>...</td>\n",
              "    </tr>\n",
              "    <tr>\n",
              "      <th>21265</th>\n",
              "      <td>1</td>\n",
              "      <td>870</td>\n",
              "      <td>3354</td>\n",
              "      <td>2019-09-24</td>\n",
              "      <td>2019-08-07</td>\n",
              "      <td>2019-09-08</td>\n",
              "      <td>1</td>\n",
              "      <td>1</td>\n",
              "      <td>26016.49</td>\n",
              "      <td>14</td>\n",
              "      <td>0</td>\n",
              "      <td>48</td>\n",
              "    </tr>\n",
              "    <tr>\n",
              "      <th>9420</th>\n",
              "      <td>0</td>\n",
              "      <td>379</td>\n",
              "      <td>3442</td>\n",
              "      <td>2019-07-12</td>\n",
              "      <td>2019-04-10</td>\n",
              "      <td>2019-04-21</td>\n",
              "      <td>0</td>\n",
              "      <td>1</td>\n",
              "      <td>110810.63</td>\n",
              "      <td>7</td>\n",
              "      <td>0</td>\n",
              "      <td>93</td>\n",
              "    </tr>\n",
              "    <tr>\n",
              "      <th>3124</th>\n",
              "      <td>1</td>\n",
              "      <td>459</td>\n",
              "      <td>2505</td>\n",
              "      <td>2019-03-13</td>\n",
              "      <td>2019-02-05</td>\n",
              "      <td>2019-03-07</td>\n",
              "      <td>1</td>\n",
              "      <td>1</td>\n",
              "      <td>88876.00</td>\n",
              "      <td>31</td>\n",
              "      <td>0</td>\n",
              "      <td>36</td>\n",
              "    </tr>\n",
              "    <tr>\n",
              "      <th>28557</th>\n",
              "      <td>1</td>\n",
              "      <td>800</td>\n",
              "      <td>3367</td>\n",
              "      <td>2019-11-25</td>\n",
              "      <td>2019-10-20</td>\n",
              "      <td>2019-11-21</td>\n",
              "      <td>1</td>\n",
              "      <td>1</td>\n",
              "      <td>971.56</td>\n",
              "      <td>14</td>\n",
              "      <td>0</td>\n",
              "      <td>36</td>\n",
              "    </tr>\n",
              "    <tr>\n",
              "      <th>2150</th>\n",
              "      <td>4</td>\n",
              "      <td>1286</td>\n",
              "      <td>1572</td>\n",
              "      <td>2019-04-15</td>\n",
              "      <td>2019-01-25</td>\n",
              "      <td>2019-03-11</td>\n",
              "      <td>1</td>\n",
              "      <td>1</td>\n",
              "      <td>18192.30</td>\n",
              "      <td>60</td>\n",
              "      <td>0</td>\n",
              "      <td>80</td>\n",
              "    </tr>\n",
              "  </tbody>\n",
              "</table>\n",
              "<p>2973 rows × 12 columns</p>\n",
              "</div>"
            ],
            "text/plain": [
              "       business_code  cust_number  ...  isOpen accday_for_payment\n",
              "24210              1          796  ...       0                 73\n",
              "24365              1         1295  ...       0                 55\n",
              "1853               1          825  ...       0                135\n",
              "18469              1          676  ...       0                 32\n",
              "36144              1          894  ...       0                  3\n",
              "...              ...          ...  ...     ...                ...\n",
              "21265              1          870  ...       0                 48\n",
              "9420               0          379  ...       0                 93\n",
              "3124               1          459  ...       0                 36\n",
              "28557              1          800  ...       0                 36\n",
              "2150               4         1286  ...       0                 80\n",
              "\n",
              "[2973 rows x 12 columns]"
            ]
          },
          "metadata": {
            "tags": []
          },
          "execution_count": 46
        }
      ]
    },
    {
      "cell_type": "markdown",
      "metadata": {
        "id": "2zhIrg74cC1R"
      },
      "source": [
        "**As we can see that their are too many outliers , if we remove these outliers out model will be affected so we will remove the rows that has value greater that 120**"
      ]
    },
    {
      "cell_type": "code",
      "metadata": {
        "colab": {
          "base_uri": "https://localhost:8080/",
          "height": 1000
        },
        "id": "Jcqf0quncgdy",
        "outputId": "0370a8dd-84ba-4b7d-eb32-fa85f2c9dd02"
      },
      "source": [
        "X_train[(X_train['accday_for_payment']>120)]"
      ],
      "execution_count": null,
      "outputs": [
        {
          "output_type": "execute_result",
          "data": {
            "text/html": [
              "<div>\n",
              "<style scoped>\n",
              "    .dataframe tbody tr th:only-of-type {\n",
              "        vertical-align: middle;\n",
              "    }\n",
              "\n",
              "    .dataframe tbody tr th {\n",
              "        vertical-align: top;\n",
              "    }\n",
              "\n",
              "    .dataframe thead th {\n",
              "        text-align: right;\n",
              "    }\n",
              "</style>\n",
              "<table border=\"1\" class=\"dataframe\">\n",
              "  <thead>\n",
              "    <tr style=\"text-align: right;\">\n",
              "      <th></th>\n",
              "      <th>business_code</th>\n",
              "      <th>cust_number</th>\n",
              "      <th>name_customer</th>\n",
              "      <th>clear_date</th>\n",
              "      <th>posting_date</th>\n",
              "      <th>due_in_date</th>\n",
              "      <th>invoice_currency</th>\n",
              "      <th>posting_id</th>\n",
              "      <th>total_open_amount</th>\n",
              "      <th>cust_payment_terms</th>\n",
              "      <th>isOpen</th>\n",
              "      <th>accday_for_payment</th>\n",
              "    </tr>\n",
              "  </thead>\n",
              "  <tbody>\n",
              "    <tr>\n",
              "      <th>1853</th>\n",
              "      <td>1</td>\n",
              "      <td>825</td>\n",
              "      <td>3580</td>\n",
              "      <td>2019-06-06</td>\n",
              "      <td>2019-01-22</td>\n",
              "      <td>2019-02-06</td>\n",
              "      <td>1</td>\n",
              "      <td>1</td>\n",
              "      <td>364.14</td>\n",
              "      <td>21</td>\n",
              "      <td>0</td>\n",
              "      <td>135</td>\n",
              "    </tr>\n",
              "    <tr>\n",
              "      <th>3604</th>\n",
              "      <td>4</td>\n",
              "      <td>1284</td>\n",
              "      <td>1576</td>\n",
              "      <td>2019-06-26</td>\n",
              "      <td>2019-02-10</td>\n",
              "      <td>2019-03-27</td>\n",
              "      <td>1</td>\n",
              "      <td>1</td>\n",
              "      <td>308.39</td>\n",
              "      <td>60</td>\n",
              "      <td>0</td>\n",
              "      <td>136</td>\n",
              "    </tr>\n",
              "    <tr>\n",
              "      <th>15108</th>\n",
              "      <td>1</td>\n",
              "      <td>943</td>\n",
              "      <td>413</td>\n",
              "      <td>2019-10-23</td>\n",
              "      <td>2019-06-05</td>\n",
              "      <td>2019-07-05</td>\n",
              "      <td>1</td>\n",
              "      <td>1</td>\n",
              "      <td>17596.80</td>\n",
              "      <td>31</td>\n",
              "      <td>0</td>\n",
              "      <td>140</td>\n",
              "    </tr>\n",
              "    <tr>\n",
              "      <th>7686</th>\n",
              "      <td>1</td>\n",
              "      <td>1295</td>\n",
              "      <td>1927</td>\n",
              "      <td>2019-08-30</td>\n",
              "      <td>2019-03-24</td>\n",
              "      <td>2019-03-24</td>\n",
              "      <td>1</td>\n",
              "      <td>1</td>\n",
              "      <td>5125.00</td>\n",
              "      <td>70</td>\n",
              "      <td>0</td>\n",
              "      <td>159</td>\n",
              "    </tr>\n",
              "    <tr>\n",
              "      <th>4485</th>\n",
              "      <td>4</td>\n",
              "      <td>1289</td>\n",
              "      <td>1558</td>\n",
              "      <td>2019-06-29</td>\n",
              "      <td>2019-02-20</td>\n",
              "      <td>2019-04-06</td>\n",
              "      <td>1</td>\n",
              "      <td>1</td>\n",
              "      <td>4341.03</td>\n",
              "      <td>60</td>\n",
              "      <td>0</td>\n",
              "      <td>129</td>\n",
              "    </tr>\n",
              "    <tr>\n",
              "      <th>14004</th>\n",
              "      <td>1</td>\n",
              "      <td>673</td>\n",
              "      <td>3679</td>\n",
              "      <td>2019-10-28</td>\n",
              "      <td>2019-05-24</td>\n",
              "      <td>2019-07-28</td>\n",
              "      <td>1</td>\n",
              "      <td>1</td>\n",
              "      <td>5507.32</td>\n",
              "      <td>34</td>\n",
              "      <td>0</td>\n",
              "      <td>157</td>\n",
              "    </tr>\n",
              "    <tr>\n",
              "      <th>8540</th>\n",
              "      <td>4</td>\n",
              "      <td>1283</td>\n",
              "      <td>1556</td>\n",
              "      <td>2019-10-09</td>\n",
              "      <td>2019-04-02</td>\n",
              "      <td>2019-05-17</td>\n",
              "      <td>1</td>\n",
              "      <td>1</td>\n",
              "      <td>18003.44</td>\n",
              "      <td>60</td>\n",
              "      <td>0</td>\n",
              "      <td>190</td>\n",
              "    </tr>\n",
              "    <tr>\n",
              "      <th>20746</th>\n",
              "      <td>1</td>\n",
              "      <td>663</td>\n",
              "      <td>3581</td>\n",
              "      <td>2019-12-13</td>\n",
              "      <td>2019-07-31</td>\n",
              "      <td>2019-08-15</td>\n",
              "      <td>1</td>\n",
              "      <td>1</td>\n",
              "      <td>264.03</td>\n",
              "      <td>21</td>\n",
              "      <td>0</td>\n",
              "      <td>135</td>\n",
              "    </tr>\n",
              "    <tr>\n",
              "      <th>2700</th>\n",
              "      <td>4</td>\n",
              "      <td>1281</td>\n",
              "      <td>1570</td>\n",
              "      <td>2019-05-31</td>\n",
              "      <td>2019-01-30</td>\n",
              "      <td>2019-03-16</td>\n",
              "      <td>1</td>\n",
              "      <td>1</td>\n",
              "      <td>19605.34</td>\n",
              "      <td>60</td>\n",
              "      <td>0</td>\n",
              "      <td>121</td>\n",
              "    </tr>\n",
              "    <tr>\n",
              "      <th>7373</th>\n",
              "      <td>1</td>\n",
              "      <td>0</td>\n",
              "      <td>1304</td>\n",
              "      <td>2019-08-19</td>\n",
              "      <td>2019-03-20</td>\n",
              "      <td>2019-06-18</td>\n",
              "      <td>1</td>\n",
              "      <td>1</td>\n",
              "      <td>29948.88</td>\n",
              "      <td>62</td>\n",
              "      <td>0</td>\n",
              "      <td>152</td>\n",
              "    </tr>\n",
              "    <tr>\n",
              "      <th>6575</th>\n",
              "      <td>1</td>\n",
              "      <td>981</td>\n",
              "      <td>2217</td>\n",
              "      <td>2019-07-15</td>\n",
              "      <td>2019-03-13</td>\n",
              "      <td>2019-07-11</td>\n",
              "      <td>1</td>\n",
              "      <td>1</td>\n",
              "      <td>5400.00</td>\n",
              "      <td>61</td>\n",
              "      <td>0</td>\n",
              "      <td>124</td>\n",
              "    </tr>\n",
              "    <tr>\n",
              "      <th>1819</th>\n",
              "      <td>1</td>\n",
              "      <td>2</td>\n",
              "      <td>558</td>\n",
              "      <td>2019-06-04</td>\n",
              "      <td>2019-01-22</td>\n",
              "      <td>2019-04-22</td>\n",
              "      <td>1</td>\n",
              "      <td>1</td>\n",
              "      <td>67723.20</td>\n",
              "      <td>62</td>\n",
              "      <td>0</td>\n",
              "      <td>133</td>\n",
              "    </tr>\n",
              "    <tr>\n",
              "      <th>17614</th>\n",
              "      <td>1</td>\n",
              "      <td>676</td>\n",
              "      <td>997</td>\n",
              "      <td>2019-11-27</td>\n",
              "      <td>2019-06-28</td>\n",
              "      <td>2019-07-30</td>\n",
              "      <td>1</td>\n",
              "      <td>1</td>\n",
              "      <td>1580.82</td>\n",
              "      <td>14</td>\n",
              "      <td>0</td>\n",
              "      <td>152</td>\n",
              "    </tr>\n",
              "    <tr>\n",
              "      <th>2203</th>\n",
              "      <td>1</td>\n",
              "      <td>118</td>\n",
              "      <td>1868</td>\n",
              "      <td>2019-08-27</td>\n",
              "      <td>2019-01-25</td>\n",
              "      <td>2019-03-06</td>\n",
              "      <td>1</td>\n",
              "      <td>1</td>\n",
              "      <td>40164.75</td>\n",
              "      <td>30</td>\n",
              "      <td>0</td>\n",
              "      <td>214</td>\n",
              "    </tr>\n",
              "    <tr>\n",
              "      <th>2933</th>\n",
              "      <td>1</td>\n",
              "      <td>532</td>\n",
              "      <td>2454</td>\n",
              "      <td>2019-06-03</td>\n",
              "      <td>2019-02-02</td>\n",
              "      <td>2019-05-03</td>\n",
              "      <td>1</td>\n",
              "      <td>1</td>\n",
              "      <td>53650.40</td>\n",
              "      <td>62</td>\n",
              "      <td>0</td>\n",
              "      <td>121</td>\n",
              "    </tr>\n",
              "    <tr>\n",
              "      <th>9952</th>\n",
              "      <td>1</td>\n",
              "      <td>854</td>\n",
              "      <td>3585</td>\n",
              "      <td>2019-08-28</td>\n",
              "      <td>2019-04-15</td>\n",
              "      <td>2019-04-30</td>\n",
              "      <td>1</td>\n",
              "      <td>1</td>\n",
              "      <td>324.20</td>\n",
              "      <td>21</td>\n",
              "      <td>0</td>\n",
              "      <td>135</td>\n",
              "    </tr>\n",
              "    <tr>\n",
              "      <th>1624</th>\n",
              "      <td>1</td>\n",
              "      <td>1295</td>\n",
              "      <td>1919</td>\n",
              "      <td>2019-08-30</td>\n",
              "      <td>2019-01-19</td>\n",
              "      <td>2019-01-19</td>\n",
              "      <td>1</td>\n",
              "      <td>1</td>\n",
              "      <td>4122.00</td>\n",
              "      <td>70</td>\n",
              "      <td>0</td>\n",
              "      <td>223</td>\n",
              "    </tr>\n",
              "    <tr>\n",
              "      <th>1900</th>\n",
              "      <td>1</td>\n",
              "      <td>758</td>\n",
              "      <td>3798</td>\n",
              "      <td>2019-06-06</td>\n",
              "      <td>2019-01-22</td>\n",
              "      <td>2019-02-06</td>\n",
              "      <td>1</td>\n",
              "      <td>1</td>\n",
              "      <td>35.60</td>\n",
              "      <td>70</td>\n",
              "      <td>0</td>\n",
              "      <td>135</td>\n",
              "    </tr>\n",
              "    <tr>\n",
              "      <th>3542</th>\n",
              "      <td>4</td>\n",
              "      <td>1284</td>\n",
              "      <td>1552</td>\n",
              "      <td>2019-06-26</td>\n",
              "      <td>2019-02-09</td>\n",
              "      <td>2019-03-26</td>\n",
              "      <td>1</td>\n",
              "      <td>1</td>\n",
              "      <td>14800.19</td>\n",
              "      <td>60</td>\n",
              "      <td>0</td>\n",
              "      <td>137</td>\n",
              "    </tr>\n",
              "    <tr>\n",
              "      <th>11711</th>\n",
              "      <td>4</td>\n",
              "      <td>1283</td>\n",
              "      <td>1559</td>\n",
              "      <td>2019-10-09</td>\n",
              "      <td>2019-05-01</td>\n",
              "      <td>2019-06-15</td>\n",
              "      <td>1</td>\n",
              "      <td>1</td>\n",
              "      <td>11317.17</td>\n",
              "      <td>60</td>\n",
              "      <td>0</td>\n",
              "      <td>161</td>\n",
              "    </tr>\n",
              "    <tr>\n",
              "      <th>14493</th>\n",
              "      <td>1</td>\n",
              "      <td>943</td>\n",
              "      <td>415</td>\n",
              "      <td>2019-10-10</td>\n",
              "      <td>2019-05-29</td>\n",
              "      <td>2019-06-28</td>\n",
              "      <td>1</td>\n",
              "      <td>1</td>\n",
              "      <td>17244.00</td>\n",
              "      <td>31</td>\n",
              "      <td>0</td>\n",
              "      <td>134</td>\n",
              "    </tr>\n",
              "    <tr>\n",
              "      <th>13708</th>\n",
              "      <td>1</td>\n",
              "      <td>837</td>\n",
              "      <td>1817</td>\n",
              "      <td>2019-10-03</td>\n",
              "      <td>2019-05-21</td>\n",
              "      <td>2019-06-05</td>\n",
              "      <td>1</td>\n",
              "      <td>1</td>\n",
              "      <td>746.79</td>\n",
              "      <td>21</td>\n",
              "      <td>0</td>\n",
              "      <td>135</td>\n",
              "    </tr>\n",
              "    <tr>\n",
              "      <th>10153</th>\n",
              "      <td>0</td>\n",
              "      <td>342</td>\n",
              "      <td>2077</td>\n",
              "      <td>2019-08-26</td>\n",
              "      <td>2019-04-17</td>\n",
              "      <td>2019-04-27</td>\n",
              "      <td>0</td>\n",
              "      <td>1</td>\n",
              "      <td>3513.46</td>\n",
              "      <td>7</td>\n",
              "      <td>0</td>\n",
              "      <td>131</td>\n",
              "    </tr>\n",
              "    <tr>\n",
              "      <th>16178</th>\n",
              "      <td>1</td>\n",
              "      <td>65</td>\n",
              "      <td>2212</td>\n",
              "      <td>2019-10-14</td>\n",
              "      <td>2019-06-14</td>\n",
              "      <td>2019-10-12</td>\n",
              "      <td>1</td>\n",
              "      <td>1</td>\n",
              "      <td>4400.00</td>\n",
              "      <td>61</td>\n",
              "      <td>0</td>\n",
              "      <td>122</td>\n",
              "    </tr>\n",
              "    <tr>\n",
              "      <th>7024</th>\n",
              "      <td>1</td>\n",
              "      <td>1295</td>\n",
              "      <td>1926</td>\n",
              "      <td>2019-08-30</td>\n",
              "      <td>2019-03-17</td>\n",
              "      <td>2019-03-17</td>\n",
              "      <td>1</td>\n",
              "      <td>1</td>\n",
              "      <td>8.43</td>\n",
              "      <td>70</td>\n",
              "      <td>0</td>\n",
              "      <td>166</td>\n",
              "    </tr>\n",
              "    <tr>\n",
              "      <th>15195</th>\n",
              "      <td>4</td>\n",
              "      <td>1289</td>\n",
              "      <td>1561</td>\n",
              "      <td>2019-11-01</td>\n",
              "      <td>2019-06-05</td>\n",
              "      <td>2019-07-20</td>\n",
              "      <td>1</td>\n",
              "      <td>1</td>\n",
              "      <td>111448.86</td>\n",
              "      <td>60</td>\n",
              "      <td>0</td>\n",
              "      <td>149</td>\n",
              "    </tr>\n",
              "    <tr>\n",
              "      <th>14806</th>\n",
              "      <td>4</td>\n",
              "      <td>1284</td>\n",
              "      <td>1576</td>\n",
              "      <td>2019-10-24</td>\n",
              "      <td>2019-06-01</td>\n",
              "      <td>2019-07-16</td>\n",
              "      <td>1</td>\n",
              "      <td>1</td>\n",
              "      <td>15872.69</td>\n",
              "      <td>60</td>\n",
              "      <td>0</td>\n",
              "      <td>145</td>\n",
              "    </tr>\n",
              "    <tr>\n",
              "      <th>34741</th>\n",
              "      <td>1</td>\n",
              "      <td>711</td>\n",
              "      <td>384</td>\n",
              "      <td>2020-05-21</td>\n",
              "      <td>2020-01-08</td>\n",
              "      <td>2020-01-23</td>\n",
              "      <td>1</td>\n",
              "      <td>1</td>\n",
              "      <td>230.03</td>\n",
              "      <td>21</td>\n",
              "      <td>0</td>\n",
              "      <td>134</td>\n",
              "    </tr>\n",
              "    <tr>\n",
              "      <th>9597</th>\n",
              "      <td>1</td>\n",
              "      <td>903</td>\n",
              "      <td>3479</td>\n",
              "      <td>2019-09-10</td>\n",
              "      <td>2019-04-11</td>\n",
              "      <td>2019-05-13</td>\n",
              "      <td>1</td>\n",
              "      <td>1</td>\n",
              "      <td>33279.00</td>\n",
              "      <td>14</td>\n",
              "      <td>0</td>\n",
              "      <td>152</td>\n",
              "    </tr>\n",
              "    <tr>\n",
              "      <th>9295</th>\n",
              "      <td>0</td>\n",
              "      <td>372</td>\n",
              "      <td>1401</td>\n",
              "      <td>2019-08-19</td>\n",
              "      <td>2019-04-09</td>\n",
              "      <td>2019-04-19</td>\n",
              "      <td>0</td>\n",
              "      <td>1</td>\n",
              "      <td>2181.60</td>\n",
              "      <td>7</td>\n",
              "      <td>0</td>\n",
              "      <td>132</td>\n",
              "    </tr>\n",
              "    <tr>\n",
              "      <th>4499</th>\n",
              "      <td>1</td>\n",
              "      <td>903</td>\n",
              "      <td>3479</td>\n",
              "      <td>2019-07-22</td>\n",
              "      <td>2019-02-20</td>\n",
              "      <td>2019-03-24</td>\n",
              "      <td>1</td>\n",
              "      <td>1</td>\n",
              "      <td>6216.90</td>\n",
              "      <td>14</td>\n",
              "      <td>0</td>\n",
              "      <td>152</td>\n",
              "    </tr>\n",
              "    <tr>\n",
              "      <th>14689</th>\n",
              "      <td>4</td>\n",
              "      <td>1284</td>\n",
              "      <td>1575</td>\n",
              "      <td>2019-10-24</td>\n",
              "      <td>2019-05-31</td>\n",
              "      <td>2019-07-15</td>\n",
              "      <td>1</td>\n",
              "      <td>1</td>\n",
              "      <td>17973.34</td>\n",
              "      <td>60</td>\n",
              "      <td>0</td>\n",
              "      <td>146</td>\n",
              "    </tr>\n",
              "  </tbody>\n",
              "</table>\n",
              "</div>"
            ],
            "text/plain": [
              "       business_code  cust_number  ...  isOpen accday_for_payment\n",
              "1853               1          825  ...       0                135\n",
              "3604               4         1284  ...       0                136\n",
              "15108              1          943  ...       0                140\n",
              "7686               1         1295  ...       0                159\n",
              "4485               4         1289  ...       0                129\n",
              "14004              1          673  ...       0                157\n",
              "8540               4         1283  ...       0                190\n",
              "20746              1          663  ...       0                135\n",
              "2700               4         1281  ...       0                121\n",
              "7373               1            0  ...       0                152\n",
              "6575               1          981  ...       0                124\n",
              "1819               1            2  ...       0                133\n",
              "17614              1          676  ...       0                152\n",
              "2203               1          118  ...       0                214\n",
              "2933               1          532  ...       0                121\n",
              "9952               1          854  ...       0                135\n",
              "1624               1         1295  ...       0                223\n",
              "1900               1          758  ...       0                135\n",
              "3542               4         1284  ...       0                137\n",
              "11711              4         1283  ...       0                161\n",
              "14493              1          943  ...       0                134\n",
              "13708              1          837  ...       0                135\n",
              "10153              0          342  ...       0                131\n",
              "16178              1           65  ...       0                122\n",
              "7024               1         1295  ...       0                166\n",
              "15195              4         1289  ...       0                149\n",
              "14806              4         1284  ...       0                145\n",
              "34741              1          711  ...       0                134\n",
              "9597               1          903  ...       0                152\n",
              "9295               0          372  ...       0                132\n",
              "4499               1          903  ...       0                152\n",
              "14689              4         1284  ...       0                146\n",
              "\n",
              "[32 rows x 12 columns]"
            ]
          },
          "metadata": {
            "tags": []
          },
          "execution_count": 47
        }
      ]
    },
    {
      "cell_type": "markdown",
      "metadata": {
        "id": "csAokf7QPfX3"
      },
      "source": [
        "Removing these rows from the X_train that has value higher than 120"
      ]
    },
    {
      "cell_type": "code",
      "metadata": {
        "colab": {
          "base_uri": "https://localhost:8080/",
          "height": 439
        },
        "id": "KZQ0ty5BPj2m",
        "outputId": "85d39e4b-d5db-4004-e579-58ce7eacf899"
      },
      "source": [
        "X_train = X_train[(X_train['accday_for_payment']<=120)]\n",
        "X_train"
      ],
      "execution_count": null,
      "outputs": [
        {
          "output_type": "execute_result",
          "data": {
            "text/html": [
              "<div>\n",
              "<style scoped>\n",
              "    .dataframe tbody tr th:only-of-type {\n",
              "        vertical-align: middle;\n",
              "    }\n",
              "\n",
              "    .dataframe tbody tr th {\n",
              "        vertical-align: top;\n",
              "    }\n",
              "\n",
              "    .dataframe thead th {\n",
              "        text-align: right;\n",
              "    }\n",
              "</style>\n",
              "<table border=\"1\" class=\"dataframe\">\n",
              "  <thead>\n",
              "    <tr style=\"text-align: right;\">\n",
              "      <th></th>\n",
              "      <th>business_code</th>\n",
              "      <th>cust_number</th>\n",
              "      <th>name_customer</th>\n",
              "      <th>clear_date</th>\n",
              "      <th>posting_date</th>\n",
              "      <th>due_in_date</th>\n",
              "      <th>invoice_currency</th>\n",
              "      <th>posting_id</th>\n",
              "      <th>total_open_amount</th>\n",
              "      <th>cust_payment_terms</th>\n",
              "      <th>isOpen</th>\n",
              "      <th>accday_for_payment</th>\n",
              "    </tr>\n",
              "  </thead>\n",
              "  <tbody>\n",
              "    <tr>\n",
              "      <th>24210</th>\n",
              "      <td>1</td>\n",
              "      <td>796</td>\n",
              "      <td>1514</td>\n",
              "      <td>2019-11-18</td>\n",
              "      <td>2019-09-06</td>\n",
              "      <td>2019-11-20</td>\n",
              "      <td>1</td>\n",
              "      <td>1</td>\n",
              "      <td>17050.31</td>\n",
              "      <td>67</td>\n",
              "      <td>0</td>\n",
              "      <td>73</td>\n",
              "    </tr>\n",
              "    <tr>\n",
              "      <th>24365</th>\n",
              "      <td>1</td>\n",
              "      <td>1295</td>\n",
              "      <td>1927</td>\n",
              "      <td>2019-11-01</td>\n",
              "      <td>2019-09-07</td>\n",
              "      <td>2019-09-07</td>\n",
              "      <td>1</td>\n",
              "      <td>1</td>\n",
              "      <td>23539.02</td>\n",
              "      <td>70</td>\n",
              "      <td>0</td>\n",
              "      <td>55</td>\n",
              "    </tr>\n",
              "    <tr>\n",
              "      <th>11779</th>\n",
              "      <td>1</td>\n",
              "      <td>889</td>\n",
              "      <td>2269</td>\n",
              "      <td>2019-05-17</td>\n",
              "      <td>2019-05-02</td>\n",
              "      <td>2019-05-17</td>\n",
              "      <td>1</td>\n",
              "      <td>1</td>\n",
              "      <td>109.73</td>\n",
              "      <td>21</td>\n",
              "      <td>0</td>\n",
              "      <td>15</td>\n",
              "    </tr>\n",
              "    <tr>\n",
              "      <th>36202</th>\n",
              "      <td>1</td>\n",
              "      <td>711</td>\n",
              "      <td>381</td>\n",
              "      <td>2020-02-11</td>\n",
              "      <td>2020-01-25</td>\n",
              "      <td>2020-02-09</td>\n",
              "      <td>1</td>\n",
              "      <td>1</td>\n",
              "      <td>179.57</td>\n",
              "      <td>21</td>\n",
              "      <td>0</td>\n",
              "      <td>17</td>\n",
              "    </tr>\n",
              "    <tr>\n",
              "      <th>18607</th>\n",
              "      <td>1</td>\n",
              "      <td>1243</td>\n",
              "      <td>747</td>\n",
              "      <td>2019-07-23</td>\n",
              "      <td>2019-07-09</td>\n",
              "      <td>2019-07-24</td>\n",
              "      <td>1</td>\n",
              "      <td>1</td>\n",
              "      <td>15284.38</td>\n",
              "      <td>23</td>\n",
              "      <td>0</td>\n",
              "      <td>14</td>\n",
              "    </tr>\n",
              "    <tr>\n",
              "      <th>...</th>\n",
              "      <td>...</td>\n",
              "      <td>...</td>\n",
              "      <td>...</td>\n",
              "      <td>...</td>\n",
              "      <td>...</td>\n",
              "      <td>...</td>\n",
              "      <td>...</td>\n",
              "      <td>...</td>\n",
              "      <td>...</td>\n",
              "      <td>...</td>\n",
              "      <td>...</td>\n",
              "      <td>...</td>\n",
              "    </tr>\n",
              "    <tr>\n",
              "      <th>37049</th>\n",
              "      <td>1</td>\n",
              "      <td>283</td>\n",
              "      <td>652</td>\n",
              "      <td>2020-02-19</td>\n",
              "      <td>2020-02-04</td>\n",
              "      <td>2020-04-09</td>\n",
              "      <td>1</td>\n",
              "      <td>1</td>\n",
              "      <td>162.29</td>\n",
              "      <td>34</td>\n",
              "      <td>0</td>\n",
              "      <td>15</td>\n",
              "    </tr>\n",
              "    <tr>\n",
              "      <th>3166</th>\n",
              "      <td>1</td>\n",
              "      <td>809</td>\n",
              "      <td>3702</td>\n",
              "      <td>2019-02-21</td>\n",
              "      <td>2019-02-05</td>\n",
              "      <td>2019-02-20</td>\n",
              "      <td>1</td>\n",
              "      <td>1</td>\n",
              "      <td>12476.21</td>\n",
              "      <td>35</td>\n",
              "      <td>0</td>\n",
              "      <td>16</td>\n",
              "    </tr>\n",
              "    <tr>\n",
              "      <th>32820</th>\n",
              "      <td>1</td>\n",
              "      <td>524</td>\n",
              "      <td>871</td>\n",
              "      <td>2019-12-10</td>\n",
              "      <td>2019-12-05</td>\n",
              "      <td>2019-12-08</td>\n",
              "      <td>1</td>\n",
              "      <td>1</td>\n",
              "      <td>975.54</td>\n",
              "      <td>36</td>\n",
              "      <td>0</td>\n",
              "      <td>5</td>\n",
              "    </tr>\n",
              "    <tr>\n",
              "      <th>32323</th>\n",
              "      <td>1</td>\n",
              "      <td>809</td>\n",
              "      <td>3702</td>\n",
              "      <td>2019-12-10</td>\n",
              "      <td>2019-11-30</td>\n",
              "      <td>2019-12-15</td>\n",
              "      <td>1</td>\n",
              "      <td>1</td>\n",
              "      <td>2352.97</td>\n",
              "      <td>35</td>\n",
              "      <td>0</td>\n",
              "      <td>10</td>\n",
              "    </tr>\n",
              "    <tr>\n",
              "      <th>7748</th>\n",
              "      <td>1</td>\n",
              "      <td>894</td>\n",
              "      <td>859</td>\n",
              "      <td>2019-04-01</td>\n",
              "      <td>2019-03-25</td>\n",
              "      <td>2019-04-08</td>\n",
              "      <td>1</td>\n",
              "      <td>1</td>\n",
              "      <td>132.48</td>\n",
              "      <td>39</td>\n",
              "      <td>0</td>\n",
              "      <td>7</td>\n",
              "    </tr>\n",
              "  </tbody>\n",
              "</table>\n",
              "<p>23468 rows × 12 columns</p>\n",
              "</div>"
            ],
            "text/plain": [
              "       business_code  cust_number  ...  isOpen accday_for_payment\n",
              "24210              1          796  ...       0                 73\n",
              "24365              1         1295  ...       0                 55\n",
              "11779              1          889  ...       0                 15\n",
              "36202              1          711  ...       0                 17\n",
              "18607              1         1243  ...       0                 14\n",
              "...              ...          ...  ...     ...                ...\n",
              "37049              1          283  ...       0                 15\n",
              "3166               1          809  ...       0                 16\n",
              "32820              1          524  ...       0                  5\n",
              "32323              1          809  ...       0                 10\n",
              "7748               1          894  ...       0                  7\n",
              "\n",
              "[23468 rows x 12 columns]"
            ]
          },
          "metadata": {
            "tags": []
          },
          "execution_count": 48
        }
      ]
    },
    {
      "cell_type": "markdown",
      "metadata": {
        "id": "vpTMQ1upPwz2"
      },
      "source": [
        "Checking the distribution of the target column as the outliers has been removed"
      ]
    },
    {
      "cell_type": "code",
      "metadata": {
        "colab": {
          "base_uri": "https://localhost:8080/",
          "height": 497
        },
        "id": "pJuVLYR1P0bK",
        "outputId": "2e021e67-f8e5-4b05-e028-aaa96266185a"
      },
      "source": [
        "plt.figure(figsize=(20,7))\n",
        "sns.distplot(X_train['accday_for_payment'])\n",
        "plt.show()"
      ],
      "execution_count": null,
      "outputs": [
        {
          "output_type": "stream",
          "text": [
            "/usr/local/lib/python3.7/dist-packages/seaborn/distributions.py:2557: FutureWarning: `distplot` is a deprecated function and will be removed in a future version. Please adapt your code to use either `displot` (a figure-level function with similar flexibility) or `histplot` (an axes-level function for histograms).\n",
            "  warnings.warn(msg, FutureWarning)\n"
          ],
          "name": "stderr"
        },
        {
          "output_type": "display_data",
          "data": {
            "image/png": "[encoded data removed]",
            "text/plain": [
              "<Figure size 1440x504 with 1 Axes>"
            ]
          },
          "metadata": {
            "tags": [],
            "needs_background": "light"
          }
        }
      ]
    },
    {
      "cell_type": "markdown",
      "metadata": {
        "id": "v3xBo6PZ6sJC"
      },
      "source": [
        "**Now our target column looks much better and less skewed**"
      ]
    },
    {
      "cell_type": "markdown",
      "metadata": {
        "id": "V2tXLSySUkXE"
      },
      "source": [
        "#Feature Engineering"
      ]
    },
    {
      "cell_type": "markdown",
      "metadata": {
        "id": "rPcgHQmYh_Ew"
      },
      "source": [
        "**Seeing the X_train,X_validate and X_test for feature engineering**"
      ]
    },
    {
      "cell_type": "code",
      "metadata": {
        "colab": {
          "base_uri": "https://localhost:8080/",
          "height": 439
        },
        "id": "XFc02jNOU65U",
        "outputId": "1ac4bd3f-010b-4cd6-b32a-f93ea9333807"
      },
      "source": [
        "X_train"
      ],
      "execution_count": null,
      "outputs": [
        {
          "output_type": "execute_result",
          "data": {
            "text/html": [
              "<div>\n",
              "<style scoped>\n",
              "    .dataframe tbody tr th:only-of-type {\n",
              "        vertical-align: middle;\n",
              "    }\n",
              "\n",
              "    .dataframe tbody tr th {\n",
              "        vertical-align: top;\n",
              "    }\n",
              "\n",
              "    .dataframe thead th {\n",
              "        text-align: right;\n",
              "    }\n",
              "</style>\n",
              "<table border=\"1\" class=\"dataframe\">\n",
              "  <thead>\n",
              "    <tr style=\"text-align: right;\">\n",
              "      <th></th>\n",
              "      <th>business_code</th>\n",
              "      <th>cust_number</th>\n",
              "      <th>name_customer</th>\n",
              "      <th>clear_date</th>\n",
              "      <th>posting_date</th>\n",
              "      <th>due_in_date</th>\n",
              "      <th>invoice_currency</th>\n",
              "      <th>posting_id</th>\n",
              "      <th>total_open_amount</th>\n",
              "      <th>cust_payment_terms</th>\n",
              "      <th>isOpen</th>\n",
              "      <th>accday_for_payment</th>\n",
              "    </tr>\n",
              "  </thead>\n",
              "  <tbody>\n",
              "    <tr>\n",
              "      <th>24210</th>\n",
              "      <td>1</td>\n",
              "      <td>796</td>\n",
              "      <td>1514</td>\n",
              "      <td>2019-11-18</td>\n",
              "      <td>2019-09-06</td>\n",
              "      <td>2019-11-20</td>\n",
              "      <td>1</td>\n",
              "      <td>1</td>\n",
              "      <td>17050.31</td>\n",
              "      <td>67</td>\n",
              "      <td>0</td>\n",
              "      <td>73</td>\n",
              "    </tr>\n",
              "    <tr>\n",
              "      <th>24365</th>\n",
              "      <td>1</td>\n",
              "      <td>1295</td>\n",
              "      <td>1927</td>\n",
              "      <td>2019-11-01</td>\n",
              "      <td>2019-09-07</td>\n",
              "      <td>2019-09-07</td>\n",
              "      <td>1</td>\n",
              "      <td>1</td>\n",
              "      <td>23539.02</td>\n",
              "      <td>70</td>\n",
              "      <td>0</td>\n",
              "      <td>55</td>\n",
              "    </tr>\n",
              "    <tr>\n",
              "      <th>11779</th>\n",
              "      <td>1</td>\n",
              "      <td>889</td>\n",
              "      <td>2269</td>\n",
              "      <td>2019-05-17</td>\n",
              "      <td>2019-05-02</td>\n",
              "      <td>2019-05-17</td>\n",
              "      <td>1</td>\n",
              "      <td>1</td>\n",
              "      <td>109.73</td>\n",
              "      <td>21</td>\n",
              "      <td>0</td>\n",
              "      <td>15</td>\n",
              "    </tr>\n",
              "    <tr>\n",
              "      <th>36202</th>\n",
              "      <td>1</td>\n",
              "      <td>711</td>\n",
              "      <td>381</td>\n",
              "      <td>2020-02-11</td>\n",
              "      <td>2020-01-25</td>\n",
              "      <td>2020-02-09</td>\n",
              "      <td>1</td>\n",
              "      <td>1</td>\n",
              "      <td>179.57</td>\n",
              "      <td>21</td>\n",
              "      <td>0</td>\n",
              "      <td>17</td>\n",
              "    </tr>\n",
              "    <tr>\n",
              "      <th>18607</th>\n",
              "      <td>1</td>\n",
              "      <td>1243</td>\n",
              "      <td>747</td>\n",
              "      <td>2019-07-23</td>\n",
              "      <td>2019-07-09</td>\n",
              "      <td>2019-07-24</td>\n",
              "      <td>1</td>\n",
              "      <td>1</td>\n",
              "      <td>15284.38</td>\n",
              "      <td>23</td>\n",
              "      <td>0</td>\n",
              "      <td>14</td>\n",
              "    </tr>\n",
              "    <tr>\n",
              "      <th>...</th>\n",
              "      <td>...</td>\n",
              "      <td>...</td>\n",
              "      <td>...</td>\n",
              "      <td>...</td>\n",
              "      <td>...</td>\n",
              "      <td>...</td>\n",
              "      <td>...</td>\n",
              "      <td>...</td>\n",
              "      <td>...</td>\n",
              "      <td>...</td>\n",
              "      <td>...</td>\n",
              "      <td>...</td>\n",
              "    </tr>\n",
              "    <tr>\n",
              "      <th>37049</th>\n",
              "      <td>1</td>\n",
              "      <td>283</td>\n",
              "      <td>652</td>\n",
              "      <td>2020-02-19</td>\n",
              "      <td>2020-02-04</td>\n",
              "      <td>2020-04-09</td>\n",
              "      <td>1</td>\n",
              "      <td>1</td>\n",
              "      <td>162.29</td>\n",
              "      <td>34</td>\n",
              "      <td>0</td>\n",
              "      <td>15</td>\n",
              "    </tr>\n",
              "    <tr>\n",
              "      <th>3166</th>\n",
              "      <td>1</td>\n",
              "      <td>809</td>\n",
              "      <td>3702</td>\n",
              "      <td>2019-02-21</td>\n",
              "      <td>2019-02-05</td>\n",
              "      <td>2019-02-20</td>\n",
              "      <td>1</td>\n",
              "      <td>1</td>\n",
              "      <td>12476.21</td>\n",
              "      <td>35</td>\n",
              "      <td>0</td>\n",
              "      <td>16</td>\n",
              "    </tr>\n",
              "    <tr>\n",
              "      <th>32820</th>\n",
              "      <td>1</td>\n",
              "      <td>524</td>\n",
              "      <td>871</td>\n",
              "      <td>2019-12-10</td>\n",
              "      <td>2019-12-05</td>\n",
              "      <td>2019-12-08</td>\n",
              "      <td>1</td>\n",
              "      <td>1</td>\n",
              "      <td>975.54</td>\n",
              "      <td>36</td>\n",
              "      <td>0</td>\n",
              "      <td>5</td>\n",
              "    </tr>\n",
              "    <tr>\n",
              "      <th>32323</th>\n",
              "      <td>1</td>\n",
              "      <td>809</td>\n",
              "      <td>3702</td>\n",
              "      <td>2019-12-10</td>\n",
              "      <td>2019-11-30</td>\n",
              "      <td>2019-12-15</td>\n",
              "      <td>1</td>\n",
              "      <td>1</td>\n",
              "      <td>2352.97</td>\n",
              "      <td>35</td>\n",
              "      <td>0</td>\n",
              "      <td>10</td>\n",
              "    </tr>\n",
              "    <tr>\n",
              "      <th>7748</th>\n",
              "      <td>1</td>\n",
              "      <td>894</td>\n",
              "      <td>859</td>\n",
              "      <td>2019-04-01</td>\n",
              "      <td>2019-03-25</td>\n",
              "      <td>2019-04-08</td>\n",
              "      <td>1</td>\n",
              "      <td>1</td>\n",
              "      <td>132.48</td>\n",
              "      <td>39</td>\n",
              "      <td>0</td>\n",
              "      <td>7</td>\n",
              "    </tr>\n",
              "  </tbody>\n",
              "</table>\n",
              "<p>23468 rows × 12 columns</p>\n",
              "</div>"
            ],
            "text/plain": [
              "       business_code  cust_number  ...  isOpen accday_for_payment\n",
              "24210              1          796  ...       0                 73\n",
              "24365              1         1295  ...       0                 55\n",
              "11779              1          889  ...       0                 15\n",
              "36202              1          711  ...       0                 17\n",
              "18607              1         1243  ...       0                 14\n",
              "...              ...          ...  ...     ...                ...\n",
              "37049              1          283  ...       0                 15\n",
              "3166               1          809  ...       0                 16\n",
              "32820              1          524  ...       0                  5\n",
              "32323              1          809  ...       0                 10\n",
              "7748               1          894  ...       0                  7\n",
              "\n",
              "[23468 rows x 12 columns]"
            ]
          },
          "metadata": {
            "tags": []
          },
          "execution_count": 50
        }
      ]
    },
    {
      "cell_type": "code",
      "metadata": {
        "colab": {
          "base_uri": "https://localhost:8080/",
          "height": 439
        },
        "id": "t3lBDeRcVStU",
        "outputId": "7de17a2a-610b-4876-bc79-0d1d6042d6e6"
      },
      "source": [
        "X_validate"
      ],
      "execution_count": null,
      "outputs": [
        {
          "output_type": "execute_result",
          "data": {
            "text/html": [
              "<div>\n",
              "<style scoped>\n",
              "    .dataframe tbody tr th:only-of-type {\n",
              "        vertical-align: middle;\n",
              "    }\n",
              "\n",
              "    .dataframe tbody tr th {\n",
              "        vertical-align: top;\n",
              "    }\n",
              "\n",
              "    .dataframe thead th {\n",
              "        text-align: right;\n",
              "    }\n",
              "</style>\n",
              "<table border=\"1\" class=\"dataframe\">\n",
              "  <thead>\n",
              "    <tr style=\"text-align: right;\">\n",
              "      <th></th>\n",
              "      <th>business_code</th>\n",
              "      <th>cust_number</th>\n",
              "      <th>name_customer</th>\n",
              "      <th>clear_date</th>\n",
              "      <th>posting_date</th>\n",
              "      <th>due_in_date</th>\n",
              "      <th>invoice_currency</th>\n",
              "      <th>posting_id</th>\n",
              "      <th>total_open_amount</th>\n",
              "      <th>cust_payment_terms</th>\n",
              "      <th>isOpen</th>\n",
              "      <th>accday_for_payment</th>\n",
              "    </tr>\n",
              "  </thead>\n",
              "  <tbody>\n",
              "    <tr>\n",
              "      <th>27712</th>\n",
              "      <td>0</td>\n",
              "      <td>379</td>\n",
              "      <td>3443</td>\n",
              "      <td>2019-12-24</td>\n",
              "      <td>2019-10-10</td>\n",
              "      <td>2019-10-29</td>\n",
              "      <td>0</td>\n",
              "      <td>1</td>\n",
              "      <td>31448.52</td>\n",
              "      <td>7</td>\n",
              "      <td>0</td>\n",
              "      <td>75</td>\n",
              "    </tr>\n",
              "    <tr>\n",
              "      <th>819</th>\n",
              "      <td>1</td>\n",
              "      <td>628</td>\n",
              "      <td>872</td>\n",
              "      <td>2019-01-10</td>\n",
              "      <td>2019-01-09</td>\n",
              "      <td>2019-01-08</td>\n",
              "      <td>1</td>\n",
              "      <td>1</td>\n",
              "      <td>5949.56</td>\n",
              "      <td>36</td>\n",
              "      <td>0</td>\n",
              "      <td>1</td>\n",
              "    </tr>\n",
              "    <tr>\n",
              "      <th>4059</th>\n",
              "      <td>1</td>\n",
              "      <td>809</td>\n",
              "      <td>3709</td>\n",
              "      <td>2019-02-25</td>\n",
              "      <td>2019-02-14</td>\n",
              "      <td>2019-03-01</td>\n",
              "      <td>1</td>\n",
              "      <td>1</td>\n",
              "      <td>58343.46</td>\n",
              "      <td>35</td>\n",
              "      <td>0</td>\n",
              "      <td>11</td>\n",
              "    </tr>\n",
              "    <tr>\n",
              "      <th>34581</th>\n",
              "      <td>1</td>\n",
              "      <td>834</td>\n",
              "      <td>2302</td>\n",
              "      <td>2020-01-22</td>\n",
              "      <td>2020-01-06</td>\n",
              "      <td>2020-01-21</td>\n",
              "      <td>1</td>\n",
              "      <td>1</td>\n",
              "      <td>113648.33</td>\n",
              "      <td>21</td>\n",
              "      <td>0</td>\n",
              "      <td>16</td>\n",
              "    </tr>\n",
              "    <tr>\n",
              "      <th>5406</th>\n",
              "      <td>1</td>\n",
              "      <td>809</td>\n",
              "      <td>3705</td>\n",
              "      <td>2019-03-12</td>\n",
              "      <td>2019-03-01</td>\n",
              "      <td>2019-03-16</td>\n",
              "      <td>1</td>\n",
              "      <td>1</td>\n",
              "      <td>8469.46</td>\n",
              "      <td>35</td>\n",
              "      <td>0</td>\n",
              "      <td>11</td>\n",
              "    </tr>\n",
              "    <tr>\n",
              "      <th>...</th>\n",
              "      <td>...</td>\n",
              "      <td>...</td>\n",
              "      <td>...</td>\n",
              "      <td>...</td>\n",
              "      <td>...</td>\n",
              "      <td>...</td>\n",
              "      <td>...</td>\n",
              "      <td>...</td>\n",
              "      <td>...</td>\n",
              "      <td>...</td>\n",
              "      <td>...</td>\n",
              "      <td>...</td>\n",
              "    </tr>\n",
              "    <tr>\n",
              "      <th>20361</th>\n",
              "      <td>1</td>\n",
              "      <td>772</td>\n",
              "      <td>1970</td>\n",
              "      <td>2019-08-12</td>\n",
              "      <td>2019-07-27</td>\n",
              "      <td>2019-08-11</td>\n",
              "      <td>1</td>\n",
              "      <td>1</td>\n",
              "      <td>17283.50</td>\n",
              "      <td>21</td>\n",
              "      <td>0</td>\n",
              "      <td>16</td>\n",
              "    </tr>\n",
              "    <tr>\n",
              "      <th>20848</th>\n",
              "      <td>1</td>\n",
              "      <td>809</td>\n",
              "      <td>3702</td>\n",
              "      <td>2019-08-13</td>\n",
              "      <td>2019-08-02</td>\n",
              "      <td>2019-08-17</td>\n",
              "      <td>1</td>\n",
              "      <td>1</td>\n",
              "      <td>3226.45</td>\n",
              "      <td>35</td>\n",
              "      <td>0</td>\n",
              "      <td>11</td>\n",
              "    </tr>\n",
              "    <tr>\n",
              "      <th>28322</th>\n",
              "      <td>1</td>\n",
              "      <td>794</td>\n",
              "      <td>521</td>\n",
              "      <td>2019-11-01</td>\n",
              "      <td>2019-10-17</td>\n",
              "      <td>2019-11-01</td>\n",
              "      <td>1</td>\n",
              "      <td>1</td>\n",
              "      <td>18654.40</td>\n",
              "      <td>26</td>\n",
              "      <td>0</td>\n",
              "      <td>15</td>\n",
              "    </tr>\n",
              "    <tr>\n",
              "      <th>23156</th>\n",
              "      <td>1</td>\n",
              "      <td>815</td>\n",
              "      <td>231</td>\n",
              "      <td>2019-09-10</td>\n",
              "      <td>2019-08-26</td>\n",
              "      <td>2019-09-10</td>\n",
              "      <td>1</td>\n",
              "      <td>1</td>\n",
              "      <td>59372.92</td>\n",
              "      <td>50</td>\n",
              "      <td>0</td>\n",
              "      <td>15</td>\n",
              "    </tr>\n",
              "    <tr>\n",
              "      <th>4937</th>\n",
              "      <td>4</td>\n",
              "      <td>318</td>\n",
              "      <td>2743</td>\n",
              "      <td>2019-04-11</td>\n",
              "      <td>2019-02-24</td>\n",
              "      <td>2019-04-10</td>\n",
              "      <td>1</td>\n",
              "      <td>1</td>\n",
              "      <td>17806.82</td>\n",
              "      <td>60</td>\n",
              "      <td>0</td>\n",
              "      <td>46</td>\n",
              "    </tr>\n",
              "  </tbody>\n",
              "</table>\n",
              "<p>7833 rows × 12 columns</p>\n",
              "</div>"
            ],
            "text/plain": [
              "       business_code  cust_number  ...  isOpen accday_for_payment\n",
              "27712              0          379  ...       0                 75\n",
              "819                1          628  ...       0                  1\n",
              "4059               1          809  ...       0                 11\n",
              "34581              1          834  ...       0                 16\n",
              "5406               1          809  ...       0                 11\n",
              "...              ...          ...  ...     ...                ...\n",
              "20361              1          772  ...       0                 16\n",
              "20848              1          809  ...       0                 11\n",
              "28322              1          794  ...       0                 15\n",
              "23156              1          815  ...       0                 15\n",
              "4937               4          318  ...       0                 46\n",
              "\n",
              "[7833 rows x 12 columns]"
            ]
          },
          "metadata": {
            "tags": []
          },
          "execution_count": 51
        }
      ]
    },
    {
      "cell_type": "code",
      "metadata": {
        "colab": {
          "base_uri": "https://localhost:8080/",
          "height": 439
        },
        "id": "T8s294NrVVE8",
        "outputId": "c3b79079-4689-43fa-ba41-5df80ed4d9aa"
      },
      "source": [
        "X_test"
      ],
      "execution_count": null,
      "outputs": [
        {
          "output_type": "execute_result",
          "data": {
            "text/html": [
              "<div>\n",
              "<style scoped>\n",
              "    .dataframe tbody tr th:only-of-type {\n",
              "        vertical-align: middle;\n",
              "    }\n",
              "\n",
              "    .dataframe tbody tr th {\n",
              "        vertical-align: top;\n",
              "    }\n",
              "\n",
              "    .dataframe thead th {\n",
              "        text-align: right;\n",
              "    }\n",
              "</style>\n",
              "<table border=\"1\" class=\"dataframe\">\n",
              "  <thead>\n",
              "    <tr style=\"text-align: right;\">\n",
              "      <th></th>\n",
              "      <th>business_code</th>\n",
              "      <th>cust_number</th>\n",
              "      <th>name_customer</th>\n",
              "      <th>clear_date</th>\n",
              "      <th>posting_date</th>\n",
              "      <th>due_in_date</th>\n",
              "      <th>invoice_currency</th>\n",
              "      <th>posting_id</th>\n",
              "      <th>total_open_amount</th>\n",
              "      <th>cust_payment_terms</th>\n",
              "      <th>isOpen</th>\n",
              "      <th>accday_for_payment</th>\n",
              "    </tr>\n",
              "  </thead>\n",
              "  <tbody>\n",
              "    <tr>\n",
              "      <th>19214</th>\n",
              "      <td>1</td>\n",
              "      <td>499</td>\n",
              "      <td>3033</td>\n",
              "      <td>2019-07-31</td>\n",
              "      <td>2019-07-16</td>\n",
              "      <td>2019-07-31</td>\n",
              "      <td>1</td>\n",
              "      <td>1</td>\n",
              "      <td>45400.00</td>\n",
              "      <td>21</td>\n",
              "      <td>0</td>\n",
              "      <td>15</td>\n",
              "    </tr>\n",
              "    <tr>\n",
              "      <th>35795</th>\n",
              "      <td>0</td>\n",
              "      <td>329</td>\n",
              "      <td>26</td>\n",
              "      <td>2020-01-31</td>\n",
              "      <td>2020-01-21</td>\n",
              "      <td>2020-02-02</td>\n",
              "      <td>0</td>\n",
              "      <td>1</td>\n",
              "      <td>922.59</td>\n",
              "      <td>7</td>\n",
              "      <td>0</td>\n",
              "      <td>10</td>\n",
              "    </tr>\n",
              "    <tr>\n",
              "      <th>9319</th>\n",
              "      <td>1</td>\n",
              "      <td>149</td>\n",
              "      <td>2366</td>\n",
              "      <td>2019-04-30</td>\n",
              "      <td>2019-04-09</td>\n",
              "      <td>2019-04-24</td>\n",
              "      <td>1</td>\n",
              "      <td>1</td>\n",
              "      <td>9107.70</td>\n",
              "      <td>21</td>\n",
              "      <td>0</td>\n",
              "      <td>21</td>\n",
              "    </tr>\n",
              "    <tr>\n",
              "      <th>27590</th>\n",
              "      <td>1</td>\n",
              "      <td>814</td>\n",
              "      <td>2987</td>\n",
              "      <td>2019-10-24</td>\n",
              "      <td>2019-10-09</td>\n",
              "      <td>2019-10-24</td>\n",
              "      <td>1</td>\n",
              "      <td>1</td>\n",
              "      <td>86085.89</td>\n",
              "      <td>21</td>\n",
              "      <td>0</td>\n",
              "      <td>15</td>\n",
              "    </tr>\n",
              "    <tr>\n",
              "      <th>3959</th>\n",
              "      <td>1</td>\n",
              "      <td>894</td>\n",
              "      <td>862</td>\n",
              "      <td>2019-02-15</td>\n",
              "      <td>2019-02-13</td>\n",
              "      <td>2019-02-24</td>\n",
              "      <td>1</td>\n",
              "      <td>1</td>\n",
              "      <td>1779.36</td>\n",
              "      <td>39</td>\n",
              "      <td>0</td>\n",
              "      <td>2</td>\n",
              "    </tr>\n",
              "    <tr>\n",
              "      <th>...</th>\n",
              "      <td>...</td>\n",
              "      <td>...</td>\n",
              "      <td>...</td>\n",
              "      <td>...</td>\n",
              "      <td>...</td>\n",
              "      <td>...</td>\n",
              "      <td>...</td>\n",
              "      <td>...</td>\n",
              "      <td>...</td>\n",
              "      <td>...</td>\n",
              "      <td>...</td>\n",
              "      <td>...</td>\n",
              "    </tr>\n",
              "    <tr>\n",
              "      <th>9958</th>\n",
              "      <td>1</td>\n",
              "      <td>1295</td>\n",
              "      <td>1920</td>\n",
              "      <td>2019-05-31</td>\n",
              "      <td>2019-04-15</td>\n",
              "      <td>2019-04-15</td>\n",
              "      <td>1</td>\n",
              "      <td>1</td>\n",
              "      <td>6690.20</td>\n",
              "      <td>70</td>\n",
              "      <td>0</td>\n",
              "      <td>46</td>\n",
              "    </tr>\n",
              "    <tr>\n",
              "      <th>34619</th>\n",
              "      <td>1</td>\n",
              "      <td>837</td>\n",
              "      <td>1810</td>\n",
              "      <td>2020-01-27</td>\n",
              "      <td>2020-01-07</td>\n",
              "      <td>2020-01-27</td>\n",
              "      <td>1</td>\n",
              "      <td>1</td>\n",
              "      <td>3344.34</td>\n",
              "      <td>29</td>\n",
              "      <td>0</td>\n",
              "      <td>20</td>\n",
              "    </tr>\n",
              "    <tr>\n",
              "      <th>17469</th>\n",
              "      <td>1</td>\n",
              "      <td>711</td>\n",
              "      <td>376</td>\n",
              "      <td>2019-07-11</td>\n",
              "      <td>2019-06-26</td>\n",
              "      <td>2019-07-11</td>\n",
              "      <td>1</td>\n",
              "      <td>1</td>\n",
              "      <td>189.80</td>\n",
              "      <td>21</td>\n",
              "      <td>0</td>\n",
              "      <td>15</td>\n",
              "    </tr>\n",
              "    <tr>\n",
              "      <th>17392</th>\n",
              "      <td>1</td>\n",
              "      <td>809</td>\n",
              "      <td>3703</td>\n",
              "      <td>2019-07-08</td>\n",
              "      <td>2019-06-26</td>\n",
              "      <td>2019-07-11</td>\n",
              "      <td>1</td>\n",
              "      <td>1</td>\n",
              "      <td>26878.49</td>\n",
              "      <td>35</td>\n",
              "      <td>0</td>\n",
              "      <td>12</td>\n",
              "    </tr>\n",
              "    <tr>\n",
              "      <th>30058</th>\n",
              "      <td>0</td>\n",
              "      <td>372</td>\n",
              "      <td>1395</td>\n",
              "      <td>2019-11-18</td>\n",
              "      <td>2019-11-06</td>\n",
              "      <td>2019-11-18</td>\n",
              "      <td>0</td>\n",
              "      <td>1</td>\n",
              "      <td>60718.96</td>\n",
              "      <td>7</td>\n",
              "      <td>0</td>\n",
              "      <td>12</td>\n",
              "    </tr>\n",
              "  </tbody>\n",
              "</table>\n",
              "<p>7834 rows × 12 columns</p>\n",
              "</div>"
            ],
            "text/plain": [
              "       business_code  cust_number  ...  isOpen accday_for_payment\n",
              "19214              1          499  ...       0                 15\n",
              "35795              0          329  ...       0                 10\n",
              "9319               1          149  ...       0                 21\n",
              "27590              1          814  ...       0                 15\n",
              "3959               1          894  ...       0                  2\n",
              "...              ...          ...  ...     ...                ...\n",
              "9958               1         1295  ...       0                 46\n",
              "34619              1          837  ...       0                 20\n",
              "17469              1          711  ...       0                 15\n",
              "17392              1          809  ...       0                 12\n",
              "30058              0          372  ...       0                 12\n",
              "\n",
              "[7834 rows x 12 columns]"
            ]
          },
          "metadata": {
            "tags": []
          },
          "execution_count": 52
        }
      ]
    },
    {
      "cell_type": "markdown",
      "metadata": {
        "id": "uXcpemD1Vvz3"
      },
      "source": [
        "**Dropping the clear_date column as we have already extracted the target column from this so now clear_date column has no use for our model**"
      ]
    },
    {
      "cell_type": "markdown",
      "metadata": {
        "id": "PV2BF3NDiajw"
      },
      "source": [
        "Dropping the target column from all the splitted dataframe"
      ]
    },
    {
      "cell_type": "code",
      "metadata": {
        "id": "OCy1Xk5PVvdc"
      },
      "source": [
        "X_train = X_train.drop('clear_date',axis = 1)"
      ],
      "execution_count": null,
      "outputs": []
    },
    {
      "cell_type": "code",
      "metadata": {
        "id": "cd-SgHmXVZQs"
      },
      "source": [
        "X_validate = X_validate.drop('clear_date',axis = 1)"
      ],
      "execution_count": null,
      "outputs": []
    },
    {
      "cell_type": "code",
      "metadata": {
        "id": "CDqd4n_KWcP5"
      },
      "source": [
        "X_test = X_test.drop('clear_date',axis = 1)"
      ],
      "execution_count": null,
      "outputs": []
    },
    {
      "cell_type": "markdown",
      "metadata": {
        "id": "TI2Yn6DeWnKJ"
      },
      "source": [
        "**Getting the number of days after which the payment should have been made, this is the ideal condition for the payment making**"
      ]
    },
    {
      "cell_type": "code",
      "metadata": {
        "colab": {
          "base_uri": "https://localhost:8080/",
          "height": 419
        },
        "id": "mSEREkjLWwPr",
        "outputId": "35488a7c-922b-42bd-d25b-26693bca0585"
      },
      "source": [
        "X_train['days_for_payment'] = (X_train['due_in_date']-X_train['posting_date']).dt.days\n",
        "X_train[['due_in_date','posting_date','days_for_payment','accday_for_payment']]"
      ],
      "execution_count": null,
      "outputs": [
        {
          "output_type": "execute_result",
          "data": {
            "text/html": [
              "<div>\n",
              "<style scoped>\n",
              "    .dataframe tbody tr th:only-of-type {\n",
              "        vertical-align: middle;\n",
              "    }\n",
              "\n",
              "    .dataframe tbody tr th {\n",
              "        vertical-align: top;\n",
              "    }\n",
              "\n",
              "    .dataframe thead th {\n",
              "        text-align: right;\n",
              "    }\n",
              "</style>\n",
              "<table border=\"1\" class=\"dataframe\">\n",
              "  <thead>\n",
              "    <tr style=\"text-align: right;\">\n",
              "      <th></th>\n",
              "      <th>due_in_date</th>\n",
              "      <th>posting_date</th>\n",
              "      <th>days_for_payment</th>\n",
              "      <th>accday_for_payment</th>\n",
              "    </tr>\n",
              "  </thead>\n",
              "  <tbody>\n",
              "    <tr>\n",
              "      <th>24210</th>\n",
              "      <td>2019-11-20</td>\n",
              "      <td>2019-09-06</td>\n",
              "      <td>75</td>\n",
              "      <td>73</td>\n",
              "    </tr>\n",
              "    <tr>\n",
              "      <th>24365</th>\n",
              "      <td>2019-09-07</td>\n",
              "      <td>2019-09-07</td>\n",
              "      <td>0</td>\n",
              "      <td>55</td>\n",
              "    </tr>\n",
              "    <tr>\n",
              "      <th>11779</th>\n",
              "      <td>2019-05-17</td>\n",
              "      <td>2019-05-02</td>\n",
              "      <td>15</td>\n",
              "      <td>15</td>\n",
              "    </tr>\n",
              "    <tr>\n",
              "      <th>36202</th>\n",
              "      <td>2020-02-09</td>\n",
              "      <td>2020-01-25</td>\n",
              "      <td>15</td>\n",
              "      <td>17</td>\n",
              "    </tr>\n",
              "    <tr>\n",
              "      <th>18607</th>\n",
              "      <td>2019-07-24</td>\n",
              "      <td>2019-07-09</td>\n",
              "      <td>15</td>\n",
              "      <td>14</td>\n",
              "    </tr>\n",
              "    <tr>\n",
              "      <th>...</th>\n",
              "      <td>...</td>\n",
              "      <td>...</td>\n",
              "      <td>...</td>\n",
              "      <td>...</td>\n",
              "    </tr>\n",
              "    <tr>\n",
              "      <th>37049</th>\n",
              "      <td>2020-04-09</td>\n",
              "      <td>2020-02-04</td>\n",
              "      <td>65</td>\n",
              "      <td>15</td>\n",
              "    </tr>\n",
              "    <tr>\n",
              "      <th>3166</th>\n",
              "      <td>2019-02-20</td>\n",
              "      <td>2019-02-05</td>\n",
              "      <td>15</td>\n",
              "      <td>16</td>\n",
              "    </tr>\n",
              "    <tr>\n",
              "      <th>32820</th>\n",
              "      <td>2019-12-08</td>\n",
              "      <td>2019-12-05</td>\n",
              "      <td>3</td>\n",
              "      <td>5</td>\n",
              "    </tr>\n",
              "    <tr>\n",
              "      <th>32323</th>\n",
              "      <td>2019-12-15</td>\n",
              "      <td>2019-11-30</td>\n",
              "      <td>15</td>\n",
              "      <td>10</td>\n",
              "    </tr>\n",
              "    <tr>\n",
              "      <th>7748</th>\n",
              "      <td>2019-04-08</td>\n",
              "      <td>2019-03-25</td>\n",
              "      <td>14</td>\n",
              "      <td>7</td>\n",
              "    </tr>\n",
              "  </tbody>\n",
              "</table>\n",
              "<p>23468 rows × 4 columns</p>\n",
              "</div>"
            ],
            "text/plain": [
              "      due_in_date posting_date  days_for_payment  accday_for_payment\n",
              "24210  2019-11-20   2019-09-06                75                  73\n",
              "24365  2019-09-07   2019-09-07                 0                  55\n",
              "11779  2019-05-17   2019-05-02                15                  15\n",
              "36202  2020-02-09   2020-01-25                15                  17\n",
              "18607  2019-07-24   2019-07-09                15                  14\n",
              "...           ...          ...               ...                 ...\n",
              "37049  2020-04-09   2020-02-04                65                  15\n",
              "3166   2019-02-20   2019-02-05                15                  16\n",
              "32820  2019-12-08   2019-12-05                 3                   5\n",
              "32323  2019-12-15   2019-11-30                15                  10\n",
              "7748   2019-04-08   2019-03-25                14                   7\n",
              "\n",
              "[23468 rows x 4 columns]"
            ]
          },
          "metadata": {
            "tags": []
          },
          "execution_count": 56
        }
      ]
    },
    {
      "cell_type": "markdown",
      "metadata": {
        "id": "sraDLTeQ7b8X"
      },
      "source": [
        "Doing the same thing for the X_validate and X_train"
      ]
    },
    {
      "cell_type": "code",
      "metadata": {
        "id": "UsNmuVKyXTxP"
      },
      "source": [
        "X_validate['days_for_payment'] = (X_validate['due_in_date']-X_validate['posting_date']).dt.days\n",
        "X_test['days_for_payment'] = (X_test['due_in_date']-X_test['posting_date']).dt.days"
      ],
      "execution_count": null,
      "outputs": []
    },
    {
      "cell_type": "markdown",
      "metadata": {
        "id": "13IldnzmXsNZ"
      },
      "source": [
        "**Taking absolute value for days for payment as days can not be negative**"
      ]
    },
    {
      "cell_type": "markdown",
      "metadata": {
        "id": "Uim1QpuLi5mg"
      },
      "source": [
        "The negative value arises if the payment has been made before the due_in_date"
      ]
    },
    {
      "cell_type": "code",
      "metadata": {
        "id": "KP4sqwG2X72v"
      },
      "source": [
        "X_train['days_for_payment'] = X_train['days_for_payment'].abs()\n",
        "X_validate['days_for_payment'] = X_validate['days_for_payment'].abs()\n",
        "X_test['days_for_payment'] = X_test['days_for_payment'].abs()"
      ],
      "execution_count": null,
      "outputs": []
    },
    {
      "cell_type": "code",
      "metadata": {
        "colab": {
          "base_uri": "https://localhost:8080/",
          "height": 439
        },
        "id": "EdlyyoOqYU86",
        "outputId": "c64e9048-837a-4e22-b6cf-24f699bff160"
      },
      "source": [
        "X_train"
      ],
      "execution_count": null,
      "outputs": [
        {
          "output_type": "execute_result",
          "data": {
            "text/html": [
              "<div>\n",
              "<style scoped>\n",
              "    .dataframe tbody tr th:only-of-type {\n",
              "        vertical-align: middle;\n",
              "    }\n",
              "\n",
              "    .dataframe tbody tr th {\n",
              "        vertical-align: top;\n",
              "    }\n",
              "\n",
              "    .dataframe thead th {\n",
              "        text-align: right;\n",
              "    }\n",
              "</style>\n",
              "<table border=\"1\" class=\"dataframe\">\n",
              "  <thead>\n",
              "    <tr style=\"text-align: right;\">\n",
              "      <th></th>\n",
              "      <th>business_code</th>\n",
              "      <th>cust_number</th>\n",
              "      <th>name_customer</th>\n",
              "      <th>posting_date</th>\n",
              "      <th>due_in_date</th>\n",
              "      <th>invoice_currency</th>\n",
              "      <th>posting_id</th>\n",
              "      <th>total_open_amount</th>\n",
              "      <th>cust_payment_terms</th>\n",
              "      <th>isOpen</th>\n",
              "      <th>accday_for_payment</th>\n",
              "      <th>days_for_payment</th>\n",
              "    </tr>\n",
              "  </thead>\n",
              "  <tbody>\n",
              "    <tr>\n",
              "      <th>24210</th>\n",
              "      <td>1</td>\n",
              "      <td>796</td>\n",
              "      <td>1514</td>\n",
              "      <td>2019-09-06</td>\n",
              "      <td>2019-11-20</td>\n",
              "      <td>1</td>\n",
              "      <td>1</td>\n",
              "      <td>17050.31</td>\n",
              "      <td>67</td>\n",
              "      <td>0</td>\n",
              "      <td>73</td>\n",
              "      <td>75</td>\n",
              "    </tr>\n",
              "    <tr>\n",
              "      <th>24365</th>\n",
              "      <td>1</td>\n",
              "      <td>1295</td>\n",
              "      <td>1927</td>\n",
              "      <td>2019-09-07</td>\n",
              "      <td>2019-09-07</td>\n",
              "      <td>1</td>\n",
              "      <td>1</td>\n",
              "      <td>23539.02</td>\n",
              "      <td>70</td>\n",
              "      <td>0</td>\n",
              "      <td>55</td>\n",
              "      <td>0</td>\n",
              "    </tr>\n",
              "    <tr>\n",
              "      <th>11779</th>\n",
              "      <td>1</td>\n",
              "      <td>889</td>\n",
              "      <td>2269</td>\n",
              "      <td>2019-05-02</td>\n",
              "      <td>2019-05-17</td>\n",
              "      <td>1</td>\n",
              "      <td>1</td>\n",
              "      <td>109.73</td>\n",
              "      <td>21</td>\n",
              "      <td>0</td>\n",
              "      <td>15</td>\n",
              "      <td>15</td>\n",
              "    </tr>\n",
              "    <tr>\n",
              "      <th>36202</th>\n",
              "      <td>1</td>\n",
              "      <td>711</td>\n",
              "      <td>381</td>\n",
              "      <td>2020-01-25</td>\n",
              "      <td>2020-02-09</td>\n",
              "      <td>1</td>\n",
              "      <td>1</td>\n",
              "      <td>179.57</td>\n",
              "      <td>21</td>\n",
              "      <td>0</td>\n",
              "      <td>17</td>\n",
              "      <td>15</td>\n",
              "    </tr>\n",
              "    <tr>\n",
              "      <th>18607</th>\n",
              "      <td>1</td>\n",
              "      <td>1243</td>\n",
              "      <td>747</td>\n",
              "      <td>2019-07-09</td>\n",
              "      <td>2019-07-24</td>\n",
              "      <td>1</td>\n",
              "      <td>1</td>\n",
              "      <td>15284.38</td>\n",
              "      <td>23</td>\n",
              "      <td>0</td>\n",
              "      <td>14</td>\n",
              "      <td>15</td>\n",
              "    </tr>\n",
              "    <tr>\n",
              "      <th>...</th>\n",
              "      <td>...</td>\n",
              "      <td>...</td>\n",
              "      <td>...</td>\n",
              "      <td>...</td>\n",
              "      <td>...</td>\n",
              "      <td>...</td>\n",
              "      <td>...</td>\n",
              "      <td>...</td>\n",
              "      <td>...</td>\n",
              "      <td>...</td>\n",
              "      <td>...</td>\n",
              "      <td>...</td>\n",
              "    </tr>\n",
              "    <tr>\n",
              "      <th>37049</th>\n",
              "      <td>1</td>\n",
              "      <td>283</td>\n",
              "      <td>652</td>\n",
              "      <td>2020-02-04</td>\n",
              "      <td>2020-04-09</td>\n",
              "      <td>1</td>\n",
              "      <td>1</td>\n",
              "      <td>162.29</td>\n",
              "      <td>34</td>\n",
              "      <td>0</td>\n",
              "      <td>15</td>\n",
              "      <td>65</td>\n",
              "    </tr>\n",
              "    <tr>\n",
              "      <th>3166</th>\n",
              "      <td>1</td>\n",
              "      <td>809</td>\n",
              "      <td>3702</td>\n",
              "      <td>2019-02-05</td>\n",
              "      <td>2019-02-20</td>\n",
              "      <td>1</td>\n",
              "      <td>1</td>\n",
              "      <td>12476.21</td>\n",
              "      <td>35</td>\n",
              "      <td>0</td>\n",
              "      <td>16</td>\n",
              "      <td>15</td>\n",
              "    </tr>\n",
              "    <tr>\n",
              "      <th>32820</th>\n",
              "      <td>1</td>\n",
              "      <td>524</td>\n",
              "      <td>871</td>\n",
              "      <td>2019-12-05</td>\n",
              "      <td>2019-12-08</td>\n",
              "      <td>1</td>\n",
              "      <td>1</td>\n",
              "      <td>975.54</td>\n",
              "      <td>36</td>\n",
              "      <td>0</td>\n",
              "      <td>5</td>\n",
              "      <td>3</td>\n",
              "    </tr>\n",
              "    <tr>\n",
              "      <th>32323</th>\n",
              "      <td>1</td>\n",
              "      <td>809</td>\n",
              "      <td>3702</td>\n",
              "      <td>2019-11-30</td>\n",
              "      <td>2019-12-15</td>\n",
              "      <td>1</td>\n",
              "      <td>1</td>\n",
              "      <td>2352.97</td>\n",
              "      <td>35</td>\n",
              "      <td>0</td>\n",
              "      <td>10</td>\n",
              "      <td>15</td>\n",
              "    </tr>\n",
              "    <tr>\n",
              "      <th>7748</th>\n",
              "      <td>1</td>\n",
              "      <td>894</td>\n",
              "      <td>859</td>\n",
              "      <td>2019-03-25</td>\n",
              "      <td>2019-04-08</td>\n",
              "      <td>1</td>\n",
              "      <td>1</td>\n",
              "      <td>132.48</td>\n",
              "      <td>39</td>\n",
              "      <td>0</td>\n",
              "      <td>7</td>\n",
              "      <td>14</td>\n",
              "    </tr>\n",
              "  </tbody>\n",
              "</table>\n",
              "<p>23468 rows × 12 columns</p>\n",
              "</div>"
            ],
            "text/plain": [
              "       business_code  cust_number  ...  accday_for_payment days_for_payment\n",
              "24210              1          796  ...                  73               75\n",
              "24365              1         1295  ...                  55                0\n",
              "11779              1          889  ...                  15               15\n",
              "36202              1          711  ...                  17               15\n",
              "18607              1         1243  ...                  14               15\n",
              "...              ...          ...  ...                 ...              ...\n",
              "37049              1          283  ...                  15               65\n",
              "3166               1          809  ...                  16               15\n",
              "32820              1          524  ...                   5                3\n",
              "32323              1          809  ...                  10               15\n",
              "7748               1          894  ...                   7               14\n",
              "\n",
              "[23468 rows x 12 columns]"
            ]
          },
          "metadata": {
            "tags": []
          },
          "execution_count": 59
        }
      ]
    },
    {
      "cell_type": "markdown",
      "metadata": {
        "id": "UYEf_K0LcIYw"
      },
      "source": [
        "**Splitting the date columns into the multiple features**"
      ]
    },
    {
      "cell_type": "markdown",
      "metadata": {
        "id": "YvSz99YWcUFW"
      },
      "source": [
        "Splitting posting_date into days,weeks and months for X_train"
      ]
    },
    {
      "cell_type": "code",
      "metadata": {
        "colab": {
          "base_uri": "https://localhost:8080/"
        },
        "id": "GEZXqOT_dLVo",
        "outputId": "b0abb391-fe75-4301-b2f8-9f33ece710c2"
      },
      "source": [
        "X_train['posting_days'] = X_train['posting_date'].dt.day\n",
        "X_train['posting_weeks'] = X_train['posting_date'].dt.week\n",
        "X_train['posting_months'] = X_train['posting_date'].dt.month"
      ],
      "execution_count": null,
      "outputs": [
        {
          "output_type": "stream",
          "text": [
            "/usr/local/lib/python3.7/dist-packages/ipykernel_launcher.py:2: FutureWarning: Series.dt.weekofyear and Series.dt.week have been deprecated.  Please use Series.dt.isocalendar().week instead.\n",
            "  \n"
          ],
          "name": "stderr"
        }
      ]
    },
    {
      "cell_type": "markdown",
      "metadata": {
        "id": "-Z9eyAeGdX57"
      },
      "source": [
        "Splitting due_in_date for X_train"
      ]
    },
    {
      "cell_type": "code",
      "metadata": {
        "colab": {
          "base_uri": "https://localhost:8080/"
        },
        "id": "GrhWqw2RcaOt",
        "outputId": "645affd3-a5dc-4770-e658-ab02acdd652f"
      },
      "source": [
        "X_train['due_in_days'] = X_train['due_in_date'].dt.day\n",
        "X_train['due_in_weeks'] = X_train['due_in_date'].dt.week\n",
        "X_train['due_in_months'] = X_train['due_in_date'].dt.month"
      ],
      "execution_count": null,
      "outputs": [
        {
          "output_type": "stream",
          "text": [
            "/usr/local/lib/python3.7/dist-packages/ipykernel_launcher.py:2: FutureWarning: Series.dt.weekofyear and Series.dt.week have been deprecated.  Please use Series.dt.isocalendar().week instead.\n",
            "  \n"
          ],
          "name": "stderr"
        }
      ]
    },
    {
      "cell_type": "code",
      "metadata": {
        "colab": {
          "base_uri": "https://localhost:8080/",
          "height": 439
        },
        "id": "8XGweXu9deig",
        "outputId": "f2652be9-b816-4d61-d8e2-fd1bc2bc3d5b"
      },
      "source": [
        "X_train"
      ],
      "execution_count": null,
      "outputs": [
        {
          "output_type": "execute_result",
          "data": {
            "text/html": [
              "<div>\n",
              "<style scoped>\n",
              "    .dataframe tbody tr th:only-of-type {\n",
              "        vertical-align: middle;\n",
              "    }\n",
              "\n",
              "    .dataframe tbody tr th {\n",
              "        vertical-align: top;\n",
              "    }\n",
              "\n",
              "    .dataframe thead th {\n",
              "        text-align: right;\n",
              "    }\n",
              "</style>\n",
              "<table border=\"1\" class=\"dataframe\">\n",
              "  <thead>\n",
              "    <tr style=\"text-align: right;\">\n",
              "      <th></th>\n",
              "      <th>business_code</th>\n",
              "      <th>cust_number</th>\n",
              "      <th>name_customer</th>\n",
              "      <th>posting_date</th>\n",
              "      <th>due_in_date</th>\n",
              "      <th>invoice_currency</th>\n",
              "      <th>posting_id</th>\n",
              "      <th>total_open_amount</th>\n",
              "      <th>cust_payment_terms</th>\n",
              "      <th>isOpen</th>\n",
              "      <th>accday_for_payment</th>\n",
              "      <th>days_for_payment</th>\n",
              "      <th>posting_days</th>\n",
              "      <th>posting_weeks</th>\n",
              "      <th>posting_months</th>\n",
              "      <th>due_in_days</th>\n",
              "      <th>due_in_weeks</th>\n",
              "      <th>due_in_months</th>\n",
              "    </tr>\n",
              "  </thead>\n",
              "  <tbody>\n",
              "    <tr>\n",
              "      <th>24210</th>\n",
              "      <td>1</td>\n",
              "      <td>796</td>\n",
              "      <td>1514</td>\n",
              "      <td>2019-09-06</td>\n",
              "      <td>2019-11-20</td>\n",
              "      <td>1</td>\n",
              "      <td>1</td>\n",
              "      <td>17050.31</td>\n",
              "      <td>67</td>\n",
              "      <td>0</td>\n",
              "      <td>73</td>\n",
              "      <td>75</td>\n",
              "      <td>6</td>\n",
              "      <td>36</td>\n",
              "      <td>9</td>\n",
              "      <td>20</td>\n",
              "      <td>47</td>\n",
              "      <td>11</td>\n",
              "    </tr>\n",
              "    <tr>\n",
              "      <th>24365</th>\n",
              "      <td>1</td>\n",
              "      <td>1295</td>\n",
              "      <td>1927</td>\n",
              "      <td>2019-09-07</td>\n",
              "      <td>2019-09-07</td>\n",
              "      <td>1</td>\n",
              "      <td>1</td>\n",
              "      <td>23539.02</td>\n",
              "      <td>70</td>\n",
              "      <td>0</td>\n",
              "      <td>55</td>\n",
              "      <td>0</td>\n",
              "      <td>7</td>\n",
              "      <td>36</td>\n",
              "      <td>9</td>\n",
              "      <td>7</td>\n",
              "      <td>36</td>\n",
              "      <td>9</td>\n",
              "    </tr>\n",
              "    <tr>\n",
              "      <th>11779</th>\n",
              "      <td>1</td>\n",
              "      <td>889</td>\n",
              "      <td>2269</td>\n",
              "      <td>2019-05-02</td>\n",
              "      <td>2019-05-17</td>\n",
              "      <td>1</td>\n",
              "      <td>1</td>\n",
              "      <td>109.73</td>\n",
              "      <td>21</td>\n",
              "      <td>0</td>\n",
              "      <td>15</td>\n",
              "      <td>15</td>\n",
              "      <td>2</td>\n",
              "      <td>18</td>\n",
              "      <td>5</td>\n",
              "      <td>17</td>\n",
              "      <td>20</td>\n",
              "      <td>5</td>\n",
              "    </tr>\n",
              "    <tr>\n",
              "      <th>36202</th>\n",
              "      <td>1</td>\n",
              "      <td>711</td>\n",
              "      <td>381</td>\n",
              "      <td>2020-01-25</td>\n",
              "      <td>2020-02-09</td>\n",
              "      <td>1</td>\n",
              "      <td>1</td>\n",
              "      <td>179.57</td>\n",
              "      <td>21</td>\n",
              "      <td>0</td>\n",
              "      <td>17</td>\n",
              "      <td>15</td>\n",
              "      <td>25</td>\n",
              "      <td>4</td>\n",
              "      <td>1</td>\n",
              "      <td>9</td>\n",
              "      <td>6</td>\n",
              "      <td>2</td>\n",
              "    </tr>\n",
              "    <tr>\n",
              "      <th>18607</th>\n",
              "      <td>1</td>\n",
              "      <td>1243</td>\n",
              "      <td>747</td>\n",
              "      <td>2019-07-09</td>\n",
              "      <td>2019-07-24</td>\n",
              "      <td>1</td>\n",
              "      <td>1</td>\n",
              "      <td>15284.38</td>\n",
              "      <td>23</td>\n",
              "      <td>0</td>\n",
              "      <td>14</td>\n",
              "      <td>15</td>\n",
              "      <td>9</td>\n",
              "      <td>28</td>\n",
              "      <td>7</td>\n",
              "      <td>24</td>\n",
              "      <td>30</td>\n",
              "      <td>7</td>\n",
              "    </tr>\n",
              "    <tr>\n",
              "      <th>...</th>\n",
              "      <td>...</td>\n",
              "      <td>...</td>\n",
              "      <td>...</td>\n",
              "      <td>...</td>\n",
              "      <td>...</td>\n",
              "      <td>...</td>\n",
              "      <td>...</td>\n",
              "      <td>...</td>\n",
              "      <td>...</td>\n",
              "      <td>...</td>\n",
              "      <td>...</td>\n",
              "      <td>...</td>\n",
              "      <td>...</td>\n",
              "      <td>...</td>\n",
              "      <td>...</td>\n",
              "      <td>...</td>\n",
              "      <td>...</td>\n",
              "      <td>...</td>\n",
              "    </tr>\n",
              "    <tr>\n",
              "      <th>37049</th>\n",
              "      <td>1</td>\n",
              "      <td>283</td>\n",
              "      <td>652</td>\n",
              "      <td>2020-02-04</td>\n",
              "      <td>2020-04-09</td>\n",
              "      <td>1</td>\n",
              "      <td>1</td>\n",
              "      <td>162.29</td>\n",
              "      <td>34</td>\n",
              "      <td>0</td>\n",
              "      <td>15</td>\n",
              "      <td>65</td>\n",
              "      <td>4</td>\n",
              "      <td>6</td>\n",
              "      <td>2</td>\n",
              "      <td>9</td>\n",
              "      <td>15</td>\n",
              "      <td>4</td>\n",
              "    </tr>\n",
              "    <tr>\n",
              "      <th>3166</th>\n",
              "      <td>1</td>\n",
              "      <td>809</td>\n",
              "      <td>3702</td>\n",
              "      <td>2019-02-05</td>\n",
              "      <td>2019-02-20</td>\n",
              "      <td>1</td>\n",
              "      <td>1</td>\n",
              "      <td>12476.21</td>\n",
              "      <td>35</td>\n",
              "      <td>0</td>\n",
              "      <td>16</td>\n",
              "      <td>15</td>\n",
              "      <td>5</td>\n",
              "      <td>6</td>\n",
              "      <td>2</td>\n",
              "      <td>20</td>\n",
              "      <td>8</td>\n",
              "      <td>2</td>\n",
              "    </tr>\n",
              "    <tr>\n",
              "      <th>32820</th>\n",
              "      <td>1</td>\n",
              "      <td>524</td>\n",
              "      <td>871</td>\n",
              "      <td>2019-12-05</td>\n",
              "      <td>2019-12-08</td>\n",
              "      <td>1</td>\n",
              "      <td>1</td>\n",
              "      <td>975.54</td>\n",
              "      <td>36</td>\n",
              "      <td>0</td>\n",
              "      <td>5</td>\n",
              "      <td>3</td>\n",
              "      <td>5</td>\n",
              "      <td>49</td>\n",
              "      <td>12</td>\n",
              "      <td>8</td>\n",
              "      <td>49</td>\n",
              "      <td>12</td>\n",
              "    </tr>\n",
              "    <tr>\n",
              "      <th>32323</th>\n",
              "      <td>1</td>\n",
              "      <td>809</td>\n",
              "      <td>3702</td>\n",
              "      <td>2019-11-30</td>\n",
              "      <td>2019-12-15</td>\n",
              "      <td>1</td>\n",
              "      <td>1</td>\n",
              "      <td>2352.97</td>\n",
              "      <td>35</td>\n",
              "      <td>0</td>\n",
              "      <td>10</td>\n",
              "      <td>15</td>\n",
              "      <td>30</td>\n",
              "      <td>48</td>\n",
              "      <td>11</td>\n",
              "      <td>15</td>\n",
              "      <td>50</td>\n",
              "      <td>12</td>\n",
              "    </tr>\n",
              "    <tr>\n",
              "      <th>7748</th>\n",
              "      <td>1</td>\n",
              "      <td>894</td>\n",
              "      <td>859</td>\n",
              "      <td>2019-03-25</td>\n",
              "      <td>2019-04-08</td>\n",
              "      <td>1</td>\n",
              "      <td>1</td>\n",
              "      <td>132.48</td>\n",
              "      <td>39</td>\n",
              "      <td>0</td>\n",
              "      <td>7</td>\n",
              "      <td>14</td>\n",
              "      <td>25</td>\n",
              "      <td>13</td>\n",
              "      <td>3</td>\n",
              "      <td>8</td>\n",
              "      <td>15</td>\n",
              "      <td>4</td>\n",
              "    </tr>\n",
              "  </tbody>\n",
              "</table>\n",
              "<p>23468 rows × 18 columns</p>\n",
              "</div>"
            ],
            "text/plain": [
              "       business_code  cust_number  ...  due_in_weeks due_in_months\n",
              "24210              1          796  ...            47            11\n",
              "24365              1         1295  ...            36             9\n",
              "11779              1          889  ...            20             5\n",
              "36202              1          711  ...             6             2\n",
              "18607              1         1243  ...            30             7\n",
              "...              ...          ...  ...           ...           ...\n",
              "37049              1          283  ...            15             4\n",
              "3166               1          809  ...             8             2\n",
              "32820              1          524  ...            49            12\n",
              "32323              1          809  ...            50            12\n",
              "7748               1          894  ...            15             4\n",
              "\n",
              "[23468 rows x 18 columns]"
            ]
          },
          "metadata": {
            "tags": []
          },
          "execution_count": 62
        }
      ]
    },
    {
      "cell_type": "markdown",
      "metadata": {
        "id": "TMS9h3MOdmF3"
      },
      "source": [
        "Dropping the posting_date and due_in_date from the X_train"
      ]
    },
    {
      "cell_type": "code",
      "metadata": {
        "id": "il_PJlYWdk7E"
      },
      "source": [
        "X_train = X_train.drop(['posting_date','due_in_date'],axis = 1)"
      ],
      "execution_count": null,
      "outputs": []
    },
    {
      "cell_type": "code",
      "metadata": {
        "colab": {
          "base_uri": "https://localhost:8080/",
          "height": 439
        },
        "id": "Y9UGzRPqd9-H",
        "outputId": "f3ccb22d-0bb4-4c5b-b01c-26c1ded6559d"
      },
      "source": [
        "X_train"
      ],
      "execution_count": null,
      "outputs": [
        {
          "output_type": "execute_result",
          "data": {
            "text/html": [
              "<div>\n",
              "<style scoped>\n",
              "    .dataframe tbody tr th:only-of-type {\n",
              "        vertical-align: middle;\n",
              "    }\n",
              "\n",
              "    .dataframe tbody tr th {\n",
              "        vertical-align: top;\n",
              "    }\n",
              "\n",
              "    .dataframe thead th {\n",
              "        text-align: right;\n",
              "    }\n",
              "</style>\n",
              "<table border=\"1\" class=\"dataframe\">\n",
              "  <thead>\n",
              "    <tr style=\"text-align: right;\">\n",
              "      <th></th>\n",
              "      <th>business_code</th>\n",
              "      <th>cust_number</th>\n",
              "      <th>name_customer</th>\n",
              "      <th>invoice_currency</th>\n",
              "      <th>posting_id</th>\n",
              "      <th>total_open_amount</th>\n",
              "      <th>cust_payment_terms</th>\n",
              "      <th>isOpen</th>\n",
              "      <th>accday_for_payment</th>\n",
              "      <th>days_for_payment</th>\n",
              "      <th>posting_days</th>\n",
              "      <th>posting_weeks</th>\n",
              "      <th>posting_months</th>\n",
              "      <th>due_in_days</th>\n",
              "      <th>due_in_weeks</th>\n",
              "      <th>due_in_months</th>\n",
              "    </tr>\n",
              "  </thead>\n",
              "  <tbody>\n",
              "    <tr>\n",
              "      <th>24210</th>\n",
              "      <td>1</td>\n",
              "      <td>796</td>\n",
              "      <td>1514</td>\n",
              "      <td>1</td>\n",
              "      <td>1</td>\n",
              "      <td>17050.31</td>\n",
              "      <td>67</td>\n",
              "      <td>0</td>\n",
              "      <td>73</td>\n",
              "      <td>75</td>\n",
              "      <td>6</td>\n",
              "      <td>36</td>\n",
              "      <td>9</td>\n",
              "      <td>20</td>\n",
              "      <td>47</td>\n",
              "      <td>11</td>\n",
              "    </tr>\n",
              "    <tr>\n",
              "      <th>24365</th>\n",
              "      <td>1</td>\n",
              "      <td>1295</td>\n",
              "      <td>1927</td>\n",
              "      <td>1</td>\n",
              "      <td>1</td>\n",
              "      <td>23539.02</td>\n",
              "      <td>70</td>\n",
              "      <td>0</td>\n",
              "      <td>55</td>\n",
              "      <td>0</td>\n",
              "      <td>7</td>\n",
              "      <td>36</td>\n",
              "      <td>9</td>\n",
              "      <td>7</td>\n",
              "      <td>36</td>\n",
              "      <td>9</td>\n",
              "    </tr>\n",
              "    <tr>\n",
              "      <th>11779</th>\n",
              "      <td>1</td>\n",
              "      <td>889</td>\n",
              "      <td>2269</td>\n",
              "      <td>1</td>\n",
              "      <td>1</td>\n",
              "      <td>109.73</td>\n",
              "      <td>21</td>\n",
              "      <td>0</td>\n",
              "      <td>15</td>\n",
              "      <td>15</td>\n",
              "      <td>2</td>\n",
              "      <td>18</td>\n",
              "      <td>5</td>\n",
              "      <td>17</td>\n",
              "      <td>20</td>\n",
              "      <td>5</td>\n",
              "    </tr>\n",
              "    <tr>\n",
              "      <th>36202</th>\n",
              "      <td>1</td>\n",
              "      <td>711</td>\n",
              "      <td>381</td>\n",
              "      <td>1</td>\n",
              "      <td>1</td>\n",
              "      <td>179.57</td>\n",
              "      <td>21</td>\n",
              "      <td>0</td>\n",
              "      <td>17</td>\n",
              "      <td>15</td>\n",
              "      <td>25</td>\n",
              "      <td>4</td>\n",
              "      <td>1</td>\n",
              "      <td>9</td>\n",
              "      <td>6</td>\n",
              "      <td>2</td>\n",
              "    </tr>\n",
              "    <tr>\n",
              "      <th>18607</th>\n",
              "      <td>1</td>\n",
              "      <td>1243</td>\n",
              "      <td>747</td>\n",
              "      <td>1</td>\n",
              "      <td>1</td>\n",
              "      <td>15284.38</td>\n",
              "      <td>23</td>\n",
              "      <td>0</td>\n",
              "      <td>14</td>\n",
              "      <td>15</td>\n",
              "      <td>9</td>\n",
              "      <td>28</td>\n",
              "      <td>7</td>\n",
              "      <td>24</td>\n",
              "      <td>30</td>\n",
              "      <td>7</td>\n",
              "    </tr>\n",
              "    <tr>\n",
              "      <th>...</th>\n",
              "      <td>...</td>\n",
              "      <td>...</td>\n",
              "      <td>...</td>\n",
              "      <td>...</td>\n",
              "      <td>...</td>\n",
              "      <td>...</td>\n",
              "      <td>...</td>\n",
              "      <td>...</td>\n",
              "      <td>...</td>\n",
              "      <td>...</td>\n",
              "      <td>...</td>\n",
              "      <td>...</td>\n",
              "      <td>...</td>\n",
              "      <td>...</td>\n",
              "      <td>...</td>\n",
              "      <td>...</td>\n",
              "    </tr>\n",
              "    <tr>\n",
              "      <th>37049</th>\n",
              "      <td>1</td>\n",
              "      <td>283</td>\n",
              "      <td>652</td>\n",
              "      <td>1</td>\n",
              "      <td>1</td>\n",
              "      <td>162.29</td>\n",
              "      <td>34</td>\n",
              "      <td>0</td>\n",
              "      <td>15</td>\n",
              "      <td>65</td>\n",
              "      <td>4</td>\n",
              "      <td>6</td>\n",
              "      <td>2</td>\n",
              "      <td>9</td>\n",
              "      <td>15</td>\n",
              "      <td>4</td>\n",
              "    </tr>\n",
              "    <tr>\n",
              "      <th>3166</th>\n",
              "      <td>1</td>\n",
              "      <td>809</td>\n",
              "      <td>3702</td>\n",
              "      <td>1</td>\n",
              "      <td>1</td>\n",
              "      <td>12476.21</td>\n",
              "      <td>35</td>\n",
              "      <td>0</td>\n",
              "      <td>16</td>\n",
              "      <td>15</td>\n",
              "      <td>5</td>\n",
              "      <td>6</td>\n",
              "      <td>2</td>\n",
              "      <td>20</td>\n",
              "      <td>8</td>\n",
              "      <td>2</td>\n",
              "    </tr>\n",
              "    <tr>\n",
              "      <th>32820</th>\n",
              "      <td>1</td>\n",
              "      <td>524</td>\n",
              "      <td>871</td>\n",
              "      <td>1</td>\n",
              "      <td>1</td>\n",
              "      <td>975.54</td>\n",
              "      <td>36</td>\n",
              "      <td>0</td>\n",
              "      <td>5</td>\n",
              "      <td>3</td>\n",
              "      <td>5</td>\n",
              "      <td>49</td>\n",
              "      <td>12</td>\n",
              "      <td>8</td>\n",
              "      <td>49</td>\n",
              "      <td>12</td>\n",
              "    </tr>\n",
              "    <tr>\n",
              "      <th>32323</th>\n",
              "      <td>1</td>\n",
              "      <td>809</td>\n",
              "      <td>3702</td>\n",
              "      <td>1</td>\n",
              "      <td>1</td>\n",
              "      <td>2352.97</td>\n",
              "      <td>35</td>\n",
              "      <td>0</td>\n",
              "      <td>10</td>\n",
              "      <td>15</td>\n",
              "      <td>30</td>\n",
              "      <td>48</td>\n",
              "      <td>11</td>\n",
              "      <td>15</td>\n",
              "      <td>50</td>\n",
              "      <td>12</td>\n",
              "    </tr>\n",
              "    <tr>\n",
              "      <th>7748</th>\n",
              "      <td>1</td>\n",
              "      <td>894</td>\n",
              "      <td>859</td>\n",
              "      <td>1</td>\n",
              "      <td>1</td>\n",
              "      <td>132.48</td>\n",
              "      <td>39</td>\n",
              "      <td>0</td>\n",
              "      <td>7</td>\n",
              "      <td>14</td>\n",
              "      <td>25</td>\n",
              "      <td>13</td>\n",
              "      <td>3</td>\n",
              "      <td>8</td>\n",
              "      <td>15</td>\n",
              "      <td>4</td>\n",
              "    </tr>\n",
              "  </tbody>\n",
              "</table>\n",
              "<p>23468 rows × 16 columns</p>\n",
              "</div>"
            ],
            "text/plain": [
              "       business_code  cust_number  ...  due_in_weeks  due_in_months\n",
              "24210              1          796  ...            47             11\n",
              "24365              1         1295  ...            36              9\n",
              "11779              1          889  ...            20              5\n",
              "36202              1          711  ...             6              2\n",
              "18607              1         1243  ...            30              7\n",
              "...              ...          ...  ...           ...            ...\n",
              "37049              1          283  ...            15              4\n",
              "3166               1          809  ...             8              2\n",
              "32820              1          524  ...            49             12\n",
              "32323              1          809  ...            50             12\n",
              "7748               1          894  ...            15              4\n",
              "\n",
              "[23468 rows x 16 columns]"
            ]
          },
          "metadata": {
            "tags": []
          },
          "execution_count": 64
        }
      ]
    },
    {
      "cell_type": "markdown",
      "metadata": {
        "id": "qumEywPTeFmg"
      },
      "source": [
        "**Splitting the posting_date and due_in_date for the X_validate**"
      ]
    },
    {
      "cell_type": "code",
      "metadata": {
        "colab": {
          "base_uri": "https://localhost:8080/"
        },
        "id": "nScLnVd6eQPr",
        "outputId": "079eaeb6-d3c6-478f-fa85-9aca428f7aad"
      },
      "source": [
        "X_validate['posting_days'] = X_validate['posting_date'].dt.day\n",
        "X_validate['posting_weeks'] = X_validate['posting_date'].dt.week\n",
        "X_validate['posting_months'] = X_validate['posting_date'].dt.month\n",
        "\n",
        "X_validate['due_in_days'] = X_validate['due_in_date'].dt.day\n",
        "X_validate['due_in_weeks'] = X_validate['due_in_date'].dt.week\n",
        "X_validate['due_in_months'] = X_validate['due_in_date'].dt.month"
      ],
      "execution_count": null,
      "outputs": [
        {
          "output_type": "stream",
          "text": [
            "/usr/local/lib/python3.7/dist-packages/ipykernel_launcher.py:2: FutureWarning: Series.dt.weekofyear and Series.dt.week have been deprecated.  Please use Series.dt.isocalendar().week instead.\n",
            "  \n",
            "/usr/local/lib/python3.7/dist-packages/ipykernel_launcher.py:6: FutureWarning: Series.dt.weekofyear and Series.dt.week have been deprecated.  Please use Series.dt.isocalendar().week instead.\n",
            "  \n"
          ],
          "name": "stderr"
        }
      ]
    },
    {
      "cell_type": "markdown",
      "metadata": {
        "id": "_eZ3FHYmemy6"
      },
      "source": [
        "Dropping those 2 columns from the X_validate"
      ]
    },
    {
      "cell_type": "code",
      "metadata": {
        "id": "k7677vdIel6R"
      },
      "source": [
        "X_validate = X_validate.drop(['posting_date','due_in_date'],axis = 1)"
      ],
      "execution_count": null,
      "outputs": []
    },
    {
      "cell_type": "code",
      "metadata": {
        "colab": {
          "base_uri": "https://localhost:8080/",
          "height": 439
        },
        "id": "W4ZaGlQ1ex4p",
        "outputId": "9fc844ea-41db-45f6-8dec-a872adfee21f"
      },
      "source": [
        "X_validate"
      ],
      "execution_count": null,
      "outputs": [
        {
          "output_type": "execute_result",
          "data": {
            "text/html": [
              "<div>\n",
              "<style scoped>\n",
              "    .dataframe tbody tr th:only-of-type {\n",
              "        vertical-align: middle;\n",
              "    }\n",
              "\n",
              "    .dataframe tbody tr th {\n",
              "        vertical-align: top;\n",
              "    }\n",
              "\n",
              "    .dataframe thead th {\n",
              "        text-align: right;\n",
              "    }\n",
              "</style>\n",
              "<table border=\"1\" class=\"dataframe\">\n",
              "  <thead>\n",
              "    <tr style=\"text-align: right;\">\n",
              "      <th></th>\n",
              "      <th>business_code</th>\n",
              "      <th>cust_number</th>\n",
              "      <th>name_customer</th>\n",
              "      <th>invoice_currency</th>\n",
              "      <th>posting_id</th>\n",
              "      <th>total_open_amount</th>\n",
              "      <th>cust_payment_terms</th>\n",
              "      <th>isOpen</th>\n",
              "      <th>accday_for_payment</th>\n",
              "      <th>days_for_payment</th>\n",
              "      <th>posting_days</th>\n",
              "      <th>posting_weeks</th>\n",
              "      <th>posting_months</th>\n",
              "      <th>due_in_days</th>\n",
              "      <th>due_in_weeks</th>\n",
              "      <th>due_in_months</th>\n",
              "    </tr>\n",
              "  </thead>\n",
              "  <tbody>\n",
              "    <tr>\n",
              "      <th>27712</th>\n",
              "      <td>0</td>\n",
              "      <td>379</td>\n",
              "      <td>3443</td>\n",
              "      <td>0</td>\n",
              "      <td>1</td>\n",
              "      <td>31448.52</td>\n",
              "      <td>7</td>\n",
              "      <td>0</td>\n",
              "      <td>75</td>\n",
              "      <td>19</td>\n",
              "      <td>10</td>\n",
              "      <td>41</td>\n",
              "      <td>10</td>\n",
              "      <td>29</td>\n",
              "      <td>44</td>\n",
              "      <td>10</td>\n",
              "    </tr>\n",
              "    <tr>\n",
              "      <th>819</th>\n",
              "      <td>1</td>\n",
              "      <td>628</td>\n",
              "      <td>872</td>\n",
              "      <td>1</td>\n",
              "      <td>1</td>\n",
              "      <td>5949.56</td>\n",
              "      <td>36</td>\n",
              "      <td>0</td>\n",
              "      <td>1</td>\n",
              "      <td>1</td>\n",
              "      <td>9</td>\n",
              "      <td>2</td>\n",
              "      <td>1</td>\n",
              "      <td>8</td>\n",
              "      <td>2</td>\n",
              "      <td>1</td>\n",
              "    </tr>\n",
              "    <tr>\n",
              "      <th>4059</th>\n",
              "      <td>1</td>\n",
              "      <td>809</td>\n",
              "      <td>3709</td>\n",
              "      <td>1</td>\n",
              "      <td>1</td>\n",
              "      <td>58343.46</td>\n",
              "      <td>35</td>\n",
              "      <td>0</td>\n",
              "      <td>11</td>\n",
              "      <td>15</td>\n",
              "      <td>14</td>\n",
              "      <td>7</td>\n",
              "      <td>2</td>\n",
              "      <td>1</td>\n",
              "      <td>9</td>\n",
              "      <td>3</td>\n",
              "    </tr>\n",
              "    <tr>\n",
              "      <th>34581</th>\n",
              "      <td>1</td>\n",
              "      <td>834</td>\n",
              "      <td>2302</td>\n",
              "      <td>1</td>\n",
              "      <td>1</td>\n",
              "      <td>113648.33</td>\n",
              "      <td>21</td>\n",
              "      <td>0</td>\n",
              "      <td>16</td>\n",
              "      <td>15</td>\n",
              "      <td>6</td>\n",
              "      <td>2</td>\n",
              "      <td>1</td>\n",
              "      <td>21</td>\n",
              "      <td>4</td>\n",
              "      <td>1</td>\n",
              "    </tr>\n",
              "    <tr>\n",
              "      <th>5406</th>\n",
              "      <td>1</td>\n",
              "      <td>809</td>\n",
              "      <td>3705</td>\n",
              "      <td>1</td>\n",
              "      <td>1</td>\n",
              "      <td>8469.46</td>\n",
              "      <td>35</td>\n",
              "      <td>0</td>\n",
              "      <td>11</td>\n",
              "      <td>15</td>\n",
              "      <td>1</td>\n",
              "      <td>9</td>\n",
              "      <td>3</td>\n",
              "      <td>16</td>\n",
              "      <td>11</td>\n",
              "      <td>3</td>\n",
              "    </tr>\n",
              "    <tr>\n",
              "      <th>...</th>\n",
              "      <td>...</td>\n",
              "      <td>...</td>\n",
              "      <td>...</td>\n",
              "      <td>...</td>\n",
              "      <td>...</td>\n",
              "      <td>...</td>\n",
              "      <td>...</td>\n",
              "      <td>...</td>\n",
              "      <td>...</td>\n",
              "      <td>...</td>\n",
              "      <td>...</td>\n",
              "      <td>...</td>\n",
              "      <td>...</td>\n",
              "      <td>...</td>\n",
              "      <td>...</td>\n",
              "      <td>...</td>\n",
              "    </tr>\n",
              "    <tr>\n",
              "      <th>20361</th>\n",
              "      <td>1</td>\n",
              "      <td>772</td>\n",
              "      <td>1970</td>\n",
              "      <td>1</td>\n",
              "      <td>1</td>\n",
              "      <td>17283.50</td>\n",
              "      <td>21</td>\n",
              "      <td>0</td>\n",
              "      <td>16</td>\n",
              "      <td>15</td>\n",
              "      <td>27</td>\n",
              "      <td>30</td>\n",
              "      <td>7</td>\n",
              "      <td>11</td>\n",
              "      <td>32</td>\n",
              "      <td>8</td>\n",
              "    </tr>\n",
              "    <tr>\n",
              "      <th>20848</th>\n",
              "      <td>1</td>\n",
              "      <td>809</td>\n",
              "      <td>3702</td>\n",
              "      <td>1</td>\n",
              "      <td>1</td>\n",
              "      <td>3226.45</td>\n",
              "      <td>35</td>\n",
              "      <td>0</td>\n",
              "      <td>11</td>\n",
              "      <td>15</td>\n",
              "      <td>2</td>\n",
              "      <td>31</td>\n",
              "      <td>8</td>\n",
              "      <td>17</td>\n",
              "      <td>33</td>\n",
              "      <td>8</td>\n",
              "    </tr>\n",
              "    <tr>\n",
              "      <th>28322</th>\n",
              "      <td>1</td>\n",
              "      <td>794</td>\n",
              "      <td>521</td>\n",
              "      <td>1</td>\n",
              "      <td>1</td>\n",
              "      <td>18654.40</td>\n",
              "      <td>26</td>\n",
              "      <td>0</td>\n",
              "      <td>15</td>\n",
              "      <td>15</td>\n",
              "      <td>17</td>\n",
              "      <td>42</td>\n",
              "      <td>10</td>\n",
              "      <td>1</td>\n",
              "      <td>44</td>\n",
              "      <td>11</td>\n",
              "    </tr>\n",
              "    <tr>\n",
              "      <th>23156</th>\n",
              "      <td>1</td>\n",
              "      <td>815</td>\n",
              "      <td>231</td>\n",
              "      <td>1</td>\n",
              "      <td>1</td>\n",
              "      <td>59372.92</td>\n",
              "      <td>50</td>\n",
              "      <td>0</td>\n",
              "      <td>15</td>\n",
              "      <td>15</td>\n",
              "      <td>26</td>\n",
              "      <td>35</td>\n",
              "      <td>8</td>\n",
              "      <td>10</td>\n",
              "      <td>37</td>\n",
              "      <td>9</td>\n",
              "    </tr>\n",
              "    <tr>\n",
              "      <th>4937</th>\n",
              "      <td>4</td>\n",
              "      <td>318</td>\n",
              "      <td>2743</td>\n",
              "      <td>1</td>\n",
              "      <td>1</td>\n",
              "      <td>17806.82</td>\n",
              "      <td>60</td>\n",
              "      <td>0</td>\n",
              "      <td>46</td>\n",
              "      <td>45</td>\n",
              "      <td>24</td>\n",
              "      <td>8</td>\n",
              "      <td>2</td>\n",
              "      <td>10</td>\n",
              "      <td>15</td>\n",
              "      <td>4</td>\n",
              "    </tr>\n",
              "  </tbody>\n",
              "</table>\n",
              "<p>7833 rows × 16 columns</p>\n",
              "</div>"
            ],
            "text/plain": [
              "       business_code  cust_number  ...  due_in_weeks  due_in_months\n",
              "27712              0          379  ...            44             10\n",
              "819                1          628  ...             2              1\n",
              "4059               1          809  ...             9              3\n",
              "34581              1          834  ...             4              1\n",
              "5406               1          809  ...            11              3\n",
              "...              ...          ...  ...           ...            ...\n",
              "20361              1          772  ...            32              8\n",
              "20848              1          809  ...            33              8\n",
              "28322              1          794  ...            44             11\n",
              "23156              1          815  ...            37              9\n",
              "4937               4          318  ...            15              4\n",
              "\n",
              "[7833 rows x 16 columns]"
            ]
          },
          "metadata": {
            "tags": []
          },
          "execution_count": 67
        }
      ]
    },
    {
      "cell_type": "markdown",
      "metadata": {
        "id": "AqaZd5HAe2p1"
      },
      "source": [
        "**Splitting those two date column from the X_test also**"
      ]
    },
    {
      "cell_type": "code",
      "metadata": {
        "colab": {
          "base_uri": "https://localhost:8080/"
        },
        "id": "oApwRDJae7xL",
        "outputId": "df9308cc-95a4-467e-fb97-d0d3c826ef2c"
      },
      "source": [
        "X_test['posting_days'] = X_test['posting_date'].dt.day\n",
        "X_test['posting_weeks'] = X_test['posting_date'].dt.week\n",
        "X_test['posting_months'] = X_test['posting_date'].dt.month\n",
        "\n",
        "X_test['due_in_days'] = X_test['due_in_date'].dt.day\n",
        "X_test['due_in_weeks'] = X_test['due_in_date'].dt.week\n",
        "X_test['due_in_months'] = X_test['due_in_date'].dt.month"
      ],
      "execution_count": null,
      "outputs": [
        {
          "output_type": "stream",
          "text": [
            "/usr/local/lib/python3.7/dist-packages/ipykernel_launcher.py:2: FutureWarning: Series.dt.weekofyear and Series.dt.week have been deprecated.  Please use Series.dt.isocalendar().week instead.\n",
            "  \n",
            "/usr/local/lib/python3.7/dist-packages/ipykernel_launcher.py:6: FutureWarning: Series.dt.weekofyear and Series.dt.week have been deprecated.  Please use Series.dt.isocalendar().week instead.\n",
            "  \n"
          ],
          "name": "stderr"
        }
      ]
    },
    {
      "cell_type": "markdown",
      "metadata": {
        "id": "EdR4dZZHfI7c"
      },
      "source": [
        "Dropping these 2 columns fron X_test"
      ]
    },
    {
      "cell_type": "code",
      "metadata": {
        "id": "-4HitCLqfNIC"
      },
      "source": [
        "X_test = X_test.drop(['posting_date','due_in_date'],axis = 1)"
      ],
      "execution_count": null,
      "outputs": []
    },
    {
      "cell_type": "code",
      "metadata": {
        "colab": {
          "base_uri": "https://localhost:8080/",
          "height": 439
        },
        "id": "NAAJHCm0fT-0",
        "outputId": "e7c0160b-a5ec-419c-d018-8c0e6f0eb592"
      },
      "source": [
        "X_test"
      ],
      "execution_count": null,
      "outputs": [
        {
          "output_type": "execute_result",
          "data": {
            "text/html": [
              "<div>\n",
              "<style scoped>\n",
              "    .dataframe tbody tr th:only-of-type {\n",
              "        vertical-align: middle;\n",
              "    }\n",
              "\n",
              "    .dataframe tbody tr th {\n",
              "        vertical-align: top;\n",
              "    }\n",
              "\n",
              "    .dataframe thead th {\n",
              "        text-align: right;\n",
              "    }\n",
              "</style>\n",
              "<table border=\"1\" class=\"dataframe\">\n",
              "  <thead>\n",
              "    <tr style=\"text-align: right;\">\n",
              "      <th></th>\n",
              "      <th>business_code</th>\n",
              "      <th>cust_number</th>\n",
              "      <th>name_customer</th>\n",
              "      <th>invoice_currency</th>\n",
              "      <th>posting_id</th>\n",
              "      <th>total_open_amount</th>\n",
              "      <th>cust_payment_terms</th>\n",
              "      <th>isOpen</th>\n",
              "      <th>accday_for_payment</th>\n",
              "      <th>days_for_payment</th>\n",
              "      <th>posting_days</th>\n",
              "      <th>posting_weeks</th>\n",
              "      <th>posting_months</th>\n",
              "      <th>due_in_days</th>\n",
              "      <th>due_in_weeks</th>\n",
              "      <th>due_in_months</th>\n",
              "    </tr>\n",
              "  </thead>\n",
              "  <tbody>\n",
              "    <tr>\n",
              "      <th>19214</th>\n",
              "      <td>1</td>\n",
              "      <td>499</td>\n",
              "      <td>3033</td>\n",
              "      <td>1</td>\n",
              "      <td>1</td>\n",
              "      <td>45400.00</td>\n",
              "      <td>21</td>\n",
              "      <td>0</td>\n",
              "      <td>15</td>\n",
              "      <td>15</td>\n",
              "      <td>16</td>\n",
              "      <td>29</td>\n",
              "      <td>7</td>\n",
              "      <td>31</td>\n",
              "      <td>31</td>\n",
              "      <td>7</td>\n",
              "    </tr>\n",
              "    <tr>\n",
              "      <th>35795</th>\n",
              "      <td>0</td>\n",
              "      <td>329</td>\n",
              "      <td>26</td>\n",
              "      <td>0</td>\n",
              "      <td>1</td>\n",
              "      <td>922.59</td>\n",
              "      <td>7</td>\n",
              "      <td>0</td>\n",
              "      <td>10</td>\n",
              "      <td>12</td>\n",
              "      <td>21</td>\n",
              "      <td>4</td>\n",
              "      <td>1</td>\n",
              "      <td>2</td>\n",
              "      <td>5</td>\n",
              "      <td>2</td>\n",
              "    </tr>\n",
              "    <tr>\n",
              "      <th>9319</th>\n",
              "      <td>1</td>\n",
              "      <td>149</td>\n",
              "      <td>2366</td>\n",
              "      <td>1</td>\n",
              "      <td>1</td>\n",
              "      <td>9107.70</td>\n",
              "      <td>21</td>\n",
              "      <td>0</td>\n",
              "      <td>21</td>\n",
              "      <td>15</td>\n",
              "      <td>9</td>\n",
              "      <td>15</td>\n",
              "      <td>4</td>\n",
              "      <td>24</td>\n",
              "      <td>17</td>\n",
              "      <td>4</td>\n",
              "    </tr>\n",
              "    <tr>\n",
              "      <th>27590</th>\n",
              "      <td>1</td>\n",
              "      <td>814</td>\n",
              "      <td>2987</td>\n",
              "      <td>1</td>\n",
              "      <td>1</td>\n",
              "      <td>86085.89</td>\n",
              "      <td>21</td>\n",
              "      <td>0</td>\n",
              "      <td>15</td>\n",
              "      <td>15</td>\n",
              "      <td>9</td>\n",
              "      <td>41</td>\n",
              "      <td>10</td>\n",
              "      <td>24</td>\n",
              "      <td>43</td>\n",
              "      <td>10</td>\n",
              "    </tr>\n",
              "    <tr>\n",
              "      <th>3959</th>\n",
              "      <td>1</td>\n",
              "      <td>894</td>\n",
              "      <td>862</td>\n",
              "      <td>1</td>\n",
              "      <td>1</td>\n",
              "      <td>1779.36</td>\n",
              "      <td>39</td>\n",
              "      <td>0</td>\n",
              "      <td>2</td>\n",
              "      <td>11</td>\n",
              "      <td>13</td>\n",
              "      <td>7</td>\n",
              "      <td>2</td>\n",
              "      <td>24</td>\n",
              "      <td>8</td>\n",
              "      <td>2</td>\n",
              "    </tr>\n",
              "    <tr>\n",
              "      <th>...</th>\n",
              "      <td>...</td>\n",
              "      <td>...</td>\n",
              "      <td>...</td>\n",
              "      <td>...</td>\n",
              "      <td>...</td>\n",
              "      <td>...</td>\n",
              "      <td>...</td>\n",
              "      <td>...</td>\n",
              "      <td>...</td>\n",
              "      <td>...</td>\n",
              "      <td>...</td>\n",
              "      <td>...</td>\n",
              "      <td>...</td>\n",
              "      <td>...</td>\n",
              "      <td>...</td>\n",
              "      <td>...</td>\n",
              "    </tr>\n",
              "    <tr>\n",
              "      <th>9958</th>\n",
              "      <td>1</td>\n",
              "      <td>1295</td>\n",
              "      <td>1920</td>\n",
              "      <td>1</td>\n",
              "      <td>1</td>\n",
              "      <td>6690.20</td>\n",
              "      <td>70</td>\n",
              "      <td>0</td>\n",
              "      <td>46</td>\n",
              "      <td>0</td>\n",
              "      <td>15</td>\n",
              "      <td>16</td>\n",
              "      <td>4</td>\n",
              "      <td>15</td>\n",
              "      <td>16</td>\n",
              "      <td>4</td>\n",
              "    </tr>\n",
              "    <tr>\n",
              "      <th>34619</th>\n",
              "      <td>1</td>\n",
              "      <td>837</td>\n",
              "      <td>1810</td>\n",
              "      <td>1</td>\n",
              "      <td>1</td>\n",
              "      <td>3344.34</td>\n",
              "      <td>29</td>\n",
              "      <td>0</td>\n",
              "      <td>20</td>\n",
              "      <td>20</td>\n",
              "      <td>7</td>\n",
              "      <td>2</td>\n",
              "      <td>1</td>\n",
              "      <td>27</td>\n",
              "      <td>5</td>\n",
              "      <td>1</td>\n",
              "    </tr>\n",
              "    <tr>\n",
              "      <th>17469</th>\n",
              "      <td>1</td>\n",
              "      <td>711</td>\n",
              "      <td>376</td>\n",
              "      <td>1</td>\n",
              "      <td>1</td>\n",
              "      <td>189.80</td>\n",
              "      <td>21</td>\n",
              "      <td>0</td>\n",
              "      <td>15</td>\n",
              "      <td>15</td>\n",
              "      <td>26</td>\n",
              "      <td>26</td>\n",
              "      <td>6</td>\n",
              "      <td>11</td>\n",
              "      <td>28</td>\n",
              "      <td>7</td>\n",
              "    </tr>\n",
              "    <tr>\n",
              "      <th>17392</th>\n",
              "      <td>1</td>\n",
              "      <td>809</td>\n",
              "      <td>3703</td>\n",
              "      <td>1</td>\n",
              "      <td>1</td>\n",
              "      <td>26878.49</td>\n",
              "      <td>35</td>\n",
              "      <td>0</td>\n",
              "      <td>12</td>\n",
              "      <td>15</td>\n",
              "      <td>26</td>\n",
              "      <td>26</td>\n",
              "      <td>6</td>\n",
              "      <td>11</td>\n",
              "      <td>28</td>\n",
              "      <td>7</td>\n",
              "    </tr>\n",
              "    <tr>\n",
              "      <th>30058</th>\n",
              "      <td>0</td>\n",
              "      <td>372</td>\n",
              "      <td>1395</td>\n",
              "      <td>0</td>\n",
              "      <td>1</td>\n",
              "      <td>60718.96</td>\n",
              "      <td>7</td>\n",
              "      <td>0</td>\n",
              "      <td>12</td>\n",
              "      <td>12</td>\n",
              "      <td>6</td>\n",
              "      <td>45</td>\n",
              "      <td>11</td>\n",
              "      <td>18</td>\n",
              "      <td>47</td>\n",
              "      <td>11</td>\n",
              "    </tr>\n",
              "  </tbody>\n",
              "</table>\n",
              "<p>7834 rows × 16 columns</p>\n",
              "</div>"
            ],
            "text/plain": [
              "       business_code  cust_number  ...  due_in_weeks  due_in_months\n",
              "19214              1          499  ...            31              7\n",
              "35795              0          329  ...             5              2\n",
              "9319               1          149  ...            17              4\n",
              "27590              1          814  ...            43             10\n",
              "3959               1          894  ...             8              2\n",
              "...              ...          ...  ...           ...            ...\n",
              "9958               1         1295  ...            16              4\n",
              "34619              1          837  ...             5              1\n",
              "17469              1          711  ...            28              7\n",
              "17392              1          809  ...            28              7\n",
              "30058              0          372  ...            47             11\n",
              "\n",
              "[7834 rows x 16 columns]"
            ]
          },
          "metadata": {
            "tags": []
          },
          "execution_count": 70
        }
      ]
    },
    {
      "cell_type": "markdown",
      "metadata": {
        "id": "J1lNX4P2gs8h"
      },
      "source": [
        "#Feature Selection"
      ]
    },
    {
      "cell_type": "markdown",
      "metadata": {
        "id": "N2BwaHgebsdL"
      },
      "source": [
        "**Finding and removing the constant columns from the dataframe using VarianceThreshold**"
      ]
    },
    {
      "cell_type": "markdown",
      "metadata": {
        "id": "IBamJnPw8p_P"
      },
      "source": [
        "We give threshold value 0 and it will find the column that has 0 varience"
      ]
    },
    {
      "cell_type": "code",
      "metadata": {
        "colab": {
          "base_uri": "https://localhost:8080/"
        },
        "id": "Z3k-UFOEby4S",
        "outputId": "1432d8e2-8a3d-45b3-c632-b8dc402c5722"
      },
      "source": [
        "from sklearn.feature_selection import VarianceThreshold\n",
        "sel = VarianceThreshold(threshold=0)\n",
        "sel.fit(X_train)"
      ],
      "execution_count": null,
      "outputs": [
        {
          "output_type": "execute_result",
          "data": {
            "text/plain": [
              "VarianceThreshold(threshold=0)"
            ]
          },
          "metadata": {
            "tags": []
          },
          "execution_count": 71
        }
      ]
    },
    {
      "cell_type": "markdown",
      "metadata": {
        "id": "anV9ey8jhLnn"
      },
      "source": [
        "Getting the constant columns, constant columns are the one that has varience equal to 0"
      ]
    },
    {
      "cell_type": "code",
      "metadata": {
        "colab": {
          "base_uri": "https://localhost:8080/"
        },
        "id": "CwSyzQM0hOe2",
        "outputId": "11d69d96-b679-44b3-ee27-0db37045a1e8"
      },
      "source": [
        "constant_columns = [column for column in X_train.columns if column not in X_train.columns[sel.get_support()]]\n",
        "constant_columns"
      ],
      "execution_count": null,
      "outputs": [
        {
          "output_type": "execute_result",
          "data": {
            "text/plain": [
              "['posting_id', 'isOpen']"
            ]
          },
          "metadata": {
            "tags": []
          },
          "execution_count": 72
        }
      ]
    },
    {
      "cell_type": "markdown",
      "metadata": {
        "id": "AcvVG5eV87OS"
      },
      "source": [
        "**We got 2 contant columns in our X_train dataframe and now we will remove this two constant columns**"
      ]
    },
    {
      "cell_type": "code",
      "metadata": {
        "colab": {
          "base_uri": "https://localhost:8080/",
          "height": 439
        },
        "id": "f5FcXLJo1B3R",
        "outputId": "e613ad60-4b82-4ee2-a7e2-2eea7a4d01e2"
      },
      "source": [
        "X_train"
      ],
      "execution_count": null,
      "outputs": [
        {
          "output_type": "execute_result",
          "data": {
            "text/html": [
              "<div>\n",
              "<style scoped>\n",
              "    .dataframe tbody tr th:only-of-type {\n",
              "        vertical-align: middle;\n",
              "    }\n",
              "\n",
              "    .dataframe tbody tr th {\n",
              "        vertical-align: top;\n",
              "    }\n",
              "\n",
              "    .dataframe thead th {\n",
              "        text-align: right;\n",
              "    }\n",
              "</style>\n",
              "<table border=\"1\" class=\"dataframe\">\n",
              "  <thead>\n",
              "    <tr style=\"text-align: right;\">\n",
              "      <th></th>\n",
              "      <th>business_code</th>\n",
              "      <th>cust_number</th>\n",
              "      <th>name_customer</th>\n",
              "      <th>invoice_currency</th>\n",
              "      <th>posting_id</th>\n",
              "      <th>total_open_amount</th>\n",
              "      <th>cust_payment_terms</th>\n",
              "      <th>isOpen</th>\n",
              "      <th>accday_for_payment</th>\n",
              "      <th>days_for_payment</th>\n",
              "      <th>posting_days</th>\n",
              "      <th>posting_weeks</th>\n",
              "      <th>posting_months</th>\n",
              "      <th>due_in_days</th>\n",
              "      <th>due_in_weeks</th>\n",
              "      <th>due_in_months</th>\n",
              "    </tr>\n",
              "  </thead>\n",
              "  <tbody>\n",
              "    <tr>\n",
              "      <th>24210</th>\n",
              "      <td>1</td>\n",
              "      <td>796</td>\n",
              "      <td>1514</td>\n",
              "      <td>1</td>\n",
              "      <td>1</td>\n",
              "      <td>17050.31</td>\n",
              "      <td>67</td>\n",
              "      <td>0</td>\n",
              "      <td>73</td>\n",
              "      <td>75</td>\n",
              "      <td>6</td>\n",
              "      <td>36</td>\n",
              "      <td>9</td>\n",
              "      <td>20</td>\n",
              "      <td>47</td>\n",
              "      <td>11</td>\n",
              "    </tr>\n",
              "    <tr>\n",
              "      <th>24365</th>\n",
              "      <td>1</td>\n",
              "      <td>1295</td>\n",
              "      <td>1927</td>\n",
              "      <td>1</td>\n",
              "      <td>1</td>\n",
              "      <td>23539.02</td>\n",
              "      <td>70</td>\n",
              "      <td>0</td>\n",
              "      <td>55</td>\n",
              "      <td>0</td>\n",
              "      <td>7</td>\n",
              "      <td>36</td>\n",
              "      <td>9</td>\n",
              "      <td>7</td>\n",
              "      <td>36</td>\n",
              "      <td>9</td>\n",
              "    </tr>\n",
              "    <tr>\n",
              "      <th>11779</th>\n",
              "      <td>1</td>\n",
              "      <td>889</td>\n",
              "      <td>2269</td>\n",
              "      <td>1</td>\n",
              "      <td>1</td>\n",
              "      <td>109.73</td>\n",
              "      <td>21</td>\n",
              "      <td>0</td>\n",
              "      <td>15</td>\n",
              "      <td>15</td>\n",
              "      <td>2</td>\n",
              "      <td>18</td>\n",
              "      <td>5</td>\n",
              "      <td>17</td>\n",
              "      <td>20</td>\n",
              "      <td>5</td>\n",
              "    </tr>\n",
              "    <tr>\n",
              "      <th>36202</th>\n",
              "      <td>1</td>\n",
              "      <td>711</td>\n",
              "      <td>381</td>\n",
              "      <td>1</td>\n",
              "      <td>1</td>\n",
              "      <td>179.57</td>\n",
              "      <td>21</td>\n",
              "      <td>0</td>\n",
              "      <td>17</td>\n",
              "      <td>15</td>\n",
              "      <td>25</td>\n",
              "      <td>4</td>\n",
              "      <td>1</td>\n",
              "      <td>9</td>\n",
              "      <td>6</td>\n",
              "      <td>2</td>\n",
              "    </tr>\n",
              "    <tr>\n",
              "      <th>18607</th>\n",
              "      <td>1</td>\n",
              "      <td>1243</td>\n",
              "      <td>747</td>\n",
              "      <td>1</td>\n",
              "      <td>1</td>\n",
              "      <td>15284.38</td>\n",
              "      <td>23</td>\n",
              "      <td>0</td>\n",
              "      <td>14</td>\n",
              "      <td>15</td>\n",
              "      <td>9</td>\n",
              "      <td>28</td>\n",
              "      <td>7</td>\n",
              "      <td>24</td>\n",
              "      <td>30</td>\n",
              "      <td>7</td>\n",
              "    </tr>\n",
              "    <tr>\n",
              "      <th>...</th>\n",
              "      <td>...</td>\n",
              "      <td>...</td>\n",
              "      <td>...</td>\n",
              "      <td>...</td>\n",
              "      <td>...</td>\n",
              "      <td>...</td>\n",
              "      <td>...</td>\n",
              "      <td>...</td>\n",
              "      <td>...</td>\n",
              "      <td>...</td>\n",
              "      <td>...</td>\n",
              "      <td>...</td>\n",
              "      <td>...</td>\n",
              "      <td>...</td>\n",
              "      <td>...</td>\n",
              "      <td>...</td>\n",
              "    </tr>\n",
              "    <tr>\n",
              "      <th>37049</th>\n",
              "      <td>1</td>\n",
              "      <td>283</td>\n",
              "      <td>652</td>\n",
              "      <td>1</td>\n",
              "      <td>1</td>\n",
              "      <td>162.29</td>\n",
              "      <td>34</td>\n",
              "      <td>0</td>\n",
              "      <td>15</td>\n",
              "      <td>65</td>\n",
              "      <td>4</td>\n",
              "      <td>6</td>\n",
              "      <td>2</td>\n",
              "      <td>9</td>\n",
              "      <td>15</td>\n",
              "      <td>4</td>\n",
              "    </tr>\n",
              "    <tr>\n",
              "      <th>3166</th>\n",
              "      <td>1</td>\n",
              "      <td>809</td>\n",
              "      <td>3702</td>\n",
              "      <td>1</td>\n",
              "      <td>1</td>\n",
              "      <td>12476.21</td>\n",
              "      <td>35</td>\n",
              "      <td>0</td>\n",
              "      <td>16</td>\n",
              "      <td>15</td>\n",
              "      <td>5</td>\n",
              "      <td>6</td>\n",
              "      <td>2</td>\n",
              "      <td>20</td>\n",
              "      <td>8</td>\n",
              "      <td>2</td>\n",
              "    </tr>\n",
              "    <tr>\n",
              "      <th>32820</th>\n",
              "      <td>1</td>\n",
              "      <td>524</td>\n",
              "      <td>871</td>\n",
              "      <td>1</td>\n",
              "      <td>1</td>\n",
              "      <td>975.54</td>\n",
              "      <td>36</td>\n",
              "      <td>0</td>\n",
              "      <td>5</td>\n",
              "      <td>3</td>\n",
              "      <td>5</td>\n",
              "      <td>49</td>\n",
              "      <td>12</td>\n",
              "      <td>8</td>\n",
              "      <td>49</td>\n",
              "      <td>12</td>\n",
              "    </tr>\n",
              "    <tr>\n",
              "      <th>32323</th>\n",
              "      <td>1</td>\n",
              "      <td>809</td>\n",
              "      <td>3702</td>\n",
              "      <td>1</td>\n",
              "      <td>1</td>\n",
              "      <td>2352.97</td>\n",
              "      <td>35</td>\n",
              "      <td>0</td>\n",
              "      <td>10</td>\n",
              "      <td>15</td>\n",
              "      <td>30</td>\n",
              "      <td>48</td>\n",
              "      <td>11</td>\n",
              "      <td>15</td>\n",
              "      <td>50</td>\n",
              "      <td>12</td>\n",
              "    </tr>\n",
              "    <tr>\n",
              "      <th>7748</th>\n",
              "      <td>1</td>\n",
              "      <td>894</td>\n",
              "      <td>859</td>\n",
              "      <td>1</td>\n",
              "      <td>1</td>\n",
              "      <td>132.48</td>\n",
              "      <td>39</td>\n",
              "      <td>0</td>\n",
              "      <td>7</td>\n",
              "      <td>14</td>\n",
              "      <td>25</td>\n",
              "      <td>13</td>\n",
              "      <td>3</td>\n",
              "      <td>8</td>\n",
              "      <td>15</td>\n",
              "      <td>4</td>\n",
              "    </tr>\n",
              "  </tbody>\n",
              "</table>\n",
              "<p>23468 rows × 16 columns</p>\n",
              "</div>"
            ],
            "text/plain": [
              "       business_code  cust_number  ...  due_in_weeks  due_in_months\n",
              "24210              1          796  ...            47             11\n",
              "24365              1         1295  ...            36              9\n",
              "11779              1          889  ...            20              5\n",
              "36202              1          711  ...             6              2\n",
              "18607              1         1243  ...            30              7\n",
              "...              ...          ...  ...           ...            ...\n",
              "37049              1          283  ...            15              4\n",
              "3166               1          809  ...             8              2\n",
              "32820              1          524  ...            49             12\n",
              "32323              1          809  ...            50             12\n",
              "7748               1          894  ...            15              4\n",
              "\n",
              "[23468 rows x 16 columns]"
            ]
          },
          "metadata": {
            "tags": []
          },
          "execution_count": 73
        }
      ]
    },
    {
      "cell_type": "markdown",
      "metadata": {
        "id": "122OBuQahUKH"
      },
      "source": [
        "Removing this constant columns from the X_train"
      ]
    },
    {
      "cell_type": "code",
      "metadata": {
        "colab": {
          "base_uri": "https://localhost:8080/"
        },
        "id": "AVH-01LShZef",
        "outputId": "6a83cb72-b5f4-4c99-aebe-a00aba9be011"
      },
      "source": [
        "X_train = X_train.drop(['posting_id','isOpen'],axis=1)\n",
        "X_train.shape"
      ],
      "execution_count": null,
      "outputs": [
        {
          "output_type": "execute_result",
          "data": {
            "text/plain": [
              "(23468, 14)"
            ]
          },
          "metadata": {
            "tags": []
          },
          "execution_count": 74
        }
      ]
    },
    {
      "cell_type": "code",
      "metadata": {
        "colab": {
          "base_uri": "https://localhost:8080/",
          "height": 439
        },
        "id": "evDPFpJ7hnuY",
        "outputId": "a6c48446-5fd9-4d45-f1c6-214dfbe4921c"
      },
      "source": [
        "X_train"
      ],
      "execution_count": null,
      "outputs": [
        {
          "output_type": "execute_result",
          "data": {
            "text/html": [
              "<div>\n",
              "<style scoped>\n",
              "    .dataframe tbody tr th:only-of-type {\n",
              "        vertical-align: middle;\n",
              "    }\n",
              "\n",
              "    .dataframe tbody tr th {\n",
              "        vertical-align: top;\n",
              "    }\n",
              "\n",
              "    .dataframe thead th {\n",
              "        text-align: right;\n",
              "    }\n",
              "</style>\n",
              "<table border=\"1\" class=\"dataframe\">\n",
              "  <thead>\n",
              "    <tr style=\"text-align: right;\">\n",
              "      <th></th>\n",
              "      <th>business_code</th>\n",
              "      <th>cust_number</th>\n",
              "      <th>name_customer</th>\n",
              "      <th>invoice_currency</th>\n",
              "      <th>total_open_amount</th>\n",
              "      <th>cust_payment_terms</th>\n",
              "      <th>accday_for_payment</th>\n",
              "      <th>days_for_payment</th>\n",
              "      <th>posting_days</th>\n",
              "      <th>posting_weeks</th>\n",
              "      <th>posting_months</th>\n",
              "      <th>due_in_days</th>\n",
              "      <th>due_in_weeks</th>\n",
              "      <th>due_in_months</th>\n",
              "    </tr>\n",
              "  </thead>\n",
              "  <tbody>\n",
              "    <tr>\n",
              "      <th>24210</th>\n",
              "      <td>1</td>\n",
              "      <td>796</td>\n",
              "      <td>1514</td>\n",
              "      <td>1</td>\n",
              "      <td>17050.31</td>\n",
              "      <td>67</td>\n",
              "      <td>73</td>\n",
              "      <td>75</td>\n",
              "      <td>6</td>\n",
              "      <td>36</td>\n",
              "      <td>9</td>\n",
              "      <td>20</td>\n",
              "      <td>47</td>\n",
              "      <td>11</td>\n",
              "    </tr>\n",
              "    <tr>\n",
              "      <th>24365</th>\n",
              "      <td>1</td>\n",
              "      <td>1295</td>\n",
              "      <td>1927</td>\n",
              "      <td>1</td>\n",
              "      <td>23539.02</td>\n",
              "      <td>70</td>\n",
              "      <td>55</td>\n",
              "      <td>0</td>\n",
              "      <td>7</td>\n",
              "      <td>36</td>\n",
              "      <td>9</td>\n",
              "      <td>7</td>\n",
              "      <td>36</td>\n",
              "      <td>9</td>\n",
              "    </tr>\n",
              "    <tr>\n",
              "      <th>11779</th>\n",
              "      <td>1</td>\n",
              "      <td>889</td>\n",
              "      <td>2269</td>\n",
              "      <td>1</td>\n",
              "      <td>109.73</td>\n",
              "      <td>21</td>\n",
              "      <td>15</td>\n",
              "      <td>15</td>\n",
              "      <td>2</td>\n",
              "      <td>18</td>\n",
              "      <td>5</td>\n",
              "      <td>17</td>\n",
              "      <td>20</td>\n",
              "      <td>5</td>\n",
              "    </tr>\n",
              "    <tr>\n",
              "      <th>36202</th>\n",
              "      <td>1</td>\n",
              "      <td>711</td>\n",
              "      <td>381</td>\n",
              "      <td>1</td>\n",
              "      <td>179.57</td>\n",
              "      <td>21</td>\n",
              "      <td>17</td>\n",
              "      <td>15</td>\n",
              "      <td>25</td>\n",
              "      <td>4</td>\n",
              "      <td>1</td>\n",
              "      <td>9</td>\n",
              "      <td>6</td>\n",
              "      <td>2</td>\n",
              "    </tr>\n",
              "    <tr>\n",
              "      <th>18607</th>\n",
              "      <td>1</td>\n",
              "      <td>1243</td>\n",
              "      <td>747</td>\n",
              "      <td>1</td>\n",
              "      <td>15284.38</td>\n",
              "      <td>23</td>\n",
              "      <td>14</td>\n",
              "      <td>15</td>\n",
              "      <td>9</td>\n",
              "      <td>28</td>\n",
              "      <td>7</td>\n",
              "      <td>24</td>\n",
              "      <td>30</td>\n",
              "      <td>7</td>\n",
              "    </tr>\n",
              "    <tr>\n",
              "      <th>...</th>\n",
              "      <td>...</td>\n",
              "      <td>...</td>\n",
              "      <td>...</td>\n",
              "      <td>...</td>\n",
              "      <td>...</td>\n",
              "      <td>...</td>\n",
              "      <td>...</td>\n",
              "      <td>...</td>\n",
              "      <td>...</td>\n",
              "      <td>...</td>\n",
              "      <td>...</td>\n",
              "      <td>...</td>\n",
              "      <td>...</td>\n",
              "      <td>...</td>\n",
              "    </tr>\n",
              "    <tr>\n",
              "      <th>37049</th>\n",
              "      <td>1</td>\n",
              "      <td>283</td>\n",
              "      <td>652</td>\n",
              "      <td>1</td>\n",
              "      <td>162.29</td>\n",
              "      <td>34</td>\n",
              "      <td>15</td>\n",
              "      <td>65</td>\n",
              "      <td>4</td>\n",
              "      <td>6</td>\n",
              "      <td>2</td>\n",
              "      <td>9</td>\n",
              "      <td>15</td>\n",
              "      <td>4</td>\n",
              "    </tr>\n",
              "    <tr>\n",
              "      <th>3166</th>\n",
              "      <td>1</td>\n",
              "      <td>809</td>\n",
              "      <td>3702</td>\n",
              "      <td>1</td>\n",
              "      <td>12476.21</td>\n",
              "      <td>35</td>\n",
              "      <td>16</td>\n",
              "      <td>15</td>\n",
              "      <td>5</td>\n",
              "      <td>6</td>\n",
              "      <td>2</td>\n",
              "      <td>20</td>\n",
              "      <td>8</td>\n",
              "      <td>2</td>\n",
              "    </tr>\n",
              "    <tr>\n",
              "      <th>32820</th>\n",
              "      <td>1</td>\n",
              "      <td>524</td>\n",
              "      <td>871</td>\n",
              "      <td>1</td>\n",
              "      <td>975.54</td>\n",
              "      <td>36</td>\n",
              "      <td>5</td>\n",
              "      <td>3</td>\n",
              "      <td>5</td>\n",
              "      <td>49</td>\n",
              "      <td>12</td>\n",
              "      <td>8</td>\n",
              "      <td>49</td>\n",
              "      <td>12</td>\n",
              "    </tr>\n",
              "    <tr>\n",
              "      <th>32323</th>\n",
              "      <td>1</td>\n",
              "      <td>809</td>\n",
              "      <td>3702</td>\n",
              "      <td>1</td>\n",
              "      <td>2352.97</td>\n",
              "      <td>35</td>\n",
              "      <td>10</td>\n",
              "      <td>15</td>\n",
              "      <td>30</td>\n",
              "      <td>48</td>\n",
              "      <td>11</td>\n",
              "      <td>15</td>\n",
              "      <td>50</td>\n",
              "      <td>12</td>\n",
              "    </tr>\n",
              "    <tr>\n",
              "      <th>7748</th>\n",
              "      <td>1</td>\n",
              "      <td>894</td>\n",
              "      <td>859</td>\n",
              "      <td>1</td>\n",
              "      <td>132.48</td>\n",
              "      <td>39</td>\n",
              "      <td>7</td>\n",
              "      <td>14</td>\n",
              "      <td>25</td>\n",
              "      <td>13</td>\n",
              "      <td>3</td>\n",
              "      <td>8</td>\n",
              "      <td>15</td>\n",
              "      <td>4</td>\n",
              "    </tr>\n",
              "  </tbody>\n",
              "</table>\n",
              "<p>23468 rows × 14 columns</p>\n",
              "</div>"
            ],
            "text/plain": [
              "       business_code  cust_number  ...  due_in_weeks  due_in_months\n",
              "24210              1          796  ...            47             11\n",
              "24365              1         1295  ...            36              9\n",
              "11779              1          889  ...            20              5\n",
              "36202              1          711  ...             6              2\n",
              "18607              1         1243  ...            30              7\n",
              "...              ...          ...  ...           ...            ...\n",
              "37049              1          283  ...            15              4\n",
              "3166               1          809  ...             8              2\n",
              "32820              1          524  ...            49             12\n",
              "32323              1          809  ...            50             12\n",
              "7748               1          894  ...            15              4\n",
              "\n",
              "[23468 rows x 14 columns]"
            ]
          },
          "metadata": {
            "tags": []
          },
          "execution_count": 75
        }
      ]
    },
    {
      "cell_type": "markdown",
      "metadata": {
        "id": "YrfyrnPyhtxm"
      },
      "source": [
        "Removing this contant columns fron the X_validate"
      ]
    },
    {
      "cell_type": "code",
      "metadata": {
        "colab": {
          "base_uri": "https://localhost:8080/"
        },
        "id": "lRCEwg4Xh2Ex",
        "outputId": "e8101061-9071-47c5-f4f3-e0883c8ad160"
      },
      "source": [
        "X_validate = X_validate.drop(['posting_id','isOpen'],axis=1)\n",
        "X_validate.shape"
      ],
      "execution_count": null,
      "outputs": [
        {
          "output_type": "execute_result",
          "data": {
            "text/plain": [
              "(7833, 14)"
            ]
          },
          "metadata": {
            "tags": []
          },
          "execution_count": 76
        }
      ]
    },
    {
      "cell_type": "markdown",
      "metadata": {
        "id": "cLTE8fprh-fV"
      },
      "source": [
        "Removing the constant columns from the X_test"
      ]
    },
    {
      "cell_type": "code",
      "metadata": {
        "colab": {
          "base_uri": "https://localhost:8080/"
        },
        "id": "O9zMI0dDh9Oe",
        "outputId": "8c00e6d9-ed7a-4a53-c5f3-5003ad8f59eb"
      },
      "source": [
        "X_test = X_test.drop(['posting_id','isOpen'],axis=1)\n",
        "X_test.shape"
      ],
      "execution_count": null,
      "outputs": [
        {
          "output_type": "execute_result",
          "data": {
            "text/plain": [
              "(7834, 14)"
            ]
          },
          "metadata": {
            "tags": []
          },
          "execution_count": 77
        }
      ]
    },
    {
      "cell_type": "markdown",
      "metadata": {
        "id": "tqtyw5s4jsYI"
      },
      "source": [
        "**Seeing the correlation between the columns in the X_train using the heatmap**"
      ]
    },
    {
      "cell_type": "code",
      "metadata": {
        "colab": {
          "base_uri": "https://localhost:8080/",
          "height": 690
        },
        "id": "J7ehmRbXjzug",
        "outputId": "37c87985-cff6-4863-eff1-61652ce483a5"
      },
      "source": [
        "plt.figure(figsize=(12,10))\n",
        "cor = X_train.corr()\n",
        "sns.heatmap(cor,annot=True)\n",
        "plt.show()"
      ],
      "execution_count": null,
      "outputs": [
        {
          "output_type": "display_data",
          "data": {
            "image/png": "[encoded data removed]",
            "text/plain": [
              "<Figure size 864x720 with 2 Axes>"
            ]
          },
          "metadata": {
            "tags": [],
            "needs_background": "light"
          }
        }
      ]
    },
    {
      "cell_type": "markdown",
      "metadata": {
        "id": "lYKfxLjZ9cDs"
      },
      "source": [
        "**We see from the above heatmap that due_in_days,posting_days,due_in_week,posting_week,due_in_months,posting_months are very much less correleated with our target column so we can remove them**"
      ]
    },
    {
      "cell_type": "code",
      "metadata": {
        "id": "tlVuM854-bvM"
      },
      "source": [
        "X_train = X_train.drop(['due_in_days','due_in_weeks','due_in_months','posting_days','posting_weeks','posting_months'],axis=1)"
      ],
      "execution_count": null,
      "outputs": []
    },
    {
      "cell_type": "code",
      "metadata": {
        "colab": {
          "base_uri": "https://localhost:8080/",
          "height": 419
        },
        "id": "SZZTGAxx-xh5",
        "outputId": "a3ea54a1-9c72-41d9-c74f-8ee5b844cab3"
      },
      "source": [
        "X_train"
      ],
      "execution_count": null,
      "outputs": [
        {
          "output_type": "execute_result",
          "data": {
            "text/html": [
              "<div>\n",
              "<style scoped>\n",
              "    .dataframe tbody tr th:only-of-type {\n",
              "        vertical-align: middle;\n",
              "    }\n",
              "\n",
              "    .dataframe tbody tr th {\n",
              "        vertical-align: top;\n",
              "    }\n",
              "\n",
              "    .dataframe thead th {\n",
              "        text-align: right;\n",
              "    }\n",
              "</style>\n",
              "<table border=\"1\" class=\"dataframe\">\n",
              "  <thead>\n",
              "    <tr style=\"text-align: right;\">\n",
              "      <th></th>\n",
              "      <th>business_code</th>\n",
              "      <th>cust_number</th>\n",
              "      <th>name_customer</th>\n",
              "      <th>invoice_currency</th>\n",
              "      <th>total_open_amount</th>\n",
              "      <th>cust_payment_terms</th>\n",
              "      <th>accday_for_payment</th>\n",
              "      <th>days_for_payment</th>\n",
              "    </tr>\n",
              "  </thead>\n",
              "  <tbody>\n",
              "    <tr>\n",
              "      <th>24210</th>\n",
              "      <td>1</td>\n",
              "      <td>796</td>\n",
              "      <td>1514</td>\n",
              "      <td>1</td>\n",
              "      <td>17050.31</td>\n",
              "      <td>67</td>\n",
              "      <td>73</td>\n",
              "      <td>75</td>\n",
              "    </tr>\n",
              "    <tr>\n",
              "      <th>24365</th>\n",
              "      <td>1</td>\n",
              "      <td>1295</td>\n",
              "      <td>1927</td>\n",
              "      <td>1</td>\n",
              "      <td>23539.02</td>\n",
              "      <td>70</td>\n",
              "      <td>55</td>\n",
              "      <td>0</td>\n",
              "    </tr>\n",
              "    <tr>\n",
              "      <th>11779</th>\n",
              "      <td>1</td>\n",
              "      <td>889</td>\n",
              "      <td>2269</td>\n",
              "      <td>1</td>\n",
              "      <td>109.73</td>\n",
              "      <td>21</td>\n",
              "      <td>15</td>\n",
              "      <td>15</td>\n",
              "    </tr>\n",
              "    <tr>\n",
              "      <th>36202</th>\n",
              "      <td>1</td>\n",
              "      <td>711</td>\n",
              "      <td>381</td>\n",
              "      <td>1</td>\n",
              "      <td>179.57</td>\n",
              "      <td>21</td>\n",
              "      <td>17</td>\n",
              "      <td>15</td>\n",
              "    </tr>\n",
              "    <tr>\n",
              "      <th>18607</th>\n",
              "      <td>1</td>\n",
              "      <td>1243</td>\n",
              "      <td>747</td>\n",
              "      <td>1</td>\n",
              "      <td>15284.38</td>\n",
              "      <td>23</td>\n",
              "      <td>14</td>\n",
              "      <td>15</td>\n",
              "    </tr>\n",
              "    <tr>\n",
              "      <th>...</th>\n",
              "      <td>...</td>\n",
              "      <td>...</td>\n",
              "      <td>...</td>\n",
              "      <td>...</td>\n",
              "      <td>...</td>\n",
              "      <td>...</td>\n",
              "      <td>...</td>\n",
              "      <td>...</td>\n",
              "    </tr>\n",
              "    <tr>\n",
              "      <th>37049</th>\n",
              "      <td>1</td>\n",
              "      <td>283</td>\n",
              "      <td>652</td>\n",
              "      <td>1</td>\n",
              "      <td>162.29</td>\n",
              "      <td>34</td>\n",
              "      <td>15</td>\n",
              "      <td>65</td>\n",
              "    </tr>\n",
              "    <tr>\n",
              "      <th>3166</th>\n",
              "      <td>1</td>\n",
              "      <td>809</td>\n",
              "      <td>3702</td>\n",
              "      <td>1</td>\n",
              "      <td>12476.21</td>\n",
              "      <td>35</td>\n",
              "      <td>16</td>\n",
              "      <td>15</td>\n",
              "    </tr>\n",
              "    <tr>\n",
              "      <th>32820</th>\n",
              "      <td>1</td>\n",
              "      <td>524</td>\n",
              "      <td>871</td>\n",
              "      <td>1</td>\n",
              "      <td>975.54</td>\n",
              "      <td>36</td>\n",
              "      <td>5</td>\n",
              "      <td>3</td>\n",
              "    </tr>\n",
              "    <tr>\n",
              "      <th>32323</th>\n",
              "      <td>1</td>\n",
              "      <td>809</td>\n",
              "      <td>3702</td>\n",
              "      <td>1</td>\n",
              "      <td>2352.97</td>\n",
              "      <td>35</td>\n",
              "      <td>10</td>\n",
              "      <td>15</td>\n",
              "    </tr>\n",
              "    <tr>\n",
              "      <th>7748</th>\n",
              "      <td>1</td>\n",
              "      <td>894</td>\n",
              "      <td>859</td>\n",
              "      <td>1</td>\n",
              "      <td>132.48</td>\n",
              "      <td>39</td>\n",
              "      <td>7</td>\n",
              "      <td>14</td>\n",
              "    </tr>\n",
              "  </tbody>\n",
              "</table>\n",
              "<p>23468 rows × 8 columns</p>\n",
              "</div>"
            ],
            "text/plain": [
              "       business_code  cust_number  ...  accday_for_payment  days_for_payment\n",
              "24210              1          796  ...                  73                75\n",
              "24365              1         1295  ...                  55                 0\n",
              "11779              1          889  ...                  15                15\n",
              "36202              1          711  ...                  17                15\n",
              "18607              1         1243  ...                  14                15\n",
              "...              ...          ...  ...                 ...               ...\n",
              "37049              1          283  ...                  15                65\n",
              "3166               1          809  ...                  16                15\n",
              "32820              1          524  ...                   5                 3\n",
              "32323              1          809  ...                  10                15\n",
              "7748               1          894  ...                   7                14\n",
              "\n",
              "[23468 rows x 8 columns]"
            ]
          },
          "metadata": {
            "tags": []
          },
          "execution_count": 80
        }
      ]
    },
    {
      "cell_type": "markdown",
      "metadata": {
        "id": "XIIYQZq--39z"
      },
      "source": [
        "**Removing all those columns from X_validate and X_test also**"
      ]
    },
    {
      "cell_type": "code",
      "metadata": {
        "id": "0902U5p8--dW"
      },
      "source": [
        "X_validate = X_validate.drop(['due_in_days','due_in_weeks','due_in_months','posting_days','posting_weeks','posting_months'],axis=1)"
      ],
      "execution_count": null,
      "outputs": []
    },
    {
      "cell_type": "code",
      "metadata": {
        "colab": {
          "base_uri": "https://localhost:8080/",
          "height": 419
        },
        "id": "WxeTZ7JT_FqY",
        "outputId": "e05ae209-43e6-41cd-ad16-e1e66247ba3a"
      },
      "source": [
        "X_validate"
      ],
      "execution_count": null,
      "outputs": [
        {
          "output_type": "execute_result",
          "data": {
            "text/html": [
              "<div>\n",
              "<style scoped>\n",
              "    .dataframe tbody tr th:only-of-type {\n",
              "        vertical-align: middle;\n",
              "    }\n",
              "\n",
              "    .dataframe tbody tr th {\n",
              "        vertical-align: top;\n",
              "    }\n",
              "\n",
              "    .dataframe thead th {\n",
              "        text-align: right;\n",
              "    }\n",
              "</style>\n",
              "<table border=\"1\" class=\"dataframe\">\n",
              "  <thead>\n",
              "    <tr style=\"text-align: right;\">\n",
              "      <th></th>\n",
              "      <th>business_code</th>\n",
              "      <th>cust_number</th>\n",
              "      <th>name_customer</th>\n",
              "      <th>invoice_currency</th>\n",
              "      <th>total_open_amount</th>\n",
              "      <th>cust_payment_terms</th>\n",
              "      <th>accday_for_payment</th>\n",
              "      <th>days_for_payment</th>\n",
              "    </tr>\n",
              "  </thead>\n",
              "  <tbody>\n",
              "    <tr>\n",
              "      <th>27712</th>\n",
              "      <td>0</td>\n",
              "      <td>379</td>\n",
              "      <td>3443</td>\n",
              "      <td>0</td>\n",
              "      <td>31448.52</td>\n",
              "      <td>7</td>\n",
              "      <td>75</td>\n",
              "      <td>19</td>\n",
              "    </tr>\n",
              "    <tr>\n",
              "      <th>819</th>\n",
              "      <td>1</td>\n",
              "      <td>628</td>\n",
              "      <td>872</td>\n",
              "      <td>1</td>\n",
              "      <td>5949.56</td>\n",
              "      <td>36</td>\n",
              "      <td>1</td>\n",
              "      <td>1</td>\n",
              "    </tr>\n",
              "    <tr>\n",
              "      <th>4059</th>\n",
              "      <td>1</td>\n",
              "      <td>809</td>\n",
              "      <td>3709</td>\n",
              "      <td>1</td>\n",
              "      <td>58343.46</td>\n",
              "      <td>35</td>\n",
              "      <td>11</td>\n",
              "      <td>15</td>\n",
              "    </tr>\n",
              "    <tr>\n",
              "      <th>34581</th>\n",
              "      <td>1</td>\n",
              "      <td>834</td>\n",
              "      <td>2302</td>\n",
              "      <td>1</td>\n",
              "      <td>113648.33</td>\n",
              "      <td>21</td>\n",
              "      <td>16</td>\n",
              "      <td>15</td>\n",
              "    </tr>\n",
              "    <tr>\n",
              "      <th>5406</th>\n",
              "      <td>1</td>\n",
              "      <td>809</td>\n",
              "      <td>3705</td>\n",
              "      <td>1</td>\n",
              "      <td>8469.46</td>\n",
              "      <td>35</td>\n",
              "      <td>11</td>\n",
              "      <td>15</td>\n",
              "    </tr>\n",
              "    <tr>\n",
              "      <th>...</th>\n",
              "      <td>...</td>\n",
              "      <td>...</td>\n",
              "      <td>...</td>\n",
              "      <td>...</td>\n",
              "      <td>...</td>\n",
              "      <td>...</td>\n",
              "      <td>...</td>\n",
              "      <td>...</td>\n",
              "    </tr>\n",
              "    <tr>\n",
              "      <th>20361</th>\n",
              "      <td>1</td>\n",
              "      <td>772</td>\n",
              "      <td>1970</td>\n",
              "      <td>1</td>\n",
              "      <td>17283.50</td>\n",
              "      <td>21</td>\n",
              "      <td>16</td>\n",
              "      <td>15</td>\n",
              "    </tr>\n",
              "    <tr>\n",
              "      <th>20848</th>\n",
              "      <td>1</td>\n",
              "      <td>809</td>\n",
              "      <td>3702</td>\n",
              "      <td>1</td>\n",
              "      <td>3226.45</td>\n",
              "      <td>35</td>\n",
              "      <td>11</td>\n",
              "      <td>15</td>\n",
              "    </tr>\n",
              "    <tr>\n",
              "      <th>28322</th>\n",
              "      <td>1</td>\n",
              "      <td>794</td>\n",
              "      <td>521</td>\n",
              "      <td>1</td>\n",
              "      <td>18654.40</td>\n",
              "      <td>26</td>\n",
              "      <td>15</td>\n",
              "      <td>15</td>\n",
              "    </tr>\n",
              "    <tr>\n",
              "      <th>23156</th>\n",
              "      <td>1</td>\n",
              "      <td>815</td>\n",
              "      <td>231</td>\n",
              "      <td>1</td>\n",
              "      <td>59372.92</td>\n",
              "      <td>50</td>\n",
              "      <td>15</td>\n",
              "      <td>15</td>\n",
              "    </tr>\n",
              "    <tr>\n",
              "      <th>4937</th>\n",
              "      <td>4</td>\n",
              "      <td>318</td>\n",
              "      <td>2743</td>\n",
              "      <td>1</td>\n",
              "      <td>17806.82</td>\n",
              "      <td>60</td>\n",
              "      <td>46</td>\n",
              "      <td>45</td>\n",
              "    </tr>\n",
              "  </tbody>\n",
              "</table>\n",
              "<p>7833 rows × 8 columns</p>\n",
              "</div>"
            ],
            "text/plain": [
              "       business_code  cust_number  ...  accday_for_payment  days_for_payment\n",
              "27712              0          379  ...                  75                19\n",
              "819                1          628  ...                   1                 1\n",
              "4059               1          809  ...                  11                15\n",
              "34581              1          834  ...                  16                15\n",
              "5406               1          809  ...                  11                15\n",
              "...              ...          ...  ...                 ...               ...\n",
              "20361              1          772  ...                  16                15\n",
              "20848              1          809  ...                  11                15\n",
              "28322              1          794  ...                  15                15\n",
              "23156              1          815  ...                  15                15\n",
              "4937               4          318  ...                  46                45\n",
              "\n",
              "[7833 rows x 8 columns]"
            ]
          },
          "metadata": {
            "tags": []
          },
          "execution_count": 82
        }
      ]
    },
    {
      "cell_type": "code",
      "metadata": {
        "id": "i3LzFNQd_Ih4"
      },
      "source": [
        "X_test = X_test.drop(['due_in_days','due_in_weeks','due_in_months','posting_days','posting_weeks','posting_months'],axis=1)"
      ],
      "execution_count": null,
      "outputs": []
    },
    {
      "cell_type": "code",
      "metadata": {
        "colab": {
          "base_uri": "https://localhost:8080/",
          "height": 419
        },
        "id": "EZb_Uryq_OrH",
        "outputId": "a547279a-9500-42f7-a563-ccd318f091cc"
      },
      "source": [
        "X_test"
      ],
      "execution_count": null,
      "outputs": [
        {
          "output_type": "execute_result",
          "data": {
            "text/html": [
              "<div>\n",
              "<style scoped>\n",
              "    .dataframe tbody tr th:only-of-type {\n",
              "        vertical-align: middle;\n",
              "    }\n",
              "\n",
              "    .dataframe tbody tr th {\n",
              "        vertical-align: top;\n",
              "    }\n",
              "\n",
              "    .dataframe thead th {\n",
              "        text-align: right;\n",
              "    }\n",
              "</style>\n",
              "<table border=\"1\" class=\"dataframe\">\n",
              "  <thead>\n",
              "    <tr style=\"text-align: right;\">\n",
              "      <th></th>\n",
              "      <th>business_code</th>\n",
              "      <th>cust_number</th>\n",
              "      <th>name_customer</th>\n",
              "      <th>invoice_currency</th>\n",
              "      <th>total_open_amount</th>\n",
              "      <th>cust_payment_terms</th>\n",
              "      <th>accday_for_payment</th>\n",
              "      <th>days_for_payment</th>\n",
              "    </tr>\n",
              "  </thead>\n",
              "  <tbody>\n",
              "    <tr>\n",
              "      <th>19214</th>\n",
              "      <td>1</td>\n",
              "      <td>499</td>\n",
              "      <td>3033</td>\n",
              "      <td>1</td>\n",
              "      <td>45400.00</td>\n",
              "      <td>21</td>\n",
              "      <td>15</td>\n",
              "      <td>15</td>\n",
              "    </tr>\n",
              "    <tr>\n",
              "      <th>35795</th>\n",
              "      <td>0</td>\n",
              "      <td>329</td>\n",
              "      <td>26</td>\n",
              "      <td>0</td>\n",
              "      <td>922.59</td>\n",
              "      <td>7</td>\n",
              "      <td>10</td>\n",
              "      <td>12</td>\n",
              "    </tr>\n",
              "    <tr>\n",
              "      <th>9319</th>\n",
              "      <td>1</td>\n",
              "      <td>149</td>\n",
              "      <td>2366</td>\n",
              "      <td>1</td>\n",
              "      <td>9107.70</td>\n",
              "      <td>21</td>\n",
              "      <td>21</td>\n",
              "      <td>15</td>\n",
              "    </tr>\n",
              "    <tr>\n",
              "      <th>27590</th>\n",
              "      <td>1</td>\n",
              "      <td>814</td>\n",
              "      <td>2987</td>\n",
              "      <td>1</td>\n",
              "      <td>86085.89</td>\n",
              "      <td>21</td>\n",
              "      <td>15</td>\n",
              "      <td>15</td>\n",
              "    </tr>\n",
              "    <tr>\n",
              "      <th>3959</th>\n",
              "      <td>1</td>\n",
              "      <td>894</td>\n",
              "      <td>862</td>\n",
              "      <td>1</td>\n",
              "      <td>1779.36</td>\n",
              "      <td>39</td>\n",
              "      <td>2</td>\n",
              "      <td>11</td>\n",
              "    </tr>\n",
              "    <tr>\n",
              "      <th>...</th>\n",
              "      <td>...</td>\n",
              "      <td>...</td>\n",
              "      <td>...</td>\n",
              "      <td>...</td>\n",
              "      <td>...</td>\n",
              "      <td>...</td>\n",
              "      <td>...</td>\n",
              "      <td>...</td>\n",
              "    </tr>\n",
              "    <tr>\n",
              "      <th>9958</th>\n",
              "      <td>1</td>\n",
              "      <td>1295</td>\n",
              "      <td>1920</td>\n",
              "      <td>1</td>\n",
              "      <td>6690.20</td>\n",
              "      <td>70</td>\n",
              "      <td>46</td>\n",
              "      <td>0</td>\n",
              "    </tr>\n",
              "    <tr>\n",
              "      <th>34619</th>\n",
              "      <td>1</td>\n",
              "      <td>837</td>\n",
              "      <td>1810</td>\n",
              "      <td>1</td>\n",
              "      <td>3344.34</td>\n",
              "      <td>29</td>\n",
              "      <td>20</td>\n",
              "      <td>20</td>\n",
              "    </tr>\n",
              "    <tr>\n",
              "      <th>17469</th>\n",
              "      <td>1</td>\n",
              "      <td>711</td>\n",
              "      <td>376</td>\n",
              "      <td>1</td>\n",
              "      <td>189.80</td>\n",
              "      <td>21</td>\n",
              "      <td>15</td>\n",
              "      <td>15</td>\n",
              "    </tr>\n",
              "    <tr>\n",
              "      <th>17392</th>\n",
              "      <td>1</td>\n",
              "      <td>809</td>\n",
              "      <td>3703</td>\n",
              "      <td>1</td>\n",
              "      <td>26878.49</td>\n",
              "      <td>35</td>\n",
              "      <td>12</td>\n",
              "      <td>15</td>\n",
              "    </tr>\n",
              "    <tr>\n",
              "      <th>30058</th>\n",
              "      <td>0</td>\n",
              "      <td>372</td>\n",
              "      <td>1395</td>\n",
              "      <td>0</td>\n",
              "      <td>60718.96</td>\n",
              "      <td>7</td>\n",
              "      <td>12</td>\n",
              "      <td>12</td>\n",
              "    </tr>\n",
              "  </tbody>\n",
              "</table>\n",
              "<p>7834 rows × 8 columns</p>\n",
              "</div>"
            ],
            "text/plain": [
              "       business_code  cust_number  ...  accday_for_payment  days_for_payment\n",
              "19214              1          499  ...                  15                15\n",
              "35795              0          329  ...                  10                12\n",
              "9319               1          149  ...                  21                15\n",
              "27590              1          814  ...                  15                15\n",
              "3959               1          894  ...                   2                11\n",
              "...              ...          ...  ...                 ...               ...\n",
              "9958               1         1295  ...                  46                 0\n",
              "34619              1          837  ...                  20                20\n",
              "17469              1          711  ...                  15                15\n",
              "17392              1          809  ...                  12                15\n",
              "30058              0          372  ...                  12                12\n",
              "\n",
              "[7834 rows x 8 columns]"
            ]
          },
          "metadata": {
            "tags": []
          },
          "execution_count": 84
        }
      ]
    },
    {
      "cell_type": "markdown",
      "metadata": {
        "id": "x1o2BprtlLNZ"
      },
      "source": [
        "**Splitting the X_train into X_train and y_train**"
      ]
    },
    {
      "cell_type": "code",
      "metadata": {
        "colab": {
          "base_uri": "https://localhost:8080/"
        },
        "id": "Gtsdr32hlRmu",
        "outputId": "b0eadd5a-f957-47ab-e31c-023144724ddf"
      },
      "source": [
        "y_train = X_train['accday_for_payment']\n",
        "X_train = X_train.drop(['accday_for_payment'],axis=1)\n",
        "X_train.shape,y_train.shape"
      ],
      "execution_count": null,
      "outputs": [
        {
          "output_type": "execute_result",
          "data": {
            "text/plain": [
              "((23468, 7), (23468,))"
            ]
          },
          "metadata": {
            "tags": []
          },
          "execution_count": 85
        }
      ]
    },
    {
      "cell_type": "markdown",
      "metadata": {
        "id": "sEv6dwwdldHv"
      },
      "source": [
        "**Splitting the X_validate into X_validate and y_validate**"
      ]
    },
    {
      "cell_type": "code",
      "metadata": {
        "colab": {
          "base_uri": "https://localhost:8080/"
        },
        "id": "NceJPIf-llM-",
        "outputId": "57001611-714e-4acb-ac58-18b71b96c379"
      },
      "source": [
        "y_validate = X_validate['accday_for_payment']\n",
        "X_validate = X_validate.drop(['accday_for_payment'],axis=1)\n",
        "X_validate.shape,y_validate.shape"
      ],
      "execution_count": null,
      "outputs": [
        {
          "output_type": "execute_result",
          "data": {
            "text/plain": [
              "((7833, 7), (7833,))"
            ]
          },
          "metadata": {
            "tags": []
          },
          "execution_count": 86
        }
      ]
    },
    {
      "cell_type": "markdown",
      "metadata": {
        "id": "frNlQL2qlw-7"
      },
      "source": [
        "**Splitting the X_test into X_test and y_test**"
      ]
    },
    {
      "cell_type": "code",
      "metadata": {
        "colab": {
          "base_uri": "https://localhost:8080/"
        },
        "id": "RV3aeEqul68q",
        "outputId": "a02c5a63-0784-431b-8a51-9b619bee90dd"
      },
      "source": [
        "y_test = X_test['accday_for_payment']\n",
        "X_test = X_test.drop(['accday_for_payment'],axis=1)\n",
        "X_test.shape,y_test.shape"
      ],
      "execution_count": null,
      "outputs": [
        {
          "output_type": "execute_result",
          "data": {
            "text/plain": [
              "((7834, 7), (7834,))"
            ]
          },
          "metadata": {
            "tags": []
          },
          "execution_count": 87
        }
      ]
    },
    {
      "cell_type": "markdown",
      "metadata": {
        "id": "F0FS2SNuGA7Z"
      },
      "source": [
        "**Combining the X_train,X_validate and X_test dataframe into one single dataframe. <br>This combined dataframe will be used to train the final model which will be used to make final prediction on the null_df.<br>null_df is one which containd clear_date column as NAN value**"
      ]
    },
    {
      "cell_type": "code",
      "metadata": {
        "id": "AJCQaocEGudg"
      },
      "source": [
        "main_df_ini = X_train.append(X_validate)"
      ],
      "execution_count": null,
      "outputs": []
    },
    {
      "cell_type": "code",
      "metadata": {
        "id": "WJsZ4S-DHRSG"
      },
      "source": [
        "main_df = main_df_ini.append(X_test)"
      ],
      "execution_count": null,
      "outputs": []
    },
    {
      "cell_type": "code",
      "metadata": {
        "colab": {
          "base_uri": "https://localhost:8080/",
          "height": 419
        },
        "id": "5TxJdczzHRF4",
        "outputId": "9420e87d-b5f0-47ac-95fe-17f6845b3b53"
      },
      "source": [
        "main_df"
      ],
      "execution_count": null,
      "outputs": [
        {
          "output_type": "execute_result",
          "data": {
            "text/html": [
              "<div>\n",
              "<style scoped>\n",
              "    .dataframe tbody tr th:only-of-type {\n",
              "        vertical-align: middle;\n",
              "    }\n",
              "\n",
              "    .dataframe tbody tr th {\n",
              "        vertical-align: top;\n",
              "    }\n",
              "\n",
              "    .dataframe thead th {\n",
              "        text-align: right;\n",
              "    }\n",
              "</style>\n",
              "<table border=\"1\" class=\"dataframe\">\n",
              "  <thead>\n",
              "    <tr style=\"text-align: right;\">\n",
              "      <th></th>\n",
              "      <th>business_code</th>\n",
              "      <th>cust_number</th>\n",
              "      <th>name_customer</th>\n",
              "      <th>invoice_currency</th>\n",
              "      <th>total_open_amount</th>\n",
              "      <th>cust_payment_terms</th>\n",
              "      <th>days_for_payment</th>\n",
              "    </tr>\n",
              "  </thead>\n",
              "  <tbody>\n",
              "    <tr>\n",
              "      <th>24210</th>\n",
              "      <td>1</td>\n",
              "      <td>796</td>\n",
              "      <td>1514</td>\n",
              "      <td>1</td>\n",
              "      <td>17050.31</td>\n",
              "      <td>67</td>\n",
              "      <td>75</td>\n",
              "    </tr>\n",
              "    <tr>\n",
              "      <th>24365</th>\n",
              "      <td>1</td>\n",
              "      <td>1295</td>\n",
              "      <td>1927</td>\n",
              "      <td>1</td>\n",
              "      <td>23539.02</td>\n",
              "      <td>70</td>\n",
              "      <td>0</td>\n",
              "    </tr>\n",
              "    <tr>\n",
              "      <th>11779</th>\n",
              "      <td>1</td>\n",
              "      <td>889</td>\n",
              "      <td>2269</td>\n",
              "      <td>1</td>\n",
              "      <td>109.73</td>\n",
              "      <td>21</td>\n",
              "      <td>15</td>\n",
              "    </tr>\n",
              "    <tr>\n",
              "      <th>36202</th>\n",
              "      <td>1</td>\n",
              "      <td>711</td>\n",
              "      <td>381</td>\n",
              "      <td>1</td>\n",
              "      <td>179.57</td>\n",
              "      <td>21</td>\n",
              "      <td>15</td>\n",
              "    </tr>\n",
              "    <tr>\n",
              "      <th>18607</th>\n",
              "      <td>1</td>\n",
              "      <td>1243</td>\n",
              "      <td>747</td>\n",
              "      <td>1</td>\n",
              "      <td>15284.38</td>\n",
              "      <td>23</td>\n",
              "      <td>15</td>\n",
              "    </tr>\n",
              "    <tr>\n",
              "      <th>...</th>\n",
              "      <td>...</td>\n",
              "      <td>...</td>\n",
              "      <td>...</td>\n",
              "      <td>...</td>\n",
              "      <td>...</td>\n",
              "      <td>...</td>\n",
              "      <td>...</td>\n",
              "    </tr>\n",
              "    <tr>\n",
              "      <th>9958</th>\n",
              "      <td>1</td>\n",
              "      <td>1295</td>\n",
              "      <td>1920</td>\n",
              "      <td>1</td>\n",
              "      <td>6690.20</td>\n",
              "      <td>70</td>\n",
              "      <td>0</td>\n",
              "    </tr>\n",
              "    <tr>\n",
              "      <th>34619</th>\n",
              "      <td>1</td>\n",
              "      <td>837</td>\n",
              "      <td>1810</td>\n",
              "      <td>1</td>\n",
              "      <td>3344.34</td>\n",
              "      <td>29</td>\n",
              "      <td>20</td>\n",
              "    </tr>\n",
              "    <tr>\n",
              "      <th>17469</th>\n",
              "      <td>1</td>\n",
              "      <td>711</td>\n",
              "      <td>376</td>\n",
              "      <td>1</td>\n",
              "      <td>189.80</td>\n",
              "      <td>21</td>\n",
              "      <td>15</td>\n",
              "    </tr>\n",
              "    <tr>\n",
              "      <th>17392</th>\n",
              "      <td>1</td>\n",
              "      <td>809</td>\n",
              "      <td>3703</td>\n",
              "      <td>1</td>\n",
              "      <td>26878.49</td>\n",
              "      <td>35</td>\n",
              "      <td>15</td>\n",
              "    </tr>\n",
              "    <tr>\n",
              "      <th>30058</th>\n",
              "      <td>0</td>\n",
              "      <td>372</td>\n",
              "      <td>1395</td>\n",
              "      <td>0</td>\n",
              "      <td>60718.96</td>\n",
              "      <td>7</td>\n",
              "      <td>12</td>\n",
              "    </tr>\n",
              "  </tbody>\n",
              "</table>\n",
              "<p>39135 rows × 7 columns</p>\n",
              "</div>"
            ],
            "text/plain": [
              "       business_code  cust_number  ...  cust_payment_terms  days_for_payment\n",
              "24210              1          796  ...                  67                75\n",
              "24365              1         1295  ...                  70                 0\n",
              "11779              1          889  ...                  21                15\n",
              "36202              1          711  ...                  21                15\n",
              "18607              1         1243  ...                  23                15\n",
              "...              ...          ...  ...                 ...               ...\n",
              "9958               1         1295  ...                  70                 0\n",
              "34619              1          837  ...                  29                20\n",
              "17469              1          711  ...                  21                15\n",
              "17392              1          809  ...                  35                15\n",
              "30058              0          372  ...                   7                12\n",
              "\n",
              "[39135 rows x 7 columns]"
            ]
          },
          "metadata": {
            "tags": []
          },
          "execution_count": 93
        }
      ]
    },
    {
      "cell_type": "code",
      "metadata": {
        "id": "MCnM1KEZIwHB"
      },
      "source": [
        "main_df_ini_train = y_train.append(y_validate)\n",
        "main_df_train = main_df_ini_train.append(y_test)"
      ],
      "execution_count": null,
      "outputs": []
    },
    {
      "cell_type": "code",
      "metadata": {
        "colab": {
          "base_uri": "https://localhost:8080/"
        },
        "id": "it12Pto2I87B",
        "outputId": "38d44fa1-495c-47dc-8fd8-6b848d86bcf8"
      },
      "source": [
        "main_df_train"
      ],
      "execution_count": null,
      "outputs": [
        {
          "output_type": "execute_result",
          "data": {
            "text/plain": [
              "24210    73\n",
              "24365    55\n",
              "11779    15\n",
              "36202    17\n",
              "18607    14\n",
              "         ..\n",
              "9958     46\n",
              "34619    20\n",
              "17469    15\n",
              "17392    12\n",
              "30058    12\n",
              "Name: accday_for_payment, Length: 39135, dtype: int64"
            ]
          },
          "metadata": {
            "tags": []
          },
          "execution_count": 127
        }
      ]
    },
    {
      "cell_type": "markdown",
      "metadata": {
        "id": "4qKZoD_ymrpn"
      },
      "source": [
        "#Modeling"
      ]
    },
    {
      "cell_type": "markdown",
      "metadata": {
        "id": "cQx0aUH0_eil"
      },
      "source": [
        "<br>\n",
        "The Metric being used in Model Testing are - \n",
        "\n",
        "1. `MSE`: Mean Square Error. (measure of how well a regression line fits the data points)\n",
        "2. `r2 score`. (R-squared is a statistical measure of how close the data are to the fitted regression line.)"
      ]
    },
    {
      "cell_type": "markdown",
      "metadata": {
        "id": "d4EZuaEwj0m0"
      },
      "source": [
        "I have used 6 list to find the table to compare the models.<br> One with '_test' at the end of its name is for the predicted value for the test dataset while other is for the validate dataset "
      ]
    },
    {
      "cell_type": "code",
      "metadata": {
        "id": "yN__Zpqp_d4L"
      },
      "source": [
        "MSE_Score = []\n",
        "R2_Score = []\n",
        "Algorithm = []\n",
        "\n",
        "MSE_Score_test = []\n",
        "R2_Score_test = []\n",
        "Algorithm_test = []"
      ],
      "execution_count": null,
      "outputs": []
    },
    {
      "cell_type": "markdown",
      "metadata": {
        "id": "OGfcaZCpmuwM"
      },
      "source": [
        "**Linear Regression**"
      ]
    },
    {
      "cell_type": "code",
      "metadata": {
        "id": "gQoo1D2omyRM"
      },
      "source": [
        "from sklearn.linear_model import LinearRegression"
      ],
      "execution_count": null,
      "outputs": []
    },
    {
      "cell_type": "code",
      "metadata": {
        "colab": {
          "base_uri": "https://localhost:8080/"
        },
        "id": "FR3PL4jvm8vu",
        "outputId": "630a2bae-b836-44c2-d72e-93395e6868c7"
      },
      "source": [
        "Algorithm.append('Linear Regression')\n",
        "clf_lreg = LinearRegression()\n",
        "clf_lreg.fit(X_train,y_train)"
      ],
      "execution_count": null,
      "outputs": [
        {
          "output_type": "execute_result",
          "data": {
            "text/plain": [
              "LinearRegression(copy_X=True, fit_intercept=True, n_jobs=None, normalize=False)"
            ]
          },
          "metadata": {
            "tags": []
          },
          "execution_count": 96
        }
      ]
    },
    {
      "cell_type": "markdown",
      "metadata": {
        "id": "6z1JBMLhALUk"
      },
      "source": [
        "**Predicting the X_validate**"
      ]
    },
    {
      "cell_type": "code",
      "metadata": {
        "colab": {
          "base_uri": "https://localhost:8080/"
        },
        "id": "yHlashrWnFY1",
        "outputId": "a92714b9-340c-4e64-9db3-fe0dc31e1dd5"
      },
      "source": [
        "y_pred = clf_lreg.predict(X_validate)\n",
        "y_pred"
      ],
      "execution_count": null,
      "outputs": [
        {
          "output_type": "execute_result",
          "data": {
            "text/plain": [
              "array([21.99857297,  6.16595198, 16.09158164, ..., 16.6031704 ,\n",
              "       20.09579418, 48.80538774])"
            ]
          },
          "metadata": {
            "tags": []
          },
          "execution_count": 97
        }
      ]
    },
    {
      "cell_type": "code",
      "metadata": {
        "id": "MCfcslkBnPpB"
      },
      "source": [
        "from sklearn.metrics import mean_squared_error\n",
        "from sklearn.metrics import r2_score\n",
        "MSE_Score.append(mean_squared_error(y_validate,y_pred))\n",
        "R2_Score.append(r2_score(y_validate,y_pred))"
      ],
      "execution_count": null,
      "outputs": []
    },
    {
      "cell_type": "markdown",
      "metadata": {
        "id": "DLRTdUOmAbb_"
      },
      "source": [
        "**Predicting for X_test data set**"
      ]
    },
    {
      "cell_type": "code",
      "metadata": {
        "colab": {
          "base_uri": "https://localhost:8080/"
        },
        "id": "K7SNOm56Aw1H",
        "outputId": "8c8e7530-97b6-4e0d-cf9b-fc262d1d6d2a"
      },
      "source": [
        "Algorithm_test.append('Linear Regression')\n",
        "y_pred = clf_lreg.predict(X_test)\n",
        "y_pred"
      ],
      "execution_count": null,
      "outputs": [
        {
          "output_type": "execute_result",
          "data": {
            "text/plain": [
              "array([12.01633779, 18.44458177,  9.46771681, ..., 15.33564348,\n",
              "       16.1152847 , 17.9936487 ])"
            ]
          },
          "metadata": {
            "tags": []
          },
          "execution_count": 99
        }
      ]
    },
    {
      "cell_type": "code",
      "metadata": {
        "id": "iAZwEY11A75i"
      },
      "source": [
        "MSE_Score_test.append(mean_squared_error(y_test,y_pred))\n",
        "R2_Score_test.append(r2_score(y_test,y_pred))"
      ],
      "execution_count": null,
      "outputs": []
    },
    {
      "cell_type": "markdown",
      "metadata": {
        "id": "HIN1MzXbBKYV"
      },
      "source": [
        "**Support Vector Regression**"
      ]
    },
    {
      "cell_type": "code",
      "metadata": {
        "colab": {
          "base_uri": "https://localhost:8080/"
        },
        "id": "GjnFrkY1BShR",
        "outputId": "7f5d560f-8067-4b19-a549-aea83d94472e"
      },
      "source": [
        "from sklearn.svm import SVR\n",
        "Algorithm.append('Support Vector Regression')\n",
        "clf_svr = SVR()\n",
        "clf_svr.fit(X_train,y_train)"
      ],
      "execution_count": null,
      "outputs": [
        {
          "output_type": "execute_result",
          "data": {
            "text/plain": [
              "SVR(C=1.0, cache_size=200, coef0=0.0, degree=3, epsilon=0.1, gamma='scale',\n",
              "    kernel='rbf', max_iter=-1, shrinking=True, tol=0.001, verbose=False)"
            ]
          },
          "metadata": {
            "tags": []
          },
          "execution_count": 101
        }
      ]
    },
    {
      "cell_type": "markdown",
      "metadata": {
        "id": "tqUhielLFsd3"
      },
      "source": [
        "**Predicting for X_validation**"
      ]
    },
    {
      "cell_type": "code",
      "metadata": {
        "colab": {
          "base_uri": "https://localhost:8080/"
        },
        "id": "WkMuA9cGByKS",
        "outputId": "bb7539c4-8795-4b7c-fc10-da6fbd0ab644"
      },
      "source": [
        "y_pred = clf_svr.predict(X_validate)\n",
        "y_pred"
      ],
      "execution_count": null,
      "outputs": [
        {
          "output_type": "execute_result",
          "data": {
            "text/plain": [
              "array([14.87245959, 15.1588067 , 14.75700562, ..., 15.33102511,\n",
              "       15.22047907, 15.03652235])"
            ]
          },
          "metadata": {
            "tags": []
          },
          "execution_count": 102
        }
      ]
    },
    {
      "cell_type": "code",
      "metadata": {
        "id": "Ew0scJRdCDBD"
      },
      "source": [
        "MSE_Score.append(mean_squared_error(y_validate,y_pred))\n",
        "R2_Score.append(r2_score(y_validate,y_pred))"
      ],
      "execution_count": null,
      "outputs": []
    },
    {
      "cell_type": "markdown",
      "metadata": {
        "id": "HcNgoLSxCJY-"
      },
      "source": [
        "**Predicting for X_test**"
      ]
    },
    {
      "cell_type": "code",
      "metadata": {
        "colab": {
          "base_uri": "https://localhost:8080/"
        },
        "id": "jW1L3nKZCOpr",
        "outputId": "69c8cf59-0910-4c14-b2d0-913747f3dfe5"
      },
      "source": [
        "Algorithm_test.append('Support Vector Regression')\n",
        "y_pred = clf_svr.predict(X_test)\n",
        "y_pred"
      ],
      "execution_count": null,
      "outputs": [
        {
          "output_type": "execute_result",
          "data": {
            "text/plain": [
              "array([14.83215447, 15.11538906, 15.01463433, ..., 15.09079792,\n",
              "       14.89596826, 15.08910272])"
            ]
          },
          "metadata": {
            "tags": []
          },
          "execution_count": 104
        }
      ]
    },
    {
      "cell_type": "code",
      "metadata": {
        "id": "ND6g0mJJEoRf"
      },
      "source": [
        "MSE_Score_test.append(mean_squared_error(y_test,y_pred))\n",
        "R2_Score_test.append(r2_score(y_test,y_pred))"
      ],
      "execution_count": null,
      "outputs": []
    },
    {
      "cell_type": "markdown",
      "metadata": {
        "id": "lJOhkvwVEsGs"
      },
      "source": [
        "**Decision Tree Regressor**"
      ]
    },
    {
      "cell_type": "code",
      "metadata": {
        "id": "oaZ_Iuf2E1dH"
      },
      "source": [
        "from sklearn.tree import DecisionTreeRegressor"
      ],
      "execution_count": null,
      "outputs": []
    },
    {
      "cell_type": "code",
      "metadata": {
        "colab": {
          "base_uri": "https://localhost:8080/"
        },
        "id": "yfNI4uF_FBuS",
        "outputId": "0077f42d-0bba-4a04-f676-05b750eac84d"
      },
      "source": [
        "Algorithm.append('Decision Tree Regressor')\n",
        "clf_dreg = DecisionTreeRegressor()\n",
        "clf_dreg.fit(X_train, y_train)"
      ],
      "execution_count": null,
      "outputs": [
        {
          "output_type": "execute_result",
          "data": {
            "text/plain": [
              "DecisionTreeRegressor(ccp_alpha=0.0, criterion='mse', max_depth=None,\n",
              "                      max_features=None, max_leaf_nodes=None,\n",
              "                      min_impurity_decrease=0.0, min_impurity_split=None,\n",
              "                      min_samples_leaf=1, min_samples_split=2,\n",
              "                      min_weight_fraction_leaf=0.0, presort='deprecated',\n",
              "                      random_state=None, splitter='best')"
            ]
          },
          "metadata": {
            "tags": []
          },
          "execution_count": 107
        }
      ]
    },
    {
      "cell_type": "markdown",
      "metadata": {
        "id": "ZgupO4koKFq2"
      },
      "source": [
        "**Predicting for X_validate**"
      ]
    },
    {
      "cell_type": "code",
      "metadata": {
        "colab": {
          "base_uri": "https://localhost:8080/"
        },
        "id": "PRo4NOYQF5Ix",
        "outputId": "35cd4bfe-2bde-48cd-c8f9-ca7231269cca"
      },
      "source": [
        "y_pred = clf_dreg.predict(X_validate)\n",
        "y_pred"
      ],
      "execution_count": null,
      "outputs": [
        {
          "output_type": "execute_result",
          "data": {
            "text/plain": [
              "array([75.,  1., 10., ..., 15., 16., 48.])"
            ]
          },
          "metadata": {
            "tags": []
          },
          "execution_count": 108
        }
      ]
    },
    {
      "cell_type": "code",
      "metadata": {
        "id": "uQD5flDaGKy4"
      },
      "source": [
        "MSE_Score.append(mean_squared_error(y_validate,y_pred))\n",
        "R2_Score.append(r2_score(y_validate,y_pred))"
      ],
      "execution_count": null,
      "outputs": []
    },
    {
      "cell_type": "markdown",
      "metadata": {
        "id": "2cHMGpZiGOo0"
      },
      "source": [
        "**Predicting for X_test**"
      ]
    },
    {
      "cell_type": "code",
      "metadata": {
        "colab": {
          "base_uri": "https://localhost:8080/"
        },
        "id": "xxuoo6xiGRuH",
        "outputId": "67b8492a-21eb-4b8d-97f5-47955ea45111"
      },
      "source": [
        "Algorithm_test.append('Decision Tree Regressor')\n",
        "y_pred = clf_dreg.predict(X_test)\n",
        "y_pred"
      ],
      "execution_count": null,
      "outputs": [
        {
          "output_type": "execute_result",
          "data": {
            "text/plain": [
              "array([14., 15., 15., ..., 17., 13., 11.])"
            ]
          },
          "metadata": {
            "tags": []
          },
          "execution_count": 110
        }
      ]
    },
    {
      "cell_type": "code",
      "metadata": {
        "id": "GJanVr-PGkKj"
      },
      "source": [
        "MSE_Score_test.append(mean_squared_error(y_test,y_pred))\n",
        "R2_Score_test.append(r2_score(y_test,y_pred))"
      ],
      "execution_count": null,
      "outputs": []
    },
    {
      "cell_type": "markdown",
      "metadata": {
        "id": "sAAxwMMGGtaI"
      },
      "source": [
        "**Random Forest Regressor**"
      ]
    },
    {
      "cell_type": "code",
      "metadata": {
        "colab": {
          "base_uri": "https://localhost:8080/"
        },
        "id": "LZdOK-SFGzPM",
        "outputId": "01d993e5-e360-423b-8c0a-e11f06fea8db"
      },
      "source": [
        "from sklearn.ensemble import RandomForestRegressor\n",
        "Algorithm.append('Random Forest Regressor')\n",
        "clf_rand = RandomForestRegressor()\n",
        "clf_rand.fit(X_train, y_train)"
      ],
      "execution_count": null,
      "outputs": [
        {
          "output_type": "execute_result",
          "data": {
            "text/plain": [
              "RandomForestRegressor(bootstrap=True, ccp_alpha=0.0, criterion='mse',\n",
              "                      max_depth=None, max_features='auto', max_leaf_nodes=None,\n",
              "                      max_samples=None, min_impurity_decrease=0.0,\n",
              "                      min_impurity_split=None, min_samples_leaf=1,\n",
              "                      min_samples_split=2, min_weight_fraction_leaf=0.0,\n",
              "                      n_estimators=100, n_jobs=None, oob_score=False,\n",
              "                      random_state=None, verbose=0, warm_start=False)"
            ]
          },
          "metadata": {
            "tags": []
          },
          "execution_count": 112
        }
      ]
    },
    {
      "cell_type": "markdown",
      "metadata": {
        "id": "sEH4yotcHReq"
      },
      "source": [
        "**Predicting for X_validate**"
      ]
    },
    {
      "cell_type": "code",
      "metadata": {
        "colab": {
          "base_uri": "https://localhost:8080/"
        },
        "id": "Hpt29-czG_H-",
        "outputId": "23bc7149-f8e8-4257-9cf5-b72d9a002d17"
      },
      "source": [
        "y_pred = clf_rand.predict(X_validate)\n",
        "y_pred"
      ],
      "execution_count": null,
      "outputs": [
        {
          "output_type": "execute_result",
          "data": {
            "text/plain": [
              "array([74.55,  1.61, 10.27, ..., 15.2 , 16.32, 46.55])"
            ]
          },
          "metadata": {
            "tags": []
          },
          "execution_count": 113
        }
      ]
    },
    {
      "cell_type": "code",
      "metadata": {
        "id": "4XrGY_WsHKrA"
      },
      "source": [
        "MSE_Score.append(mean_squared_error(y_validate,y_pred))\n",
        "R2_Score.append(r2_score(y_validate,y_pred))"
      ],
      "execution_count": null,
      "outputs": []
    },
    {
      "cell_type": "markdown",
      "metadata": {
        "id": "ESjO9R9yHU1x"
      },
      "source": [
        "**Predicting for X_test**"
      ]
    },
    {
      "cell_type": "code",
      "metadata": {
        "colab": {
          "base_uri": "https://localhost:8080/"
        },
        "id": "F8KhGep_HX05",
        "outputId": "2cd3d59f-5ef7-4139-b902-9d9566a6aa86"
      },
      "source": [
        "Algorithm_test.append('Random Forest Regressor')\n",
        "y_pred = clf_rand.predict(X_test)\n",
        "y_pred"
      ],
      "execution_count": null,
      "outputs": [
        {
          "output_type": "execute_result",
          "data": {
            "text/plain": [
              "array([14.35, 15.45, 23.97, ..., 16.29, 13.06, 13.79])"
            ]
          },
          "metadata": {
            "tags": []
          },
          "execution_count": 115
        }
      ]
    },
    {
      "cell_type": "code",
      "metadata": {
        "id": "X57iVZtgHd9x"
      },
      "source": [
        "MSE_Score_test.append(mean_squared_error(y_test,y_pred))\n",
        "R2_Score_test.append(r2_score(y_test,y_pred))"
      ],
      "execution_count": null,
      "outputs": []
    },
    {
      "cell_type": "markdown",
      "metadata": {
        "id": "2hhCN5MwHhQQ"
      },
      "source": [
        "**XGB Regressor**"
      ]
    },
    {
      "cell_type": "code",
      "metadata": {
        "colab": {
          "base_uri": "https://localhost:8080/"
        },
        "id": "A3sLVETkHn4c",
        "outputId": "b7bdbbcf-1264-43f7-dbd6-ff9d9da29bd5"
      },
      "source": [
        "import xgboost as xgb\n",
        "Algorithm.append('XGB Regressor')\n",
        "clf_xgb = RandomForestRegressor()\n",
        "clf_xgb.fit(X_train, y_train)"
      ],
      "execution_count": null,
      "outputs": [
        {
          "output_type": "execute_result",
          "data": {
            "text/plain": [
              "RandomForestRegressor(bootstrap=True, ccp_alpha=0.0, criterion='mse',\n",
              "                      max_depth=None, max_features='auto', max_leaf_nodes=None,\n",
              "                      max_samples=None, min_impurity_decrease=0.0,\n",
              "                      min_impurity_split=None, min_samples_leaf=1,\n",
              "                      min_samples_split=2, min_weight_fraction_leaf=0.0,\n",
              "                      n_estimators=100, n_jobs=None, oob_score=False,\n",
              "                      random_state=None, verbose=0, warm_start=False)"
            ]
          },
          "metadata": {
            "tags": []
          },
          "execution_count": 117
        }
      ]
    },
    {
      "cell_type": "markdown",
      "metadata": {
        "id": "ahbGOs-eIDKP"
      },
      "source": [
        "**Predicting for X_validate**"
      ]
    },
    {
      "cell_type": "code",
      "metadata": {
        "colab": {
          "base_uri": "https://localhost:8080/"
        },
        "id": "XJocTb1sH4Qs",
        "outputId": "a18cb88a-de5f-449b-e792-f74bc47d25b3"
      },
      "source": [
        "y_pred = clf_xgb.predict(X_validate)\n",
        "y_pred"
      ],
      "execution_count": null,
      "outputs": [
        {
          "output_type": "execute_result",
          "data": {
            "text/plain": [
              "array([74.91,  1.8 , 10.49, ..., 15.17, 15.79, 47.11])"
            ]
          },
          "metadata": {
            "tags": []
          },
          "execution_count": 118
        }
      ]
    },
    {
      "cell_type": "code",
      "metadata": {
        "id": "Wyz146iuH_fl"
      },
      "source": [
        "MSE_Score.append(mean_squared_error(y_validate,y_pred))\n",
        "R2_Score.append(r2_score(y_validate,y_pred))"
      ],
      "execution_count": null,
      "outputs": []
    },
    {
      "cell_type": "markdown",
      "metadata": {
        "id": "WM7HGOqLIGYM"
      },
      "source": [
        "**Predicting for X_test**"
      ]
    },
    {
      "cell_type": "code",
      "metadata": {
        "colab": {
          "base_uri": "https://localhost:8080/"
        },
        "id": "7I-sGLaYIItZ",
        "outputId": "d1b3a961-2590-47bc-80b3-d206065d9928"
      },
      "source": [
        "Algorithm_test.append('XGB Regressor')\n",
        "y_pred = clf_xgb.predict(X_test)\n",
        "y_pred"
      ],
      "execution_count": null,
      "outputs": [
        {
          "output_type": "execute_result",
          "data": {
            "text/plain": [
              "array([14.39, 14.22, 24.32, ..., 16.5 , 12.82, 14.15])"
            ]
          },
          "metadata": {
            "tags": []
          },
          "execution_count": 120
        }
      ]
    },
    {
      "cell_type": "code",
      "metadata": {
        "id": "qwPRSD2mIM7L"
      },
      "source": [
        "MSE_Score_test.append(mean_squared_error(y_test,y_pred))\n",
        "R2_Score_test.append(r2_score(y_test,y_pred))"
      ],
      "execution_count": null,
      "outputs": []
    },
    {
      "cell_type": "markdown",
      "metadata": {
        "id": "BHYGksN6ITET"
      },
      "source": [
        "#Score Card of the Model's Performances"
      ]
    },
    {
      "cell_type": "markdown",
      "metadata": {
        "id": "IE4ikEQkL2ch"
      },
      "source": [
        "**On X_validate**"
      ]
    },
    {
      "cell_type": "code",
      "metadata": {
        "id": "uoi1v_kUIRjg"
      },
      "source": [
        "Comparison = pd.DataFrame(list(zip(Algorithm, MSE_Score, R2_Score)), columns = ['Algorithm', 'MSE_Score', 'R2_Score'])"
      ],
      "execution_count": null,
      "outputs": []
    },
    {
      "cell_type": "code",
      "metadata": {
        "colab": {
          "base_uri": "https://localhost:8080/",
          "height": 204
        },
        "id": "DpjuCDdZIRB2",
        "outputId": "46cbb0a6-42cf-46e4-8715-1fcee641cf17"
      },
      "source": [
        "Comparison"
      ],
      "execution_count": null,
      "outputs": [
        {
          "output_type": "execute_result",
          "data": {
            "text/html": [
              "<div>\n",
              "<style scoped>\n",
              "    .dataframe tbody tr th:only-of-type {\n",
              "        vertical-align: middle;\n",
              "    }\n",
              "\n",
              "    .dataframe tbody tr th {\n",
              "        vertical-align: top;\n",
              "    }\n",
              "\n",
              "    .dataframe thead th {\n",
              "        text-align: right;\n",
              "    }\n",
              "</style>\n",
              "<table border=\"1\" class=\"dataframe\">\n",
              "  <thead>\n",
              "    <tr style=\"text-align: right;\">\n",
              "      <th></th>\n",
              "      <th>Algorithm</th>\n",
              "      <th>MSE_Score</th>\n",
              "      <th>R2_Score</th>\n",
              "    </tr>\n",
              "  </thead>\n",
              "  <tbody>\n",
              "    <tr>\n",
              "      <th>0</th>\n",
              "      <td>Linear Regression</td>\n",
              "      <td>115.623855</td>\n",
              "      <td>0.427829</td>\n",
              "    </tr>\n",
              "    <tr>\n",
              "      <th>1</th>\n",
              "      <td>Support Vector Regression</td>\n",
              "      <td>211.929923</td>\n",
              "      <td>-0.048746</td>\n",
              "    </tr>\n",
              "    <tr>\n",
              "      <th>2</th>\n",
              "      <td>Decision Tree Regressor</td>\n",
              "      <td>103.688830</td>\n",
              "      <td>0.486890</td>\n",
              "    </tr>\n",
              "    <tr>\n",
              "      <th>3</th>\n",
              "      <td>Random Forest Regressor</td>\n",
              "      <td>74.198526</td>\n",
              "      <td>0.632825</td>\n",
              "    </tr>\n",
              "    <tr>\n",
              "      <th>4</th>\n",
              "      <td>XGB Regressor</td>\n",
              "      <td>74.316196</td>\n",
              "      <td>0.632242</td>\n",
              "    </tr>\n",
              "  </tbody>\n",
              "</table>\n",
              "</div>"
            ],
            "text/plain": [
              "                   Algorithm   MSE_Score  R2_Score\n",
              "0          Linear Regression  115.623855  0.427829\n",
              "1  Support Vector Regression  211.929923 -0.048746\n",
              "2    Decision Tree Regressor  103.688830  0.486890\n",
              "3    Random Forest Regressor   74.198526  0.632825\n",
              "4              XGB Regressor   74.316196  0.632242"
            ]
          },
          "metadata": {
            "tags": []
          },
          "execution_count": 123
        }
      ]
    },
    {
      "cell_type": "markdown",
      "metadata": {
        "id": "Xqq3GTz6L7Fu"
      },
      "source": [
        "**On X_test**"
      ]
    },
    {
      "cell_type": "code",
      "metadata": {
        "id": "Gn02UgUmIQ-J"
      },
      "source": [
        "Comparison = pd.DataFrame(list(zip(Algorithm_test, MSE_Score_test, R2_Score_test)), columns = ['Algorithm', 'MSE_Score', 'R2_Score'])"
      ],
      "execution_count": null,
      "outputs": []
    },
    {
      "cell_type": "code",
      "metadata": {
        "colab": {
          "base_uri": "https://localhost:8080/",
          "height": 204
        },
        "id": "SVgBnPKUIQ8C",
        "outputId": "8036b694-f7dd-4f12-ebb7-03a4a9ed1d7c"
      },
      "source": [
        "Comparison"
      ],
      "execution_count": null,
      "outputs": [
        {
          "output_type": "execute_result",
          "data": {
            "text/html": [
              "<div>\n",
              "<style scoped>\n",
              "    .dataframe tbody tr th:only-of-type {\n",
              "        vertical-align: middle;\n",
              "    }\n",
              "\n",
              "    .dataframe tbody tr th {\n",
              "        vertical-align: top;\n",
              "    }\n",
              "\n",
              "    .dataframe thead th {\n",
              "        text-align: right;\n",
              "    }\n",
              "</style>\n",
              "<table border=\"1\" class=\"dataframe\">\n",
              "  <thead>\n",
              "    <tr style=\"text-align: right;\">\n",
              "      <th></th>\n",
              "      <th>Algorithm</th>\n",
              "      <th>MSE_Score</th>\n",
              "      <th>R2_Score</th>\n",
              "    </tr>\n",
              "  </thead>\n",
              "  <tbody>\n",
              "    <tr>\n",
              "      <th>0</th>\n",
              "      <td>Linear Regression</td>\n",
              "      <td>104.998765</td>\n",
              "      <td>0.427923</td>\n",
              "    </tr>\n",
              "    <tr>\n",
              "      <th>1</th>\n",
              "      <td>Support Vector Regression</td>\n",
              "      <td>192.333167</td>\n",
              "      <td>-0.047911</td>\n",
              "    </tr>\n",
              "    <tr>\n",
              "      <th>2</th>\n",
              "      <td>Decision Tree Regressor</td>\n",
              "      <td>102.090911</td>\n",
              "      <td>0.443766</td>\n",
              "    </tr>\n",
              "    <tr>\n",
              "      <th>3</th>\n",
              "      <td>Random Forest Regressor</td>\n",
              "      <td>73.199763</td>\n",
              "      <td>0.601177</td>\n",
              "    </tr>\n",
              "    <tr>\n",
              "      <th>4</th>\n",
              "      <td>XGB Regressor</td>\n",
              "      <td>73.071779</td>\n",
              "      <td>0.601874</td>\n",
              "    </tr>\n",
              "  </tbody>\n",
              "</table>\n",
              "</div>"
            ],
            "text/plain": [
              "                   Algorithm   MSE_Score  R2_Score\n",
              "0          Linear Regression  104.998765  0.427923\n",
              "1  Support Vector Regression  192.333167 -0.047911\n",
              "2    Decision Tree Regressor  102.090911  0.443766\n",
              "3    Random Forest Regressor   73.199763  0.601177\n",
              "4              XGB Regressor   73.071779  0.601874"
            ]
          },
          "metadata": {
            "tags": []
          },
          "execution_count": 125
        }
      ]
    },
    {
      "cell_type": "markdown",
      "metadata": {
        "id": "-WWSgq-kIUBQ"
      },
      "source": [
        "#Finally training our main_df with the Decision Tree Regressor"
      ]
    },
    {
      "cell_type": "code",
      "metadata": {
        "colab": {
          "base_uri": "https://localhost:8080/"
        },
        "id": "Is3BRPgOIhTU",
        "outputId": "f10674c4-5edb-4fb5-ce1a-7e7ae8d99478"
      },
      "source": [
        "clf_dreg.fit(main_df,main_df_train)"
      ],
      "execution_count": null,
      "outputs": [
        {
          "output_type": "execute_result",
          "data": {
            "text/plain": [
              "DecisionTreeRegressor(ccp_alpha=0.0, criterion='mse', max_depth=None,\n",
              "                      max_features=None, max_leaf_nodes=None,\n",
              "                      min_impurity_decrease=0.0, min_impurity_split=None,\n",
              "                      min_samples_leaf=1, min_samples_split=2,\n",
              "                      min_weight_fraction_leaf=0.0, presort='deprecated',\n",
              "                      random_state=None, splitter='best')"
            ]
          },
          "metadata": {
            "tags": []
          },
          "execution_count": 128
        }
      ]
    },
    {
      "cell_type": "markdown",
      "metadata": {
        "id": "JIhgjMfw2ISc"
      },
      "source": [
        "#Predicting on the main dataset that contains clear_date as null"
      ]
    },
    {
      "cell_type": "markdown",
      "metadata": {
        "id": "kKRlDHXcMXW_"
      },
      "source": [
        "**Our data frame that contains all null in clear_date is null_df**"
      ]
    },
    {
      "cell_type": "code",
      "metadata": {
        "colab": {
          "base_uri": "https://localhost:8080/",
          "height": 507
        },
        "id": "2X_f9mEiMgYf",
        "outputId": "7720a70b-e5fc-4d68-bea0-b6c79aa9289a"
      },
      "source": [
        "null_df"
      ],
      "execution_count": null,
      "outputs": [
        {
          "output_type": "execute_result",
          "data": {
            "text/html": [
              "<div>\n",
              "<style scoped>\n",
              "    .dataframe tbody tr th:only-of-type {\n",
              "        vertical-align: middle;\n",
              "    }\n",
              "\n",
              "    .dataframe tbody tr th {\n",
              "        vertical-align: top;\n",
              "    }\n",
              "\n",
              "    .dataframe thead th {\n",
              "        text-align: right;\n",
              "    }\n",
              "</style>\n",
              "<table border=\"1\" class=\"dataframe\">\n",
              "  <thead>\n",
              "    <tr style=\"text-align: right;\">\n",
              "      <th></th>\n",
              "      <th>business_code</th>\n",
              "      <th>cust_number</th>\n",
              "      <th>name_customer</th>\n",
              "      <th>clear_date</th>\n",
              "      <th>buisness_year</th>\n",
              "      <th>doc_id</th>\n",
              "      <th>posting_date</th>\n",
              "      <th>document_create_date</th>\n",
              "      <th>document_create_date.1</th>\n",
              "      <th>due_in_date</th>\n",
              "      <th>invoice_currency</th>\n",
              "      <th>document type</th>\n",
              "      <th>posting_id</th>\n",
              "      <th>total_open_amount</th>\n",
              "      <th>baseline_create_date</th>\n",
              "      <th>cust_payment_terms</th>\n",
              "      <th>invoice_id</th>\n",
              "      <th>isOpen</th>\n",
              "    </tr>\n",
              "  </thead>\n",
              "  <tbody>\n",
              "    <tr>\n",
              "      <th>10</th>\n",
              "      <td>U001</td>\n",
              "      <td>0200761734</td>\n",
              "      <td>H E BUT associates</td>\n",
              "      <td>NaN</td>\n",
              "      <td>2020</td>\n",
              "      <td>1.93077e+09</td>\n",
              "      <td>2020-04-09</td>\n",
              "      <td>20200410</td>\n",
              "      <td>20200409</td>\n",
              "      <td>2.02004e+07</td>\n",
              "      <td>USD</td>\n",
              "      <td>RV</td>\n",
              "      <td>1</td>\n",
              "      <td>45512.2</td>\n",
              "      <td>2.02004e+07</td>\n",
              "      <td>NAA8</td>\n",
              "      <td>1.93077e+09</td>\n",
              "      <td>1</td>\n",
              "    </tr>\n",
              "    <tr>\n",
              "      <th>14</th>\n",
              "      <td>U001</td>\n",
              "      <td>0200744019</td>\n",
              "      <td>TARG corp</td>\n",
              "      <td>NaN</td>\n",
              "      <td>2020</td>\n",
              "      <td>1.93071e+09</td>\n",
              "      <td>2020-03-28</td>\n",
              "      <td>20200326</td>\n",
              "      <td>20200328</td>\n",
              "      <td>2.02004e+07</td>\n",
              "      <td>USD</td>\n",
              "      <td>RV</td>\n",
              "      <td>1</td>\n",
              "      <td>44995.8</td>\n",
              "      <td>2.02003e+07</td>\n",
              "      <td>NAA8</td>\n",
              "      <td>1.93071e+09</td>\n",
              "      <td>1</td>\n",
              "    </tr>\n",
              "    <tr>\n",
              "      <th>17</th>\n",
              "      <td>U001</td>\n",
              "      <td>0200769623</td>\n",
              "      <td>WAL-MAR us</td>\n",
              "      <td>NaN</td>\n",
              "      <td>2020</td>\n",
              "      <td>1.93072e+09</td>\n",
              "      <td>2020-03-29</td>\n",
              "      <td>20200329</td>\n",
              "      <td>20200329</td>\n",
              "      <td>2.02004e+07</td>\n",
              "      <td>USD</td>\n",
              "      <td>RV</td>\n",
              "      <td>1</td>\n",
              "      <td>5081.63</td>\n",
              "      <td>2.02003e+07</td>\n",
              "      <td>NAH4</td>\n",
              "      <td>1.93072e+09</td>\n",
              "      <td>1</td>\n",
              "    </tr>\n",
              "    <tr>\n",
              "      <th>18</th>\n",
              "      <td>U001</td>\n",
              "      <td>0200769623</td>\n",
              "      <td>WAL-MAR</td>\n",
              "      <td>NaN</td>\n",
              "      <td>2020</td>\n",
              "      <td>1.93073e+09</td>\n",
              "      <td>2020-04-01</td>\n",
              "      <td>20200331</td>\n",
              "      <td>20200401</td>\n",
              "      <td>2.02004e+07</td>\n",
              "      <td>USD</td>\n",
              "      <td>RV</td>\n",
              "      <td>1</td>\n",
              "      <td>12249.5</td>\n",
              "      <td>2.02004e+07</td>\n",
              "      <td>NAH4</td>\n",
              "      <td>1.93073e+09</td>\n",
              "      <td>1</td>\n",
              "    </tr>\n",
              "    <tr>\n",
              "      <th>20</th>\n",
              "      <td>U001</td>\n",
              "      <td>0200769623</td>\n",
              "      <td>WAL-MAR trust</td>\n",
              "      <td>NaN</td>\n",
              "      <td>2020</td>\n",
              "      <td>1.93082e+09</td>\n",
              "      <td>2020-04-25</td>\n",
              "      <td>20200423</td>\n",
              "      <td>20200425</td>\n",
              "      <td>2.02005e+07</td>\n",
              "      <td>USD</td>\n",
              "      <td>RV</td>\n",
              "      <td>1</td>\n",
              "      <td>4486.74</td>\n",
              "      <td>2.02004e+07</td>\n",
              "      <td>NAH4</td>\n",
              "      <td>1.93082e+09</td>\n",
              "      <td>1</td>\n",
              "    </tr>\n",
              "    <tr>\n",
              "      <th>...</th>\n",
              "      <td>...</td>\n",
              "      <td>...</td>\n",
              "      <td>...</td>\n",
              "      <td>...</td>\n",
              "      <td>...</td>\n",
              "      <td>...</td>\n",
              "      <td>...</td>\n",
              "      <td>...</td>\n",
              "      <td>...</td>\n",
              "      <td>...</td>\n",
              "      <td>...</td>\n",
              "      <td>...</td>\n",
              "      <td>...</td>\n",
              "      <td>...</td>\n",
              "      <td>...</td>\n",
              "      <td>...</td>\n",
              "      <td>...</td>\n",
              "      <td>...</td>\n",
              "    </tr>\n",
              "    <tr>\n",
              "      <th>49977</th>\n",
              "      <td>U001</td>\n",
              "      <td>200148860</td>\n",
              "      <td>DOLLA systems</td>\n",
              "      <td>NaN</td>\n",
              "      <td>2020</td>\n",
              "      <td>1.93072e+09</td>\n",
              "      <td>2020-03-28</td>\n",
              "      <td>20200328</td>\n",
              "      <td>20200328</td>\n",
              "      <td>2.02006e+07</td>\n",
              "      <td>USD</td>\n",
              "      <td>RV</td>\n",
              "      <td>1</td>\n",
              "      <td>4557.11</td>\n",
              "      <td>2.02003e+07</td>\n",
              "      <td>NAGD</td>\n",
              "      <td>1.93072e+09</td>\n",
              "      <td>1</td>\n",
              "    </tr>\n",
              "    <tr>\n",
              "      <th>49985</th>\n",
              "      <td>U001</td>\n",
              "      <td>0200726979</td>\n",
              "      <td>BJ'S  co</td>\n",
              "      <td>NaN</td>\n",
              "      <td>2020</td>\n",
              "      <td>1.93073e+09</td>\n",
              "      <td>2020-04-02</td>\n",
              "      <td>20200401</td>\n",
              "      <td>20200402</td>\n",
              "      <td>2.02004e+07</td>\n",
              "      <td>USD</td>\n",
              "      <td>RV</td>\n",
              "      <td>1</td>\n",
              "      <td>217.69</td>\n",
              "      <td>2.02004e+07</td>\n",
              "      <td>NAA8</td>\n",
              "      <td>1.93073e+09</td>\n",
              "      <td>1</td>\n",
              "    </tr>\n",
              "    <tr>\n",
              "      <th>49993</th>\n",
              "      <td>U001</td>\n",
              "      <td>0200769623</td>\n",
              "      <td>WAL-MAR associates</td>\n",
              "      <td>NaN</td>\n",
              "      <td>2020</td>\n",
              "      <td>1.93062e+09</td>\n",
              "      <td>2020-03-09</td>\n",
              "      <td>20200309</td>\n",
              "      <td>20200309</td>\n",
              "      <td>2.02003e+07</td>\n",
              "      <td>USD</td>\n",
              "      <td>RV</td>\n",
              "      <td>1</td>\n",
              "      <td>12744.4</td>\n",
              "      <td>2.02003e+07</td>\n",
              "      <td>NAH4</td>\n",
              "      <td>1.93062e+09</td>\n",
              "      <td>1</td>\n",
              "    </tr>\n",
              "    <tr>\n",
              "      <th>49998</th>\n",
              "      <td>U001</td>\n",
              "      <td>0200794332</td>\n",
              "      <td>COST trust</td>\n",
              "      <td>NaN</td>\n",
              "      <td>2020</td>\n",
              "      <td>1.93067e+09</td>\n",
              "      <td>2020-03-19</td>\n",
              "      <td>20200318</td>\n",
              "      <td>20200319</td>\n",
              "      <td>2.02004e+07</td>\n",
              "      <td>USD</td>\n",
              "      <td>RV</td>\n",
              "      <td>1</td>\n",
              "      <td>16297.2</td>\n",
              "      <td>2.02003e+07</td>\n",
              "      <td>NAAX</td>\n",
              "      <td>1.93067e+09</td>\n",
              "      <td>1</td>\n",
              "    </tr>\n",
              "    <tr>\n",
              "      <th>49999</th>\n",
              "      <td>U001</td>\n",
              "      <td>0200769623</td>\n",
              "      <td>WAL-MAR llc</td>\n",
              "      <td>NaN</td>\n",
              "      <td>2020</td>\n",
              "      <td>1.93073e+09</td>\n",
              "      <td>2020-04-01</td>\n",
              "      <td>20200331</td>\n",
              "      <td>20200401</td>\n",
              "      <td>2.02004e+07</td>\n",
              "      <td>USD</td>\n",
              "      <td>RV</td>\n",
              "      <td>1</td>\n",
              "      <td>5601.67</td>\n",
              "      <td>2.02004e+07</td>\n",
              "      <td>NAH4</td>\n",
              "      <td>1.93073e+09</td>\n",
              "      <td>1</td>\n",
              "    </tr>\n",
              "  </tbody>\n",
              "</table>\n",
              "<p>9703 rows × 18 columns</p>\n",
              "</div>"
            ],
            "text/plain": [
              "      business_code cust_number  ...   invoice_id isOpen\n",
              "10             U001  0200761734  ...  1.93077e+09      1\n",
              "14             U001  0200744019  ...  1.93071e+09      1\n",
              "17             U001  0200769623  ...  1.93072e+09      1\n",
              "18             U001  0200769623  ...  1.93073e+09      1\n",
              "20             U001  0200769623  ...  1.93082e+09      1\n",
              "...             ...         ...  ...          ...    ...\n",
              "49977          U001   200148860  ...  1.93072e+09      1\n",
              "49985          U001  0200726979  ...  1.93073e+09      1\n",
              "49993          U001  0200769623  ...  1.93062e+09      1\n",
              "49998          U001  0200794332  ...  1.93067e+09      1\n",
              "49999          U001  0200769623  ...  1.93073e+09      1\n",
              "\n",
              "[9703 rows x 18 columns]"
            ]
          },
          "metadata": {
            "tags": []
          },
          "execution_count": 129
        }
      ]
    },
    {
      "cell_type": "markdown",
      "metadata": {
        "id": "I7WvHLBc_9Vr"
      },
      "source": [
        "**Copying the null_df into the test_null_df for finding the model prediction and then finally adding in the null_df due date column to predict the prediction date for payment**"
      ]
    },
    {
      "cell_type": "code",
      "metadata": {
        "colab": {
          "base_uri": "https://localhost:8080/",
          "height": 507
        },
        "id": "JB8x9R2yAOXc",
        "outputId": "92ccf238-1eac-4638-88a2-72d1775475fe"
      },
      "source": [
        "test_null_df = null_df.copy()\n",
        "test_null_df"
      ],
      "execution_count": null,
      "outputs": [
        {
          "output_type": "execute_result",
          "data": {
            "text/html": [
              "<div>\n",
              "<style scoped>\n",
              "    .dataframe tbody tr th:only-of-type {\n",
              "        vertical-align: middle;\n",
              "    }\n",
              "\n",
              "    .dataframe tbody tr th {\n",
              "        vertical-align: top;\n",
              "    }\n",
              "\n",
              "    .dataframe thead th {\n",
              "        text-align: right;\n",
              "    }\n",
              "</style>\n",
              "<table border=\"1\" class=\"dataframe\">\n",
              "  <thead>\n",
              "    <tr style=\"text-align: right;\">\n",
              "      <th></th>\n",
              "      <th>business_code</th>\n",
              "      <th>cust_number</th>\n",
              "      <th>name_customer</th>\n",
              "      <th>clear_date</th>\n",
              "      <th>buisness_year</th>\n",
              "      <th>doc_id</th>\n",
              "      <th>posting_date</th>\n",
              "      <th>document_create_date</th>\n",
              "      <th>document_create_date.1</th>\n",
              "      <th>due_in_date</th>\n",
              "      <th>invoice_currency</th>\n",
              "      <th>document type</th>\n",
              "      <th>posting_id</th>\n",
              "      <th>total_open_amount</th>\n",
              "      <th>baseline_create_date</th>\n",
              "      <th>cust_payment_terms</th>\n",
              "      <th>invoice_id</th>\n",
              "      <th>isOpen</th>\n",
              "    </tr>\n",
              "  </thead>\n",
              "  <tbody>\n",
              "    <tr>\n",
              "      <th>10</th>\n",
              "      <td>U001</td>\n",
              "      <td>0200761734</td>\n",
              "      <td>H E BUT associates</td>\n",
              "      <td>NaN</td>\n",
              "      <td>2020</td>\n",
              "      <td>1.93077e+09</td>\n",
              "      <td>2020-04-09</td>\n",
              "      <td>20200410</td>\n",
              "      <td>20200409</td>\n",
              "      <td>2.02004e+07</td>\n",
              "      <td>USD</td>\n",
              "      <td>RV</td>\n",
              "      <td>1</td>\n",
              "      <td>45512.2</td>\n",
              "      <td>2.02004e+07</td>\n",
              "      <td>NAA8</td>\n",
              "      <td>1.93077e+09</td>\n",
              "      <td>1</td>\n",
              "    </tr>\n",
              "    <tr>\n",
              "      <th>14</th>\n",
              "      <td>U001</td>\n",
              "      <td>0200744019</td>\n",
              "      <td>TARG corp</td>\n",
              "      <td>NaN</td>\n",
              "      <td>2020</td>\n",
              "      <td>1.93071e+09</td>\n",
              "      <td>2020-03-28</td>\n",
              "      <td>20200326</td>\n",
              "      <td>20200328</td>\n",
              "      <td>2.02004e+07</td>\n",
              "      <td>USD</td>\n",
              "      <td>RV</td>\n",
              "      <td>1</td>\n",
              "      <td>44995.8</td>\n",
              "      <td>2.02003e+07</td>\n",
              "      <td>NAA8</td>\n",
              "      <td>1.93071e+09</td>\n",
              "      <td>1</td>\n",
              "    </tr>\n",
              "    <tr>\n",
              "      <th>17</th>\n",
              "      <td>U001</td>\n",
              "      <td>0200769623</td>\n",
              "      <td>WAL-MAR us</td>\n",
              "      <td>NaN</td>\n",
              "      <td>2020</td>\n",
              "      <td>1.93072e+09</td>\n",
              "      <td>2020-03-29</td>\n",
              "      <td>20200329</td>\n",
              "      <td>20200329</td>\n",
              "      <td>2.02004e+07</td>\n",
              "      <td>USD</td>\n",
              "      <td>RV</td>\n",
              "      <td>1</td>\n",
              "      <td>5081.63</td>\n",
              "      <td>2.02003e+07</td>\n",
              "      <td>NAH4</td>\n",
              "      <td>1.93072e+09</td>\n",
              "      <td>1</td>\n",
              "    </tr>\n",
              "    <tr>\n",
              "      <th>18</th>\n",
              "      <td>U001</td>\n",
              "      <td>0200769623</td>\n",
              "      <td>WAL-MAR</td>\n",
              "      <td>NaN</td>\n",
              "      <td>2020</td>\n",
              "      <td>1.93073e+09</td>\n",
              "      <td>2020-04-01</td>\n",
              "      <td>20200331</td>\n",
              "      <td>20200401</td>\n",
              "      <td>2.02004e+07</td>\n",
              "      <td>USD</td>\n",
              "      <td>RV</td>\n",
              "      <td>1</td>\n",
              "      <td>12249.5</td>\n",
              "      <td>2.02004e+07</td>\n",
              "      <td>NAH4</td>\n",
              "      <td>1.93073e+09</td>\n",
              "      <td>1</td>\n",
              "    </tr>\n",
              "    <tr>\n",
              "      <th>20</th>\n",
              "      <td>U001</td>\n",
              "      <td>0200769623</td>\n",
              "      <td>WAL-MAR trust</td>\n",
              "      <td>NaN</td>\n",
              "      <td>2020</td>\n",
              "      <td>1.93082e+09</td>\n",
              "      <td>2020-04-25</td>\n",
              "      <td>20200423</td>\n",
              "      <td>20200425</td>\n",
              "      <td>2.02005e+07</td>\n",
              "      <td>USD</td>\n",
              "      <td>RV</td>\n",
              "      <td>1</td>\n",
              "      <td>4486.74</td>\n",
              "      <td>2.02004e+07</td>\n",
              "      <td>NAH4</td>\n",
              "      <td>1.93082e+09</td>\n",
              "      <td>1</td>\n",
              "    </tr>\n",
              "    <tr>\n",
              "      <th>...</th>\n",
              "      <td>...</td>\n",
              "      <td>...</td>\n",
              "      <td>...</td>\n",
              "      <td>...</td>\n",
              "      <td>...</td>\n",
              "      <td>...</td>\n",
              "      <td>...</td>\n",
              "      <td>...</td>\n",
              "      <td>...</td>\n",
              "      <td>...</td>\n",
              "      <td>...</td>\n",
              "      <td>...</td>\n",
              "      <td>...</td>\n",
              "      <td>...</td>\n",
              "      <td>...</td>\n",
              "      <td>...</td>\n",
              "      <td>...</td>\n",
              "      <td>...</td>\n",
              "    </tr>\n",
              "    <tr>\n",
              "      <th>49977</th>\n",
              "      <td>U001</td>\n",
              "      <td>200148860</td>\n",
              "      <td>DOLLA systems</td>\n",
              "      <td>NaN</td>\n",
              "      <td>2020</td>\n",
              "      <td>1.93072e+09</td>\n",
              "      <td>2020-03-28</td>\n",
              "      <td>20200328</td>\n",
              "      <td>20200328</td>\n",
              "      <td>2.02006e+07</td>\n",
              "      <td>USD</td>\n",
              "      <td>RV</td>\n",
              "      <td>1</td>\n",
              "      <td>4557.11</td>\n",
              "      <td>2.02003e+07</td>\n",
              "      <td>NAGD</td>\n",
              "      <td>1.93072e+09</td>\n",
              "      <td>1</td>\n",
              "    </tr>\n",
              "    <tr>\n",
              "      <th>49985</th>\n",
              "      <td>U001</td>\n",
              "      <td>0200726979</td>\n",
              "      <td>BJ'S  co</td>\n",
              "      <td>NaN</td>\n",
              "      <td>2020</td>\n",
              "      <td>1.93073e+09</td>\n",
              "      <td>2020-04-02</td>\n",
              "      <td>20200401</td>\n",
              "      <td>20200402</td>\n",
              "      <td>2.02004e+07</td>\n",
              "      <td>USD</td>\n",
              "      <td>RV</td>\n",
              "      <td>1</td>\n",
              "      <td>217.69</td>\n",
              "      <td>2.02004e+07</td>\n",
              "      <td>NAA8</td>\n",
              "      <td>1.93073e+09</td>\n",
              "      <td>1</td>\n",
              "    </tr>\n",
              "    <tr>\n",
              "      <th>49993</th>\n",
              "      <td>U001</td>\n",
              "      <td>0200769623</td>\n",
              "      <td>WAL-MAR associates</td>\n",
              "      <td>NaN</td>\n",
              "      <td>2020</td>\n",
              "      <td>1.93062e+09</td>\n",
              "      <td>2020-03-09</td>\n",
              "      <td>20200309</td>\n",
              "      <td>20200309</td>\n",
              "      <td>2.02003e+07</td>\n",
              "      <td>USD</td>\n",
              "      <td>RV</td>\n",
              "      <td>1</td>\n",
              "      <td>12744.4</td>\n",
              "      <td>2.02003e+07</td>\n",
              "      <td>NAH4</td>\n",
              "      <td>1.93062e+09</td>\n",
              "      <td>1</td>\n",
              "    </tr>\n",
              "    <tr>\n",
              "      <th>49998</th>\n",
              "      <td>U001</td>\n",
              "      <td>0200794332</td>\n",
              "      <td>COST trust</td>\n",
              "      <td>NaN</td>\n",
              "      <td>2020</td>\n",
              "      <td>1.93067e+09</td>\n",
              "      <td>2020-03-19</td>\n",
              "      <td>20200318</td>\n",
              "      <td>20200319</td>\n",
              "      <td>2.02004e+07</td>\n",
              "      <td>USD</td>\n",
              "      <td>RV</td>\n",
              "      <td>1</td>\n",
              "      <td>16297.2</td>\n",
              "      <td>2.02003e+07</td>\n",
              "      <td>NAAX</td>\n",
              "      <td>1.93067e+09</td>\n",
              "      <td>1</td>\n",
              "    </tr>\n",
              "    <tr>\n",
              "      <th>49999</th>\n",
              "      <td>U001</td>\n",
              "      <td>0200769623</td>\n",
              "      <td>WAL-MAR llc</td>\n",
              "      <td>NaN</td>\n",
              "      <td>2020</td>\n",
              "      <td>1.93073e+09</td>\n",
              "      <td>2020-04-01</td>\n",
              "      <td>20200331</td>\n",
              "      <td>20200401</td>\n",
              "      <td>2.02004e+07</td>\n",
              "      <td>USD</td>\n",
              "      <td>RV</td>\n",
              "      <td>1</td>\n",
              "      <td>5601.67</td>\n",
              "      <td>2.02004e+07</td>\n",
              "      <td>NAH4</td>\n",
              "      <td>1.93073e+09</td>\n",
              "      <td>1</td>\n",
              "    </tr>\n",
              "  </tbody>\n",
              "</table>\n",
              "<p>9703 rows × 18 columns</p>\n",
              "</div>"
            ],
            "text/plain": [
              "      business_code cust_number  ...   invoice_id isOpen\n",
              "10             U001  0200761734  ...  1.93077e+09      1\n",
              "14             U001  0200744019  ...  1.93071e+09      1\n",
              "17             U001  0200769623  ...  1.93072e+09      1\n",
              "18             U001  0200769623  ...  1.93073e+09      1\n",
              "20             U001  0200769623  ...  1.93082e+09      1\n",
              "...             ...         ...  ...          ...    ...\n",
              "49977          U001   200148860  ...  1.93072e+09      1\n",
              "49985          U001  0200726979  ...  1.93073e+09      1\n",
              "49993          U001  0200769623  ...  1.93062e+09      1\n",
              "49998          U001  0200794332  ...  1.93067e+09      1\n",
              "49999          U001  0200769623  ...  1.93073e+09      1\n",
              "\n",
              "[9703 rows x 18 columns]"
            ]
          },
          "metadata": {
            "tags": []
          },
          "execution_count": 130
        }
      ]
    },
    {
      "cell_type": "markdown",
      "metadata": {
        "id": "jN-5OXjnBIed"
      },
      "source": [
        "Checking the datatype of the test_null_df"
      ]
    },
    {
      "cell_type": "code",
      "metadata": {
        "colab": {
          "base_uri": "https://localhost:8080/"
        },
        "id": "mfXibpFGBNIe",
        "outputId": "88edec30-fdb2-46b0-a43f-def17dc81c8b"
      },
      "source": [
        "test_null_df.dtypes"
      ],
      "execution_count": null,
      "outputs": [
        {
          "output_type": "execute_result",
          "data": {
            "text/plain": [
              "business_code             object\n",
              "cust_number               object\n",
              "name_customer             object\n",
              "clear_date                object\n",
              "buisness_year             object\n",
              "doc_id                    object\n",
              "posting_date              object\n",
              "document_create_date      object\n",
              "document_create_date.1    object\n",
              "due_in_date               object\n",
              "invoice_currency          object\n",
              "document type             object\n",
              "posting_id                object\n",
              "total_open_amount         object\n",
              "baseline_create_date      object\n",
              "cust_payment_terms        object\n",
              "invoice_id                object\n",
              "isOpen                    object\n",
              "dtype: object"
            ]
          },
          "metadata": {
            "tags": []
          },
          "execution_count": 131
        }
      ]
    },
    {
      "cell_type": "markdown",
      "metadata": {
        "id": "rBI2lwgcae-8"
      },
      "source": [
        "Converting the total_open_amount to float datatype"
      ]
    },
    {
      "cell_type": "code",
      "metadata": {
        "id": "CzltbxlManed"
      },
      "source": [
        "test_null_df[\"total_open_amount\"] = test_null_df[\"total_open_amount\"].astype(float)"
      ],
      "execution_count": null,
      "outputs": []
    },
    {
      "cell_type": "markdown",
      "metadata": {
        "id": "9VyRbUWPBW0c"
      },
      "source": [
        "Converting the datetime into time frame"
      ]
    },
    {
      "cell_type": "code",
      "metadata": {
        "colab": {
          "base_uri": "https://localhost:8080/"
        },
        "id": "VZftdUKyBWa8",
        "outputId": "facd9ce1-82f5-46ce-84f2-a39451b83ee9"
      },
      "source": [
        "test_null_df[['clear_date','posting_date']] = test_null_df[['clear_date','posting_date']].apply(pd.to_datetime)\n",
        "test_null_df['due_in_date'] = pd.to_datetime(test_null_df['due_in_date'], format='%Y%m%d')\n",
        "test_null_df['baseline_create_date'] = pd.to_datetime(test_null_df['baseline_create_date'], format='%Y%m%d')\n",
        "test_null_df.dtypes"
      ],
      "execution_count": null,
      "outputs": [
        {
          "output_type": "execute_result",
          "data": {
            "text/plain": [
              "business_code                     object\n",
              "cust_number                       object\n",
              "name_customer                     object\n",
              "clear_date                datetime64[ns]\n",
              "buisness_year                     object\n",
              "doc_id                            object\n",
              "posting_date              datetime64[ns]\n",
              "document_create_date              object\n",
              "document_create_date.1            object\n",
              "due_in_date               datetime64[ns]\n",
              "invoice_currency                  object\n",
              "document type                     object\n",
              "posting_id                        object\n",
              "total_open_amount                float64\n",
              "baseline_create_date      datetime64[ns]\n",
              "cust_payment_terms                object\n",
              "invoice_id                        object\n",
              "isOpen                            object\n",
              "dtype: object"
            ]
          },
          "metadata": {
            "tags": []
          },
          "execution_count": 133
        }
      ]
    },
    {
      "cell_type": "markdown",
      "metadata": {
        "id": "3Tkq2cy0Amre"
      },
      "source": [
        "**Cleaning the test_null_df for our model**"
      ]
    },
    {
      "cell_type": "markdown",
      "metadata": {
        "id": "3klVdJ7MOJU5"
      },
      "source": [
        "**Dropping the columns**"
      ]
    },
    {
      "cell_type": "code",
      "metadata": {
        "colab": {
          "base_uri": "https://localhost:8080/",
          "height": 490
        },
        "id": "AgL6mSPSBxbD",
        "outputId": "23ac013c-a57d-49cb-ada5-de47d38735c3"
      },
      "source": [
        "test_null_df = test_null_df.drop(['document type','document_create_date.1','buisness_year','doc_id','invoice_id','document_create_date','baseline_create_date'],axis=1)\n",
        "test_null_df"
      ],
      "execution_count": null,
      "outputs": [
        {
          "output_type": "execute_result",
          "data": {
            "text/html": [
              "<div>\n",
              "<style scoped>\n",
              "    .dataframe tbody tr th:only-of-type {\n",
              "        vertical-align: middle;\n",
              "    }\n",
              "\n",
              "    .dataframe tbody tr th {\n",
              "        vertical-align: top;\n",
              "    }\n",
              "\n",
              "    .dataframe thead th {\n",
              "        text-align: right;\n",
              "    }\n",
              "</style>\n",
              "<table border=\"1\" class=\"dataframe\">\n",
              "  <thead>\n",
              "    <tr style=\"text-align: right;\">\n",
              "      <th></th>\n",
              "      <th>business_code</th>\n",
              "      <th>cust_number</th>\n",
              "      <th>name_customer</th>\n",
              "      <th>clear_date</th>\n",
              "      <th>posting_date</th>\n",
              "      <th>due_in_date</th>\n",
              "      <th>invoice_currency</th>\n",
              "      <th>posting_id</th>\n",
              "      <th>total_open_amount</th>\n",
              "      <th>cust_payment_terms</th>\n",
              "      <th>isOpen</th>\n",
              "    </tr>\n",
              "  </thead>\n",
              "  <tbody>\n",
              "    <tr>\n",
              "      <th>10</th>\n",
              "      <td>U001</td>\n",
              "      <td>0200761734</td>\n",
              "      <td>H E BUT associates</td>\n",
              "      <td>NaT</td>\n",
              "      <td>2020-04-09</td>\n",
              "      <td>2020-04-24</td>\n",
              "      <td>USD</td>\n",
              "      <td>1</td>\n",
              "      <td>45512.20</td>\n",
              "      <td>NAA8</td>\n",
              "      <td>1</td>\n",
              "    </tr>\n",
              "    <tr>\n",
              "      <th>14</th>\n",
              "      <td>U001</td>\n",
              "      <td>0200744019</td>\n",
              "      <td>TARG corp</td>\n",
              "      <td>NaT</td>\n",
              "      <td>2020-03-28</td>\n",
              "      <td>2020-04-12</td>\n",
              "      <td>USD</td>\n",
              "      <td>1</td>\n",
              "      <td>44995.84</td>\n",
              "      <td>NAA8</td>\n",
              "      <td>1</td>\n",
              "    </tr>\n",
              "    <tr>\n",
              "      <th>17</th>\n",
              "      <td>U001</td>\n",
              "      <td>0200769623</td>\n",
              "      <td>WAL-MAR us</td>\n",
              "      <td>NaT</td>\n",
              "      <td>2020-03-29</td>\n",
              "      <td>2020-04-13</td>\n",
              "      <td>USD</td>\n",
              "      <td>1</td>\n",
              "      <td>5081.63</td>\n",
              "      <td>NAH4</td>\n",
              "      <td>1</td>\n",
              "    </tr>\n",
              "    <tr>\n",
              "      <th>18</th>\n",
              "      <td>U001</td>\n",
              "      <td>0200769623</td>\n",
              "      <td>WAL-MAR</td>\n",
              "      <td>NaT</td>\n",
              "      <td>2020-04-01</td>\n",
              "      <td>2020-04-16</td>\n",
              "      <td>USD</td>\n",
              "      <td>1</td>\n",
              "      <td>12249.55</td>\n",
              "      <td>NAH4</td>\n",
              "      <td>1</td>\n",
              "    </tr>\n",
              "    <tr>\n",
              "      <th>20</th>\n",
              "      <td>U001</td>\n",
              "      <td>0200769623</td>\n",
              "      <td>WAL-MAR trust</td>\n",
              "      <td>NaT</td>\n",
              "      <td>2020-04-25</td>\n",
              "      <td>2020-05-10</td>\n",
              "      <td>USD</td>\n",
              "      <td>1</td>\n",
              "      <td>4486.74</td>\n",
              "      <td>NAH4</td>\n",
              "      <td>1</td>\n",
              "    </tr>\n",
              "    <tr>\n",
              "      <th>...</th>\n",
              "      <td>...</td>\n",
              "      <td>...</td>\n",
              "      <td>...</td>\n",
              "      <td>...</td>\n",
              "      <td>...</td>\n",
              "      <td>...</td>\n",
              "      <td>...</td>\n",
              "      <td>...</td>\n",
              "      <td>...</td>\n",
              "      <td>...</td>\n",
              "      <td>...</td>\n",
              "    </tr>\n",
              "    <tr>\n",
              "      <th>49977</th>\n",
              "      <td>U001</td>\n",
              "      <td>200148860</td>\n",
              "      <td>DOLLA systems</td>\n",
              "      <td>NaT</td>\n",
              "      <td>2020-03-28</td>\n",
              "      <td>2020-06-01</td>\n",
              "      <td>USD</td>\n",
              "      <td>1</td>\n",
              "      <td>4557.11</td>\n",
              "      <td>NAGD</td>\n",
              "      <td>1</td>\n",
              "    </tr>\n",
              "    <tr>\n",
              "      <th>49985</th>\n",
              "      <td>U001</td>\n",
              "      <td>0200726979</td>\n",
              "      <td>BJ'S  co</td>\n",
              "      <td>NaT</td>\n",
              "      <td>2020-04-02</td>\n",
              "      <td>2020-04-17</td>\n",
              "      <td>USD</td>\n",
              "      <td>1</td>\n",
              "      <td>217.69</td>\n",
              "      <td>NAA8</td>\n",
              "      <td>1</td>\n",
              "    </tr>\n",
              "    <tr>\n",
              "      <th>49993</th>\n",
              "      <td>U001</td>\n",
              "      <td>0200769623</td>\n",
              "      <td>WAL-MAR associates</td>\n",
              "      <td>NaT</td>\n",
              "      <td>2020-03-09</td>\n",
              "      <td>2020-03-24</td>\n",
              "      <td>USD</td>\n",
              "      <td>1</td>\n",
              "      <td>12744.43</td>\n",
              "      <td>NAH4</td>\n",
              "      <td>1</td>\n",
              "    </tr>\n",
              "    <tr>\n",
              "      <th>49998</th>\n",
              "      <td>U001</td>\n",
              "      <td>0200794332</td>\n",
              "      <td>COST trust</td>\n",
              "      <td>NaT</td>\n",
              "      <td>2020-03-19</td>\n",
              "      <td>2020-04-03</td>\n",
              "      <td>USD</td>\n",
              "      <td>1</td>\n",
              "      <td>16297.21</td>\n",
              "      <td>NAAX</td>\n",
              "      <td>1</td>\n",
              "    </tr>\n",
              "    <tr>\n",
              "      <th>49999</th>\n",
              "      <td>U001</td>\n",
              "      <td>0200769623</td>\n",
              "      <td>WAL-MAR llc</td>\n",
              "      <td>NaT</td>\n",
              "      <td>2020-04-01</td>\n",
              "      <td>2020-04-16</td>\n",
              "      <td>USD</td>\n",
              "      <td>1</td>\n",
              "      <td>5601.67</td>\n",
              "      <td>NAH4</td>\n",
              "      <td>1</td>\n",
              "    </tr>\n",
              "  </tbody>\n",
              "</table>\n",
              "<p>9703 rows × 11 columns</p>\n",
              "</div>"
            ],
            "text/plain": [
              "      business_code cust_number  ... cust_payment_terms isOpen\n",
              "10             U001  0200761734  ...               NAA8      1\n",
              "14             U001  0200744019  ...               NAA8      1\n",
              "17             U001  0200769623  ...               NAH4      1\n",
              "18             U001  0200769623  ...               NAH4      1\n",
              "20             U001  0200769623  ...               NAH4      1\n",
              "...             ...         ...  ...                ...    ...\n",
              "49977          U001   200148860  ...               NAGD      1\n",
              "49985          U001  0200726979  ...               NAA8      1\n",
              "49993          U001  0200769623  ...               NAH4      1\n",
              "49998          U001  0200794332  ...               NAAX      1\n",
              "49999          U001  0200769623  ...               NAH4      1\n",
              "\n",
              "[9703 rows x 11 columns]"
            ]
          },
          "metadata": {
            "tags": []
          },
          "execution_count": 134
        }
      ]
    },
    {
      "cell_type": "markdown",
      "metadata": {
        "id": "SPmrAKO5Ol-v"
      },
      "source": [
        "**Doing Encoding**"
      ]
    },
    {
      "cell_type": "code",
      "metadata": {
        "colab": {
          "base_uri": "https://localhost:8080/",
          "height": 439
        },
        "id": "sku_uOFhOY1M",
        "outputId": "1ce93d58-e613-4c7a-adb8-4a61d2e667ef"
      },
      "source": [
        "test_null_df['business_code']= label_encoder.fit_transform(test_null_df['business_code'])\n",
        "test_null_df['cust_number']= label_encoder.fit_transform(test_null_df['cust_number'])\n",
        "test_null_df['name_customer']= label_encoder.fit_transform(test_null_df['name_customer'])\n",
        "test_null_df['invoice_currency']= label_encoder.fit_transform(test_null_df['invoice_currency'])\n",
        "test_null_df['cust_payment_terms']= label_encoder.fit_transform(test_null_df['cust_payment_terms'])\n",
        "\n",
        "test_null_df"
      ],
      "execution_count": null,
      "outputs": [
        {
          "output_type": "execute_result",
          "data": {
            "text/html": [
              "<div>\n",
              "<style scoped>\n",
              "    .dataframe tbody tr th:only-of-type {\n",
              "        vertical-align: middle;\n",
              "    }\n",
              "\n",
              "    .dataframe tbody tr th {\n",
              "        vertical-align: top;\n",
              "    }\n",
              "\n",
              "    .dataframe thead th {\n",
              "        text-align: right;\n",
              "    }\n",
              "</style>\n",
              "<table border=\"1\" class=\"dataframe\">\n",
              "  <thead>\n",
              "    <tr style=\"text-align: right;\">\n",
              "      <th></th>\n",
              "      <th>business_code</th>\n",
              "      <th>cust_number</th>\n",
              "      <th>name_customer</th>\n",
              "      <th>clear_date</th>\n",
              "      <th>posting_date</th>\n",
              "      <th>due_in_date</th>\n",
              "      <th>invoice_currency</th>\n",
              "      <th>posting_id</th>\n",
              "      <th>total_open_amount</th>\n",
              "      <th>cust_payment_terms</th>\n",
              "      <th>isOpen</th>\n",
              "    </tr>\n",
              "  </thead>\n",
              "  <tbody>\n",
              "    <tr>\n",
              "      <th>10</th>\n",
              "      <td>1</td>\n",
              "      <td>396</td>\n",
              "      <td>643</td>\n",
              "      <td>NaT</td>\n",
              "      <td>2020-04-09</td>\n",
              "      <td>2020-04-24</td>\n",
              "      <td>1</td>\n",
              "      <td>1</td>\n",
              "      <td>45512.20</td>\n",
              "      <td>14</td>\n",
              "      <td>1</td>\n",
              "    </tr>\n",
              "    <tr>\n",
              "      <th>14</th>\n",
              "      <td>1</td>\n",
              "      <td>374</td>\n",
              "      <td>1549</td>\n",
              "      <td>NaT</td>\n",
              "      <td>2020-03-28</td>\n",
              "      <td>2020-04-12</td>\n",
              "      <td>1</td>\n",
              "      <td>1</td>\n",
              "      <td>44995.84</td>\n",
              "      <td>14</td>\n",
              "      <td>1</td>\n",
              "    </tr>\n",
              "    <tr>\n",
              "      <th>17</th>\n",
              "      <td>1</td>\n",
              "      <td>411</td>\n",
              "      <td>1688</td>\n",
              "      <td>NaT</td>\n",
              "      <td>2020-03-29</td>\n",
              "      <td>2020-04-13</td>\n",
              "      <td>1</td>\n",
              "      <td>1</td>\n",
              "      <td>5081.63</td>\n",
              "      <td>27</td>\n",
              "      <td>1</td>\n",
              "    </tr>\n",
              "    <tr>\n",
              "      <th>18</th>\n",
              "      <td>1</td>\n",
              "      <td>411</td>\n",
              "      <td>1678</td>\n",
              "      <td>NaT</td>\n",
              "      <td>2020-04-01</td>\n",
              "      <td>2020-04-16</td>\n",
              "      <td>1</td>\n",
              "      <td>1</td>\n",
              "      <td>12249.55</td>\n",
              "      <td>27</td>\n",
              "      <td>1</td>\n",
              "    </tr>\n",
              "    <tr>\n",
              "      <th>20</th>\n",
              "      <td>1</td>\n",
              "      <td>411</td>\n",
              "      <td>1687</td>\n",
              "      <td>NaT</td>\n",
              "      <td>2020-04-25</td>\n",
              "      <td>2020-05-10</td>\n",
              "      <td>1</td>\n",
              "      <td>1</td>\n",
              "      <td>4486.74</td>\n",
              "      <td>27</td>\n",
              "      <td>1</td>\n",
              "    </tr>\n",
              "    <tr>\n",
              "      <th>...</th>\n",
              "      <td>...</td>\n",
              "      <td>...</td>\n",
              "      <td>...</td>\n",
              "      <td>...</td>\n",
              "      <td>...</td>\n",
              "      <td>...</td>\n",
              "      <td>...</td>\n",
              "      <td>...</td>\n",
              "      <td>...</td>\n",
              "      <td>...</td>\n",
              "      <td>...</td>\n",
              "    </tr>\n",
              "    <tr>\n",
              "      <th>49977</th>\n",
              "      <td>1</td>\n",
              "      <td>553</td>\n",
              "      <td>443</td>\n",
              "      <td>NaT</td>\n",
              "      <td>2020-03-28</td>\n",
              "      <td>2020-06-01</td>\n",
              "      <td>1</td>\n",
              "      <td>1</td>\n",
              "      <td>4557.11</td>\n",
              "      <td>26</td>\n",
              "      <td>1</td>\n",
              "    </tr>\n",
              "    <tr>\n",
              "      <th>49985</th>\n",
              "      <td>1</td>\n",
              "      <td>343</td>\n",
              "      <td>180</td>\n",
              "      <td>NaT</td>\n",
              "      <td>2020-04-02</td>\n",
              "      <td>2020-04-17</td>\n",
              "      <td>1</td>\n",
              "      <td>1</td>\n",
              "      <td>217.69</td>\n",
              "      <td>14</td>\n",
              "      <td>1</td>\n",
              "    </tr>\n",
              "    <tr>\n",
              "      <th>49993</th>\n",
              "      <td>1</td>\n",
              "      <td>411</td>\n",
              "      <td>1679</td>\n",
              "      <td>NaT</td>\n",
              "      <td>2020-03-09</td>\n",
              "      <td>2020-03-24</td>\n",
              "      <td>1</td>\n",
              "      <td>1</td>\n",
              "      <td>12744.43</td>\n",
              "      <td>27</td>\n",
              "      <td>1</td>\n",
              "    </tr>\n",
              "    <tr>\n",
              "      <th>49998</th>\n",
              "      <td>1</td>\n",
              "      <td>463</td>\n",
              "      <td>350</td>\n",
              "      <td>NaT</td>\n",
              "      <td>2020-03-19</td>\n",
              "      <td>2020-04-03</td>\n",
              "      <td>1</td>\n",
              "      <td>1</td>\n",
              "      <td>16297.21</td>\n",
              "      <td>16</td>\n",
              "      <td>1</td>\n",
              "    </tr>\n",
              "    <tr>\n",
              "      <th>49999</th>\n",
              "      <td>1</td>\n",
              "      <td>411</td>\n",
              "      <td>1685</td>\n",
              "      <td>NaT</td>\n",
              "      <td>2020-04-01</td>\n",
              "      <td>2020-04-16</td>\n",
              "      <td>1</td>\n",
              "      <td>1</td>\n",
              "      <td>5601.67</td>\n",
              "      <td>27</td>\n",
              "      <td>1</td>\n",
              "    </tr>\n",
              "  </tbody>\n",
              "</table>\n",
              "<p>9703 rows × 11 columns</p>\n",
              "</div>"
            ],
            "text/plain": [
              "       business_code  cust_number  ...  cust_payment_terms isOpen\n",
              "10                 1          396  ...                  14      1\n",
              "14                 1          374  ...                  14      1\n",
              "17                 1          411  ...                  27      1\n",
              "18                 1          411  ...                  27      1\n",
              "20                 1          411  ...                  27      1\n",
              "...              ...          ...  ...                 ...    ...\n",
              "49977              1          553  ...                  26      1\n",
              "49985              1          343  ...                  14      1\n",
              "49993              1          411  ...                  27      1\n",
              "49998              1          463  ...                  16      1\n",
              "49999              1          411  ...                  27      1\n",
              "\n",
              "[9703 rows x 11 columns]"
            ]
          },
          "metadata": {
            "tags": []
          },
          "execution_count": 135
        }
      ]
    },
    {
      "cell_type": "markdown",
      "metadata": {
        "id": "PtwvDT_JOvVW"
      },
      "source": [
        "**Dropping the clear date column**"
      ]
    },
    {
      "cell_type": "code",
      "metadata": {
        "colab": {
          "base_uri": "https://localhost:8080/",
          "height": 419
        },
        "id": "rOO3lyYjOz4M",
        "outputId": "558c3067-fa00-49e9-b9f7-222eda1f4a03"
      },
      "source": [
        "test_null_df = test_null_df.drop(['clear_date'],axis=1)\n",
        "test_null_df"
      ],
      "execution_count": null,
      "outputs": [
        {
          "output_type": "execute_result",
          "data": {
            "text/html": [
              "<div>\n",
              "<style scoped>\n",
              "    .dataframe tbody tr th:only-of-type {\n",
              "        vertical-align: middle;\n",
              "    }\n",
              "\n",
              "    .dataframe tbody tr th {\n",
              "        vertical-align: top;\n",
              "    }\n",
              "\n",
              "    .dataframe thead th {\n",
              "        text-align: right;\n",
              "    }\n",
              "</style>\n",
              "<table border=\"1\" class=\"dataframe\">\n",
              "  <thead>\n",
              "    <tr style=\"text-align: right;\">\n",
              "      <th></th>\n",
              "      <th>business_code</th>\n",
              "      <th>cust_number</th>\n",
              "      <th>name_customer</th>\n",
              "      <th>posting_date</th>\n",
              "      <th>due_in_date</th>\n",
              "      <th>invoice_currency</th>\n",
              "      <th>posting_id</th>\n",
              "      <th>total_open_amount</th>\n",
              "      <th>cust_payment_terms</th>\n",
              "      <th>isOpen</th>\n",
              "    </tr>\n",
              "  </thead>\n",
              "  <tbody>\n",
              "    <tr>\n",
              "      <th>10</th>\n",
              "      <td>1</td>\n",
              "      <td>396</td>\n",
              "      <td>643</td>\n",
              "      <td>2020-04-09</td>\n",
              "      <td>2020-04-24</td>\n",
              "      <td>1</td>\n",
              "      <td>1</td>\n",
              "      <td>45512.20</td>\n",
              "      <td>14</td>\n",
              "      <td>1</td>\n",
              "    </tr>\n",
              "    <tr>\n",
              "      <th>14</th>\n",
              "      <td>1</td>\n",
              "      <td>374</td>\n",
              "      <td>1549</td>\n",
              "      <td>2020-03-28</td>\n",
              "      <td>2020-04-12</td>\n",
              "      <td>1</td>\n",
              "      <td>1</td>\n",
              "      <td>44995.84</td>\n",
              "      <td>14</td>\n",
              "      <td>1</td>\n",
              "    </tr>\n",
              "    <tr>\n",
              "      <th>17</th>\n",
              "      <td>1</td>\n",
              "      <td>411</td>\n",
              "      <td>1688</td>\n",
              "      <td>2020-03-29</td>\n",
              "      <td>2020-04-13</td>\n",
              "      <td>1</td>\n",
              "      <td>1</td>\n",
              "      <td>5081.63</td>\n",
              "      <td>27</td>\n",
              "      <td>1</td>\n",
              "    </tr>\n",
              "    <tr>\n",
              "      <th>18</th>\n",
              "      <td>1</td>\n",
              "      <td>411</td>\n",
              "      <td>1678</td>\n",
              "      <td>2020-04-01</td>\n",
              "      <td>2020-04-16</td>\n",
              "      <td>1</td>\n",
              "      <td>1</td>\n",
              "      <td>12249.55</td>\n",
              "      <td>27</td>\n",
              "      <td>1</td>\n",
              "    </tr>\n",
              "    <tr>\n",
              "      <th>20</th>\n",
              "      <td>1</td>\n",
              "      <td>411</td>\n",
              "      <td>1687</td>\n",
              "      <td>2020-04-25</td>\n",
              "      <td>2020-05-10</td>\n",
              "      <td>1</td>\n",
              "      <td>1</td>\n",
              "      <td>4486.74</td>\n",
              "      <td>27</td>\n",
              "      <td>1</td>\n",
              "    </tr>\n",
              "    <tr>\n",
              "      <th>...</th>\n",
              "      <td>...</td>\n",
              "      <td>...</td>\n",
              "      <td>...</td>\n",
              "      <td>...</td>\n",
              "      <td>...</td>\n",
              "      <td>...</td>\n",
              "      <td>...</td>\n",
              "      <td>...</td>\n",
              "      <td>...</td>\n",
              "      <td>...</td>\n",
              "    </tr>\n",
              "    <tr>\n",
              "      <th>49977</th>\n",
              "      <td>1</td>\n",
              "      <td>553</td>\n",
              "      <td>443</td>\n",
              "      <td>2020-03-28</td>\n",
              "      <td>2020-06-01</td>\n",
              "      <td>1</td>\n",
              "      <td>1</td>\n",
              "      <td>4557.11</td>\n",
              "      <td>26</td>\n",
              "      <td>1</td>\n",
              "    </tr>\n",
              "    <tr>\n",
              "      <th>49985</th>\n",
              "      <td>1</td>\n",
              "      <td>343</td>\n",
              "      <td>180</td>\n",
              "      <td>2020-04-02</td>\n",
              "      <td>2020-04-17</td>\n",
              "      <td>1</td>\n",
              "      <td>1</td>\n",
              "      <td>217.69</td>\n",
              "      <td>14</td>\n",
              "      <td>1</td>\n",
              "    </tr>\n",
              "    <tr>\n",
              "      <th>49993</th>\n",
              "      <td>1</td>\n",
              "      <td>411</td>\n",
              "      <td>1679</td>\n",
              "      <td>2020-03-09</td>\n",
              "      <td>2020-03-24</td>\n",
              "      <td>1</td>\n",
              "      <td>1</td>\n",
              "      <td>12744.43</td>\n",
              "      <td>27</td>\n",
              "      <td>1</td>\n",
              "    </tr>\n",
              "    <tr>\n",
              "      <th>49998</th>\n",
              "      <td>1</td>\n",
              "      <td>463</td>\n",
              "      <td>350</td>\n",
              "      <td>2020-03-19</td>\n",
              "      <td>2020-04-03</td>\n",
              "      <td>1</td>\n",
              "      <td>1</td>\n",
              "      <td>16297.21</td>\n",
              "      <td>16</td>\n",
              "      <td>1</td>\n",
              "    </tr>\n",
              "    <tr>\n",
              "      <th>49999</th>\n",
              "      <td>1</td>\n",
              "      <td>411</td>\n",
              "      <td>1685</td>\n",
              "      <td>2020-04-01</td>\n",
              "      <td>2020-04-16</td>\n",
              "      <td>1</td>\n",
              "      <td>1</td>\n",
              "      <td>5601.67</td>\n",
              "      <td>27</td>\n",
              "      <td>1</td>\n",
              "    </tr>\n",
              "  </tbody>\n",
              "</table>\n",
              "<p>9703 rows × 10 columns</p>\n",
              "</div>"
            ],
            "text/plain": [
              "       business_code  cust_number  ...  cust_payment_terms isOpen\n",
              "10                 1          396  ...                  14      1\n",
              "14                 1          374  ...                  14      1\n",
              "17                 1          411  ...                  27      1\n",
              "18                 1          411  ...                  27      1\n",
              "20                 1          411  ...                  27      1\n",
              "...              ...          ...  ...                 ...    ...\n",
              "49977              1          553  ...                  26      1\n",
              "49985              1          343  ...                  14      1\n",
              "49993              1          411  ...                  27      1\n",
              "49998              1          463  ...                  16      1\n",
              "49999              1          411  ...                  27      1\n",
              "\n",
              "[9703 rows x 10 columns]"
            ]
          },
          "metadata": {
            "tags": []
          },
          "execution_count": 136
        }
      ]
    },
    {
      "cell_type": "markdown",
      "metadata": {
        "id": "Cq5eoUxnPCBZ"
      },
      "source": [
        "**Dropping the constant columns**"
      ]
    },
    {
      "cell_type": "code",
      "metadata": {
        "colab": {
          "base_uri": "https://localhost:8080/"
        },
        "id": "0FxRCUCkPFy7",
        "outputId": "d79c8bc9-bf87-4a8c-ef11-9d28c6cd17ed"
      },
      "source": [
        "constant_columns"
      ],
      "execution_count": null,
      "outputs": [
        {
          "output_type": "execute_result",
          "data": {
            "text/plain": [
              "['posting_id', 'isOpen']"
            ]
          },
          "metadata": {
            "tags": []
          },
          "execution_count": 137
        }
      ]
    },
    {
      "cell_type": "code",
      "metadata": {
        "colab": {
          "base_uri": "https://localhost:8080/",
          "height": 419
        },
        "id": "VgFyG2fyPHnl",
        "outputId": "ba07c0c7-dd72-4505-e34c-45c57671cbd4"
      },
      "source": [
        "test_null_df = test_null_df.drop(['posting_id', 'isOpen'],axis=1)\n",
        "test_null_df"
      ],
      "execution_count": null,
      "outputs": [
        {
          "output_type": "execute_result",
          "data": {
            "text/html": [
              "<div>\n",
              "<style scoped>\n",
              "    .dataframe tbody tr th:only-of-type {\n",
              "        vertical-align: middle;\n",
              "    }\n",
              "\n",
              "    .dataframe tbody tr th {\n",
              "        vertical-align: top;\n",
              "    }\n",
              "\n",
              "    .dataframe thead th {\n",
              "        text-align: right;\n",
              "    }\n",
              "</style>\n",
              "<table border=\"1\" class=\"dataframe\">\n",
              "  <thead>\n",
              "    <tr style=\"text-align: right;\">\n",
              "      <th></th>\n",
              "      <th>business_code</th>\n",
              "      <th>cust_number</th>\n",
              "      <th>name_customer</th>\n",
              "      <th>posting_date</th>\n",
              "      <th>due_in_date</th>\n",
              "      <th>invoice_currency</th>\n",
              "      <th>total_open_amount</th>\n",
              "      <th>cust_payment_terms</th>\n",
              "    </tr>\n",
              "  </thead>\n",
              "  <tbody>\n",
              "    <tr>\n",
              "      <th>10</th>\n",
              "      <td>1</td>\n",
              "      <td>396</td>\n",
              "      <td>643</td>\n",
              "      <td>2020-04-09</td>\n",
              "      <td>2020-04-24</td>\n",
              "      <td>1</td>\n",
              "      <td>45512.20</td>\n",
              "      <td>14</td>\n",
              "    </tr>\n",
              "    <tr>\n",
              "      <th>14</th>\n",
              "      <td>1</td>\n",
              "      <td>374</td>\n",
              "      <td>1549</td>\n",
              "      <td>2020-03-28</td>\n",
              "      <td>2020-04-12</td>\n",
              "      <td>1</td>\n",
              "      <td>44995.84</td>\n",
              "      <td>14</td>\n",
              "    </tr>\n",
              "    <tr>\n",
              "      <th>17</th>\n",
              "      <td>1</td>\n",
              "      <td>411</td>\n",
              "      <td>1688</td>\n",
              "      <td>2020-03-29</td>\n",
              "      <td>2020-04-13</td>\n",
              "      <td>1</td>\n",
              "      <td>5081.63</td>\n",
              "      <td>27</td>\n",
              "    </tr>\n",
              "    <tr>\n",
              "      <th>18</th>\n",
              "      <td>1</td>\n",
              "      <td>411</td>\n",
              "      <td>1678</td>\n",
              "      <td>2020-04-01</td>\n",
              "      <td>2020-04-16</td>\n",
              "      <td>1</td>\n",
              "      <td>12249.55</td>\n",
              "      <td>27</td>\n",
              "    </tr>\n",
              "    <tr>\n",
              "      <th>20</th>\n",
              "      <td>1</td>\n",
              "      <td>411</td>\n",
              "      <td>1687</td>\n",
              "      <td>2020-04-25</td>\n",
              "      <td>2020-05-10</td>\n",
              "      <td>1</td>\n",
              "      <td>4486.74</td>\n",
              "      <td>27</td>\n",
              "    </tr>\n",
              "    <tr>\n",
              "      <th>...</th>\n",
              "      <td>...</td>\n",
              "      <td>...</td>\n",
              "      <td>...</td>\n",
              "      <td>...</td>\n",
              "      <td>...</td>\n",
              "      <td>...</td>\n",
              "      <td>...</td>\n",
              "      <td>...</td>\n",
              "    </tr>\n",
              "    <tr>\n",
              "      <th>49977</th>\n",
              "      <td>1</td>\n",
              "      <td>553</td>\n",
              "      <td>443</td>\n",
              "      <td>2020-03-28</td>\n",
              "      <td>2020-06-01</td>\n",
              "      <td>1</td>\n",
              "      <td>4557.11</td>\n",
              "      <td>26</td>\n",
              "    </tr>\n",
              "    <tr>\n",
              "      <th>49985</th>\n",
              "      <td>1</td>\n",
              "      <td>343</td>\n",
              "      <td>180</td>\n",
              "      <td>2020-04-02</td>\n",
              "      <td>2020-04-17</td>\n",
              "      <td>1</td>\n",
              "      <td>217.69</td>\n",
              "      <td>14</td>\n",
              "    </tr>\n",
              "    <tr>\n",
              "      <th>49993</th>\n",
              "      <td>1</td>\n",
              "      <td>411</td>\n",
              "      <td>1679</td>\n",
              "      <td>2020-03-09</td>\n",
              "      <td>2020-03-24</td>\n",
              "      <td>1</td>\n",
              "      <td>12744.43</td>\n",
              "      <td>27</td>\n",
              "    </tr>\n",
              "    <tr>\n",
              "      <th>49998</th>\n",
              "      <td>1</td>\n",
              "      <td>463</td>\n",
              "      <td>350</td>\n",
              "      <td>2020-03-19</td>\n",
              "      <td>2020-04-03</td>\n",
              "      <td>1</td>\n",
              "      <td>16297.21</td>\n",
              "      <td>16</td>\n",
              "    </tr>\n",
              "    <tr>\n",
              "      <th>49999</th>\n",
              "      <td>1</td>\n",
              "      <td>411</td>\n",
              "      <td>1685</td>\n",
              "      <td>2020-04-01</td>\n",
              "      <td>2020-04-16</td>\n",
              "      <td>1</td>\n",
              "      <td>5601.67</td>\n",
              "      <td>27</td>\n",
              "    </tr>\n",
              "  </tbody>\n",
              "</table>\n",
              "<p>9703 rows × 8 columns</p>\n",
              "</div>"
            ],
            "text/plain": [
              "       business_code  cust_number  ...  total_open_amount cust_payment_terms\n",
              "10                 1          396  ...           45512.20                 14\n",
              "14                 1          374  ...           44995.84                 14\n",
              "17                 1          411  ...            5081.63                 27\n",
              "18                 1          411  ...           12249.55                 27\n",
              "20                 1          411  ...            4486.74                 27\n",
              "...              ...          ...  ...                ...                ...\n",
              "49977              1          553  ...            4557.11                 26\n",
              "49985              1          343  ...             217.69                 14\n",
              "49993              1          411  ...           12744.43                 27\n",
              "49998              1          463  ...           16297.21                 16\n",
              "49999              1          411  ...            5601.67                 27\n",
              "\n",
              "[9703 rows x 8 columns]"
            ]
          },
          "metadata": {
            "tags": []
          },
          "execution_count": 138
        }
      ]
    },
    {
      "cell_type": "markdown",
      "metadata": {
        "id": "NVVnAtQOPtkP"
      },
      "source": [
        "**Adding column for actual days for payment**"
      ]
    },
    {
      "cell_type": "code",
      "metadata": {
        "id": "rw_uxAPsPtA2"
      },
      "source": [
        "test_null_df['days_for_payment'] = (test_null_df['due_in_date']-test_null_df['posting_date']).dt.days"
      ],
      "execution_count": null,
      "outputs": []
    },
    {
      "cell_type": "markdown",
      "metadata": {
        "id": "Fz8bOaQAP7Kz"
      },
      "source": [
        "**Dropping the two date column also**"
      ]
    },
    {
      "cell_type": "code",
      "metadata": {
        "colab": {
          "base_uri": "https://localhost:8080/",
          "height": 419
        },
        "id": "qnAAZRy0P6uf",
        "outputId": "b5232c1a-0d45-43e5-8352-0e4312b6b1eb"
      },
      "source": [
        "test_null_df = test_null_df.drop(['posting_date', 'due_in_date'],axis=1)\n",
        "test_null_df"
      ],
      "execution_count": null,
      "outputs": [
        {
          "output_type": "execute_result",
          "data": {
            "text/html": [
              "<div>\n",
              "<style scoped>\n",
              "    .dataframe tbody tr th:only-of-type {\n",
              "        vertical-align: middle;\n",
              "    }\n",
              "\n",
              "    .dataframe tbody tr th {\n",
              "        vertical-align: top;\n",
              "    }\n",
              "\n",
              "    .dataframe thead th {\n",
              "        text-align: right;\n",
              "    }\n",
              "</style>\n",
              "<table border=\"1\" class=\"dataframe\">\n",
              "  <thead>\n",
              "    <tr style=\"text-align: right;\">\n",
              "      <th></th>\n",
              "      <th>business_code</th>\n",
              "      <th>cust_number</th>\n",
              "      <th>name_customer</th>\n",
              "      <th>invoice_currency</th>\n",
              "      <th>total_open_amount</th>\n",
              "      <th>cust_payment_terms</th>\n",
              "      <th>days_for_payment</th>\n",
              "    </tr>\n",
              "  </thead>\n",
              "  <tbody>\n",
              "    <tr>\n",
              "      <th>10</th>\n",
              "      <td>1</td>\n",
              "      <td>396</td>\n",
              "      <td>643</td>\n",
              "      <td>1</td>\n",
              "      <td>45512.20</td>\n",
              "      <td>14</td>\n",
              "      <td>15</td>\n",
              "    </tr>\n",
              "    <tr>\n",
              "      <th>14</th>\n",
              "      <td>1</td>\n",
              "      <td>374</td>\n",
              "      <td>1549</td>\n",
              "      <td>1</td>\n",
              "      <td>44995.84</td>\n",
              "      <td>14</td>\n",
              "      <td>15</td>\n",
              "    </tr>\n",
              "    <tr>\n",
              "      <th>17</th>\n",
              "      <td>1</td>\n",
              "      <td>411</td>\n",
              "      <td>1688</td>\n",
              "      <td>1</td>\n",
              "      <td>5081.63</td>\n",
              "      <td>27</td>\n",
              "      <td>15</td>\n",
              "    </tr>\n",
              "    <tr>\n",
              "      <th>18</th>\n",
              "      <td>1</td>\n",
              "      <td>411</td>\n",
              "      <td>1678</td>\n",
              "      <td>1</td>\n",
              "      <td>12249.55</td>\n",
              "      <td>27</td>\n",
              "      <td>15</td>\n",
              "    </tr>\n",
              "    <tr>\n",
              "      <th>20</th>\n",
              "      <td>1</td>\n",
              "      <td>411</td>\n",
              "      <td>1687</td>\n",
              "      <td>1</td>\n",
              "      <td>4486.74</td>\n",
              "      <td>27</td>\n",
              "      <td>15</td>\n",
              "    </tr>\n",
              "    <tr>\n",
              "      <th>...</th>\n",
              "      <td>...</td>\n",
              "      <td>...</td>\n",
              "      <td>...</td>\n",
              "      <td>...</td>\n",
              "      <td>...</td>\n",
              "      <td>...</td>\n",
              "      <td>...</td>\n",
              "    </tr>\n",
              "    <tr>\n",
              "      <th>49977</th>\n",
              "      <td>1</td>\n",
              "      <td>553</td>\n",
              "      <td>443</td>\n",
              "      <td>1</td>\n",
              "      <td>4557.11</td>\n",
              "      <td>26</td>\n",
              "      <td>65</td>\n",
              "    </tr>\n",
              "    <tr>\n",
              "      <th>49985</th>\n",
              "      <td>1</td>\n",
              "      <td>343</td>\n",
              "      <td>180</td>\n",
              "      <td>1</td>\n",
              "      <td>217.69</td>\n",
              "      <td>14</td>\n",
              "      <td>15</td>\n",
              "    </tr>\n",
              "    <tr>\n",
              "      <th>49993</th>\n",
              "      <td>1</td>\n",
              "      <td>411</td>\n",
              "      <td>1679</td>\n",
              "      <td>1</td>\n",
              "      <td>12744.43</td>\n",
              "      <td>27</td>\n",
              "      <td>15</td>\n",
              "    </tr>\n",
              "    <tr>\n",
              "      <th>49998</th>\n",
              "      <td>1</td>\n",
              "      <td>463</td>\n",
              "      <td>350</td>\n",
              "      <td>1</td>\n",
              "      <td>16297.21</td>\n",
              "      <td>16</td>\n",
              "      <td>15</td>\n",
              "    </tr>\n",
              "    <tr>\n",
              "      <th>49999</th>\n",
              "      <td>1</td>\n",
              "      <td>411</td>\n",
              "      <td>1685</td>\n",
              "      <td>1</td>\n",
              "      <td>5601.67</td>\n",
              "      <td>27</td>\n",
              "      <td>15</td>\n",
              "    </tr>\n",
              "  </tbody>\n",
              "</table>\n",
              "<p>9703 rows × 7 columns</p>\n",
              "</div>"
            ],
            "text/plain": [
              "       business_code  cust_number  ...  cust_payment_terms  days_for_payment\n",
              "10                 1          396  ...                  14                15\n",
              "14                 1          374  ...                  14                15\n",
              "17                 1          411  ...                  27                15\n",
              "18                 1          411  ...                  27                15\n",
              "20                 1          411  ...                  27                15\n",
              "...              ...          ...  ...                 ...               ...\n",
              "49977              1          553  ...                  26                65\n",
              "49985              1          343  ...                  14                15\n",
              "49993              1          411  ...                  27                15\n",
              "49998              1          463  ...                  16                15\n",
              "49999              1          411  ...                  27                15\n",
              "\n",
              "[9703 rows x 7 columns]"
            ]
          },
          "metadata": {
            "tags": []
          },
          "execution_count": 140
        }
      ]
    },
    {
      "cell_type": "markdown",
      "metadata": {
        "id": "EZF0GhmCQWpU"
      },
      "source": [
        "**Taking absolute value for the days for payment**"
      ]
    },
    {
      "cell_type": "code",
      "metadata": {
        "colab": {
          "base_uri": "https://localhost:8080/",
          "height": 419
        },
        "id": "t6ylhH0yQc4s",
        "outputId": "d15db560-6866-43fe-c8c2-e4b8a142f2b0"
      },
      "source": [
        "test_null_df['days_for_payment'] = test_null_df['days_for_payment'].abs()\n",
        "test_null_df"
      ],
      "execution_count": null,
      "outputs": [
        {
          "output_type": "execute_result",
          "data": {
            "text/html": [
              "<div>\n",
              "<style scoped>\n",
              "    .dataframe tbody tr th:only-of-type {\n",
              "        vertical-align: middle;\n",
              "    }\n",
              "\n",
              "    .dataframe tbody tr th {\n",
              "        vertical-align: top;\n",
              "    }\n",
              "\n",
              "    .dataframe thead th {\n",
              "        text-align: right;\n",
              "    }\n",
              "</style>\n",
              "<table border=\"1\" class=\"dataframe\">\n",
              "  <thead>\n",
              "    <tr style=\"text-align: right;\">\n",
              "      <th></th>\n",
              "      <th>business_code</th>\n",
              "      <th>cust_number</th>\n",
              "      <th>name_customer</th>\n",
              "      <th>invoice_currency</th>\n",
              "      <th>total_open_amount</th>\n",
              "      <th>cust_payment_terms</th>\n",
              "      <th>days_for_payment</th>\n",
              "    </tr>\n",
              "  </thead>\n",
              "  <tbody>\n",
              "    <tr>\n",
              "      <th>10</th>\n",
              "      <td>1</td>\n",
              "      <td>396</td>\n",
              "      <td>643</td>\n",
              "      <td>1</td>\n",
              "      <td>45512.20</td>\n",
              "      <td>14</td>\n",
              "      <td>15</td>\n",
              "    </tr>\n",
              "    <tr>\n",
              "      <th>14</th>\n",
              "      <td>1</td>\n",
              "      <td>374</td>\n",
              "      <td>1549</td>\n",
              "      <td>1</td>\n",
              "      <td>44995.84</td>\n",
              "      <td>14</td>\n",
              "      <td>15</td>\n",
              "    </tr>\n",
              "    <tr>\n",
              "      <th>17</th>\n",
              "      <td>1</td>\n",
              "      <td>411</td>\n",
              "      <td>1688</td>\n",
              "      <td>1</td>\n",
              "      <td>5081.63</td>\n",
              "      <td>27</td>\n",
              "      <td>15</td>\n",
              "    </tr>\n",
              "    <tr>\n",
              "      <th>18</th>\n",
              "      <td>1</td>\n",
              "      <td>411</td>\n",
              "      <td>1678</td>\n",
              "      <td>1</td>\n",
              "      <td>12249.55</td>\n",
              "      <td>27</td>\n",
              "      <td>15</td>\n",
              "    </tr>\n",
              "    <tr>\n",
              "      <th>20</th>\n",
              "      <td>1</td>\n",
              "      <td>411</td>\n",
              "      <td>1687</td>\n",
              "      <td>1</td>\n",
              "      <td>4486.74</td>\n",
              "      <td>27</td>\n",
              "      <td>15</td>\n",
              "    </tr>\n",
              "    <tr>\n",
              "      <th>...</th>\n",
              "      <td>...</td>\n",
              "      <td>...</td>\n",
              "      <td>...</td>\n",
              "      <td>...</td>\n",
              "      <td>...</td>\n",
              "      <td>...</td>\n",
              "      <td>...</td>\n",
              "    </tr>\n",
              "    <tr>\n",
              "      <th>49977</th>\n",
              "      <td>1</td>\n",
              "      <td>553</td>\n",
              "      <td>443</td>\n",
              "      <td>1</td>\n",
              "      <td>4557.11</td>\n",
              "      <td>26</td>\n",
              "      <td>65</td>\n",
              "    </tr>\n",
              "    <tr>\n",
              "      <th>49985</th>\n",
              "      <td>1</td>\n",
              "      <td>343</td>\n",
              "      <td>180</td>\n",
              "      <td>1</td>\n",
              "      <td>217.69</td>\n",
              "      <td>14</td>\n",
              "      <td>15</td>\n",
              "    </tr>\n",
              "    <tr>\n",
              "      <th>49993</th>\n",
              "      <td>1</td>\n",
              "      <td>411</td>\n",
              "      <td>1679</td>\n",
              "      <td>1</td>\n",
              "      <td>12744.43</td>\n",
              "      <td>27</td>\n",
              "      <td>15</td>\n",
              "    </tr>\n",
              "    <tr>\n",
              "      <th>49998</th>\n",
              "      <td>1</td>\n",
              "      <td>463</td>\n",
              "      <td>350</td>\n",
              "      <td>1</td>\n",
              "      <td>16297.21</td>\n",
              "      <td>16</td>\n",
              "      <td>15</td>\n",
              "    </tr>\n",
              "    <tr>\n",
              "      <th>49999</th>\n",
              "      <td>1</td>\n",
              "      <td>411</td>\n",
              "      <td>1685</td>\n",
              "      <td>1</td>\n",
              "      <td>5601.67</td>\n",
              "      <td>27</td>\n",
              "      <td>15</td>\n",
              "    </tr>\n",
              "  </tbody>\n",
              "</table>\n",
              "<p>9703 rows × 7 columns</p>\n",
              "</div>"
            ],
            "text/plain": [
              "       business_code  cust_number  ...  cust_payment_terms  days_for_payment\n",
              "10                 1          396  ...                  14                15\n",
              "14                 1          374  ...                  14                15\n",
              "17                 1          411  ...                  27                15\n",
              "18                 1          411  ...                  27                15\n",
              "20                 1          411  ...                  27                15\n",
              "...              ...          ...  ...                 ...               ...\n",
              "49977              1          553  ...                  26                65\n",
              "49985              1          343  ...                  14                15\n",
              "49993              1          411  ...                  27                15\n",
              "49998              1          463  ...                  16                15\n",
              "49999              1          411  ...                  27                15\n",
              "\n",
              "[9703 rows x 7 columns]"
            ]
          },
          "metadata": {
            "tags": []
          },
          "execution_count": 141
        }
      ]
    },
    {
      "cell_type": "markdown",
      "metadata": {
        "id": "HUspsHQ0mLke"
      },
      "source": [
        "**Now the test_null_df dataframe is same as we used for prediction</br> We will use this dataframe for prediction making**"
      ]
    },
    {
      "cell_type": "markdown",
      "metadata": {
        "id": "xuPE-G3cQuNk"
      },
      "source": [
        "**Predicting the value for this test_null_df**"
      ]
    },
    {
      "cell_type": "markdown",
      "metadata": {
        "id": "clzrNZHDQ3LP"
      },
      "source": [
        "**For Predicting this value we can use the Decision Tree Regressor**"
      ]
    },
    {
      "cell_type": "code",
      "metadata": {
        "colab": {
          "base_uri": "https://localhost:8080/"
        },
        "id": "M2cb0dq0Qtpc",
        "outputId": "cab6a139-ac97-42f4-cece-56edf68d3fbc"
      },
      "source": [
        "y_pred = clf_dreg.predict(test_null_df)\n",
        "y_pred"
      ],
      "execution_count": null,
      "outputs": [
        {
          "output_type": "execute_result",
          "data": {
            "text/plain": [
              "array([17.,  6., 20., ..., 13., 15., 20.])"
            ]
          },
          "metadata": {
            "tags": []
          },
          "execution_count": 142
        }
      ]
    },
    {
      "cell_type": "code",
      "metadata": {
        "colab": {
          "base_uri": "https://localhost:8080/"
        },
        "id": "-lHR5fh_RNBu",
        "outputId": "faf0e87c-428e-4580-8c28-cdef2c705199"
      },
      "source": [
        "y_pred.dtype"
      ],
      "execution_count": null,
      "outputs": [
        {
          "output_type": "execute_result",
          "data": {
            "text/plain": [
              "dtype('float64')"
            ]
          },
          "metadata": {
            "tags": []
          },
          "execution_count": 143
        }
      ]
    },
    {
      "cell_type": "code",
      "metadata": {
        "colab": {
          "base_uri": "https://localhost:8080/"
        },
        "id": "mvn8IIe6V7Ol",
        "outputId": "1dd81e6f-2787-4be9-fe20-589ae5aaa255"
      },
      "source": [
        "y_pred = y_pred.astype(int)\n",
        "y_pred.dtype"
      ],
      "execution_count": null,
      "outputs": [
        {
          "output_type": "execute_result",
          "data": {
            "text/plain": [
              "dtype('int64')"
            ]
          },
          "metadata": {
            "tags": []
          },
          "execution_count": 144
        }
      ]
    },
    {
      "cell_type": "code",
      "metadata": {
        "colab": {
          "base_uri": "https://localhost:8080/"
        },
        "id": "yBduMC65WC89",
        "outputId": "390003cc-03f8-4a37-ec3e-fdcb98366a4a"
      },
      "source": [
        "y_pred"
      ],
      "execution_count": null,
      "outputs": [
        {
          "output_type": "execute_result",
          "data": {
            "text/plain": [
              "array([17,  6, 20, ..., 13, 15, 20])"
            ]
          },
          "metadata": {
            "tags": []
          },
          "execution_count": 145
        }
      ]
    },
    {
      "cell_type": "code",
      "metadata": {
        "colab": {
          "base_uri": "https://localhost:8080/"
        },
        "id": "pO56xTj_S6Bn",
        "outputId": "61d89555-63ec-44c4-a64d-12c628f4aa2e"
      },
      "source": [
        "null_df.dtypes"
      ],
      "execution_count": null,
      "outputs": [
        {
          "output_type": "execute_result",
          "data": {
            "text/plain": [
              "business_code             object\n",
              "cust_number               object\n",
              "name_customer             object\n",
              "clear_date                object\n",
              "buisness_year             object\n",
              "doc_id                    object\n",
              "posting_date              object\n",
              "document_create_date      object\n",
              "document_create_date.1    object\n",
              "due_in_date               object\n",
              "invoice_currency          object\n",
              "document type             object\n",
              "posting_id                object\n",
              "total_open_amount         object\n",
              "baseline_create_date      object\n",
              "cust_payment_terms        object\n",
              "invoice_id                object\n",
              "isOpen                    object\n",
              "dtype: object"
            ]
          },
          "metadata": {
            "tags": []
          },
          "execution_count": 146
        }
      ]
    },
    {
      "cell_type": "code",
      "metadata": {
        "colab": {
          "base_uri": "https://localhost:8080/"
        },
        "id": "AGh8kzhYTGD7",
        "outputId": "ba4b593c-de2b-4b88-a699-58b79dbd5137"
      },
      "source": [
        "null_df['posting_date'] = null_df['posting_date'].apply(pd.to_datetime)\n",
        "null_df.dtypes"
      ],
      "execution_count": null,
      "outputs": [
        {
          "output_type": "execute_result",
          "data": {
            "text/plain": [
              "business_code                     object\n",
              "cust_number                       object\n",
              "name_customer                     object\n",
              "clear_date                        object\n",
              "buisness_year                     object\n",
              "doc_id                            object\n",
              "posting_date              datetime64[ns]\n",
              "document_create_date              object\n",
              "document_create_date.1            object\n",
              "due_in_date                       object\n",
              "invoice_currency                  object\n",
              "document type                     object\n",
              "posting_id                        object\n",
              "total_open_amount                 object\n",
              "baseline_create_date              object\n",
              "cust_payment_terms                object\n",
              "invoice_id                        object\n",
              "isOpen                            object\n",
              "dtype: object"
            ]
          },
          "metadata": {
            "tags": []
          },
          "execution_count": 147
        }
      ]
    },
    {
      "cell_type": "markdown",
      "metadata": {
        "id": "ZZtQEeX1m_lB"
      },
      "source": [
        "Adding the predicted value to the test_null_df dataframe"
      ]
    },
    {
      "cell_type": "code",
      "metadata": {
        "colab": {
          "base_uri": "https://localhost:8080/",
          "height": 419
        },
        "id": "4BW6R9csSi9_",
        "outputId": "f8186938-df05-4402-e493-f7ad2b948a18"
      },
      "source": [
        "test_null_df['pred_val'] = y_pred\n",
        "test_null_df"
      ],
      "execution_count": null,
      "outputs": [
        {
          "output_type": "execute_result",
          "data": {
            "text/html": [
              "<div>\n",
              "<style scoped>\n",
              "    .dataframe tbody tr th:only-of-type {\n",
              "        vertical-align: middle;\n",
              "    }\n",
              "\n",
              "    .dataframe tbody tr th {\n",
              "        vertical-align: top;\n",
              "    }\n",
              "\n",
              "    .dataframe thead th {\n",
              "        text-align: right;\n",
              "    }\n",
              "</style>\n",
              "<table border=\"1\" class=\"dataframe\">\n",
              "  <thead>\n",
              "    <tr style=\"text-align: right;\">\n",
              "      <th></th>\n",
              "      <th>business_code</th>\n",
              "      <th>cust_number</th>\n",
              "      <th>name_customer</th>\n",
              "      <th>invoice_currency</th>\n",
              "      <th>total_open_amount</th>\n",
              "      <th>cust_payment_terms</th>\n",
              "      <th>days_for_payment</th>\n",
              "      <th>pred_val</th>\n",
              "    </tr>\n",
              "  </thead>\n",
              "  <tbody>\n",
              "    <tr>\n",
              "      <th>10</th>\n",
              "      <td>1</td>\n",
              "      <td>396</td>\n",
              "      <td>643</td>\n",
              "      <td>1</td>\n",
              "      <td>45512.20</td>\n",
              "      <td>14</td>\n",
              "      <td>15</td>\n",
              "      <td>17</td>\n",
              "    </tr>\n",
              "    <tr>\n",
              "      <th>14</th>\n",
              "      <td>1</td>\n",
              "      <td>374</td>\n",
              "      <td>1549</td>\n",
              "      <td>1</td>\n",
              "      <td>44995.84</td>\n",
              "      <td>14</td>\n",
              "      <td>15</td>\n",
              "      <td>6</td>\n",
              "    </tr>\n",
              "    <tr>\n",
              "      <th>17</th>\n",
              "      <td>1</td>\n",
              "      <td>411</td>\n",
              "      <td>1688</td>\n",
              "      <td>1</td>\n",
              "      <td>5081.63</td>\n",
              "      <td>27</td>\n",
              "      <td>15</td>\n",
              "      <td>20</td>\n",
              "    </tr>\n",
              "    <tr>\n",
              "      <th>18</th>\n",
              "      <td>1</td>\n",
              "      <td>411</td>\n",
              "      <td>1678</td>\n",
              "      <td>1</td>\n",
              "      <td>12249.55</td>\n",
              "      <td>27</td>\n",
              "      <td>15</td>\n",
              "      <td>11</td>\n",
              "    </tr>\n",
              "    <tr>\n",
              "      <th>20</th>\n",
              "      <td>1</td>\n",
              "      <td>411</td>\n",
              "      <td>1687</td>\n",
              "      <td>1</td>\n",
              "      <td>4486.74</td>\n",
              "      <td>27</td>\n",
              "      <td>15</td>\n",
              "      <td>16</td>\n",
              "    </tr>\n",
              "    <tr>\n",
              "      <th>...</th>\n",
              "      <td>...</td>\n",
              "      <td>...</td>\n",
              "      <td>...</td>\n",
              "      <td>...</td>\n",
              "      <td>...</td>\n",
              "      <td>...</td>\n",
              "      <td>...</td>\n",
              "      <td>...</td>\n",
              "    </tr>\n",
              "    <tr>\n",
              "      <th>49977</th>\n",
              "      <td>1</td>\n",
              "      <td>553</td>\n",
              "      <td>443</td>\n",
              "      <td>1</td>\n",
              "      <td>4557.11</td>\n",
              "      <td>26</td>\n",
              "      <td>65</td>\n",
              "      <td>14</td>\n",
              "    </tr>\n",
              "    <tr>\n",
              "      <th>49985</th>\n",
              "      <td>1</td>\n",
              "      <td>343</td>\n",
              "      <td>180</td>\n",
              "      <td>1</td>\n",
              "      <td>217.69</td>\n",
              "      <td>14</td>\n",
              "      <td>15</td>\n",
              "      <td>21</td>\n",
              "    </tr>\n",
              "    <tr>\n",
              "      <th>49993</th>\n",
              "      <td>1</td>\n",
              "      <td>411</td>\n",
              "      <td>1679</td>\n",
              "      <td>1</td>\n",
              "      <td>12744.43</td>\n",
              "      <td>27</td>\n",
              "      <td>15</td>\n",
              "      <td>13</td>\n",
              "    </tr>\n",
              "    <tr>\n",
              "      <th>49998</th>\n",
              "      <td>1</td>\n",
              "      <td>463</td>\n",
              "      <td>350</td>\n",
              "      <td>1</td>\n",
              "      <td>16297.21</td>\n",
              "      <td>16</td>\n",
              "      <td>15</td>\n",
              "      <td>15</td>\n",
              "    </tr>\n",
              "    <tr>\n",
              "      <th>49999</th>\n",
              "      <td>1</td>\n",
              "      <td>411</td>\n",
              "      <td>1685</td>\n",
              "      <td>1</td>\n",
              "      <td>5601.67</td>\n",
              "      <td>27</td>\n",
              "      <td>15</td>\n",
              "      <td>20</td>\n",
              "    </tr>\n",
              "  </tbody>\n",
              "</table>\n",
              "<p>9703 rows × 8 columns</p>\n",
              "</div>"
            ],
            "text/plain": [
              "       business_code  cust_number  ...  days_for_payment  pred_val\n",
              "10                 1          396  ...                15        17\n",
              "14                 1          374  ...                15         6\n",
              "17                 1          411  ...                15        20\n",
              "18                 1          411  ...                15        11\n",
              "20                 1          411  ...                15        16\n",
              "...              ...          ...  ...               ...       ...\n",
              "49977              1          553  ...                65        14\n",
              "49985              1          343  ...                15        21\n",
              "49993              1          411  ...                15        13\n",
              "49998              1          463  ...                15        15\n",
              "49999              1          411  ...                15        20\n",
              "\n",
              "[9703 rows x 8 columns]"
            ]
          },
          "metadata": {
            "tags": []
          },
          "execution_count": 148
        }
      ]
    },
    {
      "cell_type": "code",
      "metadata": {
        "colab": {
          "base_uri": "https://localhost:8080/"
        },
        "id": "sYPPWYgBWn_1",
        "outputId": "7d34f471-8eb3-45d7-9c31-4836ca928a1b"
      },
      "source": [
        "test_null_df.dtypes"
      ],
      "execution_count": null,
      "outputs": [
        {
          "output_type": "execute_result",
          "data": {
            "text/plain": [
              "business_code           int64\n",
              "cust_number             int64\n",
              "name_customer           int64\n",
              "invoice_currency        int64\n",
              "total_open_amount     float64\n",
              "cust_payment_terms      int64\n",
              "days_for_payment        int64\n",
              "pred_val                int64\n",
              "dtype: object"
            ]
          },
          "metadata": {
            "tags": []
          },
          "execution_count": 149
        }
      ]
    },
    {
      "cell_type": "markdown",
      "metadata": {
        "id": "g7vUrUjcnTj-"
      },
      "source": [
        "**Storing the pred_val in the temp variable by converting it into date format**"
      ]
    },
    {
      "cell_type": "code",
      "metadata": {
        "id": "Yh95TSBRYckl"
      },
      "source": [
        "temp = test_null_df['pred_val'].apply(np.ceil).apply(lambda x: pd.Timedelta(x, unit='D'))"
      ],
      "execution_count": null,
      "outputs": []
    },
    {
      "cell_type": "code",
      "metadata": {
        "colab": {
          "base_uri": "https://localhost:8080/"
        },
        "id": "qrv_iXBEnm7c",
        "outputId": "4f52b792-e0f5-4a9f-8cd2-8dc4cb21d36f"
      },
      "source": [
        "temp.dtype"
      ],
      "execution_count": null,
      "outputs": [
        {
          "output_type": "execute_result",
          "data": {
            "text/plain": [
              "dtype('<m8[ns]')"
            ]
          },
          "metadata": {
            "tags": []
          },
          "execution_count": 151
        }
      ]
    },
    {
      "cell_type": "markdown",
      "metadata": {
        "id": "xK0N82Kqnweu"
      },
      "source": [
        "**Finally adding the temp value to the posting_date column to get the predicted date and then storing into the null_df as predicted_date column**"
      ]
    },
    {
      "cell_type": "code",
      "metadata": {
        "id": "ThCi99SZYvS8"
      },
      "source": [
        "null_df['predicted_date'] = null_df['posting_date'] + temp"
      ],
      "execution_count": null,
      "outputs": []
    },
    {
      "cell_type": "code",
      "metadata": {
        "colab": {
          "base_uri": "https://localhost:8080/",
          "height": 507
        },
        "id": "cxfUx4j7Y6B-",
        "outputId": "1999d316-1908-4063-f90d-d594fa15f29c"
      },
      "source": [
        "null_df"
      ],
      "execution_count": null,
      "outputs": [
        {
          "output_type": "execute_result",
          "data": {
            "text/html": [
              "<div>\n",
              "<style scoped>\n",
              "    .dataframe tbody tr th:only-of-type {\n",
              "        vertical-align: middle;\n",
              "    }\n",
              "\n",
              "    .dataframe tbody tr th {\n",
              "        vertical-align: top;\n",
              "    }\n",
              "\n",
              "    .dataframe thead th {\n",
              "        text-align: right;\n",
              "    }\n",
              "</style>\n",
              "<table border=\"1\" class=\"dataframe\">\n",
              "  <thead>\n",
              "    <tr style=\"text-align: right;\">\n",
              "      <th></th>\n",
              "      <th>business_code</th>\n",
              "      <th>cust_number</th>\n",
              "      <th>name_customer</th>\n",
              "      <th>clear_date</th>\n",
              "      <th>buisness_year</th>\n",
              "      <th>doc_id</th>\n",
              "      <th>posting_date</th>\n",
              "      <th>document_create_date</th>\n",
              "      <th>document_create_date.1</th>\n",
              "      <th>due_in_date</th>\n",
              "      <th>invoice_currency</th>\n",
              "      <th>document type</th>\n",
              "      <th>posting_id</th>\n",
              "      <th>total_open_amount</th>\n",
              "      <th>baseline_create_date</th>\n",
              "      <th>cust_payment_terms</th>\n",
              "      <th>invoice_id</th>\n",
              "      <th>isOpen</th>\n",
              "      <th>predicted_date</th>\n",
              "    </tr>\n",
              "  </thead>\n",
              "  <tbody>\n",
              "    <tr>\n",
              "      <th>10</th>\n",
              "      <td>U001</td>\n",
              "      <td>0200761734</td>\n",
              "      <td>H E BUT associates</td>\n",
              "      <td>NaN</td>\n",
              "      <td>2020</td>\n",
              "      <td>1.93077e+09</td>\n",
              "      <td>2020-04-09</td>\n",
              "      <td>20200410</td>\n",
              "      <td>20200409</td>\n",
              "      <td>2.02004e+07</td>\n",
              "      <td>USD</td>\n",
              "      <td>RV</td>\n",
              "      <td>1</td>\n",
              "      <td>45512.2</td>\n",
              "      <td>2.02004e+07</td>\n",
              "      <td>NAA8</td>\n",
              "      <td>1.93077e+09</td>\n",
              "      <td>1</td>\n",
              "      <td>2020-04-26</td>\n",
              "    </tr>\n",
              "    <tr>\n",
              "      <th>14</th>\n",
              "      <td>U001</td>\n",
              "      <td>0200744019</td>\n",
              "      <td>TARG corp</td>\n",
              "      <td>NaN</td>\n",
              "      <td>2020</td>\n",
              "      <td>1.93071e+09</td>\n",
              "      <td>2020-03-28</td>\n",
              "      <td>20200326</td>\n",
              "      <td>20200328</td>\n",
              "      <td>2.02004e+07</td>\n",
              "      <td>USD</td>\n",
              "      <td>RV</td>\n",
              "      <td>1</td>\n",
              "      <td>44995.8</td>\n",
              "      <td>2.02003e+07</td>\n",
              "      <td>NAA8</td>\n",
              "      <td>1.93071e+09</td>\n",
              "      <td>1</td>\n",
              "      <td>2020-04-03</td>\n",
              "    </tr>\n",
              "    <tr>\n",
              "      <th>17</th>\n",
              "      <td>U001</td>\n",
              "      <td>0200769623</td>\n",
              "      <td>WAL-MAR us</td>\n",
              "      <td>NaN</td>\n",
              "      <td>2020</td>\n",
              "      <td>1.93072e+09</td>\n",
              "      <td>2020-03-29</td>\n",
              "      <td>20200329</td>\n",
              "      <td>20200329</td>\n",
              "      <td>2.02004e+07</td>\n",
              "      <td>USD</td>\n",
              "      <td>RV</td>\n",
              "      <td>1</td>\n",
              "      <td>5081.63</td>\n",
              "      <td>2.02003e+07</td>\n",
              "      <td>NAH4</td>\n",
              "      <td>1.93072e+09</td>\n",
              "      <td>1</td>\n",
              "      <td>2020-04-18</td>\n",
              "    </tr>\n",
              "    <tr>\n",
              "      <th>18</th>\n",
              "      <td>U001</td>\n",
              "      <td>0200769623</td>\n",
              "      <td>WAL-MAR</td>\n",
              "      <td>NaN</td>\n",
              "      <td>2020</td>\n",
              "      <td>1.93073e+09</td>\n",
              "      <td>2020-04-01</td>\n",
              "      <td>20200331</td>\n",
              "      <td>20200401</td>\n",
              "      <td>2.02004e+07</td>\n",
              "      <td>USD</td>\n",
              "      <td>RV</td>\n",
              "      <td>1</td>\n",
              "      <td>12249.5</td>\n",
              "      <td>2.02004e+07</td>\n",
              "      <td>NAH4</td>\n",
              "      <td>1.93073e+09</td>\n",
              "      <td>1</td>\n",
              "      <td>2020-04-12</td>\n",
              "    </tr>\n",
              "    <tr>\n",
              "      <th>20</th>\n",
              "      <td>U001</td>\n",
              "      <td>0200769623</td>\n",
              "      <td>WAL-MAR trust</td>\n",
              "      <td>NaN</td>\n",
              "      <td>2020</td>\n",
              "      <td>1.93082e+09</td>\n",
              "      <td>2020-04-25</td>\n",
              "      <td>20200423</td>\n",
              "      <td>20200425</td>\n",
              "      <td>2.02005e+07</td>\n",
              "      <td>USD</td>\n",
              "      <td>RV</td>\n",
              "      <td>1</td>\n",
              "      <td>4486.74</td>\n",
              "      <td>2.02004e+07</td>\n",
              "      <td>NAH4</td>\n",
              "      <td>1.93082e+09</td>\n",
              "      <td>1</td>\n",
              "      <td>2020-05-11</td>\n",
              "    </tr>\n",
              "    <tr>\n",
              "      <th>...</th>\n",
              "      <td>...</td>\n",
              "      <td>...</td>\n",
              "      <td>...</td>\n",
              "      <td>...</td>\n",
              "      <td>...</td>\n",
              "      <td>...</td>\n",
              "      <td>...</td>\n",
              "      <td>...</td>\n",
              "      <td>...</td>\n",
              "      <td>...</td>\n",
              "      <td>...</td>\n",
              "      <td>...</td>\n",
              "      <td>...</td>\n",
              "      <td>...</td>\n",
              "      <td>...</td>\n",
              "      <td>...</td>\n",
              "      <td>...</td>\n",
              "      <td>...</td>\n",
              "      <td>...</td>\n",
              "    </tr>\n",
              "    <tr>\n",
              "      <th>49977</th>\n",
              "      <td>U001</td>\n",
              "      <td>200148860</td>\n",
              "      <td>DOLLA systems</td>\n",
              "      <td>NaN</td>\n",
              "      <td>2020</td>\n",
              "      <td>1.93072e+09</td>\n",
              "      <td>2020-03-28</td>\n",
              "      <td>20200328</td>\n",
              "      <td>20200328</td>\n",
              "      <td>2.02006e+07</td>\n",
              "      <td>USD</td>\n",
              "      <td>RV</td>\n",
              "      <td>1</td>\n",
              "      <td>4557.11</td>\n",
              "      <td>2.02003e+07</td>\n",
              "      <td>NAGD</td>\n",
              "      <td>1.93072e+09</td>\n",
              "      <td>1</td>\n",
              "      <td>2020-04-11</td>\n",
              "    </tr>\n",
              "    <tr>\n",
              "      <th>49985</th>\n",
              "      <td>U001</td>\n",
              "      <td>0200726979</td>\n",
              "      <td>BJ'S  co</td>\n",
              "      <td>NaN</td>\n",
              "      <td>2020</td>\n",
              "      <td>1.93073e+09</td>\n",
              "      <td>2020-04-02</td>\n",
              "      <td>20200401</td>\n",
              "      <td>20200402</td>\n",
              "      <td>2.02004e+07</td>\n",
              "      <td>USD</td>\n",
              "      <td>RV</td>\n",
              "      <td>1</td>\n",
              "      <td>217.69</td>\n",
              "      <td>2.02004e+07</td>\n",
              "      <td>NAA8</td>\n",
              "      <td>1.93073e+09</td>\n",
              "      <td>1</td>\n",
              "      <td>2020-04-23</td>\n",
              "    </tr>\n",
              "    <tr>\n",
              "      <th>49993</th>\n",
              "      <td>U001</td>\n",
              "      <td>0200769623</td>\n",
              "      <td>WAL-MAR associates</td>\n",
              "      <td>NaN</td>\n",
              "      <td>2020</td>\n",
              "      <td>1.93062e+09</td>\n",
              "      <td>2020-03-09</td>\n",
              "      <td>20200309</td>\n",
              "      <td>20200309</td>\n",
              "      <td>2.02003e+07</td>\n",
              "      <td>USD</td>\n",
              "      <td>RV</td>\n",
              "      <td>1</td>\n",
              "      <td>12744.4</td>\n",
              "      <td>2.02003e+07</td>\n",
              "      <td>NAH4</td>\n",
              "      <td>1.93062e+09</td>\n",
              "      <td>1</td>\n",
              "      <td>2020-03-22</td>\n",
              "    </tr>\n",
              "    <tr>\n",
              "      <th>49998</th>\n",
              "      <td>U001</td>\n",
              "      <td>0200794332</td>\n",
              "      <td>COST trust</td>\n",
              "      <td>NaN</td>\n",
              "      <td>2020</td>\n",
              "      <td>1.93067e+09</td>\n",
              "      <td>2020-03-19</td>\n",
              "      <td>20200318</td>\n",
              "      <td>20200319</td>\n",
              "      <td>2.02004e+07</td>\n",
              "      <td>USD</td>\n",
              "      <td>RV</td>\n",
              "      <td>1</td>\n",
              "      <td>16297.2</td>\n",
              "      <td>2.02003e+07</td>\n",
              "      <td>NAAX</td>\n",
              "      <td>1.93067e+09</td>\n",
              "      <td>1</td>\n",
              "      <td>2020-04-03</td>\n",
              "    </tr>\n",
              "    <tr>\n",
              "      <th>49999</th>\n",
              "      <td>U001</td>\n",
              "      <td>0200769623</td>\n",
              "      <td>WAL-MAR llc</td>\n",
              "      <td>NaN</td>\n",
              "      <td>2020</td>\n",
              "      <td>1.93073e+09</td>\n",
              "      <td>2020-04-01</td>\n",
              "      <td>20200331</td>\n",
              "      <td>20200401</td>\n",
              "      <td>2.02004e+07</td>\n",
              "      <td>USD</td>\n",
              "      <td>RV</td>\n",
              "      <td>1</td>\n",
              "      <td>5601.67</td>\n",
              "      <td>2.02004e+07</td>\n",
              "      <td>NAH4</td>\n",
              "      <td>1.93073e+09</td>\n",
              "      <td>1</td>\n",
              "      <td>2020-04-21</td>\n",
              "    </tr>\n",
              "  </tbody>\n",
              "</table>\n",
              "<p>9703 rows × 19 columns</p>\n",
              "</div>"
            ],
            "text/plain": [
              "      business_code cust_number  ... isOpen predicted_date\n",
              "10             U001  0200761734  ...      1     2020-04-26\n",
              "14             U001  0200744019  ...      1     2020-04-03\n",
              "17             U001  0200769623  ...      1     2020-04-18\n",
              "18             U001  0200769623  ...      1     2020-04-12\n",
              "20             U001  0200769623  ...      1     2020-05-11\n",
              "...             ...         ...  ...    ...            ...\n",
              "49977          U001   200148860  ...      1     2020-04-11\n",
              "49985          U001  0200726979  ...      1     2020-04-23\n",
              "49993          U001  0200769623  ...      1     2020-03-22\n",
              "49998          U001  0200794332  ...      1     2020-04-03\n",
              "49999          U001  0200769623  ...      1     2020-04-21\n",
              "\n",
              "[9703 rows x 19 columns]"
            ]
          },
          "metadata": {
            "tags": []
          },
          "execution_count": 153
        }
      ]
    },
    {
      "cell_type": "markdown",
      "metadata": {
        "id": "nzsdgjqAorqU"
      },
      "source": [
        "#Finally showing the predicted date with some of the columns"
      ]
    },
    {
      "cell_type": "code",
      "metadata": {
        "colab": {
          "base_uri": "https://localhost:8080/",
          "height": 419
        },
        "id": "TSAEEQVsY7cs",
        "outputId": "f39c9a95-c5ad-4b3c-b251-ff0e651fd6ca"
      },
      "source": [
        "null_df[['business_code','cust_number','name_customer','clear_date','posting_date','due_in_date','invoice_currency','total_open_amount','predicted_date']]"
      ],
      "execution_count": null,
      "outputs": [
        {
          "output_type": "execute_result",
          "data": {
            "text/html": [
              "<div>\n",
              "<style scoped>\n",
              "    .dataframe tbody tr th:only-of-type {\n",
              "        vertical-align: middle;\n",
              "    }\n",
              "\n",
              "    .dataframe tbody tr th {\n",
              "        vertical-align: top;\n",
              "    }\n",
              "\n",
              "    .dataframe thead th {\n",
              "        text-align: right;\n",
              "    }\n",
              "</style>\n",
              "<table border=\"1\" class=\"dataframe\">\n",
              "  <thead>\n",
              "    <tr style=\"text-align: right;\">\n",
              "      <th></th>\n",
              "      <th>business_code</th>\n",
              "      <th>cust_number</th>\n",
              "      <th>name_customer</th>\n",
              "      <th>clear_date</th>\n",
              "      <th>posting_date</th>\n",
              "      <th>due_in_date</th>\n",
              "      <th>invoice_currency</th>\n",
              "      <th>total_open_amount</th>\n",
              "      <th>predicted_date</th>\n",
              "    </tr>\n",
              "  </thead>\n",
              "  <tbody>\n",
              "    <tr>\n",
              "      <th>10</th>\n",
              "      <td>U001</td>\n",
              "      <td>0200761734</td>\n",
              "      <td>H E BUT associates</td>\n",
              "      <td>NaN</td>\n",
              "      <td>2020-04-09</td>\n",
              "      <td>2.02004e+07</td>\n",
              "      <td>USD</td>\n",
              "      <td>45512.2</td>\n",
              "      <td>2020-04-26</td>\n",
              "    </tr>\n",
              "    <tr>\n",
              "      <th>14</th>\n",
              "      <td>U001</td>\n",
              "      <td>0200744019</td>\n",
              "      <td>TARG corp</td>\n",
              "      <td>NaN</td>\n",
              "      <td>2020-03-28</td>\n",
              "      <td>2.02004e+07</td>\n",
              "      <td>USD</td>\n",
              "      <td>44995.8</td>\n",
              "      <td>2020-04-03</td>\n",
              "    </tr>\n",
              "    <tr>\n",
              "      <th>17</th>\n",
              "      <td>U001</td>\n",
              "      <td>0200769623</td>\n",
              "      <td>WAL-MAR us</td>\n",
              "      <td>NaN</td>\n",
              "      <td>2020-03-29</td>\n",
              "      <td>2.02004e+07</td>\n",
              "      <td>USD</td>\n",
              "      <td>5081.63</td>\n",
              "      <td>2020-04-18</td>\n",
              "    </tr>\n",
              "    <tr>\n",
              "      <th>18</th>\n",
              "      <td>U001</td>\n",
              "      <td>0200769623</td>\n",
              "      <td>WAL-MAR</td>\n",
              "      <td>NaN</td>\n",
              "      <td>2020-04-01</td>\n",
              "      <td>2.02004e+07</td>\n",
              "      <td>USD</td>\n",
              "      <td>12249.5</td>\n",
              "      <td>2020-04-12</td>\n",
              "    </tr>\n",
              "    <tr>\n",
              "      <th>20</th>\n",
              "      <td>U001</td>\n",
              "      <td>0200769623</td>\n",
              "      <td>WAL-MAR trust</td>\n",
              "      <td>NaN</td>\n",
              "      <td>2020-04-25</td>\n",
              "      <td>2.02005e+07</td>\n",
              "      <td>USD</td>\n",
              "      <td>4486.74</td>\n",
              "      <td>2020-05-11</td>\n",
              "    </tr>\n",
              "    <tr>\n",
              "      <th>...</th>\n",
              "      <td>...</td>\n",
              "      <td>...</td>\n",
              "      <td>...</td>\n",
              "      <td>...</td>\n",
              "      <td>...</td>\n",
              "      <td>...</td>\n",
              "      <td>...</td>\n",
              "      <td>...</td>\n",
              "      <td>...</td>\n",
              "    </tr>\n",
              "    <tr>\n",
              "      <th>49977</th>\n",
              "      <td>U001</td>\n",
              "      <td>200148860</td>\n",
              "      <td>DOLLA systems</td>\n",
              "      <td>NaN</td>\n",
              "      <td>2020-03-28</td>\n",
              "      <td>2.02006e+07</td>\n",
              "      <td>USD</td>\n",
              "      <td>4557.11</td>\n",
              "      <td>2020-04-11</td>\n",
              "    </tr>\n",
              "    <tr>\n",
              "      <th>49985</th>\n",
              "      <td>U001</td>\n",
              "      <td>0200726979</td>\n",
              "      <td>BJ'S  co</td>\n",
              "      <td>NaN</td>\n",
              "      <td>2020-04-02</td>\n",
              "      <td>2.02004e+07</td>\n",
              "      <td>USD</td>\n",
              "      <td>217.69</td>\n",
              "      <td>2020-04-23</td>\n",
              "    </tr>\n",
              "    <tr>\n",
              "      <th>49993</th>\n",
              "      <td>U001</td>\n",
              "      <td>0200769623</td>\n",
              "      <td>WAL-MAR associates</td>\n",
              "      <td>NaN</td>\n",
              "      <td>2020-03-09</td>\n",
              "      <td>2.02003e+07</td>\n",
              "      <td>USD</td>\n",
              "      <td>12744.4</td>\n",
              "      <td>2020-03-22</td>\n",
              "    </tr>\n",
              "    <tr>\n",
              "      <th>49998</th>\n",
              "      <td>U001</td>\n",
              "      <td>0200794332</td>\n",
              "      <td>COST trust</td>\n",
              "      <td>NaN</td>\n",
              "      <td>2020-03-19</td>\n",
              "      <td>2.02004e+07</td>\n",
              "      <td>USD</td>\n",
              "      <td>16297.2</td>\n",
              "      <td>2020-04-03</td>\n",
              "    </tr>\n",
              "    <tr>\n",
              "      <th>49999</th>\n",
              "      <td>U001</td>\n",
              "      <td>0200769623</td>\n",
              "      <td>WAL-MAR llc</td>\n",
              "      <td>NaN</td>\n",
              "      <td>2020-04-01</td>\n",
              "      <td>2.02004e+07</td>\n",
              "      <td>USD</td>\n",
              "      <td>5601.67</td>\n",
              "      <td>2020-04-21</td>\n",
              "    </tr>\n",
              "  </tbody>\n",
              "</table>\n",
              "<p>9703 rows × 9 columns</p>\n",
              "</div>"
            ],
            "text/plain": [
              "      business_code cust_number  ... total_open_amount predicted_date\n",
              "10             U001  0200761734  ...           45512.2     2020-04-26\n",
              "14             U001  0200744019  ...           44995.8     2020-04-03\n",
              "17             U001  0200769623  ...           5081.63     2020-04-18\n",
              "18             U001  0200769623  ...           12249.5     2020-04-12\n",
              "20             U001  0200769623  ...           4486.74     2020-05-11\n",
              "...             ...         ...  ...               ...            ...\n",
              "49977          U001   200148860  ...           4557.11     2020-04-11\n",
              "49985          U001  0200726979  ...            217.69     2020-04-23\n",
              "49993          U001  0200769623  ...           12744.4     2020-03-22\n",
              "49998          U001  0200794332  ...           16297.2     2020-04-03\n",
              "49999          U001  0200769623  ...           5601.67     2020-04-21\n",
              "\n",
              "[9703 rows x 9 columns]"
            ]
          },
          "metadata": {
            "tags": []
          },
          "execution_count": 154
        }
      ]
    },
    {
      "cell_type": "markdown",
      "metadata": {
        "id": "3Ljn5bEGhO_u"
      },
      "source": [
        "**Converting the due_in_date into datetime format**"
      ]
    },
    {
      "cell_type": "code",
      "metadata": {
        "id": "eTdT85lqZLfq",
        "colab": {
          "base_uri": "https://localhost:8080/",
          "height": 419
        },
        "outputId": "84fc209e-4826-411c-b11e-d8d7a10ca54f"
      },
      "source": [
        "null_df['due_in_date'] = pd.to_datetime(null_df['due_in_date'], format='%Y%m%d')\n",
        "\n",
        "null_df[['business_code','cust_number','name_customer','clear_date','posting_date','due_in_date','invoice_currency','total_open_amount','predicted_date']]"
      ],
      "execution_count": null,
      "outputs": [
        {
          "output_type": "execute_result",
          "data": {
            "text/html": [
              "<div>\n",
              "<style scoped>\n",
              "    .dataframe tbody tr th:only-of-type {\n",
              "        vertical-align: middle;\n",
              "    }\n",
              "\n",
              "    .dataframe tbody tr th {\n",
              "        vertical-align: top;\n",
              "    }\n",
              "\n",
              "    .dataframe thead th {\n",
              "        text-align: right;\n",
              "    }\n",
              "</style>\n",
              "<table border=\"1\" class=\"dataframe\">\n",
              "  <thead>\n",
              "    <tr style=\"text-align: right;\">\n",
              "      <th></th>\n",
              "      <th>business_code</th>\n",
              "      <th>cust_number</th>\n",
              "      <th>name_customer</th>\n",
              "      <th>clear_date</th>\n",
              "      <th>posting_date</th>\n",
              "      <th>due_in_date</th>\n",
              "      <th>invoice_currency</th>\n",
              "      <th>total_open_amount</th>\n",
              "      <th>predicted_date</th>\n",
              "    </tr>\n",
              "  </thead>\n",
              "  <tbody>\n",
              "    <tr>\n",
              "      <th>10</th>\n",
              "      <td>U001</td>\n",
              "      <td>0200761734</td>\n",
              "      <td>H E BUT associates</td>\n",
              "      <td>NaN</td>\n",
              "      <td>2020-04-09</td>\n",
              "      <td>2020-04-24</td>\n",
              "      <td>USD</td>\n",
              "      <td>45512.2</td>\n",
              "      <td>2020-04-26</td>\n",
              "    </tr>\n",
              "    <tr>\n",
              "      <th>14</th>\n",
              "      <td>U001</td>\n",
              "      <td>0200744019</td>\n",
              "      <td>TARG corp</td>\n",
              "      <td>NaN</td>\n",
              "      <td>2020-03-28</td>\n",
              "      <td>2020-04-12</td>\n",
              "      <td>USD</td>\n",
              "      <td>44995.8</td>\n",
              "      <td>2020-04-03</td>\n",
              "    </tr>\n",
              "    <tr>\n",
              "      <th>17</th>\n",
              "      <td>U001</td>\n",
              "      <td>0200769623</td>\n",
              "      <td>WAL-MAR us</td>\n",
              "      <td>NaN</td>\n",
              "      <td>2020-03-29</td>\n",
              "      <td>2020-04-13</td>\n",
              "      <td>USD</td>\n",
              "      <td>5081.63</td>\n",
              "      <td>2020-04-18</td>\n",
              "    </tr>\n",
              "    <tr>\n",
              "      <th>18</th>\n",
              "      <td>U001</td>\n",
              "      <td>0200769623</td>\n",
              "      <td>WAL-MAR</td>\n",
              "      <td>NaN</td>\n",
              "      <td>2020-04-01</td>\n",
              "      <td>2020-04-16</td>\n",
              "      <td>USD</td>\n",
              "      <td>12249.5</td>\n",
              "      <td>2020-04-12</td>\n",
              "    </tr>\n",
              "    <tr>\n",
              "      <th>20</th>\n",
              "      <td>U001</td>\n",
              "      <td>0200769623</td>\n",
              "      <td>WAL-MAR trust</td>\n",
              "      <td>NaN</td>\n",
              "      <td>2020-04-25</td>\n",
              "      <td>2020-05-10</td>\n",
              "      <td>USD</td>\n",
              "      <td>4486.74</td>\n",
              "      <td>2020-05-11</td>\n",
              "    </tr>\n",
              "    <tr>\n",
              "      <th>...</th>\n",
              "      <td>...</td>\n",
              "      <td>...</td>\n",
              "      <td>...</td>\n",
              "      <td>...</td>\n",
              "      <td>...</td>\n",
              "      <td>...</td>\n",
              "      <td>...</td>\n",
              "      <td>...</td>\n",
              "      <td>...</td>\n",
              "    </tr>\n",
              "    <tr>\n",
              "      <th>49977</th>\n",
              "      <td>U001</td>\n",
              "      <td>200148860</td>\n",
              "      <td>DOLLA systems</td>\n",
              "      <td>NaN</td>\n",
              "      <td>2020-03-28</td>\n",
              "      <td>2020-06-01</td>\n",
              "      <td>USD</td>\n",
              "      <td>4557.11</td>\n",
              "      <td>2020-04-11</td>\n",
              "    </tr>\n",
              "    <tr>\n",
              "      <th>49985</th>\n",
              "      <td>U001</td>\n",
              "      <td>0200726979</td>\n",
              "      <td>BJ'S  co</td>\n",
              "      <td>NaN</td>\n",
              "      <td>2020-04-02</td>\n",
              "      <td>2020-04-17</td>\n",
              "      <td>USD</td>\n",
              "      <td>217.69</td>\n",
              "      <td>2020-04-23</td>\n",
              "    </tr>\n",
              "    <tr>\n",
              "      <th>49993</th>\n",
              "      <td>U001</td>\n",
              "      <td>0200769623</td>\n",
              "      <td>WAL-MAR associates</td>\n",
              "      <td>NaN</td>\n",
              "      <td>2020-03-09</td>\n",
              "      <td>2020-03-24</td>\n",
              "      <td>USD</td>\n",
              "      <td>12744.4</td>\n",
              "      <td>2020-03-22</td>\n",
              "    </tr>\n",
              "    <tr>\n",
              "      <th>49998</th>\n",
              "      <td>U001</td>\n",
              "      <td>0200794332</td>\n",
              "      <td>COST trust</td>\n",
              "      <td>NaN</td>\n",
              "      <td>2020-03-19</td>\n",
              "      <td>2020-04-03</td>\n",
              "      <td>USD</td>\n",
              "      <td>16297.2</td>\n",
              "      <td>2020-04-03</td>\n",
              "    </tr>\n",
              "    <tr>\n",
              "      <th>49999</th>\n",
              "      <td>U001</td>\n",
              "      <td>0200769623</td>\n",
              "      <td>WAL-MAR llc</td>\n",
              "      <td>NaN</td>\n",
              "      <td>2020-04-01</td>\n",
              "      <td>2020-04-16</td>\n",
              "      <td>USD</td>\n",
              "      <td>5601.67</td>\n",
              "      <td>2020-04-21</td>\n",
              "    </tr>\n",
              "  </tbody>\n",
              "</table>\n",
              "<p>9703 rows × 9 columns</p>\n",
              "</div>"
            ],
            "text/plain": [
              "      business_code cust_number  ... total_open_amount predicted_date\n",
              "10             U001  0200761734  ...           45512.2     2020-04-26\n",
              "14             U001  0200744019  ...           44995.8     2020-04-03\n",
              "17             U001  0200769623  ...           5081.63     2020-04-18\n",
              "18             U001  0200769623  ...           12249.5     2020-04-12\n",
              "20             U001  0200769623  ...           4486.74     2020-05-11\n",
              "...             ...         ...  ...               ...            ...\n",
              "49977          U001   200148860  ...           4557.11     2020-04-11\n",
              "49985          U001  0200726979  ...            217.69     2020-04-23\n",
              "49993          U001  0200769623  ...           12744.4     2020-03-22\n",
              "49998          U001  0200794332  ...           16297.2     2020-04-03\n",
              "49999          U001  0200769623  ...           5601.67     2020-04-21\n",
              "\n",
              "[9703 rows x 9 columns]"
            ]
          },
          "metadata": {
            "tags": []
          },
          "execution_count": 155
        }
      ]
    },
    {
      "cell_type": "markdown",
      "metadata": {
        "id": "h1XYx2w5i2Qs"
      },
      "source": [
        "**Creating the Aging Bucket on the basis of the due_in_date and predicted_date**"
      ]
    },
    {
      "cell_type": "markdown",
      "metadata": {
        "id": "rI67joA7leFy"
      },
      "source": [
        "1. Payment predicted date which is made before the completion of due date is Bucketize as 'On time'<br>\n",
        "2.Payment predicted date which is made in 0 to 15 days from the due date is Bucketize as '0-15 days'<br>\n",
        "3.Payment predicted date which is made in 16 to 40 days from the due date is Bucketize as '16-40 days'<br>\n",
        "4.Payment predicted date which is made in 41 to 60 days from the due date is Bucketize as '41-60 days'<br>\n",
        "5.Payment predicted date which is made in 61 to 80 days from the due date is Bucketize as '61-80 days'<br>\n",
        "6.Payment predicted date which is made in 81 to 100 days from the due date is Bucketize as '81-100 days'<br>\n",
        "7.Payment predicted date which is made in 101 to 120 days from the due date is Bucketize as '101-120 days'<br>\n",
        "8.Payment predicted date which is made greater than 120 days from the due date is Bucketize as '> 120 days'<br>"
      ]
    },
    {
      "cell_type": "code",
      "metadata": {
        "colab": {
          "base_uri": "https://localhost:8080/",
          "height": 626
        },
        "id": "33Omq62Dht6g",
        "outputId": "44955360-6c82-40a3-d96e-32331e5e2805"
      },
      "source": [
        "null_df['Aging Bucket'] = pd.cut(x=((null_df['predicted_date']-null_df['due_in_date']).dt.days), bins=[-9999,0,15,40,60,80,100,120,9999],labels=['On time', '0-15 days','16-40 days','41-60 days','60-80 days','81-100 days','101-120 days','> 120 days'])\n",
        "\n",
        "null_df"
      ],
      "execution_count": null,
      "outputs": [
        {
          "output_type": "execute_result",
          "data": {
            "text/html": [
              "<div>\n",
              "<style scoped>\n",
              "    .dataframe tbody tr th:only-of-type {\n",
              "        vertical-align: middle;\n",
              "    }\n",
              "\n",
              "    .dataframe tbody tr th {\n",
              "        vertical-align: top;\n",
              "    }\n",
              "\n",
              "    .dataframe thead th {\n",
              "        text-align: right;\n",
              "    }\n",
              "</style>\n",
              "<table border=\"1\" class=\"dataframe\">\n",
              "  <thead>\n",
              "    <tr style=\"text-align: right;\">\n",
              "      <th></th>\n",
              "      <th>business_code</th>\n",
              "      <th>cust_number</th>\n",
              "      <th>name_customer</th>\n",
              "      <th>clear_date</th>\n",
              "      <th>buisness_year</th>\n",
              "      <th>doc_id</th>\n",
              "      <th>posting_date</th>\n",
              "      <th>document_create_date</th>\n",
              "      <th>document_create_date.1</th>\n",
              "      <th>due_in_date</th>\n",
              "      <th>invoice_currency</th>\n",
              "      <th>document type</th>\n",
              "      <th>posting_id</th>\n",
              "      <th>total_open_amount</th>\n",
              "      <th>baseline_create_date</th>\n",
              "      <th>cust_payment_terms</th>\n",
              "      <th>invoice_id</th>\n",
              "      <th>isOpen</th>\n",
              "      <th>predicted_date</th>\n",
              "      <th>Aging Bucket</th>\n",
              "    </tr>\n",
              "  </thead>\n",
              "  <tbody>\n",
              "    <tr>\n",
              "      <th>10</th>\n",
              "      <td>U001</td>\n",
              "      <td>0200761734</td>\n",
              "      <td>H E BUT associates</td>\n",
              "      <td>NaN</td>\n",
              "      <td>2020</td>\n",
              "      <td>1.93077e+09</td>\n",
              "      <td>2020-04-09</td>\n",
              "      <td>20200410</td>\n",
              "      <td>20200409</td>\n",
              "      <td>2020-04-24</td>\n",
              "      <td>USD</td>\n",
              "      <td>RV</td>\n",
              "      <td>1</td>\n",
              "      <td>45512.2</td>\n",
              "      <td>2.02004e+07</td>\n",
              "      <td>NAA8</td>\n",
              "      <td>1.93077e+09</td>\n",
              "      <td>1</td>\n",
              "      <td>2020-04-26</td>\n",
              "      <td>0-15 days</td>\n",
              "    </tr>\n",
              "    <tr>\n",
              "      <th>14</th>\n",
              "      <td>U001</td>\n",
              "      <td>0200744019</td>\n",
              "      <td>TARG corp</td>\n",
              "      <td>NaN</td>\n",
              "      <td>2020</td>\n",
              "      <td>1.93071e+09</td>\n",
              "      <td>2020-03-28</td>\n",
              "      <td>20200326</td>\n",
              "      <td>20200328</td>\n",
              "      <td>2020-04-12</td>\n",
              "      <td>USD</td>\n",
              "      <td>RV</td>\n",
              "      <td>1</td>\n",
              "      <td>44995.8</td>\n",
              "      <td>2.02003e+07</td>\n",
              "      <td>NAA8</td>\n",
              "      <td>1.93071e+09</td>\n",
              "      <td>1</td>\n",
              "      <td>2020-04-03</td>\n",
              "      <td>On time</td>\n",
              "    </tr>\n",
              "    <tr>\n",
              "      <th>17</th>\n",
              "      <td>U001</td>\n",
              "      <td>0200769623</td>\n",
              "      <td>WAL-MAR us</td>\n",
              "      <td>NaN</td>\n",
              "      <td>2020</td>\n",
              "      <td>1.93072e+09</td>\n",
              "      <td>2020-03-29</td>\n",
              "      <td>20200329</td>\n",
              "      <td>20200329</td>\n",
              "      <td>2020-04-13</td>\n",
              "      <td>USD</td>\n",
              "      <td>RV</td>\n",
              "      <td>1</td>\n",
              "      <td>5081.63</td>\n",
              "      <td>2.02003e+07</td>\n",
              "      <td>NAH4</td>\n",
              "      <td>1.93072e+09</td>\n",
              "      <td>1</td>\n",
              "      <td>2020-04-18</td>\n",
              "      <td>0-15 days</td>\n",
              "    </tr>\n",
              "    <tr>\n",
              "      <th>18</th>\n",
              "      <td>U001</td>\n",
              "      <td>0200769623</td>\n",
              "      <td>WAL-MAR</td>\n",
              "      <td>NaN</td>\n",
              "      <td>2020</td>\n",
              "      <td>1.93073e+09</td>\n",
              "      <td>2020-04-01</td>\n",
              "      <td>20200331</td>\n",
              "      <td>20200401</td>\n",
              "      <td>2020-04-16</td>\n",
              "      <td>USD</td>\n",
              "      <td>RV</td>\n",
              "      <td>1</td>\n",
              "      <td>12249.5</td>\n",
              "      <td>2.02004e+07</td>\n",
              "      <td>NAH4</td>\n",
              "      <td>1.93073e+09</td>\n",
              "      <td>1</td>\n",
              "      <td>2020-04-12</td>\n",
              "      <td>On time</td>\n",
              "    </tr>\n",
              "    <tr>\n",
              "      <th>20</th>\n",
              "      <td>U001</td>\n",
              "      <td>0200769623</td>\n",
              "      <td>WAL-MAR trust</td>\n",
              "      <td>NaN</td>\n",
              "      <td>2020</td>\n",
              "      <td>1.93082e+09</td>\n",
              "      <td>2020-04-25</td>\n",
              "      <td>20200423</td>\n",
              "      <td>20200425</td>\n",
              "      <td>2020-05-10</td>\n",
              "      <td>USD</td>\n",
              "      <td>RV</td>\n",
              "      <td>1</td>\n",
              "      <td>4486.74</td>\n",
              "      <td>2.02004e+07</td>\n",
              "      <td>NAH4</td>\n",
              "      <td>1.93082e+09</td>\n",
              "      <td>1</td>\n",
              "      <td>2020-05-11</td>\n",
              "      <td>0-15 days</td>\n",
              "    </tr>\n",
              "    <tr>\n",
              "      <th>...</th>\n",
              "      <td>...</td>\n",
              "      <td>...</td>\n",
              "      <td>...</td>\n",
              "      <td>...</td>\n",
              "      <td>...</td>\n",
              "      <td>...</td>\n",
              "      <td>...</td>\n",
              "      <td>...</td>\n",
              "      <td>...</td>\n",
              "      <td>...</td>\n",
              "      <td>...</td>\n",
              "      <td>...</td>\n",
              "      <td>...</td>\n",
              "      <td>...</td>\n",
              "      <td>...</td>\n",
              "      <td>...</td>\n",
              "      <td>...</td>\n",
              "      <td>...</td>\n",
              "      <td>...</td>\n",
              "      <td>...</td>\n",
              "    </tr>\n",
              "    <tr>\n",
              "      <th>49977</th>\n",
              "      <td>U001</td>\n",
              "      <td>200148860</td>\n",
              "      <td>DOLLA systems</td>\n",
              "      <td>NaN</td>\n",
              "      <td>2020</td>\n",
              "      <td>1.93072e+09</td>\n",
              "      <td>2020-03-28</td>\n",
              "      <td>20200328</td>\n",
              "      <td>20200328</td>\n",
              "      <td>2020-06-01</td>\n",
              "      <td>USD</td>\n",
              "      <td>RV</td>\n",
              "      <td>1</td>\n",
              "      <td>4557.11</td>\n",
              "      <td>2.02003e+07</td>\n",
              "      <td>NAGD</td>\n",
              "      <td>1.93072e+09</td>\n",
              "      <td>1</td>\n",
              "      <td>2020-04-11</td>\n",
              "      <td>On time</td>\n",
              "    </tr>\n",
              "    <tr>\n",
              "      <th>49985</th>\n",
              "      <td>U001</td>\n",
              "      <td>0200726979</td>\n",
              "      <td>BJ'S  co</td>\n",
              "      <td>NaN</td>\n",
              "      <td>2020</td>\n",
              "      <td>1.93073e+09</td>\n",
              "      <td>2020-04-02</td>\n",
              "      <td>20200401</td>\n",
              "      <td>20200402</td>\n",
              "      <td>2020-04-17</td>\n",
              "      <td>USD</td>\n",
              "      <td>RV</td>\n",
              "      <td>1</td>\n",
              "      <td>217.69</td>\n",
              "      <td>2.02004e+07</td>\n",
              "      <td>NAA8</td>\n",
              "      <td>1.93073e+09</td>\n",
              "      <td>1</td>\n",
              "      <td>2020-04-23</td>\n",
              "      <td>0-15 days</td>\n",
              "    </tr>\n",
              "    <tr>\n",
              "      <th>49993</th>\n",
              "      <td>U001</td>\n",
              "      <td>0200769623</td>\n",
              "      <td>WAL-MAR associates</td>\n",
              "      <td>NaN</td>\n",
              "      <td>2020</td>\n",
              "      <td>1.93062e+09</td>\n",
              "      <td>2020-03-09</td>\n",
              "      <td>20200309</td>\n",
              "      <td>20200309</td>\n",
              "      <td>2020-03-24</td>\n",
              "      <td>USD</td>\n",
              "      <td>RV</td>\n",
              "      <td>1</td>\n",
              "      <td>12744.4</td>\n",
              "      <td>2.02003e+07</td>\n",
              "      <td>NAH4</td>\n",
              "      <td>1.93062e+09</td>\n",
              "      <td>1</td>\n",
              "      <td>2020-03-22</td>\n",
              "      <td>On time</td>\n",
              "    </tr>\n",
              "    <tr>\n",
              "      <th>49998</th>\n",
              "      <td>U001</td>\n",
              "      <td>0200794332</td>\n",
              "      <td>COST trust</td>\n",
              "      <td>NaN</td>\n",
              "      <td>2020</td>\n",
              "      <td>1.93067e+09</td>\n",
              "      <td>2020-03-19</td>\n",
              "      <td>20200318</td>\n",
              "      <td>20200319</td>\n",
              "      <td>2020-04-03</td>\n",
              "      <td>USD</td>\n",
              "      <td>RV</td>\n",
              "      <td>1</td>\n",
              "      <td>16297.2</td>\n",
              "      <td>2.02003e+07</td>\n",
              "      <td>NAAX</td>\n",
              "      <td>1.93067e+09</td>\n",
              "      <td>1</td>\n",
              "      <td>2020-04-03</td>\n",
              "      <td>On time</td>\n",
              "    </tr>\n",
              "    <tr>\n",
              "      <th>49999</th>\n",
              "      <td>U001</td>\n",
              "      <td>0200769623</td>\n",
              "      <td>WAL-MAR llc</td>\n",
              "      <td>NaN</td>\n",
              "      <td>2020</td>\n",
              "      <td>1.93073e+09</td>\n",
              "      <td>2020-04-01</td>\n",
              "      <td>20200331</td>\n",
              "      <td>20200401</td>\n",
              "      <td>2020-04-16</td>\n",
              "      <td>USD</td>\n",
              "      <td>RV</td>\n",
              "      <td>1</td>\n",
              "      <td>5601.67</td>\n",
              "      <td>2.02004e+07</td>\n",
              "      <td>NAH4</td>\n",
              "      <td>1.93073e+09</td>\n",
              "      <td>1</td>\n",
              "      <td>2020-04-21</td>\n",
              "      <td>0-15 days</td>\n",
              "    </tr>\n",
              "  </tbody>\n",
              "</table>\n",
              "<p>9703 rows × 20 columns</p>\n",
              "</div>"
            ],
            "text/plain": [
              "      business_code cust_number  ... predicted_date Aging Bucket\n",
              "10             U001  0200761734  ...     2020-04-26    0-15 days\n",
              "14             U001  0200744019  ...     2020-04-03      On time\n",
              "17             U001  0200769623  ...     2020-04-18    0-15 days\n",
              "18             U001  0200769623  ...     2020-04-12      On time\n",
              "20             U001  0200769623  ...     2020-05-11    0-15 days\n",
              "...             ...         ...  ...            ...          ...\n",
              "49977          U001   200148860  ...     2020-04-11      On time\n",
              "49985          U001  0200726979  ...     2020-04-23    0-15 days\n",
              "49993          U001  0200769623  ...     2020-03-22      On time\n",
              "49998          U001  0200794332  ...     2020-04-03      On time\n",
              "49999          U001  0200769623  ...     2020-04-21    0-15 days\n",
              "\n",
              "[9703 rows x 20 columns]"
            ]
          },
          "metadata": {
            "tags": []
          },
          "execution_count": 156
        }
      ]
    },
    {
      "cell_type": "markdown",
      "metadata": {
        "id": "nQ0aU9MSlD8m"
      },
      "source": [
        "**Finally showing the dataframe with only relevent information**"
      ]
    },
    {
      "cell_type": "code",
      "metadata": {
        "colab": {
          "base_uri": "https://localhost:8080/",
          "height": 419
        },
        "id": "4GVpv8tOk9-G",
        "outputId": "8933ff34-2d6c-4ea2-9a5d-af6b1d39effa"
      },
      "source": [
        "null_df[['business_code','cust_number','name_customer','clear_date','posting_date','due_in_date','invoice_currency','total_open_amount','predicted_date','Aging Bucket']]"
      ],
      "execution_count": null,
      "outputs": [
        {
          "output_type": "execute_result",
          "data": {
            "text/html": [
              "<div>\n",
              "<style scoped>\n",
              "    .dataframe tbody tr th:only-of-type {\n",
              "        vertical-align: middle;\n",
              "    }\n",
              "\n",
              "    .dataframe tbody tr th {\n",
              "        vertical-align: top;\n",
              "    }\n",
              "\n",
              "    .dataframe thead th {\n",
              "        text-align: right;\n",
              "    }\n",
              "</style>\n",
              "<table border=\"1\" class=\"dataframe\">\n",
              "  <thead>\n",
              "    <tr style=\"text-align: right;\">\n",
              "      <th></th>\n",
              "      <th>business_code</th>\n",
              "      <th>cust_number</th>\n",
              "      <th>name_customer</th>\n",
              "      <th>clear_date</th>\n",
              "      <th>posting_date</th>\n",
              "      <th>due_in_date</th>\n",
              "      <th>invoice_currency</th>\n",
              "      <th>total_open_amount</th>\n",
              "      <th>predicted_date</th>\n",
              "      <th>Aging Bucket</th>\n",
              "    </tr>\n",
              "  </thead>\n",
              "  <tbody>\n",
              "    <tr>\n",
              "      <th>10</th>\n",
              "      <td>U001</td>\n",
              "      <td>0200761734</td>\n",
              "      <td>H E BUT associates</td>\n",
              "      <td>NaN</td>\n",
              "      <td>2020-04-09</td>\n",
              "      <td>2020-04-24</td>\n",
              "      <td>USD</td>\n",
              "      <td>45512.2</td>\n",
              "      <td>2020-04-26</td>\n",
              "      <td>0-15 days</td>\n",
              "    </tr>\n",
              "    <tr>\n",
              "      <th>14</th>\n",
              "      <td>U001</td>\n",
              "      <td>0200744019</td>\n",
              "      <td>TARG corp</td>\n",
              "      <td>NaN</td>\n",
              "      <td>2020-03-28</td>\n",
              "      <td>2020-04-12</td>\n",
              "      <td>USD</td>\n",
              "      <td>44995.8</td>\n",
              "      <td>2020-04-03</td>\n",
              "      <td>On time</td>\n",
              "    </tr>\n",
              "    <tr>\n",
              "      <th>17</th>\n",
              "      <td>U001</td>\n",
              "      <td>0200769623</td>\n",
              "      <td>WAL-MAR us</td>\n",
              "      <td>NaN</td>\n",
              "      <td>2020-03-29</td>\n",
              "      <td>2020-04-13</td>\n",
              "      <td>USD</td>\n",
              "      <td>5081.63</td>\n",
              "      <td>2020-04-18</td>\n",
              "      <td>0-15 days</td>\n",
              "    </tr>\n",
              "    <tr>\n",
              "      <th>18</th>\n",
              "      <td>U001</td>\n",
              "      <td>0200769623</td>\n",
              "      <td>WAL-MAR</td>\n",
              "      <td>NaN</td>\n",
              "      <td>2020-04-01</td>\n",
              "      <td>2020-04-16</td>\n",
              "      <td>USD</td>\n",
              "      <td>12249.5</td>\n",
              "      <td>2020-04-12</td>\n",
              "      <td>On time</td>\n",
              "    </tr>\n",
              "    <tr>\n",
              "      <th>20</th>\n",
              "      <td>U001</td>\n",
              "      <td>0200769623</td>\n",
              "      <td>WAL-MAR trust</td>\n",
              "      <td>NaN</td>\n",
              "      <td>2020-04-25</td>\n",
              "      <td>2020-05-10</td>\n",
              "      <td>USD</td>\n",
              "      <td>4486.74</td>\n",
              "      <td>2020-05-11</td>\n",
              "      <td>0-15 days</td>\n",
              "    </tr>\n",
              "    <tr>\n",
              "      <th>...</th>\n",
              "      <td>...</td>\n",
              "      <td>...</td>\n",
              "      <td>...</td>\n",
              "      <td>...</td>\n",
              "      <td>...</td>\n",
              "      <td>...</td>\n",
              "      <td>...</td>\n",
              "      <td>...</td>\n",
              "      <td>...</td>\n",
              "      <td>...</td>\n",
              "    </tr>\n",
              "    <tr>\n",
              "      <th>49977</th>\n",
              "      <td>U001</td>\n",
              "      <td>200148860</td>\n",
              "      <td>DOLLA systems</td>\n",
              "      <td>NaN</td>\n",
              "      <td>2020-03-28</td>\n",
              "      <td>2020-06-01</td>\n",
              "      <td>USD</td>\n",
              "      <td>4557.11</td>\n",
              "      <td>2020-04-11</td>\n",
              "      <td>On time</td>\n",
              "    </tr>\n",
              "    <tr>\n",
              "      <th>49985</th>\n",
              "      <td>U001</td>\n",
              "      <td>0200726979</td>\n",
              "      <td>BJ'S  co</td>\n",
              "      <td>NaN</td>\n",
              "      <td>2020-04-02</td>\n",
              "      <td>2020-04-17</td>\n",
              "      <td>USD</td>\n",
              "      <td>217.69</td>\n",
              "      <td>2020-04-23</td>\n",
              "      <td>0-15 days</td>\n",
              "    </tr>\n",
              "    <tr>\n",
              "      <th>49993</th>\n",
              "      <td>U001</td>\n",
              "      <td>0200769623</td>\n",
              "      <td>WAL-MAR associates</td>\n",
              "      <td>NaN</td>\n",
              "      <td>2020-03-09</td>\n",
              "      <td>2020-03-24</td>\n",
              "      <td>USD</td>\n",
              "      <td>12744.4</td>\n",
              "      <td>2020-03-22</td>\n",
              "      <td>On time</td>\n",
              "    </tr>\n",
              "    <tr>\n",
              "      <th>49998</th>\n",
              "      <td>U001</td>\n",
              "      <td>0200794332</td>\n",
              "      <td>COST trust</td>\n",
              "      <td>NaN</td>\n",
              "      <td>2020-03-19</td>\n",
              "      <td>2020-04-03</td>\n",
              "      <td>USD</td>\n",
              "      <td>16297.2</td>\n",
              "      <td>2020-04-03</td>\n",
              "      <td>On time</td>\n",
              "    </tr>\n",
              "    <tr>\n",
              "      <th>49999</th>\n",
              "      <td>U001</td>\n",
              "      <td>0200769623</td>\n",
              "      <td>WAL-MAR llc</td>\n",
              "      <td>NaN</td>\n",
              "      <td>2020-04-01</td>\n",
              "      <td>2020-04-16</td>\n",
              "      <td>USD</td>\n",
              "      <td>5601.67</td>\n",
              "      <td>2020-04-21</td>\n",
              "      <td>0-15 days</td>\n",
              "    </tr>\n",
              "  </tbody>\n",
              "</table>\n",
              "<p>9703 rows × 10 columns</p>\n",
              "</div>"
            ],
            "text/plain": [
              "      business_code cust_number  ... predicted_date Aging Bucket\n",
              "10             U001  0200761734  ...     2020-04-26    0-15 days\n",
              "14             U001  0200744019  ...     2020-04-03      On time\n",
              "17             U001  0200769623  ...     2020-04-18    0-15 days\n",
              "18             U001  0200769623  ...     2020-04-12      On time\n",
              "20             U001  0200769623  ...     2020-05-11    0-15 days\n",
              "...             ...         ...  ...            ...          ...\n",
              "49977          U001   200148860  ...     2020-04-11      On time\n",
              "49985          U001  0200726979  ...     2020-04-23    0-15 days\n",
              "49993          U001  0200769623  ...     2020-03-22      On time\n",
              "49998          U001  0200794332  ...     2020-04-03      On time\n",
              "49999          U001  0200769623  ...     2020-04-21    0-15 days\n",
              "\n",
              "[9703 rows x 10 columns]"
            ]
          },
          "metadata": {
            "tags": []
          },
          "execution_count": 157
        }
      ]
    },
    {
      "cell_type": "code",
      "metadata": {
        "id": "7qvf_uXPJvEr"
      },
      "source": [
        ""
      ],
      "execution_count": null,
      "outputs": []
    }
  ]
}